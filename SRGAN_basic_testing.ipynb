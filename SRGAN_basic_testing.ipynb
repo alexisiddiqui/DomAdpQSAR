{
 "cells": [
  {
   "attachments": {},
   "cell_type": "markdown",
   "metadata": {},
   "source": []
  },
  {
   "cell_type": "code",
   "execution_count": 5,
   "metadata": {},
   "outputs": [],
   "source": [
    "## QSAR SR GAN testing\n",
    "\n",
    "from DomAdpQSAR.QSARsettings import Settings\n",
    "from DomAdpQSAR.QSARsrgan import DomAdpQSARSRGAN\n",
    "\n",
    "\n",
    "settings = Settings()\n",
    "import os\n",
    "import pandas as pd"
   ]
  },
  {
   "cell_type": "code",
   "execution_count": null,
   "metadata": {},
   "outputs": [],
   "source": []
  },
  {
   "cell_type": "code",
   "execution_count": null,
   "metadata": {},
   "outputs": [],
   "source": []
  },
  {
   "cell_type": "code",
   "execution_count": 9,
   "metadata": {},
   "outputs": [],
   "source": [
    "\n",
    "# settings.learning_rate = \n",
    "settings.epochs_to_run = 200\n",
    "# settings.generator_layer_sizes\n",
    "# settings.use_feature_angle = True\n",
    "\n",
    "settings.labeled_loss_multiplier = 50\n",
    "settings.matching_loss_multiplier = 10\n",
    "settings.contrasting_loss_multiplier = 2\n",
    "settings.srgan_loss_multiplier = 125\n",
    "\n",
    "settings.gradient_penalty_multiplier = 4750\n",
    "# settings.federated_datapath = os.path.join(settings.data_dir, 'transfer_full.pkl')\n"
   ]
  },
  {
   "cell_type": "code",
   "execution_count": 10,
   "metadata": {},
   "outputs": [
    {
     "name": "stdout",
     "output_type": "stream",
     "text": [
      "dataset rank:  None\n",
      "7\n",
      "50000\n"
     ]
    }
   ],
   "source": [
    "test_Experiment = DomAdpQSARSRGAN(settings)\n",
    "test_Experiment.federated_dataframe = test_Experiment.validation_dataframe\n",
    "\n",
    "test_Experiment.dataset_setup()\n",
    "print(settings.federated_dataset_size)"
   ]
  },
  {
   "cell_type": "code",
   "execution_count": 11,
   "metadata": {},
   "outputs": [
    {
     "name": "stdout",
     "output_type": "stream",
     "text": [
      "logs/SR GAN unlabelled val test LLx5\n",
      "dataset rank:  None\n",
      "7\n",
      "Step 0, 0:00:00.851056...ize([1000, 2048])DNN Test Values:  ComparisonValues(ACC=tensor(0.2473), BAC=tensor(0.5000), MCC=0.01, predicted_labels=tensor([0.5289, 0.5283, 0.5283,  ..., 0.5274, 0.5281, 0.5291]))\n",
      "GAN Test Values:  ComparisonValues(ACC=tensor(0.2473), BAC=tensor(0.5000), MCC=0.01, predicted_labels=tensor([0.5367, 0.5346, 0.5356,  ..., 0.5359, 0.5374, 0.5344]))\n",
      "Step 7, 0:00:05.723352...ize([1000, 2048])DNN Test Values:  ComparisonValues(ACC=tensor(0.7527), BAC=tensor(0.5000), MCC=0.01, predicted_labels=tensor([0.4937, 0.4886, 0.4930,  ..., 0.4879, 0.4898, 0.4901]))\n",
      "GAN Test Values:  ComparisonValues(ACC=tensor(0.2473), BAC=tensor(0.5000), MCC=0.01, predicted_labels=tensor([0.5342, 0.5352, 0.5358,  ..., 0.5326, 0.5350, 0.5334]))\n",
      "Step 14, 0:00:03.878999...ize([1000, 2048])DNN Test Values:  ComparisonValues(ACC=tensor(0.7527), BAC=tensor(0.5000), MCC=0.01, predicted_labels=tensor([0.4628, 0.4707, 0.4601,  ..., 0.4731, 0.4690, 0.4796]))\n",
      "GAN Test Values:  ComparisonValues(ACC=tensor(0.2473), BAC=tensor(0.5000), MCC=0.01, predicted_labels=tensor([0.5329, 0.5319, 0.5329,  ..., 0.5317, 0.5314, 0.5320]))\n",
      "Step 21, 0:00:05.085635...ize([1000, 2048])DNN Test Values:  ComparisonValues(ACC=tensor(0.7534), BAC=tensor(0.5014), MCC=tensor(0.0457), predicted_labels=tensor([0.4355, 0.4666, 0.4529,  ..., 0.4545, 0.4559, 0.4617]))\n",
      "GAN Test Values:  ComparisonValues(ACC=tensor(0.2473), BAC=tensor(0.5000), MCC=0.01, predicted_labels=tensor([0.5300, 0.5306, 0.5310,  ..., 0.5289, 0.5307, 0.5310]))\n",
      "Step 28, 0:00:04.951353...ize([1000, 2048])DNN Test Values:  ComparisonValues(ACC=tensor(0.7563), BAC=tensor(0.5074), MCC=tensor(0.1056), predicted_labels=tensor([0.4467, 0.4737, 0.4454,  ..., 0.4168, 0.4206, 0.4024]))\n",
      "GAN Test Values:  ComparisonValues(ACC=tensor(0.2473), BAC=tensor(0.5000), MCC=0.01, predicted_labels=tensor([0.5294, 0.5289, 0.5285,  ..., 0.5294, 0.5297, 0.5301]))\n",
      "Step 35, 0:00:03.863123...ize([1000, 2048])DNN Test Values:  ComparisonValues(ACC=tensor(0.7648), BAC=tensor(0.5266), MCC=tensor(0.1872), predicted_labels=tensor([0.4145, 0.4067, 0.3288,  ..., 0.4189, 0.3987, 0.5006]))\n",
      "GAN Test Values:  ComparisonValues(ACC=tensor(0.2473), BAC=tensor(0.5000), MCC=0.01, predicted_labels=tensor([0.5271, 0.5280, 0.5269,  ..., 0.5290, 0.5282, 0.5290]))\n",
      "Step 42, 0:00:03.234487...ize([1000, 2048])DNN Test Values:  ComparisonValues(ACC=tensor(0.7855), BAC=tensor(0.5785), MCC=tensor(0.3089), predicted_labels=tensor([0.3451, 0.3185, 0.2737,  ..., 0.4262, 0.4261, 0.4018]))\n",
      "GAN Test Values:  ComparisonValues(ACC=tensor(0.2473), BAC=tensor(0.5000), MCC=0.01, predicted_labels=tensor([0.5272, 0.5273, 0.5270,  ..., 0.5270, 0.5273, 0.5261]))\n",
      "Step 49, 0:00:04.605186...ize([1000, 2048])DNN Test Values:  ComparisonValues(ACC=tensor(0.8079), BAC=tensor(0.6321), MCC=tensor(0.4079), predicted_labels=tensor([0.4144, 0.2273, 0.4070,  ..., 0.4470, 0.3302, 0.3467]))\n",
      "GAN Test Values:  ComparisonValues(ACC=tensor(0.2473), BAC=tensor(0.5000), MCC=0.01, predicted_labels=tensor([0.5258, 0.5271, 0.5257,  ..., 0.5251, 0.5265, 0.5266]))\n",
      "Step 56, 0:00:04.002628...ize([1000, 2048])DNN Test Values:  ComparisonValues(ACC=tensor(0.8230), BAC=tensor(0.6696), MCC=tensor(0.4662), predicted_labels=tensor([0.3864, 0.2953, 0.3181,  ..., 0.2129, 0.2537, 0.3253]))\n",
      "GAN Test Values:  ComparisonValues(ACC=tensor(0.2473), BAC=tensor(0.5000), MCC=0.01, predicted_labels=tensor([0.5248, 0.5239, 0.5258,  ..., 0.5254, 0.5244, 0.5260]))\n",
      "Step 63, 0:00:04.379276...ize([1000, 2048])DNN Test Values:  ComparisonValues(ACC=tensor(0.8309), BAC=tensor(0.6883), MCC=tensor(0.4954), predicted_labels=tensor([0.2849, 0.5241, 0.1994,  ..., 0.5078, 0.2470, 0.2854]))\n",
      "GAN Test Values:  ComparisonValues(ACC=tensor(0.2473), BAC=tensor(0.5000), MCC=0.01, predicted_labels=tensor([0.5255, 0.5244, 0.5249,  ..., 0.5244, 0.5257, 0.5249]))\n",
      "Step 70, 0:00:04.138531...ize([1000, 2048])DNN Test Values:  ComparisonValues(ACC=tensor(0.8360), BAC=tensor(0.7034), MCC=tensor(0.5138), predicted_labels=tensor([0.2357, 0.2678, 0.1342,  ..., 0.3800, 0.1999, 0.2223]))\n",
      "GAN Test Values:  ComparisonValues(ACC=tensor(0.2473), BAC=tensor(0.5000), MCC=0.01, predicted_labels=tensor([0.5239, 0.5249, 0.5225,  ..., 0.5234, 0.5236, 0.5242]))\n",
      "Step 77, 0:00:04.552366...ize([1000, 2048])DNN Test Values:  ComparisonValues(ACC=tensor(0.8398), BAC=tensor(0.7149), MCC=tensor(0.5279), predicted_labels=tensor([0.1872, 0.2678, 0.5531,  ..., 0.1707, 0.3404, 0.2308]))\n",
      "GAN Test Values:  ComparisonValues(ACC=tensor(0.2473), BAC=tensor(0.5000), MCC=0.01, predicted_labels=tensor([0.5235, 0.5233, 0.5235,  ..., 0.5236, 0.5225, 0.5238]))\n",
      "Step 84, 0:00:05.051030...ize([1000, 2048])DNN Test Values:  ComparisonValues(ACC=tensor(0.8412), BAC=tensor(0.7205), MCC=tensor(0.5333), predicted_labels=tensor([0.2354, 0.3279, 0.3737,  ..., 0.1998, 0.2497, 0.4377]))\n",
      "GAN Test Values:  ComparisonValues(ACC=tensor(0.2473), BAC=tensor(0.5000), MCC=0.01, predicted_labels=tensor([0.5226, 0.5208, 0.5222,  ..., 0.5230, 0.5231, 0.5229]))\n",
      "Step 91, 0:00:05.456601...ize([1000, 2048])DNN Test Values:  ComparisonValues(ACC=tensor(0.8458), BAC=tensor(0.7309), MCC=tensor(0.5491), predicted_labels=tensor([0.3050, 0.3928, 0.1266,  ..., 0.1989, 0.1776, 0.1378]))\n",
      "GAN Test Values:  ComparisonValues(ACC=tensor(0.2473), BAC=tensor(0.5000), MCC=0.01, predicted_labels=tensor([0.5220, 0.5225, 0.5212,  ..., 0.5216, 0.5206, 0.5215]))\n",
      "Step 98, 0:00:04.968158...ize([1000, 2048])DNN Test Values:  ComparisonValues(ACC=tensor(0.8453), BAC=tensor(0.7300), MCC=tensor(0.5476), predicted_labels=tensor([0.2824, 0.6114, 0.1347,  ..., 0.0847, 0.2596, 0.3522]))\n",
      "GAN Test Values:  ComparisonValues(ACC=tensor(0.2473), BAC=tensor(0.5000), MCC=0.01, predicted_labels=tensor([0.5200, 0.5213, 0.5195,  ..., 0.5201, 0.5202, 0.5206]))\n",
      "Step 105, 0:00:03.266628...ize([1000, 2048])DNN Test Values:  ComparisonValues(ACC=tensor(0.8469), BAC=tensor(0.7308), MCC=tensor(0.5523), predicted_labels=tensor([0.2040, 0.2720, 0.1900,  ..., 0.0964, 0.3369, 0.1977]))\n",
      "GAN Test Values:  ComparisonValues(ACC=tensor(0.2473), BAC=tensor(0.5000), MCC=0.01, predicted_labels=tensor([0.5206, 0.5194, 0.5204,  ..., 0.5195, 0.5196, 0.5200]))\n",
      "Step 112, 0:00:06.396088...ize([1000, 2048])DNN Test Values:  ComparisonValues(ACC=tensor(0.8474), BAC=tensor(0.7329), MCC=tensor(0.5542), predicted_labels=tensor([0.1921, 0.2014, 0.7462,  ..., 0.2707, 0.0903, 0.5930]))\n",
      "GAN Test Values:  ComparisonValues(ACC=tensor(0.2473), BAC=tensor(0.5000), MCC=0.01, predicted_labels=tensor([0.5188, 0.5198, 0.5204,  ..., 0.5200, 0.5198, 0.5201]))\n",
      "Step 119, 0:00:03.676810...ize([1000, 2048])DNN Test Values:  ComparisonValues(ACC=tensor(0.8503), BAC=tensor(0.7352), MCC=tensor(0.5633), predicted_labels=tensor([0.0999, 0.7615, 0.2240,  ..., 0.4198, 0.1324, 0.1156]))\n",
      "GAN Test Values:  ComparisonValues(ACC=tensor(0.2473), BAC=tensor(0.5000), MCC=0.01, predicted_labels=tensor([0.5190, 0.5193, 0.5198,  ..., 0.5198, 0.5195, 0.5184]))\n",
      "Step 126, 0:00:03.602164...ize([1000, 2048])DNN Test Values:  ComparisonValues(ACC=tensor(0.8496), BAC=tensor(0.7335), MCC=tensor(0.5610), predicted_labels=tensor([0.3356, 0.1033, 0.7591,  ..., 0.6340, 0.0659, 0.3100]))\n",
      "GAN Test Values:  ComparisonValues(ACC=tensor(0.2473), BAC=tensor(0.5000), MCC=0.01, predicted_labels=tensor([0.5183, 0.5187, 0.5184,  ..., 0.5181, 0.5179, 0.5192]))\n",
      "Step 133, 0:00:03.637915...ize([1000, 2048])DNN Test Values:  ComparisonValues(ACC=tensor(0.8512), BAC=tensor(0.7355), MCC=tensor(0.5661), predicted_labels=tensor([0.2986, 0.1657, 0.7389,  ..., 0.1264, 0.2156, 0.3081]))\n",
      "GAN Test Values:  ComparisonValues(ACC=tensor(0.2473), BAC=tensor(0.5000), MCC=0.01, predicted_labels=tensor([0.5181, 0.5180, 0.5178,  ..., 0.5184, 0.5178, 0.5185]))\n",
      "Step 140, 0:00:03.371499...ize([1000, 2048])DNN Test Values:  ComparisonValues(ACC=tensor(0.8512), BAC=tensor(0.7374), MCC=tensor(0.5664), predicted_labels=tensor([0.1314, 0.1155, 0.1703,  ..., 0.1881, 0.7418, 0.3679]))\n",
      "GAN Test Values:  ComparisonValues(ACC=tensor(0.2473), BAC=tensor(0.5000), MCC=0.01, predicted_labels=tensor([0.5178, 0.5184, 0.5178,  ..., 0.5175, 0.5173, 0.5183]))\n",
      "Step 147, 0:00:03.539190...ize([1000, 2048])DNN Test Values:  ComparisonValues(ACC=tensor(0.8528), BAC=tensor(0.7400), MCC=tensor(0.5716), predicted_labels=tensor([0.1218, 0.2257, 0.1991,  ..., 0.2852, 0.4005, 0.2139]))\n",
      "GAN Test Values:  ComparisonValues(ACC=tensor(0.2473), BAC=tensor(0.5000), MCC=0.01, predicted_labels=tensor([0.5177, 0.5182, 0.5182,  ..., 0.5172, 0.5180, 0.5177]))\n",
      "Step 154, 0:00:03.335761...ize([1000, 2048])DNN Test Values:  ComparisonValues(ACC=tensor(0.8524), BAC=tensor(0.7397), MCC=tensor(0.5702), predicted_labels=tensor([0.0895, 0.8521, 0.2005,  ..., 0.2166, 0.2559, 0.8211]))\n",
      "GAN Test Values:  ComparisonValues(ACC=tensor(0.2473), BAC=tensor(0.5000), MCC=0.01, predicted_labels=tensor([0.5180, 0.5178, 0.5185,  ..., 0.5181, 0.5181, 0.5189]))\n",
      "Step 161, 0:00:03.482892...ize([1000, 2048])DNN Test Values:  ComparisonValues(ACC=tensor(0.8544), BAC=tensor(0.7426), MCC=tensor(0.5768), predicted_labels=tensor([0.1045, 0.1275, 0.5629,  ..., 0.3830, 0.4667, 0.0977]))\n",
      "GAN Test Values:  ComparisonValues(ACC=tensor(0.2473), BAC=tensor(0.5000), MCC=0.01, predicted_labels=tensor([0.5187, 0.5189, 0.5191,  ..., 0.5188, 0.5193, 0.5190]))\n",
      "Step 168, 0:00:04.354531...ize([1000, 2048])DNN Test Values:  ComparisonValues(ACC=tensor(0.8544), BAC=tensor(0.7420), MCC=tensor(0.5767), predicted_labels=tensor([0.1892, 0.0653, 0.1758,  ..., 0.3739, 0.1991, 0.2248]))\n",
      "GAN Test Values:  ComparisonValues(ACC=tensor(0.2473), BAC=tensor(0.5000), MCC=0.01, predicted_labels=tensor([0.5185, 0.5187, 0.5188,  ..., 0.5194, 0.5186, 0.5189]))\n",
      "Step 175, 0:00:03.336122...ize([1000, 2048])DNN Test Values:  ComparisonValues(ACC=tensor(0.8551), BAC=tensor(0.7433), MCC=tensor(0.5789), predicted_labels=tensor([0.1344, 0.2197, 0.1184,  ..., 0.8563, 0.1805, 0.8709]))\n",
      "GAN Test Values:  ComparisonValues(ACC=tensor(0.2473), BAC=tensor(0.5000), MCC=0.01, predicted_labels=tensor([0.5181, 0.5181, 0.5181,  ..., 0.5185, 0.5181, 0.5180]))\n",
      "Step 182, 0:00:03.384376...ize([1000, 2048])DNN Test Values:  ComparisonValues(ACC=tensor(0.8554), BAC=tensor(0.7450), MCC=tensor(0.5799), predicted_labels=tensor([0.3814, 0.2958, 0.3252,  ..., 0.1612, 0.0779, 0.3038]))\n",
      "GAN Test Values:  ComparisonValues(ACC=tensor(0.2473), BAC=tensor(0.5000), MCC=0.01, predicted_labels=tensor([0.5182, 0.5177, 0.5179,  ..., 0.5184, 0.5178, 0.5177]))\n",
      "Step 189, 0:00:03.994642...ize([1000, 2048])DNN Test Values:  ComparisonValues(ACC=tensor(0.8549), BAC=tensor(0.7450), MCC=tensor(0.5785), predicted_labels=tensor([0.1114, 0.1407, 0.0723,  ..., 0.8651, 0.1313, 0.4969]))\n",
      "GAN Test Values:  ComparisonValues(ACC=tensor(0.2473), BAC=tensor(0.5000), MCC=0.01, predicted_labels=tensor([0.5173, 0.5180, 0.5179,  ..., 0.5181, 0.5173, 0.5173]))\n",
      "Step 196, 0:00:07.249408...ize([1000, 2048])DNN Test Values:  ComparisonValues(ACC=tensor(0.8547), BAC=tensor(0.7452), MCC=tensor(0.5779), predicted_labels=tensor([0.1257, 0.1977, 0.2338,  ..., 0.2170, 0.9625, 0.1171]))\n",
      "GAN Test Values:  ComparisonValues(ACC=tensor(0.2473), BAC=tensor(0.5000), MCC=0.01, predicted_labels=tensor([0.5169, 0.5169, 0.5169,  ..., 0.5169, 0.5169, 0.5169]))\n",
      "Step 203, 0:00:03.231994...ize([1000, 2048])DNN Test Values:  ComparisonValues(ACC=tensor(0.8560), BAC=tensor(0.7498), MCC=tensor(0.5828), predicted_labels=tensor([0.2097, 0.1167, 0.1841,  ..., 0.2151, 0.0635, 0.1470]))\n",
      "GAN Test Values:  ComparisonValues(ACC=tensor(0.2473), BAC=tensor(0.5000), MCC=0.01, predicted_labels=tensor([0.5166, 0.5169, 0.5170,  ..., 0.5166, 0.5166, 0.5166]))\n",
      "Step 210, 0:00:03.356073...ize([1000, 2048])DNN Test Values:  ComparisonValues(ACC=tensor(0.8549), BAC=tensor(0.7454), MCC=tensor(0.5786), predicted_labels=tensor([0.0988, 0.0840, 0.2528,  ..., 0.6359, 0.1661, 0.0859]))\n",
      "GAN Test Values:  ComparisonValues(ACC=tensor(0.2473), BAC=tensor(0.5000), MCC=0.01, predicted_labels=tensor([0.5163, 0.5163, 0.5164,  ..., 0.5165, 0.5166, 0.5163]))\n",
      "Step 217, 0:00:05.718758...ize([1000, 2048])DNN Test Values:  ComparisonValues(ACC=tensor(0.8551), BAC=tensor(0.7452), MCC=tensor(0.5792), predicted_labels=tensor([0.4058, 0.1048, 0.8732,  ..., 0.3287, 0.0610, 0.0706]))\n",
      "GAN Test Values:  ComparisonValues(ACC=tensor(0.2473), BAC=tensor(0.5000), MCC=0.01, predicted_labels=tensor([0.5161, 0.5165, 0.5161,  ..., 0.5161, 0.5161, 0.5161]))\n",
      "Step 224, 0:00:03.697221...ize([1000, 2048])DNN Test Values:  ComparisonValues(ACC=tensor(0.8569), BAC=tensor(0.7504), MCC=tensor(0.5855), predicted_labels=tensor([0.1670, 0.6046, 0.1605,  ..., 0.1521, 0.3050, 0.1305]))\n",
      "GAN Test Values:  ComparisonValues(ACC=tensor(0.2473), BAC=tensor(0.5000), MCC=0.01, predicted_labels=tensor([0.5158, 0.5158, 0.5158,  ..., 0.5158, 0.5159, 0.5158]))\n",
      "Step 231, 0:00:03.515583...ize([1000, 2048])DNN Test Values:  ComparisonValues(ACC=tensor(0.8574), BAC=tensor(0.7517), MCC=tensor(0.5871), predicted_labels=tensor([0.0944, 0.1737, 0.2863,  ..., 0.1604, 0.0777, 0.1960]))\n",
      "GAN Test Values:  ComparisonValues(ACC=tensor(0.2473), BAC=tensor(0.5000), MCC=0.01, predicted_labels=tensor([0.5158, 0.5155, 0.5155,  ..., 0.5157, 0.5155, 0.5158]))\n",
      "Step 238, 0:00:03.499184...ize([1000, 2048])DNN Test Values:  ComparisonValues(ACC=tensor(0.8579), BAC=tensor(0.7551), MCC=tensor(0.5891), predicted_labels=tensor([0.1358, 0.2743, 0.1201,  ..., 0.4854, 0.1346, 0.2120]))\n",
      "GAN Test Values:  ComparisonValues(ACC=tensor(0.2473), BAC=tensor(0.5000), MCC=0.01, predicted_labels=tensor([0.5153, 0.5153, 0.5155,  ..., 0.5153, 0.5153, 0.5153]))\n",
      "Step 245, 0:00:03.424146...ize([1000, 2048])DNN Test Values:  ComparisonValues(ACC=tensor(0.8567), BAC=tensor(0.7509), MCC=tensor(0.5850), predicted_labels=tensor([0.9470, 0.1729, 0.2327,  ..., 0.0614, 0.0685, 0.4271]))\n",
      "GAN Test Values:  ComparisonValues(ACC=tensor(0.2473), BAC=tensor(0.5000), MCC=0.01, predicted_labels=tensor([0.5150, 0.5150, 0.5150,  ..., 0.5150, 0.5151, 0.5150]))\n",
      "Step 252, 0:00:03.380849...ize([1000, 2048])DNN Test Values:  ComparisonValues(ACC=tensor(0.8565), BAC=tensor(0.7514), MCC=tensor(0.5844), predicted_labels=tensor([0.1290, 0.1421, 0.2220,  ..., 0.4279, 0.1062, 0.6777]))\n",
      "GAN Test Values:  ComparisonValues(ACC=tensor(0.2473), BAC=tensor(0.5000), MCC=0.01, predicted_labels=tensor([0.5146, 0.5147, 0.5147,  ..., 0.5147, 0.5147, 0.5147]))\n",
      "Step 259, 0:00:03.475648...ize([1000, 2048])DNN Test Values:  ComparisonValues(ACC=tensor(0.8576), BAC=tensor(0.7546), MCC=tensor(0.5884), predicted_labels=tensor([0.0597, 0.0926, 0.0869,  ..., 0.0553, 0.1531, 0.1160]))\n",
      "GAN Test Values:  ComparisonValues(ACC=tensor(0.2473), BAC=tensor(0.5000), MCC=0.01, predicted_labels=tensor([0.5145, 0.5145, 0.5145,  ..., 0.5145, 0.5145, 0.5145]))\n",
      "Step 266, 0:00:03.311278...ize([1000, 2048])DNN Test Values:  ComparisonValues(ACC=tensor(0.8567), BAC=tensor(0.7543), MCC=tensor(0.5858), predicted_labels=tensor([0.6794, 0.6553, 0.2177,  ..., 0.0781, 0.1340, 0.0755]))\n",
      "GAN Test Values:  ComparisonValues(ACC=tensor(0.2473), BAC=tensor(0.5000), MCC=0.01, predicted_labels=tensor([0.5142, 0.5142, 0.5142,  ..., 0.5142, 0.5142, 0.5142]))\n",
      "Step 273, 0:00:03.424458...ize([1000, 2048])DNN Test Values:  ComparisonValues(ACC=tensor(0.8572), BAC=tensor(0.7543), MCC=tensor(0.5871), predicted_labels=tensor([0.8547, 0.0757, 0.8767,  ..., 0.1257, 0.0950, 0.0821]))\n",
      "GAN Test Values:  ComparisonValues(ACC=tensor(0.2473), BAC=tensor(0.5000), MCC=0.01, predicted_labels=tensor([0.5140, 0.5140, 0.5140,  ..., 0.5140, 0.5140, 0.5140]))\n",
      "Step 280, 0:00:04.163756...ize([1000, 2048])DNN Test Values:  ComparisonValues(ACC=tensor(0.8569), BAC=tensor(0.7545), MCC=tensor(0.5865), predicted_labels=tensor([0.6974, 0.0920, 0.0708,  ..., 0.1653, 0.1254, 0.0558]))\n",
      "GAN Test Values:  ComparisonValues(ACC=tensor(0.2473), BAC=tensor(0.5000), MCC=0.01, predicted_labels=tensor([0.5137, 0.5137, 0.5137,  ..., 0.5137, 0.5137, 0.5137]))\n",
      "Step 287, 0:00:03.415664...ize([1000, 2048])DNN Test Values:  ComparisonValues(ACC=tensor(0.8569), BAC=tensor(0.7554), MCC=tensor(0.5867), predicted_labels=tensor([0.0622, 0.9337, 0.0993,  ..., 0.7709, 0.1246, 0.0870]))\n",
      "GAN Test Values:  ComparisonValues(ACC=tensor(0.2473), BAC=tensor(0.5000), MCC=0.01, predicted_labels=tensor([0.5134, 0.5134, 0.5134,  ..., 0.5134, 0.5134, 0.5134]))\n",
      "Step 294, 0:00:03.337595...ize([1000, 2048])DNN Test Values:  ComparisonValues(ACC=tensor(0.8558), BAC=tensor(0.7534), MCC=tensor(0.5831), predicted_labels=tensor([0.8010, 0.1759, 0.1567,  ..., 0.1571, 0.0951, 0.1166]))\n",
      "GAN Test Values:  ComparisonValues(ACC=tensor(0.2473), BAC=tensor(0.5000), MCC=0.01, predicted_labels=tensor([0.5132, 0.5132, 0.5132,  ..., 0.5132, 0.5132, 0.5132]))\n",
      "Step 301, 0:00:03.265409...ize([1000, 2048])DNN Test Values:  ComparisonValues(ACC=tensor(0.8558), BAC=tensor(0.7534), MCC=tensor(0.5831), predicted_labels=tensor([0.1363, 0.1212, 0.0901,  ..., 0.7161, 0.0852, 0.3608]))\n",
      "GAN Test Values:  ComparisonValues(ACC=tensor(0.2473), BAC=tensor(0.5000), MCC=0.01, predicted_labels=tensor([0.5129, 0.5129, 0.5129,  ..., 0.5129, 0.5129, 0.5129]))\n",
      "Step 308, 0:00:03.601656...ize([1000, 2048])DNN Test Values:  ComparisonValues(ACC=tensor(0.8544), BAC=tensor(0.7503), MCC=tensor(0.5785), predicted_labels=tensor([0.1334, 0.0851, 0.0907,  ..., 0.0819, 0.1471, 0.2014]))\n",
      "GAN Test Values:  ComparisonValues(ACC=tensor(0.2473), BAC=tensor(0.5000), MCC=0.01, predicted_labels=tensor([0.5127, 0.5127, 0.5127,  ..., 0.5127, 0.5127, 0.5127]))\n",
      "Step 315, 0:00:03.308416...ize([1000, 2048])DNN Test Values:  ComparisonValues(ACC=tensor(0.8515), BAC=tensor(0.7446), MCC=tensor(0.5688), predicted_labels=tensor([0.1687, 0.0540, 0.9136,  ..., 0.1167, 0.2602, 0.1653]))\n",
      "GAN Test Values:  ComparisonValues(ACC=tensor(0.2473), BAC=tensor(0.5000), MCC=0.01, predicted_labels=tensor([0.5124, 0.5124, 0.5124,  ..., 0.5124, 0.5124, 0.5124]))\n",
      "Step 322, 0:00:03.395574...ize([1000, 2048])DNN Test Values:  ComparisonValues(ACC=tensor(0.8522), BAC=tensor(0.7448), MCC=tensor(0.5707), predicted_labels=tensor([0.0553, 0.0465, 0.4576,  ..., 0.0486, 0.1301, 0.0394]))\n",
      "GAN Test Values:  ComparisonValues(ACC=tensor(0.2473), BAC=tensor(0.5000), MCC=0.01, predicted_labels=tensor([0.5122, 0.5122, 0.5122,  ..., 0.5122, 0.5122, 0.5122]))\n",
      "Step 329, 0:00:03.199132...ize([1000, 2048])DNN Test Values:  ComparisonValues(ACC=tensor(0.8501), BAC=tensor(0.7440), MCC=tensor(0.5649), predicted_labels=tensor([0.4660, 0.9605, 0.0773,  ..., 0.0508, 0.9301, 0.0363]))\n",
      "GAN Test Values:  ComparisonValues(ACC=tensor(0.2473), BAC=tensor(0.5000), MCC=0.01, predicted_labels=tensor([0.5119, 0.5119, 0.5119,  ..., 0.5119, 0.5119, 0.5119]))\n",
      "Step 336, 0:00:04.277000...ize([1000, 2048])DNN Test Values:  ComparisonValues(ACC=tensor(0.8503), BAC=tensor(0.7445), MCC=tensor(0.5656), predicted_labels=tensor([0.0784, 0.0583, 0.0759,  ..., 0.0404, 0.0521, 0.4350]))\n",
      "GAN Test Values:  ComparisonValues(ACC=tensor(0.2473), BAC=tensor(0.5000), MCC=0.01, predicted_labels=tensor([0.5117, 0.5117, 0.5117,  ..., 0.5117, 0.5117, 0.5117]))\n",
      "Step 343, 0:00:03.452195...ize([1000, 2048])DNN Test Values:  ComparisonValues(ACC=tensor(0.8508), BAC=tensor(0.7457), MCC=tensor(0.5672), predicted_labels=tensor([0.0686, 0.1497, 0.0473,  ..., 0.0681, 0.0661, 0.2393]))\n",
      "GAN Test Values:  ComparisonValues(ACC=tensor(0.2473), BAC=tensor(0.5000), MCC=0.01, predicted_labels=tensor([0.5114, 0.5114, 0.5114,  ..., 0.5114, 0.5114, 0.5114]))\n"
     ]
    },
    {
     "name": "stderr",
     "output_type": "stream",
     "text": [
      "/Users/alexi/Library/CloudStorage/OneDrive-Nexus365/Rotation Projects/Rotation_1/Project/DomAdpQSAR/DomAdpQSAR/presentation.py:36: UserWarning: Dataset has 0 variance; skipping density estimate. Pass `warn_singular=False` to disable this warning.\n",
      "  axes = sns.kdeplot(unlabeled_predictions, ax=axes, color=sns.color_palette()[1], bw_method=bandwidth,\n"
     ]
    },
    {
     "name": "stdout",
     "output_type": "stream",
     "text": [
      "Step 350, 0:00:03.548305...ize([1000, 2048])DNN Test Values:  ComparisonValues(ACC=tensor(0.8492), BAC=tensor(0.7434), MCC=tensor(0.5622), predicted_labels=tensor([0.0857, 0.3254, 0.1293,  ..., 0.1213, 0.0434, 0.9729]))\n",
      "GAN Test Values:  ComparisonValues(ACC=tensor(0.2473), BAC=tensor(0.5000), MCC=0.01, predicted_labels=tensor([0.5112, 0.5112, 0.5112,  ..., 0.5112, 0.5112, 0.5112]))\n"
     ]
    },
    {
     "name": "stderr",
     "output_type": "stream",
     "text": [
      "/Users/alexi/Library/CloudStorage/OneDrive-Nexus365/Rotation Projects/Rotation_1/Project/DomAdpQSAR/DomAdpQSAR/presentation.py:36: UserWarning: Dataset has 0 variance; skipping density estimate. Pass `warn_singular=False` to disable this warning.\n",
      "  axes = sns.kdeplot(unlabeled_predictions, ax=axes, color=sns.color_palette()[1], bw_method=bandwidth,\n"
     ]
    },
    {
     "name": "stdout",
     "output_type": "stream",
     "text": [
      "Step 357, 0:00:03.522280...ize([1000, 2048])DNN Test Values:  ComparisonValues(ACC=tensor(0.8506), BAC=tensor(0.7471), MCC=tensor(0.5671), predicted_labels=tensor([0.0544, 0.0816, 0.0607,  ..., 0.7578, 0.5560, 0.1146]))\n",
      "GAN Test Values:  ComparisonValues(ACC=tensor(0.2473), BAC=tensor(0.5000), MCC=0.01, predicted_labels=tensor([0.5110, 0.5110, 0.5110,  ..., 0.5110, 0.5110, 0.5110]))\n"
     ]
    },
    {
     "name": "stderr",
     "output_type": "stream",
     "text": [
      "/Users/alexi/Library/CloudStorage/OneDrive-Nexus365/Rotation Projects/Rotation_1/Project/DomAdpQSAR/DomAdpQSAR/presentation.py:36: UserWarning: Dataset has 0 variance; skipping density estimate. Pass `warn_singular=False` to disable this warning.\n",
      "  axes = sns.kdeplot(unlabeled_predictions, ax=axes, color=sns.color_palette()[1], bw_method=bandwidth,\n"
     ]
    },
    {
     "name": "stdout",
     "output_type": "stream",
     "text": [
      "Step 364, 0:00:03.471031...ize([1000, 2048])DNN Test Values:  ComparisonValues(ACC=tensor(0.8533), BAC=tensor(0.7517), MCC=tensor(0.5759), predicted_labels=tensor([0.0788, 0.1649, 0.2392,  ..., 0.9570, 0.5669, 0.0499]))\n",
      "GAN Test Values:  ComparisonValues(ACC=tensor(0.2473), BAC=tensor(0.5000), MCC=0.01, predicted_labels=tensor([0.5107, 0.5107, 0.5107,  ..., 0.5107, 0.5107, 0.5107]))\n"
     ]
    },
    {
     "name": "stderr",
     "output_type": "stream",
     "text": [
      "/Users/alexi/Library/CloudStorage/OneDrive-Nexus365/Rotation Projects/Rotation_1/Project/DomAdpQSAR/DomAdpQSAR/presentation.py:36: UserWarning: Dataset has 0 variance; skipping density estimate. Pass `warn_singular=False` to disable this warning.\n",
      "  axes = sns.kdeplot(unlabeled_predictions, ax=axes, color=sns.color_palette()[1], bw_method=bandwidth,\n"
     ]
    },
    {
     "name": "stdout",
     "output_type": "stream",
     "text": [
      "Step 371, 0:00:03.354627...ize([1000, 2048])DNN Test Values:  ComparisonValues(ACC=tensor(0.8554), BAC=tensor(0.7537), MCC=tensor(0.5819), predicted_labels=tensor([0.2870, 0.4028, 0.8654,  ..., 0.0357, 0.8345, 0.4398]))\n",
      "GAN Test Values:  ComparisonValues(ACC=tensor(0.2473), BAC=tensor(0.5000), MCC=0.01, predicted_labels=tensor([0.5105, 0.5105, 0.5105,  ..., 0.5105, 0.5105, 0.5105]))\n"
     ]
    },
    {
     "name": "stderr",
     "output_type": "stream",
     "text": [
      "/Users/alexi/Library/CloudStorage/OneDrive-Nexus365/Rotation Projects/Rotation_1/Project/DomAdpQSAR/DomAdpQSAR/presentation.py:36: UserWarning: Dataset has 0 variance; skipping density estimate. Pass `warn_singular=False` to disable this warning.\n",
      "  axes = sns.kdeplot(unlabeled_predictions, ax=axes, color=sns.color_palette()[1], bw_method=bandwidth,\n"
     ]
    },
    {
     "name": "stdout",
     "output_type": "stream",
     "text": [
      "Step 378, 0:00:03.561069...ize([1000, 2048])DNN Test Values:  ComparisonValues(ACC=tensor(0.8531), BAC=tensor(0.7516), MCC=tensor(0.5752), predicted_labels=tensor([0.0732, 0.0244, 0.0227,  ..., 0.0759, 0.1108, 0.0582]))\n",
      "GAN Test Values:  ComparisonValues(ACC=tensor(0.2473), BAC=tensor(0.5000), MCC=0.01, predicted_labels=tensor([0.5103, 0.5103, 0.5103,  ..., 0.5103, 0.5103, 0.5103]))\n"
     ]
    },
    {
     "name": "stderr",
     "output_type": "stream",
     "text": [
      "/Users/alexi/Library/CloudStorage/OneDrive-Nexus365/Rotation Projects/Rotation_1/Project/DomAdpQSAR/DomAdpQSAR/presentation.py:36: UserWarning: Dataset has 0 variance; skipping density estimate. Pass `warn_singular=False` to disable this warning.\n",
      "  axes = sns.kdeplot(unlabeled_predictions, ax=axes, color=sns.color_palette()[1], bw_method=bandwidth,\n"
     ]
    },
    {
     "name": "stdout",
     "output_type": "stream",
     "text": [
      "Step 385, 0:00:03.361923...ize([1000, 2048])DNN Test Values:  ComparisonValues(ACC=tensor(0.8528), BAC=tensor(0.7508), MCC=tensor(0.5743), predicted_labels=tensor([0.0879, 0.0443, 0.8475,  ..., 0.1552, 0.0445, 0.0298]))\n",
      "GAN Test Values:  ComparisonValues(ACC=tensor(0.2473), BAC=tensor(0.5000), MCC=0.01, predicted_labels=tensor([0.5100, 0.5100, 0.5100,  ..., 0.5100, 0.5100, 0.5100]))\n"
     ]
    },
    {
     "name": "stderr",
     "output_type": "stream",
     "text": [
      "/Users/alexi/Library/CloudStorage/OneDrive-Nexus365/Rotation Projects/Rotation_1/Project/DomAdpQSAR/DomAdpQSAR/presentation.py:36: UserWarning: Dataset has 0 variance; skipping density estimate. Pass `warn_singular=False` to disable this warning.\n",
      "  axes = sns.kdeplot(unlabeled_predictions, ax=axes, color=sns.color_palette()[1], bw_method=bandwidth,\n"
     ]
    },
    {
     "name": "stdout",
     "output_type": "stream",
     "text": [
      "Step 392, 0:00:03.504370...ize([1000, 2048])DNN Test Values:  ComparisonValues(ACC=tensor(0.8517), BAC=tensor(0.7485), MCC=tensor(0.5706), predicted_labels=tensor([0.0528, 0.0604, 0.0705,  ..., 0.3507, 0.0520, 0.9438]))\n",
      "GAN Test Values:  ComparisonValues(ACC=tensor(0.2473), BAC=tensor(0.5000), MCC=0.01, predicted_labels=tensor([0.5098, 0.5098, 0.5098,  ..., 0.5098, 0.5098, 0.5098]))\n"
     ]
    },
    {
     "name": "stderr",
     "output_type": "stream",
     "text": [
      "/Users/alexi/Library/CloudStorage/OneDrive-Nexus365/Rotation Projects/Rotation_1/Project/DomAdpQSAR/DomAdpQSAR/presentation.py:36: UserWarning: Dataset has 0 variance; skipping density estimate. Pass `warn_singular=False` to disable this warning.\n",
      "  axes = sns.kdeplot(unlabeled_predictions, ax=axes, color=sns.color_palette()[1], bw_method=bandwidth,\n"
     ]
    },
    {
     "name": "stdout",
     "output_type": "stream",
     "text": [
      "Step 399, 0:00:04.217465...ize([1000, 2048])DNN Test Values:  ComparisonValues(ACC=tensor(0.8512), BAC=tensor(0.7482), MCC=tensor(0.5693), predicted_labels=tensor([0.0648, 0.3039, 0.0703,  ..., 0.0528, 0.0211, 0.0806]))\n",
      "GAN Test Values:  ComparisonValues(ACC=tensor(0.2473), BAC=tensor(0.5000), MCC=0.01, predicted_labels=tensor([0.5096, 0.5096, 0.5096,  ..., 0.5096, 0.5096, 0.5096]))\n"
     ]
    },
    {
     "name": "stderr",
     "output_type": "stream",
     "text": [
      "/Users/alexi/Library/CloudStorage/OneDrive-Nexus365/Rotation Projects/Rotation_1/Project/DomAdpQSAR/DomAdpQSAR/presentation.py:36: UserWarning: Dataset has 0 variance; skipping density estimate. Pass `warn_singular=False` to disable this warning.\n",
      "  axes = sns.kdeplot(unlabeled_predictions, ax=axes, color=sns.color_palette()[1], bw_method=bandwidth,\n"
     ]
    },
    {
     "name": "stdout",
     "output_type": "stream",
     "text": [
      "Step 406, 0:00:03.596518...ize([1000, 2048])DNN Test Values:  ComparisonValues(ACC=tensor(0.8519), BAC=tensor(0.7521), MCC=tensor(0.5724), predicted_labels=tensor([0.0891, 0.1522, 0.5765,  ..., 0.6010, 0.0635, 0.1322]))\n",
      "GAN Test Values:  ComparisonValues(ACC=tensor(0.2473), BAC=tensor(0.5000), MCC=0.01, predicted_labels=tensor([0.5093, 0.5093, 0.5093,  ..., 0.5093, 0.5093, 0.5093]))\n"
     ]
    },
    {
     "name": "stderr",
     "output_type": "stream",
     "text": [
      "/Users/alexi/Library/CloudStorage/OneDrive-Nexus365/Rotation Projects/Rotation_1/Project/DomAdpQSAR/DomAdpQSAR/presentation.py:36: UserWarning: Dataset has 0 variance; skipping density estimate. Pass `warn_singular=False` to disable this warning.\n",
      "  axes = sns.kdeplot(unlabeled_predictions, ax=axes, color=sns.color_palette()[1], bw_method=bandwidth,\n"
     ]
    },
    {
     "name": "stdout",
     "output_type": "stream",
     "text": [
      "Step 413, 0:00:03.303210...ize([1000, 2048])DNN Test Values:  ComparisonValues(ACC=tensor(0.8517), BAC=tensor(0.7531), MCC=tensor(0.5723), predicted_labels=tensor([0.0752, 0.1285, 0.1076,  ..., 0.0564, 0.5158, 0.1255]))\n",
      "GAN Test Values:  ComparisonValues(ACC=tensor(0.2473), BAC=tensor(0.5000), MCC=0.01, predicted_labels=tensor([0.5091, 0.5091, 0.5091,  ..., 0.5091, 0.5091, 0.5091]))\n"
     ]
    },
    {
     "name": "stderr",
     "output_type": "stream",
     "text": [
      "/Users/alexi/Library/CloudStorage/OneDrive-Nexus365/Rotation Projects/Rotation_1/Project/DomAdpQSAR/DomAdpQSAR/presentation.py:36: UserWarning: Dataset has 0 variance; skipping density estimate. Pass `warn_singular=False` to disable this warning.\n",
      "  axes = sns.kdeplot(unlabeled_predictions, ax=axes, color=sns.color_palette()[1], bw_method=bandwidth,\n"
     ]
    },
    {
     "name": "stdout",
     "output_type": "stream",
     "text": [
      "Step 420, 0:00:03.248215...ize([1000, 2048])DNN Test Values:  ComparisonValues(ACC=tensor(0.8517), BAC=tensor(0.7494), MCC=tensor(0.5709), predicted_labels=tensor([0.0996, 0.0371, 0.0926,  ..., 0.0536, 0.0387, 0.4178]))\n",
      "GAN Test Values:  ComparisonValues(ACC=tensor(0.2473), BAC=tensor(0.5000), MCC=0.01, predicted_labels=tensor([0.5089, 0.5089, 0.5089,  ..., 0.5089, 0.5089, 0.5089]))\n"
     ]
    },
    {
     "name": "stderr",
     "output_type": "stream",
     "text": [
      "/Users/alexi/Library/CloudStorage/OneDrive-Nexus365/Rotation Projects/Rotation_1/Project/DomAdpQSAR/DomAdpQSAR/presentation.py:36: UserWarning: Dataset has 0 variance; skipping density estimate. Pass `warn_singular=False` to disable this warning.\n",
      "  axes = sns.kdeplot(unlabeled_predictions, ax=axes, color=sns.color_palette()[1], bw_method=bandwidth,\n"
     ]
    },
    {
     "name": "stdout",
     "output_type": "stream",
     "text": [
      "Step 427, 0:00:03.486753...ize([1000, 2048])DNN Test Values:  ComparisonValues(ACC=tensor(0.8492), BAC=tensor(0.7437), MCC=tensor(0.5624), predicted_labels=tensor([0.0966, 0.0488, 0.7326,  ..., 0.2528, 0.0671, 0.0299]))\n",
      "GAN Test Values:  ComparisonValues(ACC=tensor(0.2473), BAC=tensor(0.5000), MCC=0.01, predicted_labels=tensor([0.5086, 0.5086, 0.5086,  ..., 0.5086, 0.5086, 0.5086]))\n"
     ]
    },
    {
     "name": "stderr",
     "output_type": "stream",
     "text": [
      "/Users/alexi/Library/CloudStorage/OneDrive-Nexus365/Rotation Projects/Rotation_1/Project/DomAdpQSAR/DomAdpQSAR/presentation.py:36: UserWarning: Dataset has 0 variance; skipping density estimate. Pass `warn_singular=False` to disable this warning.\n",
      "  axes = sns.kdeplot(unlabeled_predictions, ax=axes, color=sns.color_palette()[1], bw_method=bandwidth,\n",
      "/Users/alexi/Library/CloudStorage/OneDrive-Nexus365/Rotation Projects/Rotation_1/Project/DomAdpQSAR/DomAdpQSAR/presentation.py:38: UserWarning: Dataset has 0 variance; skipping density estimate. Pass `warn_singular=False` to disable this warning.\n",
      "  axes = sns.kdeplot(test_predictions, ax=axes, color=sns.color_palette()[2], bw_method=bandwidth,\n"
     ]
    },
    {
     "name": "stdout",
     "output_type": "stream",
     "text": [
      "Step 434, 0:00:03.340987...ize([1000, 2048])DNN Test Values:  ComparisonValues(ACC=tensor(0.8485), BAC=tensor(0.7439), MCC=tensor(0.5606), predicted_labels=tensor([0.1026, 0.0406, 0.0519,  ..., 0.0308, 0.0702, 0.1356]))\n",
      "GAN Test Values:  ComparisonValues(ACC=tensor(0.2473), BAC=tensor(0.5000), MCC=0.01, predicted_labels=tensor([0.5084, 0.5084, 0.5084,  ..., 0.5084, 0.5084, 0.5084]))\n"
     ]
    },
    {
     "name": "stderr",
     "output_type": "stream",
     "text": [
      "/Users/alexi/Library/CloudStorage/OneDrive-Nexus365/Rotation Projects/Rotation_1/Project/DomAdpQSAR/DomAdpQSAR/presentation.py:36: UserWarning: Dataset has 0 variance; skipping density estimate. Pass `warn_singular=False` to disable this warning.\n",
      "  axes = sns.kdeplot(unlabeled_predictions, ax=axes, color=sns.color_palette()[1], bw_method=bandwidth,\n",
      "/Users/alexi/Library/CloudStorage/OneDrive-Nexus365/Rotation Projects/Rotation_1/Project/DomAdpQSAR/DomAdpQSAR/presentation.py:38: UserWarning: Dataset has 0 variance; skipping density estimate. Pass `warn_singular=False` to disable this warning.\n",
      "  axes = sns.kdeplot(test_predictions, ax=axes, color=sns.color_palette()[2], bw_method=bandwidth,\n"
     ]
    },
    {
     "name": "stdout",
     "output_type": "stream",
     "text": [
      "Step 441, 0:00:03.452476...ize([1000, 2048])DNN Test Values:  ComparisonValues(ACC=tensor(0.8506), BAC=tensor(0.7499), MCC=tensor(0.5681), predicted_labels=tensor([0.0793, 0.1061, 0.0528,  ..., 0.1843, 0.0319, 0.5120]))\n",
      "GAN Test Values:  ComparisonValues(ACC=tensor(0.2473), BAC=tensor(0.5000), MCC=0.01, predicted_labels=tensor([0.5082, 0.5082, 0.5082,  ..., 0.5082, 0.5082, 0.5082]))\n"
     ]
    },
    {
     "name": "stderr",
     "output_type": "stream",
     "text": [
      "/Users/alexi/Library/CloudStorage/OneDrive-Nexus365/Rotation Projects/Rotation_1/Project/DomAdpQSAR/DomAdpQSAR/presentation.py:36: UserWarning: Dataset has 0 variance; skipping density estimate. Pass `warn_singular=False` to disable this warning.\n",
      "  axes = sns.kdeplot(unlabeled_predictions, ax=axes, color=sns.color_palette()[1], bw_method=bandwidth,\n",
      "/Users/alexi/Library/CloudStorage/OneDrive-Nexus365/Rotation Projects/Rotation_1/Project/DomAdpQSAR/DomAdpQSAR/presentation.py:38: UserWarning: Dataset has 0 variance; skipping density estimate. Pass `warn_singular=False` to disable this warning.\n",
      "  axes = sns.kdeplot(test_predictions, ax=axes, color=sns.color_palette()[2], bw_method=bandwidth,\n"
     ]
    },
    {
     "name": "stdout",
     "output_type": "stream",
     "text": [
      "Step 448, 0:00:03.311122...ize([1000, 2048])DNN Test Values:  ComparisonValues(ACC=tensor(0.8501), BAC=tensor(0.7502), MCC=tensor(0.5671), predicted_labels=tensor([0.1477, 0.0517, 0.5553,  ..., 0.6139, 0.2733, 0.1040]))\n",
      "GAN Test Values:  ComparisonValues(ACC=tensor(0.2473), BAC=tensor(0.5000), MCC=0.01, predicted_labels=tensor([0.5080, 0.5080, 0.5080,  ..., 0.5080, 0.5080, 0.5080]))\n"
     ]
    },
    {
     "name": "stderr",
     "output_type": "stream",
     "text": [
      "/Users/alexi/Library/CloudStorage/OneDrive-Nexus365/Rotation Projects/Rotation_1/Project/DomAdpQSAR/DomAdpQSAR/presentation.py:36: UserWarning: Dataset has 0 variance; skipping density estimate. Pass `warn_singular=False` to disable this warning.\n",
      "  axes = sns.kdeplot(unlabeled_predictions, ax=axes, color=sns.color_palette()[1], bw_method=bandwidth,\n",
      "/Users/alexi/Library/CloudStorage/OneDrive-Nexus365/Rotation Projects/Rotation_1/Project/DomAdpQSAR/DomAdpQSAR/presentation.py:38: UserWarning: Dataset has 0 variance; skipping density estimate. Pass `warn_singular=False` to disable this warning.\n",
      "  axes = sns.kdeplot(test_predictions, ax=axes, color=sns.color_palette()[2], bw_method=bandwidth,\n"
     ]
    },
    {
     "name": "stdout",
     "output_type": "stream",
     "text": [
      "Step 455, 0:00:04.174174...ize([1000, 2048])DNN Test Values:  ComparisonValues(ACC=tensor(0.8499), BAC=tensor(0.7519), MCC=tensor(0.5672), predicted_labels=tensor([0.9480, 0.0529, 0.9164,  ..., 0.1129, 0.0885, 0.0494]))\n",
      "GAN Test Values:  ComparisonValues(ACC=tensor(0.2473), BAC=tensor(0.5000), MCC=0.01, predicted_labels=tensor([0.5077, 0.5077, 0.5077,  ..., 0.5077, 0.5077, 0.5077]))\n"
     ]
    },
    {
     "name": "stderr",
     "output_type": "stream",
     "text": [
      "/Users/alexi/Library/CloudStorage/OneDrive-Nexus365/Rotation Projects/Rotation_1/Project/DomAdpQSAR/DomAdpQSAR/presentation.py:36: UserWarning: Dataset has 0 variance; skipping density estimate. Pass `warn_singular=False` to disable this warning.\n",
      "  axes = sns.kdeplot(unlabeled_predictions, ax=axes, color=sns.color_palette()[1], bw_method=bandwidth,\n",
      "/Users/alexi/Library/CloudStorage/OneDrive-Nexus365/Rotation Projects/Rotation_1/Project/DomAdpQSAR/DomAdpQSAR/presentation.py:38: UserWarning: Dataset has 0 variance; skipping density estimate. Pass `warn_singular=False` to disable this warning.\n",
      "  axes = sns.kdeplot(test_predictions, ax=axes, color=sns.color_palette()[2], bw_method=bandwidth,\n"
     ]
    },
    {
     "name": "stdout",
     "output_type": "stream",
     "text": [
      "Step 462, 0:00:03.565841...ize([1000, 2048])DNN Test Values:  ComparisonValues(ACC=tensor(0.8492), BAC=tensor(0.7471), MCC=tensor(0.5636), predicted_labels=tensor([0.0559, 0.0281, 0.9676,  ..., 0.9486, 0.0425, 0.9648]))\n",
      "GAN Test Values:  ComparisonValues(ACC=tensor(0.2473), BAC=tensor(0.5000), MCC=0.01, predicted_labels=tensor([0.5075, 0.5075, 0.5075,  ..., 0.5075, 0.5075, 0.5075]))\n"
     ]
    },
    {
     "name": "stderr",
     "output_type": "stream",
     "text": [
      "/Users/alexi/Library/CloudStorage/OneDrive-Nexus365/Rotation Projects/Rotation_1/Project/DomAdpQSAR/DomAdpQSAR/presentation.py:36: UserWarning: Dataset has 0 variance; skipping density estimate. Pass `warn_singular=False` to disable this warning.\n",
      "  axes = sns.kdeplot(unlabeled_predictions, ax=axes, color=sns.color_palette()[1], bw_method=bandwidth,\n",
      "/Users/alexi/Library/CloudStorage/OneDrive-Nexus365/Rotation Projects/Rotation_1/Project/DomAdpQSAR/DomAdpQSAR/presentation.py:38: UserWarning: Dataset has 0 variance; skipping density estimate. Pass `warn_singular=False` to disable this warning.\n",
      "  axes = sns.kdeplot(test_predictions, ax=axes, color=sns.color_palette()[2], bw_method=bandwidth,\n"
     ]
    },
    {
     "name": "stdout",
     "output_type": "stream",
     "text": [
      "Step 469, 0:00:03.430864...ize([1000, 2048])DNN Test Values:  ComparisonValues(ACC=tensor(0.8499), BAC=tensor(0.7464), MCC=tensor(0.5651), predicted_labels=tensor([0.0621, 0.1655, 0.1772,  ..., 0.9446, 0.8851, 0.0651]))\n",
      "GAN Test Values:  ComparisonValues(ACC=tensor(0.2473), BAC=tensor(0.5000), MCC=0.01, predicted_labels=tensor([0.5073, 0.5073, 0.5073,  ..., 0.5073, 0.5073, 0.5073]))\n"
     ]
    },
    {
     "name": "stderr",
     "output_type": "stream",
     "text": [
      "/Users/alexi/Library/CloudStorage/OneDrive-Nexus365/Rotation Projects/Rotation_1/Project/DomAdpQSAR/DomAdpQSAR/presentation.py:36: UserWarning: Dataset has 0 variance; skipping density estimate. Pass `warn_singular=False` to disable this warning.\n",
      "  axes = sns.kdeplot(unlabeled_predictions, ax=axes, color=sns.color_palette()[1], bw_method=bandwidth,\n",
      "/Users/alexi/Library/CloudStorage/OneDrive-Nexus365/Rotation Projects/Rotation_1/Project/DomAdpQSAR/DomAdpQSAR/presentation.py:38: UserWarning: Dataset has 0 variance; skipping density estimate. Pass `warn_singular=False` to disable this warning.\n",
      "  axes = sns.kdeplot(test_predictions, ax=axes, color=sns.color_palette()[2], bw_method=bandwidth,\n"
     ]
    },
    {
     "name": "stdout",
     "output_type": "stream",
     "text": [
      "Step 476, 0:00:03.577753...ize([1000, 2048])DNN Test Values:  ComparisonValues(ACC=tensor(0.8492), BAC=tensor(0.7456), MCC=tensor(0.5630), predicted_labels=tensor([0.4119, 0.0705, 0.0197,  ..., 0.0445, 0.0836, 0.0414]))\n",
      "GAN Test Values:  ComparisonValues(ACC=tensor(0.2473), BAC=tensor(0.5000), MCC=0.01, predicted_labels=tensor([0.5070, 0.5070, 0.5070,  ..., 0.5070, 0.5070, 0.5070]))\n"
     ]
    },
    {
     "name": "stderr",
     "output_type": "stream",
     "text": [
      "/Users/alexi/Library/CloudStorage/OneDrive-Nexus365/Rotation Projects/Rotation_1/Project/DomAdpQSAR/DomAdpQSAR/presentation.py:36: UserWarning: Dataset has 0 variance; skipping density estimate. Pass `warn_singular=False` to disable this warning.\n",
      "  axes = sns.kdeplot(unlabeled_predictions, ax=axes, color=sns.color_palette()[1], bw_method=bandwidth,\n",
      "/Users/alexi/Library/CloudStorage/OneDrive-Nexus365/Rotation Projects/Rotation_1/Project/DomAdpQSAR/DomAdpQSAR/presentation.py:38: UserWarning: Dataset has 0 variance; skipping density estimate. Pass `warn_singular=False` to disable this warning.\n",
      "  axes = sns.kdeplot(test_predictions, ax=axes, color=sns.color_palette()[2], bw_method=bandwidth,\n"
     ]
    },
    {
     "name": "stdout",
     "output_type": "stream",
     "text": [
      "Step 483, 0:00:03.606621...ize([1000, 2048])DNN Test Values:  ComparisonValues(ACC=tensor(0.8499), BAC=tensor(0.7541), MCC=tensor(0.5682), predicted_labels=tensor([0.0261, 0.4329, 0.0685,  ..., 0.0902, 0.0769, 0.0426]))\n",
      "GAN Test Values:  ComparisonValues(ACC=tensor(0.2473), BAC=tensor(0.5000), MCC=0.01, predicted_labels=tensor([0.5068, 0.5068, 0.5068,  ..., 0.5068, 0.5068, 0.5068]))\n"
     ]
    },
    {
     "name": "stderr",
     "output_type": "stream",
     "text": [
      "/Users/alexi/Library/CloudStorage/OneDrive-Nexus365/Rotation Projects/Rotation_1/Project/DomAdpQSAR/DomAdpQSAR/presentation.py:36: UserWarning: Dataset has 0 variance; skipping density estimate. Pass `warn_singular=False` to disable this warning.\n",
      "  axes = sns.kdeplot(unlabeled_predictions, ax=axes, color=sns.color_palette()[1], bw_method=bandwidth,\n",
      "/Users/alexi/Library/CloudStorage/OneDrive-Nexus365/Rotation Projects/Rotation_1/Project/DomAdpQSAR/DomAdpQSAR/presentation.py:38: UserWarning: Dataset has 0 variance; skipping density estimate. Pass `warn_singular=False` to disable this warning.\n",
      "  axes = sns.kdeplot(test_predictions, ax=axes, color=sns.color_palette()[2], bw_method=bandwidth,\n"
     ]
    },
    {
     "name": "stdout",
     "output_type": "stream",
     "text": [
      "Step 490, 0:00:03.361074...ize([1000, 2048])DNN Test Values:  ComparisonValues(ACC=tensor(0.8501), BAC=tensor(0.7521), MCC=tensor(0.5679), predicted_labels=tensor([0.0318, 0.0535, 0.4389,  ..., 0.1517, 0.0682, 0.0307]))\n",
      "GAN Test Values:  ComparisonValues(ACC=tensor(0.2473), BAC=tensor(0.5000), MCC=0.01, predicted_labels=tensor([0.5066, 0.5066, 0.5066,  ..., 0.5066, 0.5066, 0.5066]))\n"
     ]
    },
    {
     "name": "stderr",
     "output_type": "stream",
     "text": [
      "/Users/alexi/Library/CloudStorage/OneDrive-Nexus365/Rotation Projects/Rotation_1/Project/DomAdpQSAR/DomAdpQSAR/presentation.py:36: UserWarning: Dataset has 0 variance; skipping density estimate. Pass `warn_singular=False` to disable this warning.\n",
      "  axes = sns.kdeplot(unlabeled_predictions, ax=axes, color=sns.color_palette()[1], bw_method=bandwidth,\n",
      "/Users/alexi/Library/CloudStorage/OneDrive-Nexus365/Rotation Projects/Rotation_1/Project/DomAdpQSAR/DomAdpQSAR/presentation.py:38: UserWarning: Dataset has 0 variance; skipping density estimate. Pass `warn_singular=False` to disable this warning.\n",
      "  axes = sns.kdeplot(test_predictions, ax=axes, color=sns.color_palette()[2], bw_method=bandwidth,\n"
     ]
    },
    {
     "name": "stdout",
     "output_type": "stream",
     "text": [
      "Step 497, 0:00:03.317890...ize([1000, 2048])DNN Test Values:  ComparisonValues(ACC=tensor(0.8519), BAC=tensor(0.7552), MCC=tensor(0.5736), predicted_labels=tensor([0.0435, 0.0584, 0.0687,  ..., 0.0579, 0.2128, 0.2378]))\n",
      "GAN Test Values:  ComparisonValues(ACC=tensor(0.2473), BAC=tensor(0.5000), MCC=0.01, predicted_labels=tensor([0.5064, 0.5064, 0.5064,  ..., 0.5064, 0.5064, 0.5064]))\n"
     ]
    },
    {
     "name": "stderr",
     "output_type": "stream",
     "text": [
      "/Users/alexi/Library/CloudStorage/OneDrive-Nexus365/Rotation Projects/Rotation_1/Project/DomAdpQSAR/DomAdpQSAR/presentation.py:36: UserWarning: Dataset has 0 variance; skipping density estimate. Pass `warn_singular=False` to disable this warning.\n",
      "  axes = sns.kdeplot(unlabeled_predictions, ax=axes, color=sns.color_palette()[1], bw_method=bandwidth,\n",
      "/Users/alexi/Library/CloudStorage/OneDrive-Nexus365/Rotation Projects/Rotation_1/Project/DomAdpQSAR/DomAdpQSAR/presentation.py:38: UserWarning: Dataset has 0 variance; skipping density estimate. Pass `warn_singular=False` to disable this warning.\n",
      "  axes = sns.kdeplot(test_predictions, ax=axes, color=sns.color_palette()[2], bw_method=bandwidth,\n"
     ]
    },
    {
     "name": "stdout",
     "output_type": "stream",
     "text": [
      "Step 504, 0:00:03.331579...ize([1000, 2048])DNN Test Values:  ComparisonValues(ACC=tensor(0.8503), BAC=tensor(0.7501), MCC=tensor(0.5676), predicted_labels=tensor([0.9371, 0.0617, 0.0328,  ..., 0.0687, 0.0306, 0.7348]))\n",
      "GAN Test Values:  ComparisonValues(ACC=tensor(0.2473), BAC=tensor(0.5000), MCC=0.01, predicted_labels=tensor([0.5062, 0.5062, 0.5062,  ..., 0.5062, 0.5062, 0.5062]))\n"
     ]
    },
    {
     "name": "stderr",
     "output_type": "stream",
     "text": [
      "/Users/alexi/Library/CloudStorage/OneDrive-Nexus365/Rotation Projects/Rotation_1/Project/DomAdpQSAR/DomAdpQSAR/presentation.py:36: UserWarning: Dataset has 0 variance; skipping density estimate. Pass `warn_singular=False` to disable this warning.\n",
      "  axes = sns.kdeplot(unlabeled_predictions, ax=axes, color=sns.color_palette()[1], bw_method=bandwidth,\n",
      "/Users/alexi/Library/CloudStorage/OneDrive-Nexus365/Rotation Projects/Rotation_1/Project/DomAdpQSAR/DomAdpQSAR/presentation.py:38: UserWarning: Dataset has 0 variance; skipping density estimate. Pass `warn_singular=False` to disable this warning.\n",
      "  axes = sns.kdeplot(test_predictions, ax=axes, color=sns.color_palette()[2], bw_method=bandwidth,\n"
     ]
    },
    {
     "name": "stdout",
     "output_type": "stream",
     "text": [
      "Step 511, 0:00:03.376486...ize([1000, 2048])DNN Test Values:  ComparisonValues(ACC=tensor(0.8510), BAC=tensor(0.7508), MCC=tensor(0.5696), predicted_labels=tensor([0.0462, 0.0374, 0.1297,  ..., 0.0445, 0.0258, 0.0530]))\n",
      "GAN Test Values:  ComparisonValues(ACC=tensor(0.2473), BAC=tensor(0.5000), MCC=0.01, predicted_labels=tensor([0.5060, 0.5060, 0.5060,  ..., 0.5060, 0.5060, 0.5060]))\n"
     ]
    },
    {
     "name": "stderr",
     "output_type": "stream",
     "text": [
      "/Users/alexi/Library/CloudStorage/OneDrive-Nexus365/Rotation Projects/Rotation_1/Project/DomAdpQSAR/DomAdpQSAR/presentation.py:36: UserWarning: Dataset has 0 variance; skipping density estimate. Pass `warn_singular=False` to disable this warning.\n",
      "  axes = sns.kdeplot(unlabeled_predictions, ax=axes, color=sns.color_palette()[1], bw_method=bandwidth,\n",
      "/Users/alexi/Library/CloudStorage/OneDrive-Nexus365/Rotation Projects/Rotation_1/Project/DomAdpQSAR/DomAdpQSAR/presentation.py:38: UserWarning: Dataset has 0 variance; skipping density estimate. Pass `warn_singular=False` to disable this warning.\n",
      "  axes = sns.kdeplot(test_predictions, ax=axes, color=sns.color_palette()[2], bw_method=bandwidth,\n",
      "/Users/alexi/Library/CloudStorage/OneDrive-Nexus365/Rotation Projects/Rotation_1/Project/DomAdpQSAR/DomAdpQSAR/presentation.py:40: UserWarning: Dataset has 0 variance; skipping density estimate. Pass `warn_singular=False` to disable this warning.\n",
      "  axes = sns.kdeplot(train_predictions, ax=axes, color=sns.color_palette()[2], linewidth=0.5, bw_method=bandwidth,\n"
     ]
    },
    {
     "name": "stdout",
     "output_type": "stream",
     "text": [
      "Step 518, 0:00:03.962552...ize([1000, 2048])DNN Test Values:  ComparisonValues(ACC=tensor(0.8496), BAC=tensor(0.7499), MCC=tensor(0.5658), predicted_labels=tensor([0.0570, 0.0848, 0.8587,  ..., 0.0307, 0.2367, 0.0471]))\n",
      "GAN Test Values:  ComparisonValues(ACC=tensor(0.2473), BAC=tensor(0.5000), MCC=0.01, predicted_labels=tensor([0.5057, 0.5057, 0.5057,  ..., 0.5057, 0.5057, 0.5057]))\n"
     ]
    },
    {
     "name": "stderr",
     "output_type": "stream",
     "text": [
      "/Users/alexi/Library/CloudStorage/OneDrive-Nexus365/Rotation Projects/Rotation_1/Project/DomAdpQSAR/DomAdpQSAR/presentation.py:36: UserWarning: Dataset has 0 variance; skipping density estimate. Pass `warn_singular=False` to disable this warning.\n",
      "  axes = sns.kdeplot(unlabeled_predictions, ax=axes, color=sns.color_palette()[1], bw_method=bandwidth,\n",
      "/Users/alexi/Library/CloudStorage/OneDrive-Nexus365/Rotation Projects/Rotation_1/Project/DomAdpQSAR/DomAdpQSAR/presentation.py:38: UserWarning: Dataset has 0 variance; skipping density estimate. Pass `warn_singular=False` to disable this warning.\n",
      "  axes = sns.kdeplot(test_predictions, ax=axes, color=sns.color_palette()[2], bw_method=bandwidth,\n",
      "/Users/alexi/Library/CloudStorage/OneDrive-Nexus365/Rotation Projects/Rotation_1/Project/DomAdpQSAR/DomAdpQSAR/presentation.py:40: UserWarning: Dataset has 0 variance; skipping density estimate. Pass `warn_singular=False` to disable this warning.\n",
      "  axes = sns.kdeplot(train_predictions, ax=axes, color=sns.color_palette()[2], linewidth=0.5, bw_method=bandwidth,\n"
     ]
    },
    {
     "name": "stdout",
     "output_type": "stream",
     "text": [
      "Step 525, 0:00:03.459074...ize([1000, 2048])DNN Test Values:  ComparisonValues(ACC=tensor(0.8503), BAC=tensor(0.7504), MCC=tensor(0.5677), predicted_labels=tensor([0.0469, 0.0460, 0.0466,  ..., 0.1173, 0.0452, 0.0321]))\n",
      "GAN Test Values:  ComparisonValues(ACC=tensor(0.2473), BAC=tensor(0.5000), MCC=0.01, predicted_labels=tensor([0.5055, 0.5055, 0.5055,  ..., 0.5055, 0.5055, 0.5055]))\n"
     ]
    },
    {
     "name": "stderr",
     "output_type": "stream",
     "text": [
      "/Users/alexi/Library/CloudStorage/OneDrive-Nexus365/Rotation Projects/Rotation_1/Project/DomAdpQSAR/DomAdpQSAR/presentation.py:36: UserWarning: Dataset has 0 variance; skipping density estimate. Pass `warn_singular=False` to disable this warning.\n",
      "  axes = sns.kdeplot(unlabeled_predictions, ax=axes, color=sns.color_palette()[1], bw_method=bandwidth,\n",
      "/Users/alexi/Library/CloudStorage/OneDrive-Nexus365/Rotation Projects/Rotation_1/Project/DomAdpQSAR/DomAdpQSAR/presentation.py:38: UserWarning: Dataset has 0 variance; skipping density estimate. Pass `warn_singular=False` to disable this warning.\n",
      "  axes = sns.kdeplot(test_predictions, ax=axes, color=sns.color_palette()[2], bw_method=bandwidth,\n",
      "/Users/alexi/Library/CloudStorage/OneDrive-Nexus365/Rotation Projects/Rotation_1/Project/DomAdpQSAR/DomAdpQSAR/presentation.py:40: UserWarning: Dataset has 0 variance; skipping density estimate. Pass `warn_singular=False` to disable this warning.\n",
      "  axes = sns.kdeplot(train_predictions, ax=axes, color=sns.color_palette()[2], linewidth=0.5, bw_method=bandwidth,\n"
     ]
    },
    {
     "name": "stdout",
     "output_type": "stream",
     "text": [
      "Step 532, 0:00:03.330631...ize([1000, 2048])DNN Test Values:  ComparisonValues(ACC=tensor(0.8485), BAC=tensor(0.7458), MCC=tensor(0.5613), predicted_labels=tensor([0.2694, 0.3318, 0.9220,  ..., 0.0564, 0.0507, 0.0357]))\n",
      "GAN Test Values:  ComparisonValues(ACC=tensor(0.2473), BAC=tensor(0.5000), MCC=0.01, predicted_labels=tensor([0.5053, 0.5053, 0.5053,  ..., 0.5053, 0.5053, 0.5053]))\n"
     ]
    },
    {
     "name": "stderr",
     "output_type": "stream",
     "text": [
      "/Users/alexi/Library/CloudStorage/OneDrive-Nexus365/Rotation Projects/Rotation_1/Project/DomAdpQSAR/DomAdpQSAR/presentation.py:36: UserWarning: Dataset has 0 variance; skipping density estimate. Pass `warn_singular=False` to disable this warning.\n",
      "  axes = sns.kdeplot(unlabeled_predictions, ax=axes, color=sns.color_palette()[1], bw_method=bandwidth,\n",
      "/Users/alexi/Library/CloudStorage/OneDrive-Nexus365/Rotation Projects/Rotation_1/Project/DomAdpQSAR/DomAdpQSAR/presentation.py:38: UserWarning: Dataset has 0 variance; skipping density estimate. Pass `warn_singular=False` to disable this warning.\n",
      "  axes = sns.kdeplot(test_predictions, ax=axes, color=sns.color_palette()[2], bw_method=bandwidth,\n",
      "/Users/alexi/Library/CloudStorage/OneDrive-Nexus365/Rotation Projects/Rotation_1/Project/DomAdpQSAR/DomAdpQSAR/presentation.py:40: UserWarning: Dataset has 0 variance; skipping density estimate. Pass `warn_singular=False` to disable this warning.\n",
      "  axes = sns.kdeplot(train_predictions, ax=axes, color=sns.color_palette()[2], linewidth=0.5, bw_method=bandwidth,\n"
     ]
    },
    {
     "name": "stdout",
     "output_type": "stream",
     "text": [
      "Step 539, 0:00:03.402232...ize([1000, 2048])DNN Test Values:  ComparisonValues(ACC=tensor(0.8476), BAC=tensor(0.7455), MCC=tensor(0.5589), predicted_labels=tensor([0.0241, 0.0181, 0.3322,  ..., 0.1296, 0.0491, 0.0343]))\n",
      "GAN Test Values:  ComparisonValues(ACC=tensor(0.2473), BAC=tensor(0.5000), MCC=0.01, predicted_labels=tensor([0.5051, 0.5051, 0.5051,  ..., 0.5051, 0.5051, 0.5051]))\n"
     ]
    },
    {
     "name": "stderr",
     "output_type": "stream",
     "text": [
      "/Users/alexi/Library/CloudStorage/OneDrive-Nexus365/Rotation Projects/Rotation_1/Project/DomAdpQSAR/DomAdpQSAR/presentation.py:36: UserWarning: Dataset has 0 variance; skipping density estimate. Pass `warn_singular=False` to disable this warning.\n",
      "  axes = sns.kdeplot(unlabeled_predictions, ax=axes, color=sns.color_palette()[1], bw_method=bandwidth,\n",
      "/Users/alexi/Library/CloudStorage/OneDrive-Nexus365/Rotation Projects/Rotation_1/Project/DomAdpQSAR/DomAdpQSAR/presentation.py:38: UserWarning: Dataset has 0 variance; skipping density estimate. Pass `warn_singular=False` to disable this warning.\n",
      "  axes = sns.kdeplot(test_predictions, ax=axes, color=sns.color_palette()[2], bw_method=bandwidth,\n",
      "/Users/alexi/Library/CloudStorage/OneDrive-Nexus365/Rotation Projects/Rotation_1/Project/DomAdpQSAR/DomAdpQSAR/presentation.py:40: UserWarning: Dataset has 0 variance; skipping density estimate. Pass `warn_singular=False` to disable this warning.\n",
      "  axes = sns.kdeplot(train_predictions, ax=axes, color=sns.color_palette()[2], linewidth=0.5, bw_method=bandwidth,\n"
     ]
    },
    {
     "name": "stdout",
     "output_type": "stream",
     "text": [
      "Step 546, 0:00:03.321571...ize([1000, 2048])DNN Test Values:  ComparisonValues(ACC=tensor(0.8494), BAC=tensor(0.7507), MCC=tensor(0.5656), predicted_labels=tensor([0.0440, 0.0866, 0.0610,  ..., 0.0510, 0.0328, 0.6143]))\n",
      "GAN Test Values:  ComparisonValues(ACC=tensor(0.2473), BAC=tensor(0.5000), MCC=0.01, predicted_labels=tensor([0.5049, 0.5049, 0.5049,  ..., 0.5049, 0.5049, 0.5049]))\n"
     ]
    },
    {
     "name": "stderr",
     "output_type": "stream",
     "text": [
      "/Users/alexi/Library/CloudStorage/OneDrive-Nexus365/Rotation Projects/Rotation_1/Project/DomAdpQSAR/DomAdpQSAR/presentation.py:36: UserWarning: Dataset has 0 variance; skipping density estimate. Pass `warn_singular=False` to disable this warning.\n",
      "  axes = sns.kdeplot(unlabeled_predictions, ax=axes, color=sns.color_palette()[1], bw_method=bandwidth,\n",
      "/Users/alexi/Library/CloudStorage/OneDrive-Nexus365/Rotation Projects/Rotation_1/Project/DomAdpQSAR/DomAdpQSAR/presentation.py:38: UserWarning: Dataset has 0 variance; skipping density estimate. Pass `warn_singular=False` to disable this warning.\n",
      "  axes = sns.kdeplot(test_predictions, ax=axes, color=sns.color_palette()[2], bw_method=bandwidth,\n",
      "/Users/alexi/Library/CloudStorage/OneDrive-Nexus365/Rotation Projects/Rotation_1/Project/DomAdpQSAR/DomAdpQSAR/presentation.py:40: UserWarning: Dataset has 0 variance; skipping density estimate. Pass `warn_singular=False` to disable this warning.\n",
      "  axes = sns.kdeplot(train_predictions, ax=axes, color=sns.color_palette()[2], linewidth=0.5, bw_method=bandwidth,\n"
     ]
    },
    {
     "name": "stdout",
     "output_type": "stream",
     "text": [
      "Step 553, 0:00:03.230960...ize([1000, 2048])DNN Test Values:  ComparisonValues(ACC=tensor(0.8503), BAC=tensor(0.7535), MCC=tensor(0.5690), predicted_labels=tensor([0.0592, 0.9161, 0.8656,  ..., 0.9462, 0.9150, 0.0244]))\n",
      "GAN Test Values:  ComparisonValues(ACC=tensor(0.2473), BAC=tensor(0.5000), MCC=0.01, predicted_labels=tensor([0.5047, 0.5047, 0.5047,  ..., 0.5047, 0.5047, 0.5047]))\n"
     ]
    },
    {
     "name": "stderr",
     "output_type": "stream",
     "text": [
      "/Users/alexi/Library/CloudStorage/OneDrive-Nexus365/Rotation Projects/Rotation_1/Project/DomAdpQSAR/DomAdpQSAR/presentation.py:36: UserWarning: Dataset has 0 variance; skipping density estimate. Pass `warn_singular=False` to disable this warning.\n",
      "  axes = sns.kdeplot(unlabeled_predictions, ax=axes, color=sns.color_palette()[1], bw_method=bandwidth,\n",
      "/Users/alexi/Library/CloudStorage/OneDrive-Nexus365/Rotation Projects/Rotation_1/Project/DomAdpQSAR/DomAdpQSAR/presentation.py:38: UserWarning: Dataset has 0 variance; skipping density estimate. Pass `warn_singular=False` to disable this warning.\n",
      "  axes = sns.kdeplot(test_predictions, ax=axes, color=sns.color_palette()[2], bw_method=bandwidth,\n",
      "/Users/alexi/Library/CloudStorage/OneDrive-Nexus365/Rotation Projects/Rotation_1/Project/DomAdpQSAR/DomAdpQSAR/presentation.py:40: UserWarning: Dataset has 0 variance; skipping density estimate. Pass `warn_singular=False` to disable this warning.\n",
      "  axes = sns.kdeplot(train_predictions, ax=axes, color=sns.color_palette()[2], linewidth=0.5, bw_method=bandwidth,\n"
     ]
    },
    {
     "name": "stdout",
     "output_type": "stream",
     "text": [
      "Step 560, 0:00:03.451058...ize([1000, 2048])DNN Test Values:  ComparisonValues(ACC=tensor(0.8487), BAC=tensor(0.7499), MCC=tensor(0.5636), predicted_labels=tensor([0.9523, 0.9363, 0.1217,  ..., 0.0485, 0.0444, 0.1145]))\n",
      "GAN Test Values:  ComparisonValues(ACC=tensor(0.2473), BAC=tensor(0.5000), MCC=0.01, predicted_labels=tensor([0.5045, 0.5045, 0.5045,  ..., 0.5045, 0.5045, 0.5045]))\n"
     ]
    },
    {
     "name": "stderr",
     "output_type": "stream",
     "text": [
      "/Users/alexi/Library/CloudStorage/OneDrive-Nexus365/Rotation Projects/Rotation_1/Project/DomAdpQSAR/DomAdpQSAR/presentation.py:36: UserWarning: Dataset has 0 variance; skipping density estimate. Pass `warn_singular=False` to disable this warning.\n",
      "  axes = sns.kdeplot(unlabeled_predictions, ax=axes, color=sns.color_palette()[1], bw_method=bandwidth,\n",
      "/Users/alexi/Library/CloudStorage/OneDrive-Nexus365/Rotation Projects/Rotation_1/Project/DomAdpQSAR/DomAdpQSAR/presentation.py:38: UserWarning: Dataset has 0 variance; skipping density estimate. Pass `warn_singular=False` to disable this warning.\n",
      "  axes = sns.kdeplot(test_predictions, ax=axes, color=sns.color_palette()[2], bw_method=bandwidth,\n",
      "/Users/alexi/Library/CloudStorage/OneDrive-Nexus365/Rotation Projects/Rotation_1/Project/DomAdpQSAR/DomAdpQSAR/presentation.py:40: UserWarning: Dataset has 0 variance; skipping density estimate. Pass `warn_singular=False` to disable this warning.\n",
      "  axes = sns.kdeplot(train_predictions, ax=axes, color=sns.color_palette()[2], linewidth=0.5, bw_method=bandwidth,\n"
     ]
    },
    {
     "name": "stdout",
     "output_type": "stream",
     "text": [
      "Step 567, 0:00:03.281481...ize([1000, 2048])DNN Test Values:  ComparisonValues(ACC=tensor(0.8494), BAC=tensor(0.7538), MCC=tensor(0.5670), predicted_labels=tensor([0.0630, 0.0409, 0.2572,  ..., 0.9850, 0.1062, 0.0818]))\n",
      "GAN Test Values:  ComparisonValues(ACC=tensor(0.2473), BAC=tensor(0.5000), MCC=0.01, predicted_labels=tensor([0.5043, 0.5043, 0.5043,  ..., 0.5043, 0.5043, 0.5043]))\n"
     ]
    },
    {
     "name": "stderr",
     "output_type": "stream",
     "text": [
      "/Users/alexi/Library/CloudStorage/OneDrive-Nexus365/Rotation Projects/Rotation_1/Project/DomAdpQSAR/DomAdpQSAR/presentation.py:36: UserWarning: Dataset has 0 variance; skipping density estimate. Pass `warn_singular=False` to disable this warning.\n",
      "  axes = sns.kdeplot(unlabeled_predictions, ax=axes, color=sns.color_palette()[1], bw_method=bandwidth,\n",
      "/Users/alexi/Library/CloudStorage/OneDrive-Nexus365/Rotation Projects/Rotation_1/Project/DomAdpQSAR/DomAdpQSAR/presentation.py:38: UserWarning: Dataset has 0 variance; skipping density estimate. Pass `warn_singular=False` to disable this warning.\n",
      "  axes = sns.kdeplot(test_predictions, ax=axes, color=sns.color_palette()[2], bw_method=bandwidth,\n",
      "/Users/alexi/Library/CloudStorage/OneDrive-Nexus365/Rotation Projects/Rotation_1/Project/DomAdpQSAR/DomAdpQSAR/presentation.py:40: UserWarning: Dataset has 0 variance; skipping density estimate. Pass `warn_singular=False` to disable this warning.\n",
      "  axes = sns.kdeplot(train_predictions, ax=axes, color=sns.color_palette()[2], linewidth=0.5, bw_method=bandwidth,\n"
     ]
    },
    {
     "name": "stdout",
     "output_type": "stream",
     "text": [
      "Step 574, 0:00:03.470189...ize([1000, 2048])DNN Test Values:  ComparisonValues(ACC=tensor(0.8480), BAC=tensor(0.7510), MCC=tensor(0.5624), predicted_labels=tensor([0.0574, 0.0674, 0.0610,  ..., 0.0370, 0.9093, 0.7922]))\n",
      "GAN Test Values:  ComparisonValues(ACC=tensor(0.2473), BAC=tensor(0.5000), MCC=0.01, predicted_labels=tensor([0.5041, 0.5041, 0.5041,  ..., 0.5041, 0.5041, 0.5041]))\n"
     ]
    },
    {
     "name": "stderr",
     "output_type": "stream",
     "text": [
      "/Users/alexi/Library/CloudStorage/OneDrive-Nexus365/Rotation Projects/Rotation_1/Project/DomAdpQSAR/DomAdpQSAR/presentation.py:36: UserWarning: Dataset has 0 variance; skipping density estimate. Pass `warn_singular=False` to disable this warning.\n",
      "  axes = sns.kdeplot(unlabeled_predictions, ax=axes, color=sns.color_palette()[1], bw_method=bandwidth,\n",
      "/Users/alexi/Library/CloudStorage/OneDrive-Nexus365/Rotation Projects/Rotation_1/Project/DomAdpQSAR/DomAdpQSAR/presentation.py:38: UserWarning: Dataset has 0 variance; skipping density estimate. Pass `warn_singular=False` to disable this warning.\n",
      "  axes = sns.kdeplot(test_predictions, ax=axes, color=sns.color_palette()[2], bw_method=bandwidth,\n",
      "/Users/alexi/Library/CloudStorage/OneDrive-Nexus365/Rotation Projects/Rotation_1/Project/DomAdpQSAR/DomAdpQSAR/presentation.py:40: UserWarning: Dataset has 0 variance; skipping density estimate. Pass `warn_singular=False` to disable this warning.\n",
      "  axes = sns.kdeplot(train_predictions, ax=axes, color=sns.color_palette()[2], linewidth=0.5, bw_method=bandwidth,\n"
     ]
    },
    {
     "name": "stdout",
     "output_type": "stream",
     "text": [
      "Step 581, 0:00:03.348166...ize([1000, 2048])DNN Test Values:  ComparisonValues(ACC=tensor(0.8483), BAC=tensor(0.7515), MCC=tensor(0.5632), predicted_labels=tensor([0.3050, 0.0449, 0.0428,  ..., 0.1373, 0.0275, 0.0763]))\n",
      "GAN Test Values:  ComparisonValues(ACC=tensor(0.2473), BAC=tensor(0.5000), MCC=0.01, predicted_labels=tensor([0.5039, 0.5039, 0.5039,  ..., 0.5039, 0.5039, 0.5039]))\n"
     ]
    },
    {
     "name": "stderr",
     "output_type": "stream",
     "text": [
      "/Users/alexi/Library/CloudStorage/OneDrive-Nexus365/Rotation Projects/Rotation_1/Project/DomAdpQSAR/DomAdpQSAR/presentation.py:36: UserWarning: Dataset has 0 variance; skipping density estimate. Pass `warn_singular=False` to disable this warning.\n",
      "  axes = sns.kdeplot(unlabeled_predictions, ax=axes, color=sns.color_palette()[1], bw_method=bandwidth,\n",
      "/Users/alexi/Library/CloudStorage/OneDrive-Nexus365/Rotation Projects/Rotation_1/Project/DomAdpQSAR/DomAdpQSAR/presentation.py:38: UserWarning: Dataset has 0 variance; skipping density estimate. Pass `warn_singular=False` to disable this warning.\n",
      "  axes = sns.kdeplot(test_predictions, ax=axes, color=sns.color_palette()[2], bw_method=bandwidth,\n",
      "/Users/alexi/Library/CloudStorage/OneDrive-Nexus365/Rotation Projects/Rotation_1/Project/DomAdpQSAR/DomAdpQSAR/presentation.py:40: UserWarning: Dataset has 0 variance; skipping density estimate. Pass `warn_singular=False` to disable this warning.\n",
      "  axes = sns.kdeplot(train_predictions, ax=axes, color=sns.color_palette()[2], linewidth=0.5, bw_method=bandwidth,\n"
     ]
    },
    {
     "name": "stdout",
     "output_type": "stream",
     "text": [
      "Step 588, 0:00:03.364006...ize([1000, 2048])DNN Test Values:  ComparisonValues(ACC=tensor(0.8503), BAC=tensor(0.7559), MCC=tensor(0.5701), predicted_labels=tensor([0.0210, 0.2717, 0.1027,  ..., 0.0521, 0.0498, 0.1206]))\n",
      "GAN Test Values:  ComparisonValues(ACC=tensor(0.2473), BAC=tensor(0.5000), MCC=0.01, predicted_labels=tensor([0.5037, 0.5037, 0.5037,  ..., 0.5037, 0.5037, 0.5037]))\n"
     ]
    },
    {
     "name": "stderr",
     "output_type": "stream",
     "text": [
      "/Users/alexi/Library/CloudStorage/OneDrive-Nexus365/Rotation Projects/Rotation_1/Project/DomAdpQSAR/DomAdpQSAR/presentation.py:36: UserWarning: Dataset has 0 variance; skipping density estimate. Pass `warn_singular=False` to disable this warning.\n",
      "  axes = sns.kdeplot(unlabeled_predictions, ax=axes, color=sns.color_palette()[1], bw_method=bandwidth,\n",
      "/Users/alexi/Library/CloudStorage/OneDrive-Nexus365/Rotation Projects/Rotation_1/Project/DomAdpQSAR/DomAdpQSAR/presentation.py:38: UserWarning: Dataset has 0 variance; skipping density estimate. Pass `warn_singular=False` to disable this warning.\n",
      "  axes = sns.kdeplot(test_predictions, ax=axes, color=sns.color_palette()[2], bw_method=bandwidth,\n",
      "/Users/alexi/Library/CloudStorage/OneDrive-Nexus365/Rotation Projects/Rotation_1/Project/DomAdpQSAR/DomAdpQSAR/presentation.py:40: UserWarning: Dataset has 0 variance; skipping density estimate. Pass `warn_singular=False` to disable this warning.\n",
      "  axes = sns.kdeplot(train_predictions, ax=axes, color=sns.color_palette()[2], linewidth=0.5, bw_method=bandwidth,\n"
     ]
    },
    {
     "name": "stdout",
     "output_type": "stream",
     "text": [
      "Step 595, 0:00:03.334846...ize([1000, 2048])DNN Test Values:  ComparisonValues(ACC=tensor(0.8499), BAC=tensor(0.7556), MCC=tensor(0.5689), predicted_labels=tensor([0.2486, 0.5086, 0.0566,  ..., 0.0311, 0.1690, 0.0239]))\n",
      "GAN Test Values:  ComparisonValues(ACC=tensor(0.2473), BAC=tensor(0.5000), MCC=0.01, predicted_labels=tensor([0.5035, 0.5035, 0.5035,  ..., 0.5035, 0.5035, 0.5035]))\n"
     ]
    },
    {
     "name": "stderr",
     "output_type": "stream",
     "text": [
      "/Users/alexi/Library/CloudStorage/OneDrive-Nexus365/Rotation Projects/Rotation_1/Project/DomAdpQSAR/DomAdpQSAR/presentation.py:36: UserWarning: Dataset has 0 variance; skipping density estimate. Pass `warn_singular=False` to disable this warning.\n",
      "  axes = sns.kdeplot(unlabeled_predictions, ax=axes, color=sns.color_palette()[1], bw_method=bandwidth,\n",
      "/Users/alexi/Library/CloudStorage/OneDrive-Nexus365/Rotation Projects/Rotation_1/Project/DomAdpQSAR/DomAdpQSAR/presentation.py:38: UserWarning: Dataset has 0 variance; skipping density estimate. Pass `warn_singular=False` to disable this warning.\n",
      "  axes = sns.kdeplot(test_predictions, ax=axes, color=sns.color_palette()[2], bw_method=bandwidth,\n",
      "/Users/alexi/Library/CloudStorage/OneDrive-Nexus365/Rotation Projects/Rotation_1/Project/DomAdpQSAR/DomAdpQSAR/presentation.py:40: UserWarning: Dataset has 0 variance; skipping density estimate. Pass `warn_singular=False` to disable this warning.\n",
      "  axes = sns.kdeplot(train_predictions, ax=axes, color=sns.color_palette()[2], linewidth=0.5, bw_method=bandwidth,\n"
     ]
    },
    {
     "name": "stdout",
     "output_type": "stream",
     "text": [
      "Step 602, 0:00:03.294201...ize([1000, 2048])DNN Test Values:  ComparisonValues(ACC=tensor(0.8487), BAC=tensor(0.7533), MCC=tensor(0.5651), predicted_labels=tensor([0.5284, 0.0453, 0.0292,  ..., 0.6502, 0.0915, 0.0816]))\n",
      "GAN Test Values:  ComparisonValues(ACC=tensor(0.2473), BAC=tensor(0.5000), MCC=0.01, predicted_labels=tensor([0.5033, 0.5033, 0.5033,  ..., 0.5033, 0.5033, 0.5033]))\n"
     ]
    },
    {
     "name": "stderr",
     "output_type": "stream",
     "text": [
      "/Users/alexi/Library/CloudStorage/OneDrive-Nexus365/Rotation Projects/Rotation_1/Project/DomAdpQSAR/DomAdpQSAR/presentation.py:36: UserWarning: Dataset has 0 variance; skipping density estimate. Pass `warn_singular=False` to disable this warning.\n",
      "  axes = sns.kdeplot(unlabeled_predictions, ax=axes, color=sns.color_palette()[1], bw_method=bandwidth,\n",
      "/Users/alexi/Library/CloudStorage/OneDrive-Nexus365/Rotation Projects/Rotation_1/Project/DomAdpQSAR/DomAdpQSAR/presentation.py:38: UserWarning: Dataset has 0 variance; skipping density estimate. Pass `warn_singular=False` to disable this warning.\n",
      "  axes = sns.kdeplot(test_predictions, ax=axes, color=sns.color_palette()[2], bw_method=bandwidth,\n",
      "/Users/alexi/Library/CloudStorage/OneDrive-Nexus365/Rotation Projects/Rotation_1/Project/DomAdpQSAR/DomAdpQSAR/presentation.py:40: UserWarning: Dataset has 0 variance; skipping density estimate. Pass `warn_singular=False` to disable this warning.\n",
      "  axes = sns.kdeplot(train_predictions, ax=axes, color=sns.color_palette()[2], linewidth=0.5, bw_method=bandwidth,\n"
     ]
    },
    {
     "name": "stdout",
     "output_type": "stream",
     "text": [
      "Step 609, 0:00:03.349785...ize([1000, 2048])DNN Test Values:  ComparisonValues(ACC=tensor(0.8496), BAC=tensor(0.7552), MCC=tensor(0.5681), predicted_labels=tensor([0.0263, 0.0658, 0.0224,  ..., 0.0266, 0.2123, 0.5476]))\n",
      "GAN Test Values:  ComparisonValues(ACC=tensor(0.2473), BAC=tensor(0.5000), MCC=0.01, predicted_labels=tensor([0.5031, 0.5031, 0.5031,  ..., 0.5031, 0.5031, 0.5031]))\n"
     ]
    },
    {
     "name": "stderr",
     "output_type": "stream",
     "text": [
      "/Users/alexi/Library/CloudStorage/OneDrive-Nexus365/Rotation Projects/Rotation_1/Project/DomAdpQSAR/DomAdpQSAR/presentation.py:36: UserWarning: Dataset has 0 variance; skipping density estimate. Pass `warn_singular=False` to disable this warning.\n",
      "  axes = sns.kdeplot(unlabeled_predictions, ax=axes, color=sns.color_palette()[1], bw_method=bandwidth,\n",
      "/Users/alexi/Library/CloudStorage/OneDrive-Nexus365/Rotation Projects/Rotation_1/Project/DomAdpQSAR/DomAdpQSAR/presentation.py:38: UserWarning: Dataset has 0 variance; skipping density estimate. Pass `warn_singular=False` to disable this warning.\n",
      "  axes = sns.kdeplot(test_predictions, ax=axes, color=sns.color_palette()[2], bw_method=bandwidth,\n",
      "/Users/alexi/Library/CloudStorage/OneDrive-Nexus365/Rotation Projects/Rotation_1/Project/DomAdpQSAR/DomAdpQSAR/presentation.py:40: UserWarning: Dataset has 0 variance; skipping density estimate. Pass `warn_singular=False` to disable this warning.\n",
      "  axes = sns.kdeplot(train_predictions, ax=axes, color=sns.color_palette()[2], linewidth=0.5, bw_method=bandwidth,\n"
     ]
    },
    {
     "name": "stdout",
     "output_type": "stream",
     "text": [
      "Step 616, 0:00:03.287498...ize([1000, 2048])DNN Test Values:  ComparisonValues(ACC=tensor(0.8492), BAC=tensor(0.7552), MCC=tensor(0.5671), predicted_labels=tensor([0.0280, 0.1547, 0.0565,  ..., 0.1094, 0.0570, 0.0381]))\n",
      "GAN Test Values:  ComparisonValues(ACC=tensor(0.2473), BAC=tensor(0.5000), MCC=0.01, predicted_labels=tensor([0.5029, 0.5029, 0.5029,  ..., 0.5029, 0.5029, 0.5029]))\n"
     ]
    },
    {
     "name": "stderr",
     "output_type": "stream",
     "text": [
      "/Users/alexi/Library/CloudStorage/OneDrive-Nexus365/Rotation Projects/Rotation_1/Project/DomAdpQSAR/DomAdpQSAR/presentation.py:36: UserWarning: Dataset has 0 variance; skipping density estimate. Pass `warn_singular=False` to disable this warning.\n",
      "  axes = sns.kdeplot(unlabeled_predictions, ax=axes, color=sns.color_palette()[1], bw_method=bandwidth,\n",
      "/Users/alexi/Library/CloudStorage/OneDrive-Nexus365/Rotation Projects/Rotation_1/Project/DomAdpQSAR/DomAdpQSAR/presentation.py:38: UserWarning: Dataset has 0 variance; skipping density estimate. Pass `warn_singular=False` to disable this warning.\n",
      "  axes = sns.kdeplot(test_predictions, ax=axes, color=sns.color_palette()[2], bw_method=bandwidth,\n",
      "/Users/alexi/Library/CloudStorage/OneDrive-Nexus365/Rotation Projects/Rotation_1/Project/DomAdpQSAR/DomAdpQSAR/presentation.py:40: UserWarning: Dataset has 0 variance; skipping density estimate. Pass `warn_singular=False` to disable this warning.\n",
      "  axes = sns.kdeplot(train_predictions, ax=axes, color=sns.color_palette()[2], linewidth=0.5, bw_method=bandwidth,\n"
     ]
    },
    {
     "name": "stdout",
     "output_type": "stream",
     "text": [
      "Step 623, 0:00:03.241907...ize([1000, 2048])DNN Test Values:  ComparisonValues(ACC=tensor(0.8501), BAC=tensor(0.7549), MCC=tensor(0.5691), predicted_labels=tensor([0.1234, 0.9420, 0.9723,  ..., 0.5061, 0.0216, 0.0627]))\n",
      "GAN Test Values:  ComparisonValues(ACC=tensor(0.2473), BAC=tensor(0.5000), MCC=0.01, predicted_labels=tensor([0.5027, 0.5027, 0.5027,  ..., 0.5027, 0.5027, 0.5027]))\n"
     ]
    },
    {
     "name": "stderr",
     "output_type": "stream",
     "text": [
      "/Users/alexi/Library/CloudStorage/OneDrive-Nexus365/Rotation Projects/Rotation_1/Project/DomAdpQSAR/DomAdpQSAR/presentation.py:36: UserWarning: Dataset has 0 variance; skipping density estimate. Pass `warn_singular=False` to disable this warning.\n",
      "  axes = sns.kdeplot(unlabeled_predictions, ax=axes, color=sns.color_palette()[1], bw_method=bandwidth,\n",
      "/Users/alexi/Library/CloudStorage/OneDrive-Nexus365/Rotation Projects/Rotation_1/Project/DomAdpQSAR/DomAdpQSAR/presentation.py:38: UserWarning: Dataset has 0 variance; skipping density estimate. Pass `warn_singular=False` to disable this warning.\n",
      "  axes = sns.kdeplot(test_predictions, ax=axes, color=sns.color_palette()[2], bw_method=bandwidth,\n",
      "/Users/alexi/Library/CloudStorage/OneDrive-Nexus365/Rotation Projects/Rotation_1/Project/DomAdpQSAR/DomAdpQSAR/presentation.py:40: UserWarning: Dataset has 0 variance; skipping density estimate. Pass `warn_singular=False` to disable this warning.\n",
      "  axes = sns.kdeplot(train_predictions, ax=axes, color=sns.color_palette()[2], linewidth=0.5, bw_method=bandwidth,\n"
     ]
    },
    {
     "name": "stdout",
     "output_type": "stream",
     "text": [
      "Step 630, 0:00:03.200557...ize([1000, 2048])DNN Test Values:  ComparisonValues(ACC=tensor(0.8483), BAC=tensor(0.7524), MCC=tensor(0.5636), predicted_labels=tensor([0.0249, 0.5241, 0.9281,  ..., 0.8850, 0.0302, 0.2649]))\n",
      "GAN Test Values:  ComparisonValues(ACC=tensor(0.2473), BAC=tensor(0.5000), MCC=0.01, predicted_labels=tensor([0.5025, 0.5025, 0.5025,  ..., 0.5025, 0.5025, 0.5025]))\n"
     ]
    },
    {
     "name": "stderr",
     "output_type": "stream",
     "text": [
      "/Users/alexi/Library/CloudStorage/OneDrive-Nexus365/Rotation Projects/Rotation_1/Project/DomAdpQSAR/DomAdpQSAR/presentation.py:36: UserWarning: Dataset has 0 variance; skipping density estimate. Pass `warn_singular=False` to disable this warning.\n",
      "  axes = sns.kdeplot(unlabeled_predictions, ax=axes, color=sns.color_palette()[1], bw_method=bandwidth,\n",
      "/Users/alexi/Library/CloudStorage/OneDrive-Nexus365/Rotation Projects/Rotation_1/Project/DomAdpQSAR/DomAdpQSAR/presentation.py:38: UserWarning: Dataset has 0 variance; skipping density estimate. Pass `warn_singular=False` to disable this warning.\n",
      "  axes = sns.kdeplot(test_predictions, ax=axes, color=sns.color_palette()[2], bw_method=bandwidth,\n",
      "/Users/alexi/Library/CloudStorage/OneDrive-Nexus365/Rotation Projects/Rotation_1/Project/DomAdpQSAR/DomAdpQSAR/presentation.py:40: UserWarning: Dataset has 0 variance; skipping density estimate. Pass `warn_singular=False` to disable this warning.\n",
      "  axes = sns.kdeplot(train_predictions, ax=axes, color=sns.color_palette()[2], linewidth=0.5, bw_method=bandwidth,\n"
     ]
    },
    {
     "name": "stdout",
     "output_type": "stream",
     "text": [
      "Step 637, 0:00:03.978951...ize([1000, 2048])DNN Test Values:  ComparisonValues(ACC=tensor(0.8476), BAC=tensor(0.7517), MCC=tensor(0.5616), predicted_labels=tensor([0.6787, 0.1061, 0.0441,  ..., 0.0488, 0.0651, 0.0174]))\n",
      "GAN Test Values:  ComparisonValues(ACC=tensor(0.2473), BAC=tensor(0.5000), MCC=0.01, predicted_labels=tensor([0.5023, 0.5023, 0.5023,  ..., 0.5023, 0.5023, 0.5023]))\n"
     ]
    },
    {
     "name": "stderr",
     "output_type": "stream",
     "text": [
      "/Users/alexi/Library/CloudStorage/OneDrive-Nexus365/Rotation Projects/Rotation_1/Project/DomAdpQSAR/DomAdpQSAR/presentation.py:36: UserWarning: Dataset has 0 variance; skipping density estimate. Pass `warn_singular=False` to disable this warning.\n",
      "  axes = sns.kdeplot(unlabeled_predictions, ax=axes, color=sns.color_palette()[1], bw_method=bandwidth,\n",
      "/Users/alexi/Library/CloudStorage/OneDrive-Nexus365/Rotation Projects/Rotation_1/Project/DomAdpQSAR/DomAdpQSAR/presentation.py:38: UserWarning: Dataset has 0 variance; skipping density estimate. Pass `warn_singular=False` to disable this warning.\n",
      "  axes = sns.kdeplot(test_predictions, ax=axes, color=sns.color_palette()[2], bw_method=bandwidth,\n",
      "/Users/alexi/Library/CloudStorage/OneDrive-Nexus365/Rotation Projects/Rotation_1/Project/DomAdpQSAR/DomAdpQSAR/presentation.py:40: UserWarning: Dataset has 0 variance; skipping density estimate. Pass `warn_singular=False` to disable this warning.\n",
      "  axes = sns.kdeplot(train_predictions, ax=axes, color=sns.color_palette()[2], linewidth=0.5, bw_method=bandwidth,\n"
     ]
    },
    {
     "name": "stdout",
     "output_type": "stream",
     "text": [
      "Step 644, 0:00:05.089373...ize([1000, 2048])DNN Test Values:  ComparisonValues(ACC=tensor(0.8465), BAC=tensor(0.7534), MCC=tensor(0.5598), predicted_labels=tensor([0.0280, 0.0359, 0.1776,  ..., 0.0351, 0.8482, 0.0367]))\n",
      "GAN Test Values:  ComparisonValues(ACC=tensor(0.2473), BAC=tensor(0.5000), MCC=0.01, predicted_labels=tensor([0.5021, 0.5021, 0.5021,  ..., 0.5021, 0.5021, 0.5021]))\n"
     ]
    },
    {
     "name": "stderr",
     "output_type": "stream",
     "text": [
      "/Users/alexi/Library/CloudStorage/OneDrive-Nexus365/Rotation Projects/Rotation_1/Project/DomAdpQSAR/DomAdpQSAR/presentation.py:36: UserWarning: Dataset has 0 variance; skipping density estimate. Pass `warn_singular=False` to disable this warning.\n",
      "  axes = sns.kdeplot(unlabeled_predictions, ax=axes, color=sns.color_palette()[1], bw_method=bandwidth,\n",
      "/Users/alexi/Library/CloudStorage/OneDrive-Nexus365/Rotation Projects/Rotation_1/Project/DomAdpQSAR/DomAdpQSAR/presentation.py:38: UserWarning: Dataset has 0 variance; skipping density estimate. Pass `warn_singular=False` to disable this warning.\n",
      "  axes = sns.kdeplot(test_predictions, ax=axes, color=sns.color_palette()[2], bw_method=bandwidth,\n",
      "/Users/alexi/Library/CloudStorage/OneDrive-Nexus365/Rotation Projects/Rotation_1/Project/DomAdpQSAR/DomAdpQSAR/presentation.py:40: UserWarning: Dataset has 0 variance; skipping density estimate. Pass `warn_singular=False` to disable this warning.\n",
      "  axes = sns.kdeplot(train_predictions, ax=axes, color=sns.color_palette()[2], linewidth=0.5, bw_method=bandwidth,\n"
     ]
    },
    {
     "name": "stdout",
     "output_type": "stream",
     "text": [
      "Step 651, 0:00:03.743117...ize([1000, 2048])DNN Test Values:  ComparisonValues(ACC=tensor(0.8478), BAC=tensor(0.7527), MCC=tensor(0.5627), predicted_labels=tensor([0.0275, 0.8638, 0.0330,  ..., 0.4448, 0.0406, 0.0523]))\n",
      "GAN Test Values:  ComparisonValues(ACC=tensor(0.2473), BAC=tensor(0.5000), MCC=0.01, predicted_labels=tensor([0.5019, 0.5019, 0.5019,  ..., 0.5019, 0.5019, 0.5019]))\n"
     ]
    },
    {
     "name": "stderr",
     "output_type": "stream",
     "text": [
      "/Users/alexi/Library/CloudStorage/OneDrive-Nexus365/Rotation Projects/Rotation_1/Project/DomAdpQSAR/DomAdpQSAR/presentation.py:36: UserWarning: Dataset has 0 variance; skipping density estimate. Pass `warn_singular=False` to disable this warning.\n",
      "  axes = sns.kdeplot(unlabeled_predictions, ax=axes, color=sns.color_palette()[1], bw_method=bandwidth,\n",
      "/Users/alexi/Library/CloudStorage/OneDrive-Nexus365/Rotation Projects/Rotation_1/Project/DomAdpQSAR/DomAdpQSAR/presentation.py:38: UserWarning: Dataset has 0 variance; skipping density estimate. Pass `warn_singular=False` to disable this warning.\n",
      "  axes = sns.kdeplot(test_predictions, ax=axes, color=sns.color_palette()[2], bw_method=bandwidth,\n",
      "/Users/alexi/Library/CloudStorage/OneDrive-Nexus365/Rotation Projects/Rotation_1/Project/DomAdpQSAR/DomAdpQSAR/presentation.py:40: UserWarning: Dataset has 0 variance; skipping density estimate. Pass `warn_singular=False` to disable this warning.\n",
      "  axes = sns.kdeplot(train_predictions, ax=axes, color=sns.color_palette()[2], linewidth=0.5, bw_method=bandwidth,\n"
     ]
    },
    {
     "name": "stdout",
     "output_type": "stream",
     "text": [
      "Step 658, 0:00:03.866072...ize([1000, 2048])DNN Test Values:  ComparisonValues(ACC=tensor(0.8492), BAC=tensor(0.7521), MCC=tensor(0.5656), predicted_labels=tensor([0.8137, 0.0587, 0.0352,  ..., 0.0741, 0.0445, 0.0444]))\n",
      "GAN Test Values:  ComparisonValues(ACC=tensor(0.2473), BAC=tensor(0.5000), MCC=0.01, predicted_labels=tensor([0.5017, 0.5017, 0.5017,  ..., 0.5017, 0.5017, 0.5017]))\n"
     ]
    },
    {
     "name": "stderr",
     "output_type": "stream",
     "text": [
      "/Users/alexi/Library/CloudStorage/OneDrive-Nexus365/Rotation Projects/Rotation_1/Project/DomAdpQSAR/DomAdpQSAR/presentation.py:36: UserWarning: Dataset has 0 variance; skipping density estimate. Pass `warn_singular=False` to disable this warning.\n",
      "  axes = sns.kdeplot(unlabeled_predictions, ax=axes, color=sns.color_palette()[1], bw_method=bandwidth,\n",
      "/Users/alexi/Library/CloudStorage/OneDrive-Nexus365/Rotation Projects/Rotation_1/Project/DomAdpQSAR/DomAdpQSAR/presentation.py:38: UserWarning: Dataset has 0 variance; skipping density estimate. Pass `warn_singular=False` to disable this warning.\n",
      "  axes = sns.kdeplot(test_predictions, ax=axes, color=sns.color_palette()[2], bw_method=bandwidth,\n",
      "/Users/alexi/Library/CloudStorage/OneDrive-Nexus365/Rotation Projects/Rotation_1/Project/DomAdpQSAR/DomAdpQSAR/presentation.py:40: UserWarning: Dataset has 0 variance; skipping density estimate. Pass `warn_singular=False` to disable this warning.\n",
      "  axes = sns.kdeplot(train_predictions, ax=axes, color=sns.color_palette()[2], linewidth=0.5, bw_method=bandwidth,\n"
     ]
    },
    {
     "name": "stdout",
     "output_type": "stream",
     "text": [
      "Step 665, 0:00:03.190969...ize([1000, 2048])DNN Test Values:  ComparisonValues(ACC=tensor(0.8508), BAC=tensor(0.7569), MCC=tensor(0.5716), predicted_labels=tensor([0.0162, 0.0299, 0.0557,  ..., 0.9712, 0.5659, 0.0447]))\n",
      "GAN Test Values:  ComparisonValues(ACC=tensor(0.2473), BAC=tensor(0.5000), MCC=0.01, predicted_labels=tensor([0.5015, 0.5015, 0.5015,  ..., 0.5015, 0.5015, 0.5015]))\n"
     ]
    },
    {
     "name": "stderr",
     "output_type": "stream",
     "text": [
      "/Users/alexi/Library/CloudStorage/OneDrive-Nexus365/Rotation Projects/Rotation_1/Project/DomAdpQSAR/DomAdpQSAR/presentation.py:36: UserWarning: Dataset has 0 variance; skipping density estimate. Pass `warn_singular=False` to disable this warning.\n",
      "  axes = sns.kdeplot(unlabeled_predictions, ax=axes, color=sns.color_palette()[1], bw_method=bandwidth,\n",
      "/Users/alexi/Library/CloudStorage/OneDrive-Nexus365/Rotation Projects/Rotation_1/Project/DomAdpQSAR/DomAdpQSAR/presentation.py:38: UserWarning: Dataset has 0 variance; skipping density estimate. Pass `warn_singular=False` to disable this warning.\n",
      "  axes = sns.kdeplot(test_predictions, ax=axes, color=sns.color_palette()[2], bw_method=bandwidth,\n",
      "/Users/alexi/Library/CloudStorage/OneDrive-Nexus365/Rotation Projects/Rotation_1/Project/DomAdpQSAR/DomAdpQSAR/presentation.py:40: UserWarning: Dataset has 0 variance; skipping density estimate. Pass `warn_singular=False` to disable this warning.\n",
      "  axes = sns.kdeplot(train_predictions, ax=axes, color=sns.color_palette()[2], linewidth=0.5, bw_method=bandwidth,\n"
     ]
    },
    {
     "name": "stdout",
     "output_type": "stream",
     "text": [
      "Step 672, 0:00:03.864853...ize([1000, 2048])DNN Test Values:  ComparisonValues(ACC=tensor(0.8492), BAC=tensor(0.7574), MCC=tensor(0.5681), predicted_labels=tensor([0.9848, 0.0258, 0.0759,  ..., 0.0541, 0.0242, 0.9363]))\n",
      "GAN Test Values:  ComparisonValues(ACC=tensor(0.2473), BAC=tensor(0.5000), MCC=0.01, predicted_labels=tensor([0.5013, 0.5013, 0.5013,  ..., 0.5013, 0.5013, 0.5013]))\n"
     ]
    },
    {
     "name": "stderr",
     "output_type": "stream",
     "text": [
      "/Users/alexi/Library/CloudStorage/OneDrive-Nexus365/Rotation Projects/Rotation_1/Project/DomAdpQSAR/DomAdpQSAR/presentation.py:36: UserWarning: Dataset has 0 variance; skipping density estimate. Pass `warn_singular=False` to disable this warning.\n",
      "  axes = sns.kdeplot(unlabeled_predictions, ax=axes, color=sns.color_palette()[1], bw_method=bandwidth,\n",
      "/Users/alexi/Library/CloudStorage/OneDrive-Nexus365/Rotation Projects/Rotation_1/Project/DomAdpQSAR/DomAdpQSAR/presentation.py:38: UserWarning: Dataset has 0 variance; skipping density estimate. Pass `warn_singular=False` to disable this warning.\n",
      "  axes = sns.kdeplot(test_predictions, ax=axes, color=sns.color_palette()[2], bw_method=bandwidth,\n",
      "/Users/alexi/Library/CloudStorage/OneDrive-Nexus365/Rotation Projects/Rotation_1/Project/DomAdpQSAR/DomAdpQSAR/presentation.py:40: UserWarning: Dataset has 0 variance; skipping density estimate. Pass `warn_singular=False` to disable this warning.\n",
      "  axes = sns.kdeplot(train_predictions, ax=axes, color=sns.color_palette()[2], linewidth=0.5, bw_method=bandwidth,\n"
     ]
    },
    {
     "name": "stdout",
     "output_type": "stream",
     "text": [
      "Step 679, 0:00:04.058034...ize([1000, 2048])DNN Test Values:  ComparisonValues(ACC=tensor(0.8487), BAC=tensor(0.7564), MCC=tensor(0.5666), predicted_labels=tensor([0.0303, 0.0583, 0.1236,  ..., 0.7957, 0.0581, 0.9804]))\n",
      "GAN Test Values:  ComparisonValues(ACC=tensor(0.2473), BAC=tensor(0.5000), MCC=0.01, predicted_labels=tensor([0.5011, 0.5011, 0.5011,  ..., 0.5011, 0.5011, 0.5011]))\n"
     ]
    },
    {
     "name": "stderr",
     "output_type": "stream",
     "text": [
      "/Users/alexi/Library/CloudStorage/OneDrive-Nexus365/Rotation Projects/Rotation_1/Project/DomAdpQSAR/DomAdpQSAR/presentation.py:36: UserWarning: Dataset has 0 variance; skipping density estimate. Pass `warn_singular=False` to disable this warning.\n",
      "  axes = sns.kdeplot(unlabeled_predictions, ax=axes, color=sns.color_palette()[1], bw_method=bandwidth,\n",
      "/Users/alexi/Library/CloudStorage/OneDrive-Nexus365/Rotation Projects/Rotation_1/Project/DomAdpQSAR/DomAdpQSAR/presentation.py:38: UserWarning: Dataset has 0 variance; skipping density estimate. Pass `warn_singular=False` to disable this warning.\n",
      "  axes = sns.kdeplot(test_predictions, ax=axes, color=sns.color_palette()[2], bw_method=bandwidth,\n",
      "/Users/alexi/Library/CloudStorage/OneDrive-Nexus365/Rotation Projects/Rotation_1/Project/DomAdpQSAR/DomAdpQSAR/presentation.py:40: UserWarning: Dataset has 0 variance; skipping density estimate. Pass `warn_singular=False` to disable this warning.\n",
      "  axes = sns.kdeplot(train_predictions, ax=axes, color=sns.color_palette()[2], linewidth=0.5, bw_method=bandwidth,\n"
     ]
    },
    {
     "name": "stdout",
     "output_type": "stream",
     "text": [
      "Step 686, 0:00:03.926671...ize([1000, 2048])DNN Test Values:  ComparisonValues(ACC=tensor(0.8474), BAC=tensor(0.7518), MCC=tensor(0.5612), predicted_labels=tensor([0.0181, 0.1472, 0.8118,  ..., 0.8627, 0.7797, 0.0612]))\n",
      "GAN Test Values:  ComparisonValues(ACC=tensor(0.2473), BAC=tensor(0.5000), MCC=0.01, predicted_labels=tensor([0.5009, 0.5009, 0.5009,  ..., 0.5009, 0.5009, 0.5009]))\n"
     ]
    },
    {
     "name": "stderr",
     "output_type": "stream",
     "text": [
      "/Users/alexi/Library/CloudStorage/OneDrive-Nexus365/Rotation Projects/Rotation_1/Project/DomAdpQSAR/DomAdpQSAR/presentation.py:36: UserWarning: Dataset has 0 variance; skipping density estimate. Pass `warn_singular=False` to disable this warning.\n",
      "  axes = sns.kdeplot(unlabeled_predictions, ax=axes, color=sns.color_palette()[1], bw_method=bandwidth,\n",
      "/Users/alexi/Library/CloudStorage/OneDrive-Nexus365/Rotation Projects/Rotation_1/Project/DomAdpQSAR/DomAdpQSAR/presentation.py:38: UserWarning: Dataset has 0 variance; skipping density estimate. Pass `warn_singular=False` to disable this warning.\n",
      "  axes = sns.kdeplot(test_predictions, ax=axes, color=sns.color_palette()[2], bw_method=bandwidth,\n",
      "/Users/alexi/Library/CloudStorage/OneDrive-Nexus365/Rotation Projects/Rotation_1/Project/DomAdpQSAR/DomAdpQSAR/presentation.py:40: UserWarning: Dataset has 0 variance; skipping density estimate. Pass `warn_singular=False` to disable this warning.\n",
      "  axes = sns.kdeplot(train_predictions, ax=axes, color=sns.color_palette()[2], linewidth=0.5, bw_method=bandwidth,\n"
     ]
    },
    {
     "name": "stdout",
     "output_type": "stream",
     "text": [
      "Step 693, 0:00:04.968129...ize([1000, 2048])DNN Test Values:  ComparisonValues(ACC=tensor(0.8469), BAC=tensor(0.7487), MCC=tensor(0.5586), predicted_labels=tensor([0.1308, 0.2311, 0.0421,  ..., 0.0181, 0.1073, 0.0754]))\n",
      "GAN Test Values:  ComparisonValues(ACC=tensor(0.2473), BAC=tensor(0.5000), MCC=0.01, predicted_labels=tensor([0.5007, 0.5007, 0.5007,  ..., 0.5007, 0.5007, 0.5007]))\n"
     ]
    },
    {
     "name": "stderr",
     "output_type": "stream",
     "text": [
      "/Users/alexi/Library/CloudStorage/OneDrive-Nexus365/Rotation Projects/Rotation_1/Project/DomAdpQSAR/DomAdpQSAR/presentation.py:36: UserWarning: Dataset has 0 variance; skipping density estimate. Pass `warn_singular=False` to disable this warning.\n",
      "  axes = sns.kdeplot(unlabeled_predictions, ax=axes, color=sns.color_palette()[1], bw_method=bandwidth,\n",
      "/Users/alexi/Library/CloudStorage/OneDrive-Nexus365/Rotation Projects/Rotation_1/Project/DomAdpQSAR/DomAdpQSAR/presentation.py:38: UserWarning: Dataset has 0 variance; skipping density estimate. Pass `warn_singular=False` to disable this warning.\n",
      "  axes = sns.kdeplot(test_predictions, ax=axes, color=sns.color_palette()[2], bw_method=bandwidth,\n",
      "/Users/alexi/Library/CloudStorage/OneDrive-Nexus365/Rotation Projects/Rotation_1/Project/DomAdpQSAR/DomAdpQSAR/presentation.py:40: UserWarning: Dataset has 0 variance; skipping density estimate. Pass `warn_singular=False` to disable this warning.\n",
      "  axes = sns.kdeplot(train_predictions, ax=axes, color=sns.color_palette()[2], linewidth=0.5, bw_method=bandwidth,\n"
     ]
    },
    {
     "name": "stdout",
     "output_type": "stream",
     "text": [
      "Step 700, 0:00:04.044721...ize([1000, 2048])DNN Test Values:  ComparisonValues(ACC=tensor(0.8476), BAC=tensor(0.7495), MCC=tensor(0.5606), predicted_labels=tensor([0.1959, 0.0316, 0.5528,  ..., 0.0935, 0.0294, 0.0321]))\n",
      "GAN Test Values:  ComparisonValues(ACC=tensor(0.2473), BAC=tensor(0.5000), MCC=0.01, predicted_labels=tensor([0.5005, 0.5005, 0.5005,  ..., 0.5005, 0.5005, 0.5005]))\n"
     ]
    },
    {
     "name": "stderr",
     "output_type": "stream",
     "text": [
      "/Users/alexi/Library/CloudStorage/OneDrive-Nexus365/Rotation Projects/Rotation_1/Project/DomAdpQSAR/DomAdpQSAR/presentation.py:36: UserWarning: Dataset has 0 variance; skipping density estimate. Pass `warn_singular=False` to disable this warning.\n",
      "  axes = sns.kdeplot(unlabeled_predictions, ax=axes, color=sns.color_palette()[1], bw_method=bandwidth,\n",
      "/Users/alexi/Library/CloudStorage/OneDrive-Nexus365/Rotation Projects/Rotation_1/Project/DomAdpQSAR/DomAdpQSAR/presentation.py:38: UserWarning: Dataset has 0 variance; skipping density estimate. Pass `warn_singular=False` to disable this warning.\n",
      "  axes = sns.kdeplot(test_predictions, ax=axes, color=sns.color_palette()[2], bw_method=bandwidth,\n",
      "/Users/alexi/Library/CloudStorage/OneDrive-Nexus365/Rotation Projects/Rotation_1/Project/DomAdpQSAR/DomAdpQSAR/presentation.py:40: UserWarning: Dataset has 0 variance; skipping density estimate. Pass `warn_singular=False` to disable this warning.\n",
      "  axes = sns.kdeplot(train_predictions, ax=axes, color=sns.color_palette()[2], linewidth=0.5, bw_method=bandwidth,\n"
     ]
    },
    {
     "name": "stdout",
     "output_type": "stream",
     "text": [
      "Step 707, 0:00:03.611413...ize([1000, 2048])DNN Test Values:  ComparisonValues(ACC=tensor(0.8474), BAC=tensor(0.7512), MCC=tensor(0.5609), predicted_labels=tensor([0.9717, 0.0213, 0.0411,  ..., 0.2218, 0.0367, 0.0451]))\n",
      "GAN Test Values:  ComparisonValues(ACC=tensor(0.2473), BAC=tensor(0.5000), MCC=0.01, predicted_labels=tensor([0.5004, 0.5004, 0.5004,  ..., 0.5004, 0.5004, 0.5004]))\n"
     ]
    },
    {
     "name": "stderr",
     "output_type": "stream",
     "text": [
      "/Users/alexi/Library/CloudStorage/OneDrive-Nexus365/Rotation Projects/Rotation_1/Project/DomAdpQSAR/DomAdpQSAR/presentation.py:36: UserWarning: Dataset has 0 variance; skipping density estimate. Pass `warn_singular=False` to disable this warning.\n",
      "  axes = sns.kdeplot(unlabeled_predictions, ax=axes, color=sns.color_palette()[1], bw_method=bandwidth,\n",
      "/Users/alexi/Library/CloudStorage/OneDrive-Nexus365/Rotation Projects/Rotation_1/Project/DomAdpQSAR/DomAdpQSAR/presentation.py:38: UserWarning: Dataset has 0 variance; skipping density estimate. Pass `warn_singular=False` to disable this warning.\n",
      "  axes = sns.kdeplot(test_predictions, ax=axes, color=sns.color_palette()[2], bw_method=bandwidth,\n",
      "/Users/alexi/Library/CloudStorage/OneDrive-Nexus365/Rotation Projects/Rotation_1/Project/DomAdpQSAR/DomAdpQSAR/presentation.py:40: UserWarning: Dataset has 0 variance; skipping density estimate. Pass `warn_singular=False` to disable this warning.\n",
      "  axes = sns.kdeplot(train_predictions, ax=axes, color=sns.color_palette()[2], linewidth=0.5, bw_method=bandwidth,\n"
     ]
    },
    {
     "name": "stdout",
     "output_type": "stream",
     "text": [
      "Step 714, 0:00:04.041024...ize([1000, 2048])DNN Test Values:  ComparisonValues(ACC=tensor(0.8455), BAC=tensor(0.7484), MCC=tensor(0.5552), predicted_labels=tensor([0.0257, 0.0409, 0.0345,  ..., 0.7735, 0.0299, 0.1655]))\n",
      "GAN Test Values:  ComparisonValues(ACC=tensor(0.2473), BAC=tensor(0.5000), MCC=0.01, predicted_labels=tensor([0.5002, 0.5002, 0.5002,  ..., 0.5002, 0.5002, 0.5002]))\n"
     ]
    },
    {
     "name": "stderr",
     "output_type": "stream",
     "text": [
      "/Users/alexi/Library/CloudStorage/OneDrive-Nexus365/Rotation Projects/Rotation_1/Project/DomAdpQSAR/DomAdpQSAR/presentation.py:36: UserWarning: Dataset has 0 variance; skipping density estimate. Pass `warn_singular=False` to disable this warning.\n",
      "  axes = sns.kdeplot(unlabeled_predictions, ax=axes, color=sns.color_palette()[1], bw_method=bandwidth,\n",
      "/Users/alexi/Library/CloudStorage/OneDrive-Nexus365/Rotation Projects/Rotation_1/Project/DomAdpQSAR/DomAdpQSAR/presentation.py:38: UserWarning: Dataset has 0 variance; skipping density estimate. Pass `warn_singular=False` to disable this warning.\n",
      "  axes = sns.kdeplot(test_predictions, ax=axes, color=sns.color_palette()[2], bw_method=bandwidth,\n",
      "/Users/alexi/Library/CloudStorage/OneDrive-Nexus365/Rotation Projects/Rotation_1/Project/DomAdpQSAR/DomAdpQSAR/presentation.py:40: UserWarning: Dataset has 0 variance; skipping density estimate. Pass `warn_singular=False` to disable this warning.\n",
      "  axes = sns.kdeplot(train_predictions, ax=axes, color=sns.color_palette()[2], linewidth=0.5, bw_method=bandwidth,\n"
     ]
    },
    {
     "name": "stdout",
     "output_type": "stream",
     "text": [
      "Step 721, 0:00:04.019088...ize([1000, 2048])DNN Test Values:  ComparisonValues(ACC=tensor(0.8451), BAC=tensor(0.7506), MCC=tensor(0.5553), predicted_labels=tensor([0.0401, 0.0765, 0.0278,  ..., 0.0933, 0.0534, 0.0327]))\n",
      "GAN Test Values:  ComparisonValues(ACC=tensor(0.7527), BAC=tensor(0.5000), MCC=0.01, predicted_labels=tensor([0.5000, 0.5000, 0.5000,  ..., 0.5000, 0.5000, 0.5000]))\n"
     ]
    },
    {
     "name": "stderr",
     "output_type": "stream",
     "text": [
      "/Users/alexi/Library/CloudStorage/OneDrive-Nexus365/Rotation Projects/Rotation_1/Project/DomAdpQSAR/DomAdpQSAR/presentation.py:36: UserWarning: Dataset has 0 variance; skipping density estimate. Pass `warn_singular=False` to disable this warning.\n",
      "  axes = sns.kdeplot(unlabeled_predictions, ax=axes, color=sns.color_palette()[1], bw_method=bandwidth,\n",
      "/Users/alexi/Library/CloudStorage/OneDrive-Nexus365/Rotation Projects/Rotation_1/Project/DomAdpQSAR/DomAdpQSAR/presentation.py:38: UserWarning: Dataset has 0 variance; skipping density estimate. Pass `warn_singular=False` to disable this warning.\n",
      "  axes = sns.kdeplot(test_predictions, ax=axes, color=sns.color_palette()[2], bw_method=bandwidth,\n",
      "/Users/alexi/Library/CloudStorage/OneDrive-Nexus365/Rotation Projects/Rotation_1/Project/DomAdpQSAR/DomAdpQSAR/presentation.py:40: UserWarning: Dataset has 0 variance; skipping density estimate. Pass `warn_singular=False` to disable this warning.\n",
      "  axes = sns.kdeplot(train_predictions, ax=axes, color=sns.color_palette()[2], linewidth=0.5, bw_method=bandwidth,\n"
     ]
    },
    {
     "name": "stdout",
     "output_type": "stream",
     "text": [
      "Step 728, 0:00:03.323063...ize([1000, 2048])DNN Test Values:  ComparisonValues(ACC=tensor(0.8455), BAC=tensor(0.7546), MCC=tensor(0.5585), predicted_labels=tensor([0.0475, 0.9613, 0.0334,  ..., 0.0538, 0.9797, 0.0410]))\n",
      "GAN Test Values:  ComparisonValues(ACC=tensor(0.7527), BAC=tensor(0.5000), MCC=0.01, predicted_labels=tensor([0.4998, 0.4998, 0.4998,  ..., 0.4998, 0.4998, 0.4998]))\n"
     ]
    },
    {
     "name": "stderr",
     "output_type": "stream",
     "text": [
      "/Users/alexi/Library/CloudStorage/OneDrive-Nexus365/Rotation Projects/Rotation_1/Project/DomAdpQSAR/DomAdpQSAR/presentation.py:36: UserWarning: Dataset has 0 variance; skipping density estimate. Pass `warn_singular=False` to disable this warning.\n",
      "  axes = sns.kdeplot(unlabeled_predictions, ax=axes, color=sns.color_palette()[1], bw_method=bandwidth,\n",
      "/Users/alexi/Library/CloudStorage/OneDrive-Nexus365/Rotation Projects/Rotation_1/Project/DomAdpQSAR/DomAdpQSAR/presentation.py:38: UserWarning: Dataset has 0 variance; skipping density estimate. Pass `warn_singular=False` to disable this warning.\n",
      "  axes = sns.kdeplot(test_predictions, ax=axes, color=sns.color_palette()[2], bw_method=bandwidth,\n",
      "/Users/alexi/Library/CloudStorage/OneDrive-Nexus365/Rotation Projects/Rotation_1/Project/DomAdpQSAR/DomAdpQSAR/presentation.py:40: UserWarning: Dataset has 0 variance; skipping density estimate. Pass `warn_singular=False` to disable this warning.\n",
      "  axes = sns.kdeplot(train_predictions, ax=axes, color=sns.color_palette()[2], linewidth=0.5, bw_method=bandwidth,\n"
     ]
    },
    {
     "name": "stdout",
     "output_type": "stream",
     "text": [
      "Step 735, 0:00:04.178220...ize([1000, 2048])DNN Test Values:  ComparisonValues(ACC=tensor(0.8465), BAC=tensor(0.7549), MCC=tensor(0.5607), predicted_labels=tensor([0.4280, 0.0159, 0.0362,  ..., 0.0349, 0.1772, 0.8935]))\n",
      "GAN Test Values:  ComparisonValues(ACC=tensor(0.7527), BAC=tensor(0.5000), MCC=0.01, predicted_labels=tensor([0.4996, 0.4996, 0.4996,  ..., 0.4996, 0.4996, 0.4996]))\n"
     ]
    },
    {
     "name": "stderr",
     "output_type": "stream",
     "text": [
      "/Users/alexi/Library/CloudStorage/OneDrive-Nexus365/Rotation Projects/Rotation_1/Project/DomAdpQSAR/DomAdpQSAR/presentation.py:36: UserWarning: Dataset has 0 variance; skipping density estimate. Pass `warn_singular=False` to disable this warning.\n",
      "  axes = sns.kdeplot(unlabeled_predictions, ax=axes, color=sns.color_palette()[1], bw_method=bandwidth,\n",
      "/Users/alexi/Library/CloudStorage/OneDrive-Nexus365/Rotation Projects/Rotation_1/Project/DomAdpQSAR/DomAdpQSAR/presentation.py:38: UserWarning: Dataset has 0 variance; skipping density estimate. Pass `warn_singular=False` to disable this warning.\n",
      "  axes = sns.kdeplot(test_predictions, ax=axes, color=sns.color_palette()[2], bw_method=bandwidth,\n",
      "/Users/alexi/Library/CloudStorage/OneDrive-Nexus365/Rotation Projects/Rotation_1/Project/DomAdpQSAR/DomAdpQSAR/presentation.py:40: UserWarning: Dataset has 0 variance; skipping density estimate. Pass `warn_singular=False` to disable this warning.\n",
      "  axes = sns.kdeplot(train_predictions, ax=axes, color=sns.color_palette()[2], linewidth=0.5, bw_method=bandwidth,\n"
     ]
    },
    {
     "name": "stdout",
     "output_type": "stream",
     "text": [
      "Step 742, 0:00:04.084607...ize([1000, 2048])DNN Test Values:  ComparisonValues(ACC=tensor(0.8469), BAC=tensor(0.7577), MCC=tensor(0.5632), predicted_labels=tensor([0.5060, 0.0414, 0.0422,  ..., 0.0201, 0.0118, 0.0279]))\n",
      "GAN Test Values:  ComparisonValues(ACC=tensor(0.7527), BAC=tensor(0.5000), MCC=0.01, predicted_labels=tensor([0.4994, 0.4994, 0.4994,  ..., 0.4994, 0.4994, 0.4994]))\n"
     ]
    },
    {
     "name": "stderr",
     "output_type": "stream",
     "text": [
      "/Users/alexi/Library/CloudStorage/OneDrive-Nexus365/Rotation Projects/Rotation_1/Project/DomAdpQSAR/DomAdpQSAR/presentation.py:36: UserWarning: Dataset has 0 variance; skipping density estimate. Pass `warn_singular=False` to disable this warning.\n",
      "  axes = sns.kdeplot(unlabeled_predictions, ax=axes, color=sns.color_palette()[1], bw_method=bandwidth,\n",
      "/Users/alexi/Library/CloudStorage/OneDrive-Nexus365/Rotation Projects/Rotation_1/Project/DomAdpQSAR/DomAdpQSAR/presentation.py:38: UserWarning: Dataset has 0 variance; skipping density estimate. Pass `warn_singular=False` to disable this warning.\n",
      "  axes = sns.kdeplot(test_predictions, ax=axes, color=sns.color_palette()[2], bw_method=bandwidth,\n",
      "/Users/alexi/Library/CloudStorage/OneDrive-Nexus365/Rotation Projects/Rotation_1/Project/DomAdpQSAR/DomAdpQSAR/presentation.py:40: UserWarning: Dataset has 0 variance; skipping density estimate. Pass `warn_singular=False` to disable this warning.\n",
      "  axes = sns.kdeplot(train_predictions, ax=axes, color=sns.color_palette()[2], linewidth=0.5, bw_method=bandwidth,\n"
     ]
    },
    {
     "name": "stdout",
     "output_type": "stream",
     "text": [
      "Step 749, 0:00:04.230889...ize([1000, 2048])DNN Test Values:  ComparisonValues(ACC=tensor(0.8483), BAC=tensor(0.7589), MCC=tensor(0.5669), predicted_labels=tensor([0.0540, 0.0513, 0.6965,  ..., 0.0297, 0.9793, 0.9789]))\n",
      "GAN Test Values:  ComparisonValues(ACC=tensor(0.7527), BAC=tensor(0.5000), MCC=0.01, predicted_labels=tensor([0.4992, 0.4992, 0.4992,  ..., 0.4992, 0.4992, 0.4992]))\n"
     ]
    },
    {
     "name": "stderr",
     "output_type": "stream",
     "text": [
      "/Users/alexi/Library/CloudStorage/OneDrive-Nexus365/Rotation Projects/Rotation_1/Project/DomAdpQSAR/DomAdpQSAR/presentation.py:36: UserWarning: Dataset has 0 variance; skipping density estimate. Pass `warn_singular=False` to disable this warning.\n",
      "  axes = sns.kdeplot(unlabeled_predictions, ax=axes, color=sns.color_palette()[1], bw_method=bandwidth,\n",
      "/Users/alexi/Library/CloudStorage/OneDrive-Nexus365/Rotation Projects/Rotation_1/Project/DomAdpQSAR/DomAdpQSAR/presentation.py:38: UserWarning: Dataset has 0 variance; skipping density estimate. Pass `warn_singular=False` to disable this warning.\n",
      "  axes = sns.kdeplot(test_predictions, ax=axes, color=sns.color_palette()[2], bw_method=bandwidth,\n",
      "/Users/alexi/Library/CloudStorage/OneDrive-Nexus365/Rotation Projects/Rotation_1/Project/DomAdpQSAR/DomAdpQSAR/presentation.py:40: UserWarning: Dataset has 0 variance; skipping density estimate. Pass `warn_singular=False` to disable this warning.\n",
      "  axes = sns.kdeplot(train_predictions, ax=axes, color=sns.color_palette()[2], linewidth=0.5, bw_method=bandwidth,\n"
     ]
    },
    {
     "name": "stdout",
     "output_type": "stream",
     "text": [
      "Step 756, 0:00:03.826221...ize([1000, 2048])DNN Test Values:  ComparisonValues(ACC=tensor(0.8476), BAC=tensor(0.7541), MCC=tensor(0.5628), predicted_labels=tensor([0.0252, 0.0190, 0.0474,  ..., 0.9905, 0.9899, 0.0175]))\n",
      "GAN Test Values:  ComparisonValues(ACC=tensor(0.7527), BAC=tensor(0.5000), MCC=0.01, predicted_labels=tensor([0.4990, 0.4990, 0.4990,  ..., 0.4990, 0.4990, 0.4990]))\n"
     ]
    },
    {
     "name": "stderr",
     "output_type": "stream",
     "text": [
      "/Users/alexi/Library/CloudStorage/OneDrive-Nexus365/Rotation Projects/Rotation_1/Project/DomAdpQSAR/DomAdpQSAR/presentation.py:36: UserWarning: Dataset has 0 variance; skipping density estimate. Pass `warn_singular=False` to disable this warning.\n",
      "  axes = sns.kdeplot(unlabeled_predictions, ax=axes, color=sns.color_palette()[1], bw_method=bandwidth,\n",
      "/Users/alexi/Library/CloudStorage/OneDrive-Nexus365/Rotation Projects/Rotation_1/Project/DomAdpQSAR/DomAdpQSAR/presentation.py:38: UserWarning: Dataset has 0 variance; skipping density estimate. Pass `warn_singular=False` to disable this warning.\n",
      "  axes = sns.kdeplot(test_predictions, ax=axes, color=sns.color_palette()[2], bw_method=bandwidth,\n",
      "/Users/alexi/Library/CloudStorage/OneDrive-Nexus365/Rotation Projects/Rotation_1/Project/DomAdpQSAR/DomAdpQSAR/presentation.py:40: UserWarning: Dataset has 0 variance; skipping density estimate. Pass `warn_singular=False` to disable this warning.\n",
      "  axes = sns.kdeplot(train_predictions, ax=axes, color=sns.color_palette()[2], linewidth=0.5, bw_method=bandwidth,\n"
     ]
    },
    {
     "name": "stdout",
     "output_type": "stream",
     "text": [
      "Step 763, 0:00:04.353543...ize([1000, 2048])DNN Test Values:  ComparisonValues(ACC=tensor(0.8455), BAC=tensor(0.7543), MCC=tensor(0.5583), predicted_labels=tensor([0.3870, 0.9595, 0.0270,  ..., 0.0262, 0.0273, 0.0333]))\n",
      "GAN Test Values:  ComparisonValues(ACC=tensor(0.7527), BAC=tensor(0.5000), MCC=0.01, predicted_labels=tensor([0.4988, 0.4988, 0.4988,  ..., 0.4988, 0.4988, 0.4988]))\n"
     ]
    },
    {
     "name": "stderr",
     "output_type": "stream",
     "text": [
      "/Users/alexi/Library/CloudStorage/OneDrive-Nexus365/Rotation Projects/Rotation_1/Project/DomAdpQSAR/DomAdpQSAR/presentation.py:36: UserWarning: Dataset has 0 variance; skipping density estimate. Pass `warn_singular=False` to disable this warning.\n",
      "  axes = sns.kdeplot(unlabeled_predictions, ax=axes, color=sns.color_palette()[1], bw_method=bandwidth,\n",
      "/Users/alexi/Library/CloudStorage/OneDrive-Nexus365/Rotation Projects/Rotation_1/Project/DomAdpQSAR/DomAdpQSAR/presentation.py:38: UserWarning: Dataset has 0 variance; skipping density estimate. Pass `warn_singular=False` to disable this warning.\n",
      "  axes = sns.kdeplot(test_predictions, ax=axes, color=sns.color_palette()[2], bw_method=bandwidth,\n",
      "/Users/alexi/Library/CloudStorage/OneDrive-Nexus365/Rotation Projects/Rotation_1/Project/DomAdpQSAR/DomAdpQSAR/presentation.py:40: UserWarning: Dataset has 0 variance; skipping density estimate. Pass `warn_singular=False` to disable this warning.\n",
      "  axes = sns.kdeplot(train_predictions, ax=axes, color=sns.color_palette()[2], linewidth=0.5, bw_method=bandwidth,\n"
     ]
    },
    {
     "name": "stdout",
     "output_type": "stream",
     "text": [
      "Step 770, 0:00:03.808303...ize([1000, 2048])DNN Test Values:  ComparisonValues(ACC=tensor(0.8433), BAC=tensor(0.7516), MCC=tensor(0.5518), predicted_labels=tensor([0.0428, 0.0540, 0.0255,  ..., 0.0642, 0.9907, 0.0188]))\n",
      "GAN Test Values:  ComparisonValues(ACC=tensor(0.7527), BAC=tensor(0.5000), MCC=0.01, predicted_labels=tensor([0.4987, 0.4987, 0.4987,  ..., 0.4987, 0.4987, 0.4987]))\n"
     ]
    },
    {
     "name": "stderr",
     "output_type": "stream",
     "text": [
      "/Users/alexi/Library/CloudStorage/OneDrive-Nexus365/Rotation Projects/Rotation_1/Project/DomAdpQSAR/DomAdpQSAR/presentation.py:36: UserWarning: Dataset has 0 variance; skipping density estimate. Pass `warn_singular=False` to disable this warning.\n",
      "  axes = sns.kdeplot(unlabeled_predictions, ax=axes, color=sns.color_palette()[1], bw_method=bandwidth,\n",
      "/Users/alexi/Library/CloudStorage/OneDrive-Nexus365/Rotation Projects/Rotation_1/Project/DomAdpQSAR/DomAdpQSAR/presentation.py:38: UserWarning: Dataset has 0 variance; skipping density estimate. Pass `warn_singular=False` to disable this warning.\n",
      "  axes = sns.kdeplot(test_predictions, ax=axes, color=sns.color_palette()[2], bw_method=bandwidth,\n",
      "/Users/alexi/Library/CloudStorage/OneDrive-Nexus365/Rotation Projects/Rotation_1/Project/DomAdpQSAR/DomAdpQSAR/presentation.py:40: UserWarning: Dataset has 0 variance; skipping density estimate. Pass `warn_singular=False` to disable this warning.\n",
      "  axes = sns.kdeplot(train_predictions, ax=axes, color=sns.color_palette()[2], linewidth=0.5, bw_method=bandwidth,\n"
     ]
    },
    {
     "name": "stdout",
     "output_type": "stream",
     "text": [
      "Step 777, 0:00:04.147293...ize([1000, 2048])DNN Test Values:  ComparisonValues(ACC=tensor(0.8439), BAC=tensor(0.7526), MCC=tensor(0.5539), predicted_labels=tensor([0.0265, 0.9775, 0.4157,  ..., 0.5764, 0.0261, 0.0363]))\n",
      "GAN Test Values:  ComparisonValues(ACC=tensor(0.7527), BAC=tensor(0.5000), MCC=0.01, predicted_labels=tensor([0.4985, 0.4985, 0.4985,  ..., 0.4985, 0.4985, 0.4985]))\n"
     ]
    },
    {
     "name": "stderr",
     "output_type": "stream",
     "text": [
      "/Users/alexi/Library/CloudStorage/OneDrive-Nexus365/Rotation Projects/Rotation_1/Project/DomAdpQSAR/DomAdpQSAR/presentation.py:36: UserWarning: Dataset has 0 variance; skipping density estimate. Pass `warn_singular=False` to disable this warning.\n",
      "  axes = sns.kdeplot(unlabeled_predictions, ax=axes, color=sns.color_palette()[1], bw_method=bandwidth,\n",
      "/Users/alexi/Library/CloudStorage/OneDrive-Nexus365/Rotation Projects/Rotation_1/Project/DomAdpQSAR/DomAdpQSAR/presentation.py:38: UserWarning: Dataset has 0 variance; skipping density estimate. Pass `warn_singular=False` to disable this warning.\n",
      "  axes = sns.kdeplot(test_predictions, ax=axes, color=sns.color_palette()[2], bw_method=bandwidth,\n",
      "/Users/alexi/Library/CloudStorage/OneDrive-Nexus365/Rotation Projects/Rotation_1/Project/DomAdpQSAR/DomAdpQSAR/presentation.py:40: UserWarning: Dataset has 0 variance; skipping density estimate. Pass `warn_singular=False` to disable this warning.\n",
      "  axes = sns.kdeplot(train_predictions, ax=axes, color=sns.color_palette()[2], linewidth=0.5, bw_method=bandwidth,\n"
     ]
    },
    {
     "name": "stdout",
     "output_type": "stream",
     "text": [
      "Step 784, 0:00:03.374218...ize([1000, 2048])DNN Test Values:  ComparisonValues(ACC=tensor(0.8451), BAC=tensor(0.7540), MCC=tensor(0.5571), predicted_labels=tensor([0.3113, 0.0232, 0.0611,  ..., 0.0513, 0.0340, 0.7309]))\n",
      "GAN Test Values:  ComparisonValues(ACC=tensor(0.7527), BAC=tensor(0.5000), MCC=0.01, predicted_labels=tensor([0.4983, 0.4983, 0.4983,  ..., 0.4983, 0.4983, 0.4983]))\n"
     ]
    },
    {
     "name": "stderr",
     "output_type": "stream",
     "text": [
      "/Users/alexi/Library/CloudStorage/OneDrive-Nexus365/Rotation Projects/Rotation_1/Project/DomAdpQSAR/DomAdpQSAR/presentation.py:36: UserWarning: Dataset has 0 variance; skipping density estimate. Pass `warn_singular=False` to disable this warning.\n",
      "  axes = sns.kdeplot(unlabeled_predictions, ax=axes, color=sns.color_palette()[1], bw_method=bandwidth,\n",
      "/Users/alexi/Library/CloudStorage/OneDrive-Nexus365/Rotation Projects/Rotation_1/Project/DomAdpQSAR/DomAdpQSAR/presentation.py:38: UserWarning: Dataset has 0 variance; skipping density estimate. Pass `warn_singular=False` to disable this warning.\n",
      "  axes = sns.kdeplot(test_predictions, ax=axes, color=sns.color_palette()[2], bw_method=bandwidth,\n",
      "/Users/alexi/Library/CloudStorage/OneDrive-Nexus365/Rotation Projects/Rotation_1/Project/DomAdpQSAR/DomAdpQSAR/presentation.py:40: UserWarning: Dataset has 0 variance; skipping density estimate. Pass `warn_singular=False` to disable this warning.\n",
      "  axes = sns.kdeplot(train_predictions, ax=axes, color=sns.color_palette()[2], linewidth=0.5, bw_method=bandwidth,\n"
     ]
    },
    {
     "name": "stdout",
     "output_type": "stream",
     "text": [
      "Step 791, 0:00:03.417522...ize([1000, 2048])DNN Test Values:  ComparisonValues(ACC=tensor(0.8446), BAC=tensor(0.7531), MCC=tensor(0.5556), predicted_labels=tensor([0.0297, 0.9800, 0.9767,  ..., 0.0298, 0.0752, 0.0419]))\n",
      "GAN Test Values:  ComparisonValues(ACC=tensor(0.7527), BAC=tensor(0.5000), MCC=0.01, predicted_labels=tensor([0.4981, 0.4981, 0.4981,  ..., 0.4981, 0.4981, 0.4981]))\n"
     ]
    },
    {
     "name": "stderr",
     "output_type": "stream",
     "text": [
      "/Users/alexi/Library/CloudStorage/OneDrive-Nexus365/Rotation Projects/Rotation_1/Project/DomAdpQSAR/DomAdpQSAR/presentation.py:36: UserWarning: Dataset has 0 variance; skipping density estimate. Pass `warn_singular=False` to disable this warning.\n",
      "  axes = sns.kdeplot(unlabeled_predictions, ax=axes, color=sns.color_palette()[1], bw_method=bandwidth,\n",
      "/Users/alexi/Library/CloudStorage/OneDrive-Nexus365/Rotation Projects/Rotation_1/Project/DomAdpQSAR/DomAdpQSAR/presentation.py:38: UserWarning: Dataset has 0 variance; skipping density estimate. Pass `warn_singular=False` to disable this warning.\n",
      "  axes = sns.kdeplot(test_predictions, ax=axes, color=sns.color_palette()[2], bw_method=bandwidth,\n",
      "/Users/alexi/Library/CloudStorage/OneDrive-Nexus365/Rotation Projects/Rotation_1/Project/DomAdpQSAR/DomAdpQSAR/presentation.py:40: UserWarning: Dataset has 0 variance; skipping density estimate. Pass `warn_singular=False` to disable this warning.\n",
      "  axes = sns.kdeplot(train_predictions, ax=axes, color=sns.color_palette()[2], linewidth=0.5, bw_method=bandwidth,\n"
     ]
    },
    {
     "name": "stdout",
     "output_type": "stream",
     "text": [
      "Step 798, 0:00:03.313805...ize([1000, 2048])DNN Test Values:  ComparisonValues(ACC=tensor(0.8442), BAC=tensor(0.7503), MCC=tensor(0.5531), predicted_labels=tensor([0.0323, 0.0269, 0.0248,  ..., 0.0189, 0.5750, 0.0352]))\n",
      "GAN Test Values:  ComparisonValues(ACC=tensor(0.7527), BAC=tensor(0.5000), MCC=0.01, predicted_labels=tensor([0.4979, 0.4979, 0.4979,  ..., 0.4979, 0.4979, 0.4979]))\n"
     ]
    },
    {
     "name": "stderr",
     "output_type": "stream",
     "text": [
      "/Users/alexi/Library/CloudStorage/OneDrive-Nexus365/Rotation Projects/Rotation_1/Project/DomAdpQSAR/DomAdpQSAR/presentation.py:36: UserWarning: Dataset has 0 variance; skipping density estimate. Pass `warn_singular=False` to disable this warning.\n",
      "  axes = sns.kdeplot(unlabeled_predictions, ax=axes, color=sns.color_palette()[1], bw_method=bandwidth,\n",
      "/Users/alexi/Library/CloudStorage/OneDrive-Nexus365/Rotation Projects/Rotation_1/Project/DomAdpQSAR/DomAdpQSAR/presentation.py:38: UserWarning: Dataset has 0 variance; skipping density estimate. Pass `warn_singular=False` to disable this warning.\n",
      "  axes = sns.kdeplot(test_predictions, ax=axes, color=sns.color_palette()[2], bw_method=bandwidth,\n",
      "/Users/alexi/Library/CloudStorage/OneDrive-Nexus365/Rotation Projects/Rotation_1/Project/DomAdpQSAR/DomAdpQSAR/presentation.py:40: UserWarning: Dataset has 0 variance; skipping density estimate. Pass `warn_singular=False` to disable this warning.\n",
      "  axes = sns.kdeplot(train_predictions, ax=axes, color=sns.color_palette()[2], linewidth=0.5, bw_method=bandwidth,\n"
     ]
    },
    {
     "name": "stdout",
     "output_type": "stream",
     "text": [
      "Step 805, 0:00:04.197519...ize([1000, 2048])DNN Test Values:  ComparisonValues(ACC=tensor(0.8453), BAC=tensor(0.7526), MCC=tensor(0.5569), predicted_labels=tensor([0.0379, 0.0597, 0.0251,  ..., 0.0321, 0.0269, 0.0255]))\n",
      "GAN Test Values:  ComparisonValues(ACC=tensor(0.7527), BAC=tensor(0.5000), MCC=0.01, predicted_labels=tensor([0.4977, 0.4977, 0.4977,  ..., 0.4977, 0.4977, 0.4977]))\n"
     ]
    },
    {
     "name": "stderr",
     "output_type": "stream",
     "text": [
      "/Users/alexi/Library/CloudStorage/OneDrive-Nexus365/Rotation Projects/Rotation_1/Project/DomAdpQSAR/DomAdpQSAR/presentation.py:36: UserWarning: Dataset has 0 variance; skipping density estimate. Pass `warn_singular=False` to disable this warning.\n",
      "  axes = sns.kdeplot(unlabeled_predictions, ax=axes, color=sns.color_palette()[1], bw_method=bandwidth,\n",
      "/Users/alexi/Library/CloudStorage/OneDrive-Nexus365/Rotation Projects/Rotation_1/Project/DomAdpQSAR/DomAdpQSAR/presentation.py:38: UserWarning: Dataset has 0 variance; skipping density estimate. Pass `warn_singular=False` to disable this warning.\n",
      "  axes = sns.kdeplot(test_predictions, ax=axes, color=sns.color_palette()[2], bw_method=bandwidth,\n",
      "/Users/alexi/Library/CloudStorage/OneDrive-Nexus365/Rotation Projects/Rotation_1/Project/DomAdpQSAR/DomAdpQSAR/presentation.py:40: UserWarning: Dataset has 0 variance; skipping density estimate. Pass `warn_singular=False` to disable this warning.\n",
      "  axes = sns.kdeplot(train_predictions, ax=axes, color=sns.color_palette()[2], linewidth=0.5, bw_method=bandwidth,\n"
     ]
    },
    {
     "name": "stdout",
     "output_type": "stream",
     "text": [
      "Step 812, 0:00:03.454476...ize([1000, 2048])DNN Test Values:  ComparisonValues(ACC=tensor(0.8451), BAC=tensor(0.7525), MCC=tensor(0.5563), predicted_labels=tensor([0.0279, 0.9782, 0.5834,  ..., 0.0345, 0.2834, 0.0335]))\n",
      "GAN Test Values:  ComparisonValues(ACC=tensor(0.7527), BAC=tensor(0.5000), MCC=0.01, predicted_labels=tensor([0.4975, 0.4975, 0.4975,  ..., 0.4975, 0.4975, 0.4975]))\n"
     ]
    },
    {
     "name": "stderr",
     "output_type": "stream",
     "text": [
      "/Users/alexi/Library/CloudStorage/OneDrive-Nexus365/Rotation Projects/Rotation_1/Project/DomAdpQSAR/DomAdpQSAR/presentation.py:36: UserWarning: Dataset has 0 variance; skipping density estimate. Pass `warn_singular=False` to disable this warning.\n",
      "  axes = sns.kdeplot(unlabeled_predictions, ax=axes, color=sns.color_palette()[1], bw_method=bandwidth,\n",
      "/Users/alexi/Library/CloudStorage/OneDrive-Nexus365/Rotation Projects/Rotation_1/Project/DomAdpQSAR/DomAdpQSAR/presentation.py:38: UserWarning: Dataset has 0 variance; skipping density estimate. Pass `warn_singular=False` to disable this warning.\n",
      "  axes = sns.kdeplot(test_predictions, ax=axes, color=sns.color_palette()[2], bw_method=bandwidth,\n",
      "/Users/alexi/Library/CloudStorage/OneDrive-Nexus365/Rotation Projects/Rotation_1/Project/DomAdpQSAR/DomAdpQSAR/presentation.py:40: UserWarning: Dataset has 0 variance; skipping density estimate. Pass `warn_singular=False` to disable this warning.\n",
      "  axes = sns.kdeplot(train_predictions, ax=axes, color=sns.color_palette()[2], linewidth=0.5, bw_method=bandwidth,\n"
     ]
    },
    {
     "name": "stdout",
     "output_type": "stream",
     "text": [
      "Step 819, 0:00:03.494523...ize([1000, 2048])DNN Test Values:  ComparisonValues(ACC=tensor(0.8451), BAC=tensor(0.7559), MCC=tensor(0.5582), predicted_labels=tensor([0.0295, 0.0759, 0.1452,  ..., 0.0222, 0.1782, 0.9305]))\n",
      "GAN Test Values:  ComparisonValues(ACC=tensor(0.7527), BAC=tensor(0.5000), MCC=0.01, predicted_labels=tensor([0.4974, 0.4974, 0.4974,  ..., 0.4974, 0.4974, 0.4974]))\n"
     ]
    },
    {
     "name": "stderr",
     "output_type": "stream",
     "text": [
      "/Users/alexi/Library/CloudStorage/OneDrive-Nexus365/Rotation Projects/Rotation_1/Project/DomAdpQSAR/DomAdpQSAR/presentation.py:36: UserWarning: Dataset has 0 variance; skipping density estimate. Pass `warn_singular=False` to disable this warning.\n",
      "  axes = sns.kdeplot(unlabeled_predictions, ax=axes, color=sns.color_palette()[1], bw_method=bandwidth,\n",
      "/Users/alexi/Library/CloudStorage/OneDrive-Nexus365/Rotation Projects/Rotation_1/Project/DomAdpQSAR/DomAdpQSAR/presentation.py:38: UserWarning: Dataset has 0 variance; skipping density estimate. Pass `warn_singular=False` to disable this warning.\n",
      "  axes = sns.kdeplot(test_predictions, ax=axes, color=sns.color_palette()[2], bw_method=bandwidth,\n",
      "/Users/alexi/Library/CloudStorage/OneDrive-Nexus365/Rotation Projects/Rotation_1/Project/DomAdpQSAR/DomAdpQSAR/presentation.py:40: UserWarning: Dataset has 0 variance; skipping density estimate. Pass `warn_singular=False` to disable this warning.\n",
      "  axes = sns.kdeplot(train_predictions, ax=axes, color=sns.color_palette()[2], linewidth=0.5, bw_method=bandwidth,\n"
     ]
    },
    {
     "name": "stdout",
     "output_type": "stream",
     "text": [
      "Step 826, 0:00:03.339668...ize([1000, 2048])DNN Test Values:  ComparisonValues(ACC=tensor(0.8433), BAC=tensor(0.7519), MCC=tensor(0.5519), predicted_labels=tensor([0.0575, 0.0135, 0.0900,  ..., 0.0682, 0.0187, 0.0257]))\n",
      "GAN Test Values:  ComparisonValues(ACC=tensor(0.7527), BAC=tensor(0.5000), MCC=0.01, predicted_labels=tensor([0.4972, 0.4972, 0.4972,  ..., 0.4972, 0.4972, 0.4972]))\n"
     ]
    },
    {
     "name": "stderr",
     "output_type": "stream",
     "text": [
      "/Users/alexi/Library/CloudStorage/OneDrive-Nexus365/Rotation Projects/Rotation_1/Project/DomAdpQSAR/DomAdpQSAR/presentation.py:36: UserWarning: Dataset has 0 variance; skipping density estimate. Pass `warn_singular=False` to disable this warning.\n",
      "  axes = sns.kdeplot(unlabeled_predictions, ax=axes, color=sns.color_palette()[1], bw_method=bandwidth,\n",
      "/Users/alexi/Library/CloudStorage/OneDrive-Nexus365/Rotation Projects/Rotation_1/Project/DomAdpQSAR/DomAdpQSAR/presentation.py:38: UserWarning: Dataset has 0 variance; skipping density estimate. Pass `warn_singular=False` to disable this warning.\n",
      "  axes = sns.kdeplot(test_predictions, ax=axes, color=sns.color_palette()[2], bw_method=bandwidth,\n",
      "/Users/alexi/Library/CloudStorage/OneDrive-Nexus365/Rotation Projects/Rotation_1/Project/DomAdpQSAR/DomAdpQSAR/presentation.py:40: UserWarning: Dataset has 0 variance; skipping density estimate. Pass `warn_singular=False` to disable this warning.\n",
      "  axes = sns.kdeplot(train_predictions, ax=axes, color=sns.color_palette()[2], linewidth=0.5, bw_method=bandwidth,\n"
     ]
    },
    {
     "name": "stdout",
     "output_type": "stream",
     "text": [
      "Step 833, 0:00:03.251600...ize([1000, 2048])DNN Test Values:  ComparisonValues(ACC=tensor(0.8426), BAC=tensor(0.7564), MCC=tensor(0.5532), predicted_labels=tensor([0.2522, 0.9195, 0.0248,  ..., 0.1776, 0.9841, 0.0278]))\n",
      "GAN Test Values:  ComparisonValues(ACC=tensor(0.7527), BAC=tensor(0.5000), MCC=0.01, predicted_labels=tensor([0.4970, 0.4970, 0.4970,  ..., 0.4970, 0.4970, 0.4970]))\n"
     ]
    },
    {
     "name": "stderr",
     "output_type": "stream",
     "text": [
      "/Users/alexi/Library/CloudStorage/OneDrive-Nexus365/Rotation Projects/Rotation_1/Project/DomAdpQSAR/DomAdpQSAR/presentation.py:36: UserWarning: Dataset has 0 variance; skipping density estimate. Pass `warn_singular=False` to disable this warning.\n",
      "  axes = sns.kdeplot(unlabeled_predictions, ax=axes, color=sns.color_palette()[1], bw_method=bandwidth,\n",
      "/Users/alexi/Library/CloudStorage/OneDrive-Nexus365/Rotation Projects/Rotation_1/Project/DomAdpQSAR/DomAdpQSAR/presentation.py:38: UserWarning: Dataset has 0 variance; skipping density estimate. Pass `warn_singular=False` to disable this warning.\n",
      "  axes = sns.kdeplot(test_predictions, ax=axes, color=sns.color_palette()[2], bw_method=bandwidth,\n",
      "/Users/alexi/Library/CloudStorage/OneDrive-Nexus365/Rotation Projects/Rotation_1/Project/DomAdpQSAR/DomAdpQSAR/presentation.py:40: UserWarning: Dataset has 0 variance; skipping density estimate. Pass `warn_singular=False` to disable this warning.\n",
      "  axes = sns.kdeplot(train_predictions, ax=axes, color=sns.color_palette()[2], linewidth=0.5, bw_method=bandwidth,\n"
     ]
    },
    {
     "name": "stdout",
     "output_type": "stream",
     "text": [
      "Step 840, 0:00:03.534722...ize([1000, 2048])DNN Test Values:  ComparisonValues(ACC=tensor(0.8428), BAC=tensor(0.7531), MCC=tensor(0.5517), predicted_labels=tensor([0.2685, 0.0135, 0.0241,  ..., 0.9396, 0.0416, 0.0196]))\n",
      "GAN Test Values:  ComparisonValues(ACC=tensor(0.7527), BAC=tensor(0.5000), MCC=0.01, predicted_labels=tensor([0.4968, 0.4968, 0.4968,  ..., 0.4968, 0.4968, 0.4968]))\n"
     ]
    },
    {
     "name": "stderr",
     "output_type": "stream",
     "text": [
      "/Users/alexi/Library/CloudStorage/OneDrive-Nexus365/Rotation Projects/Rotation_1/Project/DomAdpQSAR/DomAdpQSAR/presentation.py:36: UserWarning: Dataset has 0 variance; skipping density estimate. Pass `warn_singular=False` to disable this warning.\n",
      "  axes = sns.kdeplot(unlabeled_predictions, ax=axes, color=sns.color_palette()[1], bw_method=bandwidth,\n",
      "/Users/alexi/Library/CloudStorage/OneDrive-Nexus365/Rotation Projects/Rotation_1/Project/DomAdpQSAR/DomAdpQSAR/presentation.py:38: UserWarning: Dataset has 0 variance; skipping density estimate. Pass `warn_singular=False` to disable this warning.\n",
      "  axes = sns.kdeplot(test_predictions, ax=axes, color=sns.color_palette()[2], bw_method=bandwidth,\n",
      "/Users/alexi/Library/CloudStorage/OneDrive-Nexus365/Rotation Projects/Rotation_1/Project/DomAdpQSAR/DomAdpQSAR/presentation.py:40: UserWarning: Dataset has 0 variance; skipping density estimate. Pass `warn_singular=False` to disable this warning.\n",
      "  axes = sns.kdeplot(train_predictions, ax=axes, color=sns.color_palette()[2], linewidth=0.5, bw_method=bandwidth,\n"
     ]
    },
    {
     "name": "stdout",
     "output_type": "stream",
     "text": [
      "Step 847, 0:00:03.362191...ize([1000, 2048])DNN Test Values:  ComparisonValues(ACC=tensor(0.8439), BAC=tensor(0.7539), MCC=tensor(0.5546), predicted_labels=tensor([0.1645, 0.3353, 0.0207,  ..., 0.0248, 0.9601, 0.1857]))\n",
      "GAN Test Values:  ComparisonValues(ACC=tensor(0.7527), BAC=tensor(0.5000), MCC=0.01, predicted_labels=tensor([0.4966, 0.4966, 0.4966,  ..., 0.4966, 0.4966, 0.4966]))\n"
     ]
    },
    {
     "name": "stderr",
     "output_type": "stream",
     "text": [
      "/Users/alexi/Library/CloudStorage/OneDrive-Nexus365/Rotation Projects/Rotation_1/Project/DomAdpQSAR/DomAdpQSAR/presentation.py:36: UserWarning: Dataset has 0 variance; skipping density estimate. Pass `warn_singular=False` to disable this warning.\n",
      "  axes = sns.kdeplot(unlabeled_predictions, ax=axes, color=sns.color_palette()[1], bw_method=bandwidth,\n",
      "/Users/alexi/Library/CloudStorage/OneDrive-Nexus365/Rotation Projects/Rotation_1/Project/DomAdpQSAR/DomAdpQSAR/presentation.py:38: UserWarning: Dataset has 0 variance; skipping density estimate. Pass `warn_singular=False` to disable this warning.\n",
      "  axes = sns.kdeplot(test_predictions, ax=axes, color=sns.color_palette()[2], bw_method=bandwidth,\n",
      "/Users/alexi/Library/CloudStorage/OneDrive-Nexus365/Rotation Projects/Rotation_1/Project/DomAdpQSAR/DomAdpQSAR/presentation.py:40: UserWarning: Dataset has 0 variance; skipping density estimate. Pass `warn_singular=False` to disable this warning.\n",
      "  axes = sns.kdeplot(train_predictions, ax=axes, color=sns.color_palette()[2], linewidth=0.5, bw_method=bandwidth,\n"
     ]
    },
    {
     "name": "stdout",
     "output_type": "stream",
     "text": [
      "Step 854, 0:00:03.440570...ize([1000, 2048])DNN Test Values:  ComparisonValues(ACC=tensor(0.8444), BAC=tensor(0.7536), MCC=tensor(0.5554), predicted_labels=tensor([0.1572, 0.0250, 0.0236,  ..., 0.0320, 0.9681, 0.0190]))\n",
      "GAN Test Values:  ComparisonValues(ACC=tensor(0.7527), BAC=tensor(0.5000), MCC=0.01, predicted_labels=tensor([0.4964, 0.4964, 0.4964,  ..., 0.4964, 0.4964, 0.4964]))\n"
     ]
    },
    {
     "name": "stderr",
     "output_type": "stream",
     "text": [
      "/Users/alexi/Library/CloudStorage/OneDrive-Nexus365/Rotation Projects/Rotation_1/Project/DomAdpQSAR/DomAdpQSAR/presentation.py:36: UserWarning: Dataset has 0 variance; skipping density estimate. Pass `warn_singular=False` to disable this warning.\n",
      "  axes = sns.kdeplot(unlabeled_predictions, ax=axes, color=sns.color_palette()[1], bw_method=bandwidth,\n",
      "/Users/alexi/Library/CloudStorage/OneDrive-Nexus365/Rotation Projects/Rotation_1/Project/DomAdpQSAR/DomAdpQSAR/presentation.py:38: UserWarning: Dataset has 0 variance; skipping density estimate. Pass `warn_singular=False` to disable this warning.\n",
      "  axes = sns.kdeplot(test_predictions, ax=axes, color=sns.color_palette()[2], bw_method=bandwidth,\n",
      "/Users/alexi/Library/CloudStorage/OneDrive-Nexus365/Rotation Projects/Rotation_1/Project/DomAdpQSAR/DomAdpQSAR/presentation.py:40: UserWarning: Dataset has 0 variance; skipping density estimate. Pass `warn_singular=False` to disable this warning.\n",
      "  axes = sns.kdeplot(train_predictions, ax=axes, color=sns.color_palette()[2], linewidth=0.5, bw_method=bandwidth,\n"
     ]
    },
    {
     "name": "stdout",
     "output_type": "stream",
     "text": [
      "Step 861, 0:00:04.222615...ize([1000, 2048])DNN Test Values:  ComparisonValues(ACC=tensor(0.8446), BAC=tensor(0.7500), MCC=tensor(0.5539), predicted_labels=tensor([0.0190, 0.0345, 0.0329,  ..., 0.0172, 0.1566, 0.0522]))\n",
      "GAN Test Values:  ComparisonValues(ACC=tensor(0.7527), BAC=tensor(0.5000), MCC=0.01, predicted_labels=tensor([0.4962, 0.4962, 0.4962,  ..., 0.4962, 0.4962, 0.4962]))\n"
     ]
    },
    {
     "name": "stderr",
     "output_type": "stream",
     "text": [
      "/Users/alexi/Library/CloudStorage/OneDrive-Nexus365/Rotation Projects/Rotation_1/Project/DomAdpQSAR/DomAdpQSAR/presentation.py:36: UserWarning: Dataset has 0 variance; skipping density estimate. Pass `warn_singular=False` to disable this warning.\n",
      "  axes = sns.kdeplot(unlabeled_predictions, ax=axes, color=sns.color_palette()[1], bw_method=bandwidth,\n",
      "/Users/alexi/Library/CloudStorage/OneDrive-Nexus365/Rotation Projects/Rotation_1/Project/DomAdpQSAR/DomAdpQSAR/presentation.py:38: UserWarning: Dataset has 0 variance; skipping density estimate. Pass `warn_singular=False` to disable this warning.\n",
      "  axes = sns.kdeplot(test_predictions, ax=axes, color=sns.color_palette()[2], bw_method=bandwidth,\n",
      "/Users/alexi/Library/CloudStorage/OneDrive-Nexus365/Rotation Projects/Rotation_1/Project/DomAdpQSAR/DomAdpQSAR/presentation.py:40: UserWarning: Dataset has 0 variance; skipping density estimate. Pass `warn_singular=False` to disable this warning.\n",
      "  axes = sns.kdeplot(train_predictions, ax=axes, color=sns.color_palette()[2], linewidth=0.5, bw_method=bandwidth,\n"
     ]
    },
    {
     "name": "stdout",
     "output_type": "stream",
     "text": [
      "Step 868, 0:00:03.520737...ize([1000, 2048])DNN Test Values:  ComparisonValues(ACC=tensor(0.8433), BAC=tensor(0.7494), MCC=tensor(0.5505), predicted_labels=tensor([0.0252, 0.0199, 0.0483,  ..., 0.0237, 0.1068, 0.0181]))\n",
      "GAN Test Values:  ComparisonValues(ACC=tensor(0.7527), BAC=tensor(0.5000), MCC=0.01, predicted_labels=tensor([0.4960, 0.4960, 0.4960,  ..., 0.4960, 0.4960, 0.4960]))\n"
     ]
    },
    {
     "name": "stderr",
     "output_type": "stream",
     "text": [
      "/Users/alexi/Library/CloudStorage/OneDrive-Nexus365/Rotation Projects/Rotation_1/Project/DomAdpQSAR/DomAdpQSAR/presentation.py:36: UserWarning: Dataset has 0 variance; skipping density estimate. Pass `warn_singular=False` to disable this warning.\n",
      "  axes = sns.kdeplot(unlabeled_predictions, ax=axes, color=sns.color_palette()[1], bw_method=bandwidth,\n",
      "/Users/alexi/Library/CloudStorage/OneDrive-Nexus365/Rotation Projects/Rotation_1/Project/DomAdpQSAR/DomAdpQSAR/presentation.py:38: UserWarning: Dataset has 0 variance; skipping density estimate. Pass `warn_singular=False` to disable this warning.\n",
      "  axes = sns.kdeplot(test_predictions, ax=axes, color=sns.color_palette()[2], bw_method=bandwidth,\n",
      "/Users/alexi/Library/CloudStorage/OneDrive-Nexus365/Rotation Projects/Rotation_1/Project/DomAdpQSAR/DomAdpQSAR/presentation.py:40: UserWarning: Dataset has 0 variance; skipping density estimate. Pass `warn_singular=False` to disable this warning.\n",
      "  axes = sns.kdeplot(train_predictions, ax=axes, color=sns.color_palette()[2], linewidth=0.5, bw_method=bandwidth,\n"
     ]
    },
    {
     "name": "stdout",
     "output_type": "stream",
     "text": [
      "Step 875, 0:00:03.496860...ize([1000, 2048])DNN Test Values:  ComparisonValues(ACC=tensor(0.8417), BAC=tensor(0.7530), MCC=tensor(0.5492), predicted_labels=tensor([0.9834, 0.0388, 0.9799,  ..., 0.0953, 0.0693, 0.0224]))\n",
      "GAN Test Values:  ComparisonValues(ACC=tensor(0.7527), BAC=tensor(0.5000), MCC=0.01, predicted_labels=tensor([0.4959, 0.4959, 0.4959,  ..., 0.4959, 0.4959, 0.4959]))\n"
     ]
    },
    {
     "name": "stderr",
     "output_type": "stream",
     "text": [
      "/Users/alexi/Library/CloudStorage/OneDrive-Nexus365/Rotation Projects/Rotation_1/Project/DomAdpQSAR/DomAdpQSAR/presentation.py:36: UserWarning: Dataset has 0 variance; skipping density estimate. Pass `warn_singular=False` to disable this warning.\n",
      "  axes = sns.kdeplot(unlabeled_predictions, ax=axes, color=sns.color_palette()[1], bw_method=bandwidth,\n",
      "/Users/alexi/Library/CloudStorage/OneDrive-Nexus365/Rotation Projects/Rotation_1/Project/DomAdpQSAR/DomAdpQSAR/presentation.py:38: UserWarning: Dataset has 0 variance; skipping density estimate. Pass `warn_singular=False` to disable this warning.\n",
      "  axes = sns.kdeplot(test_predictions, ax=axes, color=sns.color_palette()[2], bw_method=bandwidth,\n",
      "/Users/alexi/Library/CloudStorage/OneDrive-Nexus365/Rotation Projects/Rotation_1/Project/DomAdpQSAR/DomAdpQSAR/presentation.py:40: UserWarning: Dataset has 0 variance; skipping density estimate. Pass `warn_singular=False` to disable this warning.\n",
      "  axes = sns.kdeplot(train_predictions, ax=axes, color=sns.color_palette()[2], linewidth=0.5, bw_method=bandwidth,\n"
     ]
    },
    {
     "name": "stdout",
     "output_type": "stream",
     "text": [
      "Step 882, 0:00:03.313824...ize([1000, 2048])DNN Test Values:  ComparisonValues(ACC=tensor(0.8423), BAC=tensor(0.7553), MCC=tensor(0.5521), predicted_labels=tensor([0.0121, 0.9929, 0.0259,  ..., 0.2563, 0.0204, 0.0234]))\n",
      "GAN Test Values:  ComparisonValues(ACC=tensor(0.7527), BAC=tensor(0.5000), MCC=0.01, predicted_labels=tensor([0.4957, 0.4957, 0.4957,  ..., 0.4957, 0.4957, 0.4957]))\n"
     ]
    },
    {
     "name": "stderr",
     "output_type": "stream",
     "text": [
      "/Users/alexi/Library/CloudStorage/OneDrive-Nexus365/Rotation Projects/Rotation_1/Project/DomAdpQSAR/DomAdpQSAR/presentation.py:36: UserWarning: Dataset has 0 variance; skipping density estimate. Pass `warn_singular=False` to disable this warning.\n",
      "  axes = sns.kdeplot(unlabeled_predictions, ax=axes, color=sns.color_palette()[1], bw_method=bandwidth,\n",
      "/Users/alexi/Library/CloudStorage/OneDrive-Nexus365/Rotation Projects/Rotation_1/Project/DomAdpQSAR/DomAdpQSAR/presentation.py:38: UserWarning: Dataset has 0 variance; skipping density estimate. Pass `warn_singular=False` to disable this warning.\n",
      "  axes = sns.kdeplot(test_predictions, ax=axes, color=sns.color_palette()[2], bw_method=bandwidth,\n",
      "/Users/alexi/Library/CloudStorage/OneDrive-Nexus365/Rotation Projects/Rotation_1/Project/DomAdpQSAR/DomAdpQSAR/presentation.py:40: UserWarning: Dataset has 0 variance; skipping density estimate. Pass `warn_singular=False` to disable this warning.\n",
      "  axes = sns.kdeplot(train_predictions, ax=axes, color=sns.color_palette()[2], linewidth=0.5, bw_method=bandwidth,\n"
     ]
    },
    {
     "name": "stdout",
     "output_type": "stream",
     "text": [
      "Step 889, 0:00:03.685316...ize([1000, 2048])DNN Test Values:  ComparisonValues(ACC=tensor(0.8433), BAC=tensor(0.7550), MCC=tensor(0.5538), predicted_labels=tensor([0.9060, 0.0353, 0.4460,  ..., 0.1319, 0.1231, 0.0226]))\n",
      "GAN Test Values:  ComparisonValues(ACC=tensor(0.7527), BAC=tensor(0.5000), MCC=0.01, predicted_labels=tensor([0.4955, 0.4955, 0.4955,  ..., 0.4955, 0.4955, 0.4955]))\n"
     ]
    },
    {
     "name": "stderr",
     "output_type": "stream",
     "text": [
      "/Users/alexi/Library/CloudStorage/OneDrive-Nexus365/Rotation Projects/Rotation_1/Project/DomAdpQSAR/DomAdpQSAR/presentation.py:36: UserWarning: Dataset has 0 variance; skipping density estimate. Pass `warn_singular=False` to disable this warning.\n",
      "  axes = sns.kdeplot(unlabeled_predictions, ax=axes, color=sns.color_palette()[1], bw_method=bandwidth,\n",
      "/Users/alexi/Library/CloudStorage/OneDrive-Nexus365/Rotation Projects/Rotation_1/Project/DomAdpQSAR/DomAdpQSAR/presentation.py:38: UserWarning: Dataset has 0 variance; skipping density estimate. Pass `warn_singular=False` to disable this warning.\n",
      "  axes = sns.kdeplot(test_predictions, ax=axes, color=sns.color_palette()[2], bw_method=bandwidth,\n",
      "/Users/alexi/Library/CloudStorage/OneDrive-Nexus365/Rotation Projects/Rotation_1/Project/DomAdpQSAR/DomAdpQSAR/presentation.py:40: UserWarning: Dataset has 0 variance; skipping density estimate. Pass `warn_singular=False` to disable this warning.\n",
      "  axes = sns.kdeplot(train_predictions, ax=axes, color=sns.color_palette()[2], linewidth=0.5, bw_method=bandwidth,\n"
     ]
    },
    {
     "name": "stdout",
     "output_type": "stream",
     "text": [
      "Step 896, 0:00:03.287714...ize([1000, 2048])DNN Test Values:  ComparisonValues(ACC=tensor(0.8439), BAC=tensor(0.7545), MCC=tensor(0.5549), predicted_labels=tensor([0.0275, 0.0392, 0.0206,  ..., 0.0283, 0.1233, 0.0159]))\n",
      "GAN Test Values:  ComparisonValues(ACC=tensor(0.7527), BAC=tensor(0.5000), MCC=0.01, predicted_labels=tensor([0.4954, 0.4954, 0.4954,  ..., 0.4954, 0.4954, 0.4954]))\n"
     ]
    },
    {
     "name": "stderr",
     "output_type": "stream",
     "text": [
      "/Users/alexi/Library/CloudStorage/OneDrive-Nexus365/Rotation Projects/Rotation_1/Project/DomAdpQSAR/DomAdpQSAR/presentation.py:36: UserWarning: Dataset has 0 variance; skipping density estimate. Pass `warn_singular=False` to disable this warning.\n",
      "  axes = sns.kdeplot(unlabeled_predictions, ax=axes, color=sns.color_palette()[1], bw_method=bandwidth,\n",
      "/Users/alexi/Library/CloudStorage/OneDrive-Nexus365/Rotation Projects/Rotation_1/Project/DomAdpQSAR/DomAdpQSAR/presentation.py:38: UserWarning: Dataset has 0 variance; skipping density estimate. Pass `warn_singular=False` to disable this warning.\n",
      "  axes = sns.kdeplot(test_predictions, ax=axes, color=sns.color_palette()[2], bw_method=bandwidth,\n",
      "/Users/alexi/Library/CloudStorage/OneDrive-Nexus365/Rotation Projects/Rotation_1/Project/DomAdpQSAR/DomAdpQSAR/presentation.py:40: UserWarning: Dataset has 0 variance; skipping density estimate. Pass `warn_singular=False` to disable this warning.\n",
      "  axes = sns.kdeplot(train_predictions, ax=axes, color=sns.color_palette()[2], linewidth=0.5, bw_method=bandwidth,\n"
     ]
    },
    {
     "name": "stdout",
     "output_type": "stream",
     "text": [
      "Step 903, 0:00:03.368116...ize([1000, 2048])DNN Test Values:  ComparisonValues(ACC=tensor(0.8430), BAC=tensor(0.7533), MCC=tensor(0.5523), predicted_labels=tensor([0.0310, 0.9701, 0.0648,  ..., 0.0283, 0.1749, 0.6070]))\n",
      "GAN Test Values:  ComparisonValues(ACC=tensor(0.7527), BAC=tensor(0.5000), MCC=0.01, predicted_labels=tensor([0.4952, 0.4952, 0.4952,  ..., 0.4952, 0.4952, 0.4952]))\n"
     ]
    },
    {
     "name": "stderr",
     "output_type": "stream",
     "text": [
      "/Users/alexi/Library/CloudStorage/OneDrive-Nexus365/Rotation Projects/Rotation_1/Project/DomAdpQSAR/DomAdpQSAR/presentation.py:36: UserWarning: Dataset has 0 variance; skipping density estimate. Pass `warn_singular=False` to disable this warning.\n",
      "  axes = sns.kdeplot(unlabeled_predictions, ax=axes, color=sns.color_palette()[1], bw_method=bandwidth,\n",
      "/Users/alexi/Library/CloudStorage/OneDrive-Nexus365/Rotation Projects/Rotation_1/Project/DomAdpQSAR/DomAdpQSAR/presentation.py:38: UserWarning: Dataset has 0 variance; skipping density estimate. Pass `warn_singular=False` to disable this warning.\n",
      "  axes = sns.kdeplot(test_predictions, ax=axes, color=sns.color_palette()[2], bw_method=bandwidth,\n",
      "/Users/alexi/Library/CloudStorage/OneDrive-Nexus365/Rotation Projects/Rotation_1/Project/DomAdpQSAR/DomAdpQSAR/presentation.py:40: UserWarning: Dataset has 0 variance; skipping density estimate. Pass `warn_singular=False` to disable this warning.\n",
      "  axes = sns.kdeplot(train_predictions, ax=axes, color=sns.color_palette()[2], linewidth=0.5, bw_method=bandwidth,\n"
     ]
    },
    {
     "name": "stdout",
     "output_type": "stream",
     "text": [
      "Step 910, 0:00:03.255198...ize([1000, 2048])DNN Test Values:  ComparisonValues(ACC=tensor(0.8444), BAC=tensor(0.7536), MCC=tensor(0.5554), predicted_labels=tensor([0.0168, 0.0148, 0.0199,  ..., 0.9730, 0.0145, 0.0233]))\n",
      "GAN Test Values:  ComparisonValues(ACC=tensor(0.7527), BAC=tensor(0.5000), MCC=0.01, predicted_labels=tensor([0.4950, 0.4950, 0.4950,  ..., 0.4950, 0.4950, 0.4950]))\n"
     ]
    },
    {
     "name": "stderr",
     "output_type": "stream",
     "text": [
      "/Users/alexi/Library/CloudStorage/OneDrive-Nexus365/Rotation Projects/Rotation_1/Project/DomAdpQSAR/DomAdpQSAR/presentation.py:36: UserWarning: Dataset has 0 variance; skipping density estimate. Pass `warn_singular=False` to disable this warning.\n",
      "  axes = sns.kdeplot(unlabeled_predictions, ax=axes, color=sns.color_palette()[1], bw_method=bandwidth,\n",
      "/Users/alexi/Library/CloudStorage/OneDrive-Nexus365/Rotation Projects/Rotation_1/Project/DomAdpQSAR/DomAdpQSAR/presentation.py:38: UserWarning: Dataset has 0 variance; skipping density estimate. Pass `warn_singular=False` to disable this warning.\n",
      "  axes = sns.kdeplot(test_predictions, ax=axes, color=sns.color_palette()[2], bw_method=bandwidth,\n",
      "/Users/alexi/Library/CloudStorage/OneDrive-Nexus365/Rotation Projects/Rotation_1/Project/DomAdpQSAR/DomAdpQSAR/presentation.py:40: UserWarning: Dataset has 0 variance; skipping density estimate. Pass `warn_singular=False` to disable this warning.\n",
      "  axes = sns.kdeplot(train_predictions, ax=axes, color=sns.color_palette()[2], linewidth=0.5, bw_method=bandwidth,\n"
     ]
    },
    {
     "name": "stdout",
     "output_type": "stream",
     "text": [
      "Step 917, 0:00:03.420672...ize([1000, 2048])DNN Test Values:  ComparisonValues(ACC=tensor(0.8460), BAC=tensor(0.7577), MCC=tensor(0.5612), predicted_labels=tensor([0.0246, 0.0196, 0.0239,  ..., 0.9969, 0.3737, 0.9064]))\n",
      "GAN Test Values:  ComparisonValues(ACC=tensor(0.7527), BAC=tensor(0.5000), MCC=0.01, predicted_labels=tensor([0.4948, 0.4948, 0.4948,  ..., 0.4948, 0.4948, 0.4948]))\n"
     ]
    },
    {
     "name": "stderr",
     "output_type": "stream",
     "text": [
      "/Users/alexi/Library/CloudStorage/OneDrive-Nexus365/Rotation Projects/Rotation_1/Project/DomAdpQSAR/DomAdpQSAR/presentation.py:36: UserWarning: Dataset has 0 variance; skipping density estimate. Pass `warn_singular=False` to disable this warning.\n",
      "  axes = sns.kdeplot(unlabeled_predictions, ax=axes, color=sns.color_palette()[1], bw_method=bandwidth,\n",
      "/Users/alexi/Library/CloudStorage/OneDrive-Nexus365/Rotation Projects/Rotation_1/Project/DomAdpQSAR/DomAdpQSAR/presentation.py:38: UserWarning: Dataset has 0 variance; skipping density estimate. Pass `warn_singular=False` to disable this warning.\n",
      "  axes = sns.kdeplot(test_predictions, ax=axes, color=sns.color_palette()[2], bw_method=bandwidth,\n",
      "/Users/alexi/Library/CloudStorage/OneDrive-Nexus365/Rotation Projects/Rotation_1/Project/DomAdpQSAR/DomAdpQSAR/presentation.py:40: UserWarning: Dataset has 0 variance; skipping density estimate. Pass `warn_singular=False` to disable this warning.\n",
      "  axes = sns.kdeplot(train_predictions, ax=axes, color=sns.color_palette()[2], linewidth=0.5, bw_method=bandwidth,\n"
     ]
    },
    {
     "name": "stdout",
     "output_type": "stream",
     "text": [
      "Step 924, 0:00:04.010123...ize([1000, 2048])DNN Test Values:  ComparisonValues(ACC=tensor(0.8453), BAC=tensor(0.7554), MCC=tensor(0.5584), predicted_labels=tensor([0.0201, 0.0325, 0.0133,  ..., 0.8043, 0.8820, 0.2638]))\n",
      "GAN Test Values:  ComparisonValues(ACC=tensor(0.7527), BAC=tensor(0.5000), MCC=0.01, predicted_labels=tensor([0.4946, 0.4946, 0.4946,  ..., 0.4946, 0.4946, 0.4946]))\n"
     ]
    },
    {
     "name": "stderr",
     "output_type": "stream",
     "text": [
      "/Users/alexi/Library/CloudStorage/OneDrive-Nexus365/Rotation Projects/Rotation_1/Project/DomAdpQSAR/DomAdpQSAR/presentation.py:36: UserWarning: Dataset has 0 variance; skipping density estimate. Pass `warn_singular=False` to disable this warning.\n",
      "  axes = sns.kdeplot(unlabeled_predictions, ax=axes, color=sns.color_palette()[1], bw_method=bandwidth,\n",
      "/Users/alexi/Library/CloudStorage/OneDrive-Nexus365/Rotation Projects/Rotation_1/Project/DomAdpQSAR/DomAdpQSAR/presentation.py:38: UserWarning: Dataset has 0 variance; skipping density estimate. Pass `warn_singular=False` to disable this warning.\n",
      "  axes = sns.kdeplot(test_predictions, ax=axes, color=sns.color_palette()[2], bw_method=bandwidth,\n",
      "/Users/alexi/Library/CloudStorage/OneDrive-Nexus365/Rotation Projects/Rotation_1/Project/DomAdpQSAR/DomAdpQSAR/presentation.py:40: UserWarning: Dataset has 0 variance; skipping density estimate. Pass `warn_singular=False` to disable this warning.\n",
      "  axes = sns.kdeplot(train_predictions, ax=axes, color=sns.color_palette()[2], linewidth=0.5, bw_method=bandwidth,\n"
     ]
    },
    {
     "name": "stdout",
     "output_type": "stream",
     "text": [
      "Step 931, 0:00:03.504875...ize([1000, 2048])DNN Test Values:  ComparisonValues(ACC=tensor(0.8453), BAC=tensor(0.7563), MCC=tensor(0.5589), predicted_labels=tensor([0.0159, 0.6463, 0.0263,  ..., 0.0112, 0.0220, 0.1893]))\n",
      "GAN Test Values:  ComparisonValues(ACC=tensor(0.7527), BAC=tensor(0.5000), MCC=0.01, predicted_labels=tensor([0.4945, 0.4945, 0.4945,  ..., 0.4945, 0.4945, 0.4945]))\n"
     ]
    },
    {
     "name": "stderr",
     "output_type": "stream",
     "text": [
      "/Users/alexi/Library/CloudStorage/OneDrive-Nexus365/Rotation Projects/Rotation_1/Project/DomAdpQSAR/DomAdpQSAR/presentation.py:36: UserWarning: Dataset has 0 variance; skipping density estimate. Pass `warn_singular=False` to disable this warning.\n",
      "  axes = sns.kdeplot(unlabeled_predictions, ax=axes, color=sns.color_palette()[1], bw_method=bandwidth,\n",
      "/Users/alexi/Library/CloudStorage/OneDrive-Nexus365/Rotation Projects/Rotation_1/Project/DomAdpQSAR/DomAdpQSAR/presentation.py:38: UserWarning: Dataset has 0 variance; skipping density estimate. Pass `warn_singular=False` to disable this warning.\n",
      "  axes = sns.kdeplot(test_predictions, ax=axes, color=sns.color_palette()[2], bw_method=bandwidth,\n",
      "/Users/alexi/Library/CloudStorage/OneDrive-Nexus365/Rotation Projects/Rotation_1/Project/DomAdpQSAR/DomAdpQSAR/presentation.py:40: UserWarning: Dataset has 0 variance; skipping density estimate. Pass `warn_singular=False` to disable this warning.\n",
      "  axes = sns.kdeplot(train_predictions, ax=axes, color=sns.color_palette()[2], linewidth=0.5, bw_method=bandwidth,\n"
     ]
    },
    {
     "name": "stdout",
     "output_type": "stream",
     "text": [
      "Step 938, 0:00:03.488941...ize([1000, 2048])DNN Test Values:  ComparisonValues(ACC=tensor(0.8439), BAC=tensor(0.7548), MCC=tensor(0.5551), predicted_labels=tensor([0.0372, 0.0197, 0.0172,  ..., 0.0252, 0.0668, 0.0151]))\n",
      "GAN Test Values:  ComparisonValues(ACC=tensor(0.7527), BAC=tensor(0.5000), MCC=0.01, predicted_labels=tensor([0.4943, 0.4943, 0.4943,  ..., 0.4943, 0.4943, 0.4943]))\n"
     ]
    },
    {
     "name": "stderr",
     "output_type": "stream",
     "text": [
      "/Users/alexi/Library/CloudStorage/OneDrive-Nexus365/Rotation Projects/Rotation_1/Project/DomAdpQSAR/DomAdpQSAR/presentation.py:36: UserWarning: Dataset has 0 variance; skipping density estimate. Pass `warn_singular=False` to disable this warning.\n",
      "  axes = sns.kdeplot(unlabeled_predictions, ax=axes, color=sns.color_palette()[1], bw_method=bandwidth,\n",
      "/Users/alexi/Library/CloudStorage/OneDrive-Nexus365/Rotation Projects/Rotation_1/Project/DomAdpQSAR/DomAdpQSAR/presentation.py:38: UserWarning: Dataset has 0 variance; skipping density estimate. Pass `warn_singular=False` to disable this warning.\n",
      "  axes = sns.kdeplot(test_predictions, ax=axes, color=sns.color_palette()[2], bw_method=bandwidth,\n",
      "/Users/alexi/Library/CloudStorage/OneDrive-Nexus365/Rotation Projects/Rotation_1/Project/DomAdpQSAR/DomAdpQSAR/presentation.py:40: UserWarning: Dataset has 0 variance; skipping density estimate. Pass `warn_singular=False` to disable this warning.\n",
      "  axes = sns.kdeplot(train_predictions, ax=axes, color=sns.color_palette()[2], linewidth=0.5, bw_method=bandwidth,\n"
     ]
    },
    {
     "name": "stdout",
     "output_type": "stream",
     "text": [
      "Step 945, 0:00:03.342480...ize([1000, 2048])DNN Test Values:  ComparisonValues(ACC=tensor(0.8437), BAC=tensor(0.7553), MCC=tensor(0.5549), predicted_labels=tensor([0.4412, 0.0314, 0.0242,  ..., 0.0242, 0.0198, 0.0226]))\n",
      "GAN Test Values:  ComparisonValues(ACC=tensor(0.7527), BAC=tensor(0.5000), MCC=0.01, predicted_labels=tensor([0.4941, 0.4941, 0.4941,  ..., 0.4941, 0.4941, 0.4941]))\n"
     ]
    },
    {
     "name": "stderr",
     "output_type": "stream",
     "text": [
      "/Users/alexi/Library/CloudStorage/OneDrive-Nexus365/Rotation Projects/Rotation_1/Project/DomAdpQSAR/DomAdpQSAR/presentation.py:36: UserWarning: Dataset has 0 variance; skipping density estimate. Pass `warn_singular=False` to disable this warning.\n",
      "  axes = sns.kdeplot(unlabeled_predictions, ax=axes, color=sns.color_palette()[1], bw_method=bandwidth,\n",
      "/Users/alexi/Library/CloudStorage/OneDrive-Nexus365/Rotation Projects/Rotation_1/Project/DomAdpQSAR/DomAdpQSAR/presentation.py:38: UserWarning: Dataset has 0 variance; skipping density estimate. Pass `warn_singular=False` to disable this warning.\n",
      "  axes = sns.kdeplot(test_predictions, ax=axes, color=sns.color_palette()[2], bw_method=bandwidth,\n",
      "/Users/alexi/Library/CloudStorage/OneDrive-Nexus365/Rotation Projects/Rotation_1/Project/DomAdpQSAR/DomAdpQSAR/presentation.py:40: UserWarning: Dataset has 0 variance; skipping density estimate. Pass `warn_singular=False` to disable this warning.\n",
      "  axes = sns.kdeplot(train_predictions, ax=axes, color=sns.color_palette()[2], linewidth=0.5, bw_method=bandwidth,\n"
     ]
    },
    {
     "name": "stdout",
     "output_type": "stream",
     "text": [
      "Step 952, 0:00:03.447278...ize([1000, 2048])DNN Test Values:  ComparisonValues(ACC=tensor(0.8433), BAC=tensor(0.7513), MCC=tensor(0.5516), predicted_labels=tensor([0.0552, 0.0209, 0.0189,  ..., 0.0174, 0.0240, 0.0382]))\n",
      "GAN Test Values:  ComparisonValues(ACC=tensor(0.7527), BAC=tensor(0.5000), MCC=0.01, predicted_labels=tensor([0.4939, 0.4939, 0.4939,  ..., 0.4939, 0.4939, 0.4939]))\n"
     ]
    },
    {
     "name": "stderr",
     "output_type": "stream",
     "text": [
      "/Users/alexi/Library/CloudStorage/OneDrive-Nexus365/Rotation Projects/Rotation_1/Project/DomAdpQSAR/DomAdpQSAR/presentation.py:36: UserWarning: Dataset has 0 variance; skipping density estimate. Pass `warn_singular=False` to disable this warning.\n",
      "  axes = sns.kdeplot(unlabeled_predictions, ax=axes, color=sns.color_palette()[1], bw_method=bandwidth,\n",
      "/Users/alexi/Library/CloudStorage/OneDrive-Nexus365/Rotation Projects/Rotation_1/Project/DomAdpQSAR/DomAdpQSAR/presentation.py:38: UserWarning: Dataset has 0 variance; skipping density estimate. Pass `warn_singular=False` to disable this warning.\n",
      "  axes = sns.kdeplot(test_predictions, ax=axes, color=sns.color_palette()[2], bw_method=bandwidth,\n",
      "/Users/alexi/Library/CloudStorage/OneDrive-Nexus365/Rotation Projects/Rotation_1/Project/DomAdpQSAR/DomAdpQSAR/presentation.py:40: UserWarning: Dataset has 0 variance; skipping density estimate. Pass `warn_singular=False` to disable this warning.\n",
      "  axes = sns.kdeplot(train_predictions, ax=axes, color=sns.color_palette()[2], linewidth=0.5, bw_method=bandwidth,\n"
     ]
    },
    {
     "name": "stdout",
     "output_type": "stream",
     "text": [
      "Step 959, 0:00:03.347714...ize([1000, 2048])DNN Test Values:  ComparisonValues(ACC=tensor(0.8446), BAC=tensor(0.7549), MCC=tensor(0.5567), predicted_labels=tensor([0.9371, 0.0531, 0.0123,  ..., 0.0202, 0.0125, 0.0142]))\n",
      "GAN Test Values:  ComparisonValues(ACC=tensor(0.7527), BAC=tensor(0.5000), MCC=0.01, predicted_labels=tensor([0.4938, 0.4938, 0.4938,  ..., 0.4938, 0.4938, 0.4938]))\n"
     ]
    },
    {
     "name": "stderr",
     "output_type": "stream",
     "text": [
      "/Users/alexi/Library/CloudStorage/OneDrive-Nexus365/Rotation Projects/Rotation_1/Project/DomAdpQSAR/DomAdpQSAR/presentation.py:36: UserWarning: Dataset has 0 variance; skipping density estimate. Pass `warn_singular=False` to disable this warning.\n",
      "  axes = sns.kdeplot(unlabeled_predictions, ax=axes, color=sns.color_palette()[1], bw_method=bandwidth,\n",
      "/Users/alexi/Library/CloudStorage/OneDrive-Nexus365/Rotation Projects/Rotation_1/Project/DomAdpQSAR/DomAdpQSAR/presentation.py:38: UserWarning: Dataset has 0 variance; skipping density estimate. Pass `warn_singular=False` to disable this warning.\n",
      "  axes = sns.kdeplot(test_predictions, ax=axes, color=sns.color_palette()[2], bw_method=bandwidth,\n",
      "/Users/alexi/Library/CloudStorage/OneDrive-Nexus365/Rotation Projects/Rotation_1/Project/DomAdpQSAR/DomAdpQSAR/presentation.py:40: UserWarning: Dataset has 0 variance; skipping density estimate. Pass `warn_singular=False` to disable this warning.\n",
      "  axes = sns.kdeplot(train_predictions, ax=axes, color=sns.color_palette()[2], linewidth=0.5, bw_method=bandwidth,\n"
     ]
    },
    {
     "name": "stdout",
     "output_type": "stream",
     "text": [
      "Step 966, 0:00:03.354889...ize([1000, 2048])DNN Test Values:  ComparisonValues(ACC=tensor(0.8460), BAC=tensor(0.7559), MCC=tensor(0.5602), predicted_labels=tensor([0.0220, 0.9677, 0.0163,  ..., 0.0345, 0.0221, 0.0794]))\n",
      "GAN Test Values:  ComparisonValues(ACC=tensor(0.7527), BAC=tensor(0.5000), MCC=0.01, predicted_labels=tensor([0.4936, 0.4936, 0.4936,  ..., 0.4936, 0.4936, 0.4936]))\n"
     ]
    },
    {
     "name": "stderr",
     "output_type": "stream",
     "text": [
      "/Users/alexi/Library/CloudStorage/OneDrive-Nexus365/Rotation Projects/Rotation_1/Project/DomAdpQSAR/DomAdpQSAR/presentation.py:36: UserWarning: Dataset has 0 variance; skipping density estimate. Pass `warn_singular=False` to disable this warning.\n",
      "  axes = sns.kdeplot(unlabeled_predictions, ax=axes, color=sns.color_palette()[1], bw_method=bandwidth,\n",
      "/Users/alexi/Library/CloudStorage/OneDrive-Nexus365/Rotation Projects/Rotation_1/Project/DomAdpQSAR/DomAdpQSAR/presentation.py:38: UserWarning: Dataset has 0 variance; skipping density estimate. Pass `warn_singular=False` to disable this warning.\n",
      "  axes = sns.kdeplot(test_predictions, ax=axes, color=sns.color_palette()[2], bw_method=bandwidth,\n",
      "/Users/alexi/Library/CloudStorage/OneDrive-Nexus365/Rotation Projects/Rotation_1/Project/DomAdpQSAR/DomAdpQSAR/presentation.py:40: UserWarning: Dataset has 0 variance; skipping density estimate. Pass `warn_singular=False` to disable this warning.\n",
      "  axes = sns.kdeplot(train_predictions, ax=axes, color=sns.color_palette()[2], linewidth=0.5, bw_method=bandwidth,\n"
     ]
    },
    {
     "name": "stdout",
     "output_type": "stream",
     "text": [
      "Step 973, 0:00:03.291494...ize([1000, 2048])DNN Test Values:  ComparisonValues(ACC=tensor(0.8469), BAC=tensor(0.7577), MCC=tensor(0.5632), predicted_labels=tensor([0.1948, 0.0212, 0.0304,  ..., 0.0228, 0.5905, 0.0139]))\n",
      "GAN Test Values:  ComparisonValues(ACC=tensor(0.7527), BAC=tensor(0.5000), MCC=0.01, predicted_labels=tensor([0.4935, 0.4935, 0.4935,  ..., 0.4935, 0.4935, 0.4935]))\n"
     ]
    },
    {
     "name": "stderr",
     "output_type": "stream",
     "text": [
      "/Users/alexi/Library/CloudStorage/OneDrive-Nexus365/Rotation Projects/Rotation_1/Project/DomAdpQSAR/DomAdpQSAR/presentation.py:36: UserWarning: Dataset has 0 variance; skipping density estimate. Pass `warn_singular=False` to disable this warning.\n",
      "  axes = sns.kdeplot(unlabeled_predictions, ax=axes, color=sns.color_palette()[1], bw_method=bandwidth,\n",
      "/Users/alexi/Library/CloudStorage/OneDrive-Nexus365/Rotation Projects/Rotation_1/Project/DomAdpQSAR/DomAdpQSAR/presentation.py:38: UserWarning: Dataset has 0 variance; skipping density estimate. Pass `warn_singular=False` to disable this warning.\n",
      "  axes = sns.kdeplot(test_predictions, ax=axes, color=sns.color_palette()[2], bw_method=bandwidth,\n",
      "/Users/alexi/Library/CloudStorage/OneDrive-Nexus365/Rotation Projects/Rotation_1/Project/DomAdpQSAR/DomAdpQSAR/presentation.py:40: UserWarning: Dataset has 0 variance; skipping density estimate. Pass `warn_singular=False` to disable this warning.\n",
      "  axes = sns.kdeplot(train_predictions, ax=axes, color=sns.color_palette()[2], linewidth=0.5, bw_method=bandwidth,\n"
     ]
    },
    {
     "name": "stdout",
     "output_type": "stream",
     "text": [
      "Step 980, 0:00:03.315406...ize([1000, 2048])DNN Test Values:  ComparisonValues(ACC=tensor(0.8458), BAC=tensor(0.7582), MCC=tensor(0.5610), predicted_labels=tensor([0.8192, 0.9809, 0.9191,  ..., 0.1523, 0.1689, 0.9944]))\n",
      "GAN Test Values:  ComparisonValues(ACC=tensor(0.7527), BAC=tensor(0.5000), MCC=0.01, predicted_labels=tensor([0.4933, 0.4933, 0.4933,  ..., 0.4933, 0.4933, 0.4933]))\n"
     ]
    },
    {
     "name": "stderr",
     "output_type": "stream",
     "text": [
      "/Users/alexi/Library/CloudStorage/OneDrive-Nexus365/Rotation Projects/Rotation_1/Project/DomAdpQSAR/DomAdpQSAR/presentation.py:36: UserWarning: Dataset has 0 variance; skipping density estimate. Pass `warn_singular=False` to disable this warning.\n",
      "  axes = sns.kdeplot(unlabeled_predictions, ax=axes, color=sns.color_palette()[1], bw_method=bandwidth,\n",
      "/Users/alexi/Library/CloudStorage/OneDrive-Nexus365/Rotation Projects/Rotation_1/Project/DomAdpQSAR/DomAdpQSAR/presentation.py:38: UserWarning: Dataset has 0 variance; skipping density estimate. Pass `warn_singular=False` to disable this warning.\n",
      "  axes = sns.kdeplot(test_predictions, ax=axes, color=sns.color_palette()[2], bw_method=bandwidth,\n",
      "/Users/alexi/Library/CloudStorage/OneDrive-Nexus365/Rotation Projects/Rotation_1/Project/DomAdpQSAR/DomAdpQSAR/presentation.py:40: UserWarning: Dataset has 0 variance; skipping density estimate. Pass `warn_singular=False` to disable this warning.\n",
      "  axes = sns.kdeplot(train_predictions, ax=axes, color=sns.color_palette()[2], linewidth=0.5, bw_method=bandwidth,\n"
     ]
    },
    {
     "name": "stdout",
     "output_type": "stream",
     "text": [
      "Step 987, 0:00:03.392412...ize([1000, 2048])DNN Test Values:  ComparisonValues(ACC=tensor(0.8458), BAC=tensor(0.7545), MCC=tensor(0.5589), predicted_labels=tensor([0.0221, 0.0186, 0.8036,  ..., 0.0603, 0.2045, 0.0167]))\n",
      "GAN Test Values:  ComparisonValues(ACC=tensor(0.7527), BAC=tensor(0.5000), MCC=0.01, predicted_labels=tensor([0.4931, 0.4931, 0.4931,  ..., 0.4931, 0.4931, 0.4931]))\n"
     ]
    },
    {
     "name": "stderr",
     "output_type": "stream",
     "text": [
      "/Users/alexi/Library/CloudStorage/OneDrive-Nexus365/Rotation Projects/Rotation_1/Project/DomAdpQSAR/DomAdpQSAR/presentation.py:36: UserWarning: Dataset has 0 variance; skipping density estimate. Pass `warn_singular=False` to disable this warning.\n",
      "  axes = sns.kdeplot(unlabeled_predictions, ax=axes, color=sns.color_palette()[1], bw_method=bandwidth,\n",
      "/Users/alexi/Library/CloudStorage/OneDrive-Nexus365/Rotation Projects/Rotation_1/Project/DomAdpQSAR/DomAdpQSAR/presentation.py:38: UserWarning: Dataset has 0 variance; skipping density estimate. Pass `warn_singular=False` to disable this warning.\n",
      "  axes = sns.kdeplot(test_predictions, ax=axes, color=sns.color_palette()[2], bw_method=bandwidth,\n",
      "/Users/alexi/Library/CloudStorage/OneDrive-Nexus365/Rotation Projects/Rotation_1/Project/DomAdpQSAR/DomAdpQSAR/presentation.py:40: UserWarning: Dataset has 0 variance; skipping density estimate. Pass `warn_singular=False` to disable this warning.\n",
      "  axes = sns.kdeplot(train_predictions, ax=axes, color=sns.color_palette()[2], linewidth=0.5, bw_method=bandwidth,\n"
     ]
    },
    {
     "name": "stdout",
     "output_type": "stream",
     "text": [
      "Step 994, 0:00:03.286161...ize([1000, 2048])DNN Test Values:  ComparisonValues(ACC=tensor(0.8462), BAC=tensor(0.7600), MCC=tensor(0.5630), predicted_labels=tensor([0.0166, 0.0121, 0.0225,  ..., 0.9881, 0.2055, 0.9509]))\n",
      "GAN Test Values:  ComparisonValues(ACC=tensor(0.7527), BAC=tensor(0.5000), MCC=0.01, predicted_labels=tensor([0.4930, 0.4930, 0.4930,  ..., 0.4930, 0.4930, 0.4930]))\n"
     ]
    },
    {
     "name": "stderr",
     "output_type": "stream",
     "text": [
      "/Users/alexi/Library/CloudStorage/OneDrive-Nexus365/Rotation Projects/Rotation_1/Project/DomAdpQSAR/DomAdpQSAR/presentation.py:36: UserWarning: Dataset has 0 variance; skipping density estimate. Pass `warn_singular=False` to disable this warning.\n",
      "  axes = sns.kdeplot(unlabeled_predictions, ax=axes, color=sns.color_palette()[1], bw_method=bandwidth,\n",
      "/Users/alexi/Library/CloudStorage/OneDrive-Nexus365/Rotation Projects/Rotation_1/Project/DomAdpQSAR/DomAdpQSAR/presentation.py:38: UserWarning: Dataset has 0 variance; skipping density estimate. Pass `warn_singular=False` to disable this warning.\n",
      "  axes = sns.kdeplot(test_predictions, ax=axes, color=sns.color_palette()[2], bw_method=bandwidth,\n",
      "/Users/alexi/Library/CloudStorage/OneDrive-Nexus365/Rotation Projects/Rotation_1/Project/DomAdpQSAR/DomAdpQSAR/presentation.py:40: UserWarning: Dataset has 0 variance; skipping density estimate. Pass `warn_singular=False` to disable this warning.\n",
      "  axes = sns.kdeplot(train_predictions, ax=axes, color=sns.color_palette()[2], linewidth=0.5, bw_method=bandwidth,\n"
     ]
    },
    {
     "name": "stdout",
     "output_type": "stream",
     "text": [
      "Step 1001, 0:00:03.462995...ize([1000, 2048])DNN Test Values:  ComparisonValues(ACC=tensor(0.8462), BAC=tensor(0.7591), MCC=tensor(0.5625), predicted_labels=tensor([0.9433, 0.0131, 0.0539,  ..., 0.0172, 0.9857, 0.9844]))\n",
      "GAN Test Values:  ComparisonValues(ACC=tensor(0.7527), BAC=tensor(0.5000), MCC=0.01, predicted_labels=tensor([0.4928, 0.4928, 0.4928,  ..., 0.4928, 0.4928, 0.4928]))\n"
     ]
    },
    {
     "name": "stderr",
     "output_type": "stream",
     "text": [
      "/Users/alexi/Library/CloudStorage/OneDrive-Nexus365/Rotation Projects/Rotation_1/Project/DomAdpQSAR/DomAdpQSAR/presentation.py:36: UserWarning: Dataset has 0 variance; skipping density estimate. Pass `warn_singular=False` to disable this warning.\n",
      "  axes = sns.kdeplot(unlabeled_predictions, ax=axes, color=sns.color_palette()[1], bw_method=bandwidth,\n",
      "/Users/alexi/Library/CloudStorage/OneDrive-Nexus365/Rotation Projects/Rotation_1/Project/DomAdpQSAR/DomAdpQSAR/presentation.py:38: UserWarning: Dataset has 0 variance; skipping density estimate. Pass `warn_singular=False` to disable this warning.\n",
      "  axes = sns.kdeplot(test_predictions, ax=axes, color=sns.color_palette()[2], bw_method=bandwidth,\n",
      "/Users/alexi/Library/CloudStorage/OneDrive-Nexus365/Rotation Projects/Rotation_1/Project/DomAdpQSAR/DomAdpQSAR/presentation.py:40: UserWarning: Dataset has 0 variance; skipping density estimate. Pass `warn_singular=False` to disable this warning.\n",
      "  axes = sns.kdeplot(train_predictions, ax=axes, color=sns.color_palette()[2], linewidth=0.5, bw_method=bandwidth,\n"
     ]
    },
    {
     "name": "stdout",
     "output_type": "stream",
     "text": [
      "Step 1008, 0:00:03.291337...ize([1000, 2048])DNN Test Values:  ComparisonValues(ACC=tensor(0.8458), BAC=tensor(0.7551), MCC=tensor(0.5592), predicted_labels=tensor([0.0206, 0.5300, 0.0200,  ..., 0.0114, 0.0190, 0.0255]))\n",
      "GAN Test Values:  ComparisonValues(ACC=tensor(0.7527), BAC=tensor(0.5000), MCC=0.01, predicted_labels=tensor([0.4926, 0.4926, 0.4926,  ..., 0.4926, 0.4926, 0.4926]))\n"
     ]
    },
    {
     "name": "stderr",
     "output_type": "stream",
     "text": [
      "/Users/alexi/Library/CloudStorage/OneDrive-Nexus365/Rotation Projects/Rotation_1/Project/DomAdpQSAR/DomAdpQSAR/presentation.py:36: UserWarning: Dataset has 0 variance; skipping density estimate. Pass `warn_singular=False` to disable this warning.\n",
      "  axes = sns.kdeplot(unlabeled_predictions, ax=axes, color=sns.color_palette()[1], bw_method=bandwidth,\n",
      "/Users/alexi/Library/CloudStorage/OneDrive-Nexus365/Rotation Projects/Rotation_1/Project/DomAdpQSAR/DomAdpQSAR/presentation.py:38: UserWarning: Dataset has 0 variance; skipping density estimate. Pass `warn_singular=False` to disable this warning.\n",
      "  axes = sns.kdeplot(test_predictions, ax=axes, color=sns.color_palette()[2], bw_method=bandwidth,\n",
      "/Users/alexi/Library/CloudStorage/OneDrive-Nexus365/Rotation Projects/Rotation_1/Project/DomAdpQSAR/DomAdpQSAR/presentation.py:40: UserWarning: Dataset has 0 variance; skipping density estimate. Pass `warn_singular=False` to disable this warning.\n",
      "  axes = sns.kdeplot(train_predictions, ax=axes, color=sns.color_palette()[2], linewidth=0.5, bw_method=bandwidth,\n"
     ]
    },
    {
     "name": "stdout",
     "output_type": "stream",
     "text": [
      "Step 1015, 0:00:03.337212...ize([1000, 2048])DNN Test Values:  ComparisonValues(ACC=tensor(0.8437), BAC=tensor(0.7531), MCC=tensor(0.5536), predicted_labels=tensor([0.8012, 0.9224, 0.0362,  ..., 0.9838, 0.0095, 0.1839]))\n",
      "GAN Test Values:  ComparisonValues(ACC=tensor(0.7527), BAC=tensor(0.5000), MCC=0.01, predicted_labels=tensor([0.4925, 0.4925, 0.4925,  ..., 0.4925, 0.4925, 0.4925]))\n"
     ]
    },
    {
     "name": "stderr",
     "output_type": "stream",
     "text": [
      "/Users/alexi/Library/CloudStorage/OneDrive-Nexus365/Rotation Projects/Rotation_1/Project/DomAdpQSAR/DomAdpQSAR/presentation.py:36: UserWarning: Dataset has 0 variance; skipping density estimate. Pass `warn_singular=False` to disable this warning.\n",
      "  axes = sns.kdeplot(unlabeled_predictions, ax=axes, color=sns.color_palette()[1], bw_method=bandwidth,\n",
      "/Users/alexi/Library/CloudStorage/OneDrive-Nexus365/Rotation Projects/Rotation_1/Project/DomAdpQSAR/DomAdpQSAR/presentation.py:38: UserWarning: Dataset has 0 variance; skipping density estimate. Pass `warn_singular=False` to disable this warning.\n",
      "  axes = sns.kdeplot(test_predictions, ax=axes, color=sns.color_palette()[2], bw_method=bandwidth,\n",
      "/Users/alexi/Library/CloudStorage/OneDrive-Nexus365/Rotation Projects/Rotation_1/Project/DomAdpQSAR/DomAdpQSAR/presentation.py:40: UserWarning: Dataset has 0 variance; skipping density estimate. Pass `warn_singular=False` to disable this warning.\n",
      "  axes = sns.kdeplot(train_predictions, ax=axes, color=sns.color_palette()[2], linewidth=0.5, bw_method=bandwidth,\n"
     ]
    },
    {
     "name": "stdout",
     "output_type": "stream",
     "text": [
      "Step 1022, 0:00:03.230529...ize([1000, 2048])DNN Test Values:  ComparisonValues(ACC=tensor(0.8419), BAC=tensor(0.7476), MCC=tensor(0.5465), predicted_labels=tensor([0.0150, 0.9450, 0.0150,  ..., 0.0184, 0.0230, 0.0183]))\n",
      "GAN Test Values:  ComparisonValues(ACC=tensor(0.7527), BAC=tensor(0.5000), MCC=0.01, predicted_labels=tensor([0.4923, 0.4923, 0.4923,  ..., 0.4923, 0.4923, 0.4923]))\n"
     ]
    },
    {
     "name": "stderr",
     "output_type": "stream",
     "text": [
      "/Users/alexi/Library/CloudStorage/OneDrive-Nexus365/Rotation Projects/Rotation_1/Project/DomAdpQSAR/DomAdpQSAR/presentation.py:36: UserWarning: Dataset has 0 variance; skipping density estimate. Pass `warn_singular=False` to disable this warning.\n",
      "  axes = sns.kdeplot(unlabeled_predictions, ax=axes, color=sns.color_palette()[1], bw_method=bandwidth,\n",
      "/Users/alexi/Library/CloudStorage/OneDrive-Nexus365/Rotation Projects/Rotation_1/Project/DomAdpQSAR/DomAdpQSAR/presentation.py:38: UserWarning: Dataset has 0 variance; skipping density estimate. Pass `warn_singular=False` to disable this warning.\n",
      "  axes = sns.kdeplot(test_predictions, ax=axes, color=sns.color_palette()[2], bw_method=bandwidth,\n",
      "/Users/alexi/Library/CloudStorage/OneDrive-Nexus365/Rotation Projects/Rotation_1/Project/DomAdpQSAR/DomAdpQSAR/presentation.py:40: UserWarning: Dataset has 0 variance; skipping density estimate. Pass `warn_singular=False` to disable this warning.\n",
      "  axes = sns.kdeplot(train_predictions, ax=axes, color=sns.color_palette()[2], linewidth=0.5, bw_method=bandwidth,\n"
     ]
    },
    {
     "name": "stdout",
     "output_type": "stream",
     "text": [
      "Step 1029, 0:00:03.226492...ize([1000, 2048])DNN Test Values:  ComparisonValues(ACC=tensor(0.8437), BAC=tensor(0.7537), MCC=tensor(0.5540), predicted_labels=tensor([0.0261, 0.0240, 0.0425,  ..., 0.0150, 0.0252, 0.1335]))\n",
      "GAN Test Values:  ComparisonValues(ACC=tensor(0.7527), BAC=tensor(0.5000), MCC=0.01, predicted_labels=tensor([0.4922, 0.4922, 0.4922,  ..., 0.4922, 0.4922, 0.4922]))\n"
     ]
    },
    {
     "name": "stderr",
     "output_type": "stream",
     "text": [
      "/Users/alexi/Library/CloudStorage/OneDrive-Nexus365/Rotation Projects/Rotation_1/Project/DomAdpQSAR/DomAdpQSAR/presentation.py:36: UserWarning: Dataset has 0 variance; skipping density estimate. Pass `warn_singular=False` to disable this warning.\n",
      "  axes = sns.kdeplot(unlabeled_predictions, ax=axes, color=sns.color_palette()[1], bw_method=bandwidth,\n",
      "/Users/alexi/Library/CloudStorage/OneDrive-Nexus365/Rotation Projects/Rotation_1/Project/DomAdpQSAR/DomAdpQSAR/presentation.py:38: UserWarning: Dataset has 0 variance; skipping density estimate. Pass `warn_singular=False` to disable this warning.\n",
      "  axes = sns.kdeplot(test_predictions, ax=axes, color=sns.color_palette()[2], bw_method=bandwidth,\n",
      "/Users/alexi/Library/CloudStorage/OneDrive-Nexus365/Rotation Projects/Rotation_1/Project/DomAdpQSAR/DomAdpQSAR/presentation.py:40: UserWarning: Dataset has 0 variance; skipping density estimate. Pass `warn_singular=False` to disable this warning.\n",
      "  axes = sns.kdeplot(train_predictions, ax=axes, color=sns.color_palette()[2], linewidth=0.5, bw_method=bandwidth,\n"
     ]
    },
    {
     "name": "stdout",
     "output_type": "stream",
     "text": [
      "Step 1036, 0:00:03.212531...ize([1000, 2048])DNN Test Values:  ComparisonValues(ACC=tensor(0.8446), BAC=tensor(0.7562), MCC=tensor(0.5574), predicted_labels=tensor([0.0380, 0.9120, 0.0159,  ..., 0.2301, 0.0152, 0.0214]))\n",
      "GAN Test Values:  ComparisonValues(ACC=tensor(0.7527), BAC=tensor(0.5000), MCC=0.01, predicted_labels=tensor([0.4920, 0.4920, 0.4920,  ..., 0.4920, 0.4920, 0.4920]))\n"
     ]
    },
    {
     "name": "stderr",
     "output_type": "stream",
     "text": [
      "/Users/alexi/Library/CloudStorage/OneDrive-Nexus365/Rotation Projects/Rotation_1/Project/DomAdpQSAR/DomAdpQSAR/presentation.py:36: UserWarning: Dataset has 0 variance; skipping density estimate. Pass `warn_singular=False` to disable this warning.\n",
      "  axes = sns.kdeplot(unlabeled_predictions, ax=axes, color=sns.color_palette()[1], bw_method=bandwidth,\n",
      "/Users/alexi/Library/CloudStorage/OneDrive-Nexus365/Rotation Projects/Rotation_1/Project/DomAdpQSAR/DomAdpQSAR/presentation.py:38: UserWarning: Dataset has 0 variance; skipping density estimate. Pass `warn_singular=False` to disable this warning.\n",
      "  axes = sns.kdeplot(test_predictions, ax=axes, color=sns.color_palette()[2], bw_method=bandwidth,\n",
      "/Users/alexi/Library/CloudStorage/OneDrive-Nexus365/Rotation Projects/Rotation_1/Project/DomAdpQSAR/DomAdpQSAR/presentation.py:40: UserWarning: Dataset has 0 variance; skipping density estimate. Pass `warn_singular=False` to disable this warning.\n",
      "  axes = sns.kdeplot(train_predictions, ax=axes, color=sns.color_palette()[2], linewidth=0.5, bw_method=bandwidth,\n"
     ]
    },
    {
     "name": "stdout",
     "output_type": "stream",
     "text": [
      "Step 1043, 0:00:03.158864...ize([1000, 2048])DNN Test Values:  ComparisonValues(ACC=tensor(0.8435), BAC=tensor(0.7545), MCC=tensor(0.5540), predicted_labels=tensor([0.0298, 0.6885, 0.0728,  ..., 0.0219, 0.4809, 0.0292]))\n",
      "GAN Test Values:  ComparisonValues(ACC=tensor(0.7527), BAC=tensor(0.5000), MCC=0.01, predicted_labels=tensor([0.4919, 0.4919, 0.4919,  ..., 0.4919, 0.4919, 0.4919]))\n"
     ]
    },
    {
     "name": "stderr",
     "output_type": "stream",
     "text": [
      "/Users/alexi/Library/CloudStorage/OneDrive-Nexus365/Rotation Projects/Rotation_1/Project/DomAdpQSAR/DomAdpQSAR/presentation.py:36: UserWarning: Dataset has 0 variance; skipping density estimate. Pass `warn_singular=False` to disable this warning.\n",
      "  axes = sns.kdeplot(unlabeled_predictions, ax=axes, color=sns.color_palette()[1], bw_method=bandwidth,\n",
      "/Users/alexi/Library/CloudStorage/OneDrive-Nexus365/Rotation Projects/Rotation_1/Project/DomAdpQSAR/DomAdpQSAR/presentation.py:38: UserWarning: Dataset has 0 variance; skipping density estimate. Pass `warn_singular=False` to disable this warning.\n",
      "  axes = sns.kdeplot(test_predictions, ax=axes, color=sns.color_palette()[2], bw_method=bandwidth,\n",
      "/Users/alexi/Library/CloudStorage/OneDrive-Nexus365/Rotation Projects/Rotation_1/Project/DomAdpQSAR/DomAdpQSAR/presentation.py:40: UserWarning: Dataset has 0 variance; skipping density estimate. Pass `warn_singular=False` to disable this warning.\n",
      "  axes = sns.kdeplot(train_predictions, ax=axes, color=sns.color_palette()[2], linewidth=0.5, bw_method=bandwidth,\n"
     ]
    },
    {
     "name": "stdout",
     "output_type": "stream",
     "text": [
      "Step 1050, 0:00:03.275627...ize([1000, 2048])DNN Test Values:  ComparisonValues(ACC=tensor(0.8423), BAC=tensor(0.7531), MCC=tensor(0.5507), predicted_labels=tensor([0.0156, 0.0169, 0.9897,  ..., 0.0254, 0.0169, 0.1475]))\n",
      "GAN Test Values:  ComparisonValues(ACC=tensor(0.7527), BAC=tensor(0.5000), MCC=0.01, predicted_labels=tensor([0.4917, 0.4917, 0.4917,  ..., 0.4917, 0.4917, 0.4917]))\n"
     ]
    },
    {
     "name": "stderr",
     "output_type": "stream",
     "text": [
      "/Users/alexi/Library/CloudStorage/OneDrive-Nexus365/Rotation Projects/Rotation_1/Project/DomAdpQSAR/DomAdpQSAR/presentation.py:36: UserWarning: Dataset has 0 variance; skipping density estimate. Pass `warn_singular=False` to disable this warning.\n",
      "  axes = sns.kdeplot(unlabeled_predictions, ax=axes, color=sns.color_palette()[1], bw_method=bandwidth,\n",
      "/Users/alexi/Library/CloudStorage/OneDrive-Nexus365/Rotation Projects/Rotation_1/Project/DomAdpQSAR/DomAdpQSAR/presentation.py:38: UserWarning: Dataset has 0 variance; skipping density estimate. Pass `warn_singular=False` to disable this warning.\n",
      "  axes = sns.kdeplot(test_predictions, ax=axes, color=sns.color_palette()[2], bw_method=bandwidth,\n",
      "/Users/alexi/Library/CloudStorage/OneDrive-Nexus365/Rotation Projects/Rotation_1/Project/DomAdpQSAR/DomAdpQSAR/presentation.py:40: UserWarning: Dataset has 0 variance; skipping density estimate. Pass `warn_singular=False` to disable this warning.\n",
      "  axes = sns.kdeplot(train_predictions, ax=axes, color=sns.color_palette()[2], linewidth=0.5, bw_method=bandwidth,\n"
     ]
    },
    {
     "name": "stdout",
     "output_type": "stream",
     "text": [
      "Step 1057, 0:00:03.144654...ize([1000, 2048])DNN Test Values:  ComparisonValues(ACC=tensor(0.8433), BAC=tensor(0.7519), MCC=tensor(0.5519), predicted_labels=tensor([0.9763, 0.0166, 0.0082,  ..., 0.6826, 0.8628, 0.0234]))\n",
      "GAN Test Values:  ComparisonValues(ACC=tensor(0.7527), BAC=tensor(0.5000), MCC=0.01, predicted_labels=tensor([0.4916, 0.4916, 0.4916,  ..., 0.4916, 0.4916, 0.4916]))\n"
     ]
    },
    {
     "name": "stderr",
     "output_type": "stream",
     "text": [
      "/Users/alexi/Library/CloudStorage/OneDrive-Nexus365/Rotation Projects/Rotation_1/Project/DomAdpQSAR/DomAdpQSAR/presentation.py:36: UserWarning: Dataset has 0 variance; skipping density estimate. Pass `warn_singular=False` to disable this warning.\n",
      "  axes = sns.kdeplot(unlabeled_predictions, ax=axes, color=sns.color_palette()[1], bw_method=bandwidth,\n",
      "/Users/alexi/Library/CloudStorage/OneDrive-Nexus365/Rotation Projects/Rotation_1/Project/DomAdpQSAR/DomAdpQSAR/presentation.py:38: UserWarning: Dataset has 0 variance; skipping density estimate. Pass `warn_singular=False` to disable this warning.\n",
      "  axes = sns.kdeplot(test_predictions, ax=axes, color=sns.color_palette()[2], bw_method=bandwidth,\n",
      "/Users/alexi/Library/CloudStorage/OneDrive-Nexus365/Rotation Projects/Rotation_1/Project/DomAdpQSAR/DomAdpQSAR/presentation.py:40: UserWarning: Dataset has 0 variance; skipping density estimate. Pass `warn_singular=False` to disable this warning.\n",
      "  axes = sns.kdeplot(train_predictions, ax=axes, color=sns.color_palette()[2], linewidth=0.5, bw_method=bandwidth,\n"
     ]
    },
    {
     "name": "stdout",
     "output_type": "stream",
     "text": [
      "Step 1064, 0:00:03.157790...ize([1000, 2048])DNN Test Values:  ComparisonValues(ACC=tensor(0.8433), BAC=tensor(0.7550), MCC=tensor(0.5538), predicted_labels=tensor([0.0172, 0.0261, 0.0121,  ..., 0.9011, 0.0203, 0.0172]))\n",
      "GAN Test Values:  ComparisonValues(ACC=tensor(0.7527), BAC=tensor(0.5000), MCC=0.01, predicted_labels=tensor([0.4914, 0.4914, 0.4914,  ..., 0.4914, 0.4914, 0.4914]))\n"
     ]
    },
    {
     "name": "stderr",
     "output_type": "stream",
     "text": [
      "/Users/alexi/Library/CloudStorage/OneDrive-Nexus365/Rotation Projects/Rotation_1/Project/DomAdpQSAR/DomAdpQSAR/presentation.py:36: UserWarning: Dataset has 0 variance; skipping density estimate. Pass `warn_singular=False` to disable this warning.\n",
      "  axes = sns.kdeplot(unlabeled_predictions, ax=axes, color=sns.color_palette()[1], bw_method=bandwidth,\n",
      "/Users/alexi/Library/CloudStorage/OneDrive-Nexus365/Rotation Projects/Rotation_1/Project/DomAdpQSAR/DomAdpQSAR/presentation.py:38: UserWarning: Dataset has 0 variance; skipping density estimate. Pass `warn_singular=False` to disable this warning.\n",
      "  axes = sns.kdeplot(test_predictions, ax=axes, color=sns.color_palette()[2], bw_method=bandwidth,\n",
      "/Users/alexi/Library/CloudStorage/OneDrive-Nexus365/Rotation Projects/Rotation_1/Project/DomAdpQSAR/DomAdpQSAR/presentation.py:40: UserWarning: Dataset has 0 variance; skipping density estimate. Pass `warn_singular=False` to disable this warning.\n",
      "  axes = sns.kdeplot(train_predictions, ax=axes, color=sns.color_palette()[2], linewidth=0.5, bw_method=bandwidth,\n"
     ]
    },
    {
     "name": "stdout",
     "output_type": "stream",
     "text": [
      "Step 1071, 0:00:03.064226...ize([1000, 2048])DNN Test Values:  ComparisonValues(ACC=tensor(0.8446), BAC=tensor(0.7565), MCC=tensor(0.5576), predicted_labels=tensor([0.0162, 0.0276, 0.0206,  ..., 0.1657, 0.0136, 0.0267]))\n",
      "GAN Test Values:  ComparisonValues(ACC=tensor(0.7527), BAC=tensor(0.5000), MCC=0.01, predicted_labels=tensor([0.4912, 0.4912, 0.4912,  ..., 0.4912, 0.4912, 0.4912]))\n"
     ]
    },
    {
     "name": "stderr",
     "output_type": "stream",
     "text": [
      "/Users/alexi/Library/CloudStorage/OneDrive-Nexus365/Rotation Projects/Rotation_1/Project/DomAdpQSAR/DomAdpQSAR/presentation.py:36: UserWarning: Dataset has 0 variance; skipping density estimate. Pass `warn_singular=False` to disable this warning.\n",
      "  axes = sns.kdeplot(unlabeled_predictions, ax=axes, color=sns.color_palette()[1], bw_method=bandwidth,\n",
      "/Users/alexi/Library/CloudStorage/OneDrive-Nexus365/Rotation Projects/Rotation_1/Project/DomAdpQSAR/DomAdpQSAR/presentation.py:38: UserWarning: Dataset has 0 variance; skipping density estimate. Pass `warn_singular=False` to disable this warning.\n",
      "  axes = sns.kdeplot(test_predictions, ax=axes, color=sns.color_palette()[2], bw_method=bandwidth,\n",
      "/Users/alexi/Library/CloudStorage/OneDrive-Nexus365/Rotation Projects/Rotation_1/Project/DomAdpQSAR/DomAdpQSAR/presentation.py:40: UserWarning: Dataset has 0 variance; skipping density estimate. Pass `warn_singular=False` to disable this warning.\n",
      "  axes = sns.kdeplot(train_predictions, ax=axes, color=sns.color_palette()[2], linewidth=0.5, bw_method=bandwidth,\n"
     ]
    },
    {
     "name": "stdout",
     "output_type": "stream",
     "text": [
      "Step 1078, 0:00:03.220751...ize([1000, 2048])DNN Test Values:  ComparisonValues(ACC=tensor(0.8446), BAC=tensor(0.7540), MCC=tensor(0.5561), predicted_labels=tensor([0.1323, 0.0168, 0.0215,  ..., 0.0157, 0.0180, 0.0167]))\n",
      "GAN Test Values:  ComparisonValues(ACC=tensor(0.7527), BAC=tensor(0.5000), MCC=0.01, predicted_labels=tensor([0.4911, 0.4911, 0.4911,  ..., 0.4911, 0.4911, 0.4911]))\n"
     ]
    },
    {
     "name": "stderr",
     "output_type": "stream",
     "text": [
      "/Users/alexi/Library/CloudStorage/OneDrive-Nexus365/Rotation Projects/Rotation_1/Project/DomAdpQSAR/DomAdpQSAR/presentation.py:36: UserWarning: Dataset has 0 variance; skipping density estimate. Pass `warn_singular=False` to disable this warning.\n",
      "  axes = sns.kdeplot(unlabeled_predictions, ax=axes, color=sns.color_palette()[1], bw_method=bandwidth,\n",
      "/Users/alexi/Library/CloudStorage/OneDrive-Nexus365/Rotation Projects/Rotation_1/Project/DomAdpQSAR/DomAdpQSAR/presentation.py:38: UserWarning: Dataset has 0 variance; skipping density estimate. Pass `warn_singular=False` to disable this warning.\n",
      "  axes = sns.kdeplot(test_predictions, ax=axes, color=sns.color_palette()[2], bw_method=bandwidth,\n",
      "/Users/alexi/Library/CloudStorage/OneDrive-Nexus365/Rotation Projects/Rotation_1/Project/DomAdpQSAR/DomAdpQSAR/presentation.py:40: UserWarning: Dataset has 0 variance; skipping density estimate. Pass `warn_singular=False` to disable this warning.\n",
      "  axes = sns.kdeplot(train_predictions, ax=axes, color=sns.color_palette()[2], linewidth=0.5, bw_method=bandwidth,\n"
     ]
    },
    {
     "name": "stdout",
     "output_type": "stream",
     "text": [
      "Step 1085, 0:00:03.159761...ize([1000, 2048])DNN Test Values:  ComparisonValues(ACC=tensor(0.8444), BAC=tensor(0.7551), MCC=tensor(0.5563), predicted_labels=tensor([0.9838, 0.0117, 0.9815,  ..., 0.0171, 0.0582, 0.1052]))\n",
      "GAN Test Values:  ComparisonValues(ACC=tensor(0.7527), BAC=tensor(0.5000), MCC=0.01, predicted_labels=tensor([0.4909, 0.4909, 0.4909,  ..., 0.4909, 0.4909, 0.4909]))\n"
     ]
    },
    {
     "name": "stderr",
     "output_type": "stream",
     "text": [
      "/Users/alexi/Library/CloudStorage/OneDrive-Nexus365/Rotation Projects/Rotation_1/Project/DomAdpQSAR/DomAdpQSAR/presentation.py:36: UserWarning: Dataset has 0 variance; skipping density estimate. Pass `warn_singular=False` to disable this warning.\n",
      "  axes = sns.kdeplot(unlabeled_predictions, ax=axes, color=sns.color_palette()[1], bw_method=bandwidth,\n",
      "/Users/alexi/Library/CloudStorage/OneDrive-Nexus365/Rotation Projects/Rotation_1/Project/DomAdpQSAR/DomAdpQSAR/presentation.py:38: UserWarning: Dataset has 0 variance; skipping density estimate. Pass `warn_singular=False` to disable this warning.\n",
      "  axes = sns.kdeplot(test_predictions, ax=axes, color=sns.color_palette()[2], bw_method=bandwidth,\n",
      "/Users/alexi/Library/CloudStorage/OneDrive-Nexus365/Rotation Projects/Rotation_1/Project/DomAdpQSAR/DomAdpQSAR/presentation.py:40: UserWarning: Dataset has 0 variance; skipping density estimate. Pass `warn_singular=False` to disable this warning.\n",
      "  axes = sns.kdeplot(train_predictions, ax=axes, color=sns.color_palette()[2], linewidth=0.5, bw_method=bandwidth,\n"
     ]
    },
    {
     "name": "stdout",
     "output_type": "stream",
     "text": [
      "Step 1092, 0:00:03.171236...ize([1000, 2048])DNN Test Values:  ComparisonValues(ACC=tensor(0.8430), BAC=tensor(0.7564), MCC=tensor(0.5541), predicted_labels=tensor([0.0254, 0.0263, 0.0191,  ..., 0.0162, 0.0277, 0.0164]))\n",
      "GAN Test Values:  ComparisonValues(ACC=tensor(0.7527), BAC=tensor(0.5000), MCC=0.01, predicted_labels=tensor([0.4908, 0.4908, 0.4908,  ..., 0.4908, 0.4908, 0.4908]))\n"
     ]
    },
    {
     "name": "stderr",
     "output_type": "stream",
     "text": [
      "/Users/alexi/Library/CloudStorage/OneDrive-Nexus365/Rotation Projects/Rotation_1/Project/DomAdpQSAR/DomAdpQSAR/presentation.py:36: UserWarning: Dataset has 0 variance; skipping density estimate. Pass `warn_singular=False` to disable this warning.\n",
      "  axes = sns.kdeplot(unlabeled_predictions, ax=axes, color=sns.color_palette()[1], bw_method=bandwidth,\n",
      "/Users/alexi/Library/CloudStorage/OneDrive-Nexus365/Rotation Projects/Rotation_1/Project/DomAdpQSAR/DomAdpQSAR/presentation.py:38: UserWarning: Dataset has 0 variance; skipping density estimate. Pass `warn_singular=False` to disable this warning.\n",
      "  axes = sns.kdeplot(test_predictions, ax=axes, color=sns.color_palette()[2], bw_method=bandwidth,\n",
      "/Users/alexi/Library/CloudStorage/OneDrive-Nexus365/Rotation Projects/Rotation_1/Project/DomAdpQSAR/DomAdpQSAR/presentation.py:40: UserWarning: Dataset has 0 variance; skipping density estimate. Pass `warn_singular=False` to disable this warning.\n",
      "  axes = sns.kdeplot(train_predictions, ax=axes, color=sns.color_palette()[2], linewidth=0.5, bw_method=bandwidth,\n"
     ]
    },
    {
     "name": "stdout",
     "output_type": "stream",
     "text": [
      "Step 1099, 0:00:03.252972...ize([1000, 2048])DNN Test Values:  ComparisonValues(ACC=tensor(0.8426), BAC=tensor(0.7539), MCC=tensor(0.5517), predicted_labels=tensor([0.2761, 0.0125, 0.0148,  ..., 0.0188, 0.9866, 0.0147]))\n",
      "GAN Test Values:  ComparisonValues(ACC=tensor(0.7527), BAC=tensor(0.5000), MCC=0.01, predicted_labels=tensor([0.4906, 0.4906, 0.4906,  ..., 0.4906, 0.4906, 0.4906]))\n"
     ]
    },
    {
     "name": "stderr",
     "output_type": "stream",
     "text": [
      "/Users/alexi/Library/CloudStorage/OneDrive-Nexus365/Rotation Projects/Rotation_1/Project/DomAdpQSAR/DomAdpQSAR/presentation.py:36: UserWarning: Dataset has 0 variance; skipping density estimate. Pass `warn_singular=False` to disable this warning.\n",
      "  axes = sns.kdeplot(unlabeled_predictions, ax=axes, color=sns.color_palette()[1], bw_method=bandwidth,\n",
      "/Users/alexi/Library/CloudStorage/OneDrive-Nexus365/Rotation Projects/Rotation_1/Project/DomAdpQSAR/DomAdpQSAR/presentation.py:38: UserWarning: Dataset has 0 variance; skipping density estimate. Pass `warn_singular=False` to disable this warning.\n",
      "  axes = sns.kdeplot(test_predictions, ax=axes, color=sns.color_palette()[2], bw_method=bandwidth,\n",
      "/Users/alexi/Library/CloudStorage/OneDrive-Nexus365/Rotation Projects/Rotation_1/Project/DomAdpQSAR/DomAdpQSAR/presentation.py:40: UserWarning: Dataset has 0 variance; skipping density estimate. Pass `warn_singular=False` to disable this warning.\n",
      "  axes = sns.kdeplot(train_predictions, ax=axes, color=sns.color_palette()[2], linewidth=0.5, bw_method=bandwidth,\n"
     ]
    },
    {
     "name": "stdout",
     "output_type": "stream",
     "text": [
      "Step 1106, 0:00:03.077661...ize([1000, 2048])DNN Test Values:  ComparisonValues(ACC=tensor(0.8442), BAC=tensor(0.7577), MCC=tensor(0.5574), predicted_labels=tensor([0.0239, 0.9890, 0.0569,  ..., 0.0156, 0.0159, 0.0326]))\n",
      "GAN Test Values:  ComparisonValues(ACC=tensor(0.7527), BAC=tensor(0.5000), MCC=0.01, predicted_labels=tensor([0.4905, 0.4905, 0.4905,  ..., 0.4905, 0.4905, 0.4905]))\n"
     ]
    },
    {
     "name": "stderr",
     "output_type": "stream",
     "text": [
      "/Users/alexi/Library/CloudStorage/OneDrive-Nexus365/Rotation Projects/Rotation_1/Project/DomAdpQSAR/DomAdpQSAR/presentation.py:36: UserWarning: Dataset has 0 variance; skipping density estimate. Pass `warn_singular=False` to disable this warning.\n",
      "  axes = sns.kdeplot(unlabeled_predictions, ax=axes, color=sns.color_palette()[1], bw_method=bandwidth,\n",
      "/Users/alexi/Library/CloudStorage/OneDrive-Nexus365/Rotation Projects/Rotation_1/Project/DomAdpQSAR/DomAdpQSAR/presentation.py:38: UserWarning: Dataset has 0 variance; skipping density estimate. Pass `warn_singular=False` to disable this warning.\n",
      "  axes = sns.kdeplot(test_predictions, ax=axes, color=sns.color_palette()[2], bw_method=bandwidth,\n",
      "/Users/alexi/Library/CloudStorage/OneDrive-Nexus365/Rotation Projects/Rotation_1/Project/DomAdpQSAR/DomAdpQSAR/presentation.py:40: UserWarning: Dataset has 0 variance; skipping density estimate. Pass `warn_singular=False` to disable this warning.\n",
      "  axes = sns.kdeplot(train_predictions, ax=axes, color=sns.color_palette()[2], linewidth=0.5, bw_method=bandwidth,\n"
     ]
    },
    {
     "name": "stdout",
     "output_type": "stream",
     "text": [
      "Step 1113, 0:00:03.249898...ize([1000, 2048])DNN Test Values:  ComparisonValues(ACC=tensor(0.8437), BAC=tensor(0.7587), MCC=tensor(0.5570), predicted_labels=tensor([0.9232, 0.0158, 0.0142,  ..., 0.0187, 0.0169, 0.9847]))\n",
      "GAN Test Values:  ComparisonValues(ACC=tensor(0.7527), BAC=tensor(0.5000), MCC=0.01, predicted_labels=tensor([0.4903, 0.4903, 0.4903,  ..., 0.4903, 0.4903, 0.4903]))\n"
     ]
    },
    {
     "name": "stderr",
     "output_type": "stream",
     "text": [
      "/Users/alexi/Library/CloudStorage/OneDrive-Nexus365/Rotation Projects/Rotation_1/Project/DomAdpQSAR/DomAdpQSAR/presentation.py:36: UserWarning: Dataset has 0 variance; skipping density estimate. Pass `warn_singular=False` to disable this warning.\n",
      "  axes = sns.kdeplot(unlabeled_predictions, ax=axes, color=sns.color_palette()[1], bw_method=bandwidth,\n",
      "/Users/alexi/Library/CloudStorage/OneDrive-Nexus365/Rotation Projects/Rotation_1/Project/DomAdpQSAR/DomAdpQSAR/presentation.py:38: UserWarning: Dataset has 0 variance; skipping density estimate. Pass `warn_singular=False` to disable this warning.\n",
      "  axes = sns.kdeplot(test_predictions, ax=axes, color=sns.color_palette()[2], bw_method=bandwidth,\n",
      "/Users/alexi/Library/CloudStorage/OneDrive-Nexus365/Rotation Projects/Rotation_1/Project/DomAdpQSAR/DomAdpQSAR/presentation.py:40: UserWarning: Dataset has 0 variance; skipping density estimate. Pass `warn_singular=False` to disable this warning.\n",
      "  axes = sns.kdeplot(train_predictions, ax=axes, color=sns.color_palette()[2], linewidth=0.5, bw_method=bandwidth,\n"
     ]
    },
    {
     "name": "stdout",
     "output_type": "stream",
     "text": [
      "Step 1120, 0:00:03.193756...ize([1000, 2048])DNN Test Values:  ComparisonValues(ACC=tensor(0.8442), BAC=tensor(0.7587), MCC=tensor(0.5579), predicted_labels=tensor([0.0149, 0.0103, 0.0693,  ..., 0.9722, 0.0241, 0.9763]))\n",
      "GAN Test Values:  ComparisonValues(ACC=tensor(0.7527), BAC=tensor(0.5000), MCC=0.01, predicted_labels=tensor([0.4901, 0.4901, 0.4901,  ..., 0.4901, 0.4901, 0.4901]))\n"
     ]
    },
    {
     "name": "stderr",
     "output_type": "stream",
     "text": [
      "/Users/alexi/Library/CloudStorage/OneDrive-Nexus365/Rotation Projects/Rotation_1/Project/DomAdpQSAR/DomAdpQSAR/presentation.py:36: UserWarning: Dataset has 0 variance; skipping density estimate. Pass `warn_singular=False` to disable this warning.\n",
      "  axes = sns.kdeplot(unlabeled_predictions, ax=axes, color=sns.color_palette()[1], bw_method=bandwidth,\n",
      "/Users/alexi/Library/CloudStorage/OneDrive-Nexus365/Rotation Projects/Rotation_1/Project/DomAdpQSAR/DomAdpQSAR/presentation.py:38: UserWarning: Dataset has 0 variance; skipping density estimate. Pass `warn_singular=False` to disable this warning.\n",
      "  axes = sns.kdeplot(test_predictions, ax=axes, color=sns.color_palette()[2], bw_method=bandwidth,\n",
      "/Users/alexi/Library/CloudStorage/OneDrive-Nexus365/Rotation Projects/Rotation_1/Project/DomAdpQSAR/DomAdpQSAR/presentation.py:40: UserWarning: Dataset has 0 variance; skipping density estimate. Pass `warn_singular=False` to disable this warning.\n",
      "  axes = sns.kdeplot(train_predictions, ax=axes, color=sns.color_palette()[2], linewidth=0.5, bw_method=bandwidth,\n"
     ]
    },
    {
     "name": "stdout",
     "output_type": "stream",
     "text": [
      "Step 1127, 0:00:03.158113...ize([1000, 2048])DNN Test Values:  ComparisonValues(ACC=tensor(0.8455), BAC=tensor(0.7621), MCC=tensor(0.5628), predicted_labels=tensor([0.0235, 0.0287, 0.0302,  ..., 0.7714, 0.8115, 0.0111]))\n",
      "GAN Test Values:  ComparisonValues(ACC=tensor(0.7527), BAC=tensor(0.5000), MCC=0.01, predicted_labels=tensor([0.4899, 0.4899, 0.4899,  ..., 0.4899, 0.4899, 0.4899]))\n"
     ]
    },
    {
     "name": "stderr",
     "output_type": "stream",
     "text": [
      "/Users/alexi/Library/CloudStorage/OneDrive-Nexus365/Rotation Projects/Rotation_1/Project/DomAdpQSAR/DomAdpQSAR/presentation.py:36: UserWarning: Dataset has 0 variance; skipping density estimate. Pass `warn_singular=False` to disable this warning.\n",
      "  axes = sns.kdeplot(unlabeled_predictions, ax=axes, color=sns.color_palette()[1], bw_method=bandwidth,\n",
      "/Users/alexi/Library/CloudStorage/OneDrive-Nexus365/Rotation Projects/Rotation_1/Project/DomAdpQSAR/DomAdpQSAR/presentation.py:38: UserWarning: Dataset has 0 variance; skipping density estimate. Pass `warn_singular=False` to disable this warning.\n",
      "  axes = sns.kdeplot(test_predictions, ax=axes, color=sns.color_palette()[2], bw_method=bandwidth,\n",
      "/Users/alexi/Library/CloudStorage/OneDrive-Nexus365/Rotation Projects/Rotation_1/Project/DomAdpQSAR/DomAdpQSAR/presentation.py:40: UserWarning: Dataset has 0 variance; skipping density estimate. Pass `warn_singular=False` to disable this warning.\n",
      "  axes = sns.kdeplot(train_predictions, ax=axes, color=sns.color_palette()[2], linewidth=0.5, bw_method=bandwidth,\n"
     ]
    },
    {
     "name": "stdout",
     "output_type": "stream",
     "text": [
      "Step 1134, 0:00:03.337007...ize([1000, 2048])DNN Test Values:  ComparisonValues(ACC=tensor(0.8444), BAC=tensor(0.7601), MCC=tensor(0.5593), predicted_labels=tensor([0.0138, 0.0199, 0.0151,  ..., 0.0942, 0.1689, 0.0132]))\n",
      "GAN Test Values:  ComparisonValues(ACC=tensor(0.7527), BAC=tensor(0.5000), MCC=0.01, predicted_labels=tensor([0.4897, 0.4897, 0.4897,  ..., 0.4897, 0.4897, 0.4897]))\n"
     ]
    },
    {
     "name": "stderr",
     "output_type": "stream",
     "text": [
      "/Users/alexi/Library/CloudStorage/OneDrive-Nexus365/Rotation Projects/Rotation_1/Project/DomAdpQSAR/DomAdpQSAR/presentation.py:36: UserWarning: Dataset has 0 variance; skipping density estimate. Pass `warn_singular=False` to disable this warning.\n",
      "  axes = sns.kdeplot(unlabeled_predictions, ax=axes, color=sns.color_palette()[1], bw_method=bandwidth,\n",
      "/Users/alexi/Library/CloudStorage/OneDrive-Nexus365/Rotation Projects/Rotation_1/Project/DomAdpQSAR/DomAdpQSAR/presentation.py:38: UserWarning: Dataset has 0 variance; skipping density estimate. Pass `warn_singular=False` to disable this warning.\n",
      "  axes = sns.kdeplot(test_predictions, ax=axes, color=sns.color_palette()[2], bw_method=bandwidth,\n",
      "/Users/alexi/Library/CloudStorage/OneDrive-Nexus365/Rotation Projects/Rotation_1/Project/DomAdpQSAR/DomAdpQSAR/presentation.py:40: UserWarning: Dataset has 0 variance; skipping density estimate. Pass `warn_singular=False` to disable this warning.\n",
      "  axes = sns.kdeplot(train_predictions, ax=axes, color=sns.color_palette()[2], linewidth=0.5, bw_method=bandwidth,\n"
     ]
    },
    {
     "name": "stdout",
     "output_type": "stream",
     "text": [
      "Step 1141, 0:00:03.062094...ize([1000, 2048])DNN Test Values:  ComparisonValues(ACC=tensor(0.8442), BAC=tensor(0.7596), MCC=tensor(0.5585), predicted_labels=tensor([0.1942, 0.0151, 0.0400,  ..., 0.9715, 0.0170, 0.9675]))\n",
      "GAN Test Values:  ComparisonValues(ACC=tensor(0.7527), BAC=tensor(0.5000), MCC=0.01, predicted_labels=tensor([0.4896, 0.4896, 0.4896,  ..., 0.4896, 0.4896, 0.4896]))\n"
     ]
    },
    {
     "name": "stderr",
     "output_type": "stream",
     "text": [
      "/Users/alexi/Library/CloudStorage/OneDrive-Nexus365/Rotation Projects/Rotation_1/Project/DomAdpQSAR/DomAdpQSAR/presentation.py:36: UserWarning: Dataset has 0 variance; skipping density estimate. Pass `warn_singular=False` to disable this warning.\n",
      "  axes = sns.kdeplot(unlabeled_predictions, ax=axes, color=sns.color_palette()[1], bw_method=bandwidth,\n",
      "/Users/alexi/Library/CloudStorage/OneDrive-Nexus365/Rotation Projects/Rotation_1/Project/DomAdpQSAR/DomAdpQSAR/presentation.py:38: UserWarning: Dataset has 0 variance; skipping density estimate. Pass `warn_singular=False` to disable this warning.\n",
      "  axes = sns.kdeplot(test_predictions, ax=axes, color=sns.color_palette()[2], bw_method=bandwidth,\n",
      "/Users/alexi/Library/CloudStorage/OneDrive-Nexus365/Rotation Projects/Rotation_1/Project/DomAdpQSAR/DomAdpQSAR/presentation.py:40: UserWarning: Dataset has 0 variance; skipping density estimate. Pass `warn_singular=False` to disable this warning.\n",
      "  axes = sns.kdeplot(train_predictions, ax=axes, color=sns.color_palette()[2], linewidth=0.5, bw_method=bandwidth,\n"
     ]
    },
    {
     "name": "stdout",
     "output_type": "stream",
     "text": [
      "Step 1148, 0:00:03.211619...ize([1000, 2048])DNN Test Values:  ComparisonValues(ACC=tensor(0.8455), BAC=tensor(0.7608), MCC=tensor(0.5621), predicted_labels=tensor([0.0293, 0.0133, 0.0169,  ..., 0.0204, 0.0129, 0.0240]))\n",
      "GAN Test Values:  ComparisonValues(ACC=tensor(0.7527), BAC=tensor(0.5000), MCC=0.01, predicted_labels=tensor([0.4894, 0.4894, 0.4894,  ..., 0.4894, 0.4894, 0.4894]))\n"
     ]
    },
    {
     "name": "stderr",
     "output_type": "stream",
     "text": [
      "/Users/alexi/Library/CloudStorage/OneDrive-Nexus365/Rotation Projects/Rotation_1/Project/DomAdpQSAR/DomAdpQSAR/presentation.py:36: UserWarning: Dataset has 0 variance; skipping density estimate. Pass `warn_singular=False` to disable this warning.\n",
      "  axes = sns.kdeplot(unlabeled_predictions, ax=axes, color=sns.color_palette()[1], bw_method=bandwidth,\n",
      "/Users/alexi/Library/CloudStorage/OneDrive-Nexus365/Rotation Projects/Rotation_1/Project/DomAdpQSAR/DomAdpQSAR/presentation.py:38: UserWarning: Dataset has 0 variance; skipping density estimate. Pass `warn_singular=False` to disable this warning.\n",
      "  axes = sns.kdeplot(test_predictions, ax=axes, color=sns.color_palette()[2], bw_method=bandwidth,\n",
      "/Users/alexi/Library/CloudStorage/OneDrive-Nexus365/Rotation Projects/Rotation_1/Project/DomAdpQSAR/DomAdpQSAR/presentation.py:40: UserWarning: Dataset has 0 variance; skipping density estimate. Pass `warn_singular=False` to disable this warning.\n",
      "  axes = sns.kdeplot(train_predictions, ax=axes, color=sns.color_palette()[2], linewidth=0.5, bw_method=bandwidth,\n"
     ]
    },
    {
     "name": "stdout",
     "output_type": "stream",
     "text": [
      "Step 1155, 0:00:03.154860...ize([1000, 2048])DNN Test Values:  ComparisonValues(ACC=tensor(0.8462), BAC=tensor(0.7622), MCC=tensor(0.5643), predicted_labels=tensor([0.0811, 0.0229, 0.7559,  ..., 0.3655, 0.9744, 0.0128]))\n",
      "GAN Test Values:  ComparisonValues(ACC=tensor(0.7527), BAC=tensor(0.5000), MCC=0.01, predicted_labels=tensor([0.4892, 0.4892, 0.4892,  ..., 0.4892, 0.4892, 0.4892]))\n"
     ]
    },
    {
     "name": "stderr",
     "output_type": "stream",
     "text": [
      "/Users/alexi/Library/CloudStorage/OneDrive-Nexus365/Rotation Projects/Rotation_1/Project/DomAdpQSAR/DomAdpQSAR/presentation.py:36: UserWarning: Dataset has 0 variance; skipping density estimate. Pass `warn_singular=False` to disable this warning.\n",
      "  axes = sns.kdeplot(unlabeled_predictions, ax=axes, color=sns.color_palette()[1], bw_method=bandwidth,\n",
      "/Users/alexi/Library/CloudStorage/OneDrive-Nexus365/Rotation Projects/Rotation_1/Project/DomAdpQSAR/DomAdpQSAR/presentation.py:38: UserWarning: Dataset has 0 variance; skipping density estimate. Pass `warn_singular=False` to disable this warning.\n",
      "  axes = sns.kdeplot(test_predictions, ax=axes, color=sns.color_palette()[2], bw_method=bandwidth,\n",
      "/Users/alexi/Library/CloudStorage/OneDrive-Nexus365/Rotation Projects/Rotation_1/Project/DomAdpQSAR/DomAdpQSAR/presentation.py:40: UserWarning: Dataset has 0 variance; skipping density estimate. Pass `warn_singular=False` to disable this warning.\n",
      "  axes = sns.kdeplot(train_predictions, ax=axes, color=sns.color_palette()[2], linewidth=0.5, bw_method=bandwidth,\n"
     ]
    },
    {
     "name": "stdout",
     "output_type": "stream",
     "text": [
      "Step 1162, 0:00:03.200090...ize([1000, 2048])DNN Test Values:  ComparisonValues(ACC=tensor(0.8444), BAC=tensor(0.7542), MCC=tensor(0.5557), predicted_labels=tensor([0.4400, 0.6125, 0.1098,  ..., 0.0147, 0.0298, 0.9865]))\n",
      "GAN Test Values:  ComparisonValues(ACC=tensor(0.7527), BAC=tensor(0.5000), MCC=0.01, predicted_labels=tensor([0.4891, 0.4891, 0.4891,  ..., 0.4891, 0.4891, 0.4891]))\n"
     ]
    },
    {
     "name": "stderr",
     "output_type": "stream",
     "text": [
      "/Users/alexi/Library/CloudStorage/OneDrive-Nexus365/Rotation Projects/Rotation_1/Project/DomAdpQSAR/DomAdpQSAR/presentation.py:36: UserWarning: Dataset has 0 variance; skipping density estimate. Pass `warn_singular=False` to disable this warning.\n",
      "  axes = sns.kdeplot(unlabeled_predictions, ax=axes, color=sns.color_palette()[1], bw_method=bandwidth,\n",
      "/Users/alexi/Library/CloudStorage/OneDrive-Nexus365/Rotation Projects/Rotation_1/Project/DomAdpQSAR/DomAdpQSAR/presentation.py:38: UserWarning: Dataset has 0 variance; skipping density estimate. Pass `warn_singular=False` to disable this warning.\n",
      "  axes = sns.kdeplot(test_predictions, ax=axes, color=sns.color_palette()[2], bw_method=bandwidth,\n",
      "/Users/alexi/Library/CloudStorage/OneDrive-Nexus365/Rotation Projects/Rotation_1/Project/DomAdpQSAR/DomAdpQSAR/presentation.py:40: UserWarning: Dataset has 0 variance; skipping density estimate. Pass `warn_singular=False` to disable this warning.\n",
      "  axes = sns.kdeplot(train_predictions, ax=axes, color=sns.color_palette()[2], linewidth=0.5, bw_method=bandwidth,\n"
     ]
    },
    {
     "name": "stdout",
     "output_type": "stream",
     "text": [
      "Step 1169, 0:00:03.079238...ize([1000, 2048])DNN Test Values:  ComparisonValues(ACC=tensor(0.8430), BAC=tensor(0.7526), MCC=tensor(0.5519), predicted_labels=tensor([0.0186, 0.0141, 0.0149,  ..., 0.0127, 0.0218, 0.0154]))\n",
      "GAN Test Values:  ComparisonValues(ACC=tensor(0.7527), BAC=tensor(0.5000), MCC=0.01, predicted_labels=tensor([0.4890, 0.4890, 0.4890,  ..., 0.4890, 0.4890, 0.4890]))\n"
     ]
    },
    {
     "name": "stderr",
     "output_type": "stream",
     "text": [
      "/Users/alexi/Library/CloudStorage/OneDrive-Nexus365/Rotation Projects/Rotation_1/Project/DomAdpQSAR/DomAdpQSAR/presentation.py:36: UserWarning: Dataset has 0 variance; skipping density estimate. Pass `warn_singular=False` to disable this warning.\n",
      "  axes = sns.kdeplot(unlabeled_predictions, ax=axes, color=sns.color_palette()[1], bw_method=bandwidth,\n",
      "/Users/alexi/Library/CloudStorage/OneDrive-Nexus365/Rotation Projects/Rotation_1/Project/DomAdpQSAR/DomAdpQSAR/presentation.py:38: UserWarning: Dataset has 0 variance; skipping density estimate. Pass `warn_singular=False` to disable this warning.\n",
      "  axes = sns.kdeplot(test_predictions, ax=axes, color=sns.color_palette()[2], bw_method=bandwidth,\n",
      "/Users/alexi/Library/CloudStorage/OneDrive-Nexus365/Rotation Projects/Rotation_1/Project/DomAdpQSAR/DomAdpQSAR/presentation.py:40: UserWarning: Dataset has 0 variance; skipping density estimate. Pass `warn_singular=False` to disable this warning.\n",
      "  axes = sns.kdeplot(train_predictions, ax=axes, color=sns.color_palette()[2], linewidth=0.5, bw_method=bandwidth,\n"
     ]
    },
    {
     "name": "stdout",
     "output_type": "stream",
     "text": [
      "Step 1176, 0:00:03.091155...ize([1000, 2048])DNN Test Values:  ComparisonValues(ACC=tensor(0.8433), BAC=tensor(0.7562), MCC=tensor(0.5545), predicted_labels=tensor([0.0150, 0.0091, 0.0175,  ..., 0.0078, 0.0266, 0.0160]))\n",
      "GAN Test Values:  ComparisonValues(ACC=tensor(0.7527), BAC=tensor(0.5000), MCC=0.01, predicted_labels=tensor([0.4888, 0.4888, 0.4888,  ..., 0.4888, 0.4888, 0.4888]))\n"
     ]
    },
    {
     "name": "stderr",
     "output_type": "stream",
     "text": [
      "/Users/alexi/Library/CloudStorage/OneDrive-Nexus365/Rotation Projects/Rotation_1/Project/DomAdpQSAR/DomAdpQSAR/presentation.py:36: UserWarning: Dataset has 0 variance; skipping density estimate. Pass `warn_singular=False` to disable this warning.\n",
      "  axes = sns.kdeplot(unlabeled_predictions, ax=axes, color=sns.color_palette()[1], bw_method=bandwidth,\n",
      "/Users/alexi/Library/CloudStorage/OneDrive-Nexus365/Rotation Projects/Rotation_1/Project/DomAdpQSAR/DomAdpQSAR/presentation.py:38: UserWarning: Dataset has 0 variance; skipping density estimate. Pass `warn_singular=False` to disable this warning.\n",
      "  axes = sns.kdeplot(test_predictions, ax=axes, color=sns.color_palette()[2], bw_method=bandwidth,\n",
      "/Users/alexi/Library/CloudStorage/OneDrive-Nexus365/Rotation Projects/Rotation_1/Project/DomAdpQSAR/DomAdpQSAR/presentation.py:40: UserWarning: Dataset has 0 variance; skipping density estimate. Pass `warn_singular=False` to disable this warning.\n",
      "  axes = sns.kdeplot(train_predictions, ax=axes, color=sns.color_palette()[2], linewidth=0.5, bw_method=bandwidth,\n"
     ]
    },
    {
     "name": "stdout",
     "output_type": "stream",
     "text": [
      "Step 1183, 0:00:03.377098...ize([1000, 2048])DNN Test Values:  ComparisonValues(ACC=tensor(0.8442), BAC=tensor(0.7596), MCC=tensor(0.5585), predicted_labels=tensor([0.0156, 0.0144, 0.0179,  ..., 0.0175, 0.0167, 0.9736]))\n",
      "GAN Test Values:  ComparisonValues(ACC=tensor(0.7527), BAC=tensor(0.5000), MCC=0.01, predicted_labels=tensor([0.4887, 0.4887, 0.4887,  ..., 0.4887, 0.4887, 0.4887]))\n"
     ]
    },
    {
     "name": "stderr",
     "output_type": "stream",
     "text": [
      "/Users/alexi/Library/CloudStorage/OneDrive-Nexus365/Rotation Projects/Rotation_1/Project/DomAdpQSAR/DomAdpQSAR/presentation.py:36: UserWarning: Dataset has 0 variance; skipping density estimate. Pass `warn_singular=False` to disable this warning.\n",
      "  axes = sns.kdeplot(unlabeled_predictions, ax=axes, color=sns.color_palette()[1], bw_method=bandwidth,\n",
      "/Users/alexi/Library/CloudStorage/OneDrive-Nexus365/Rotation Projects/Rotation_1/Project/DomAdpQSAR/DomAdpQSAR/presentation.py:38: UserWarning: Dataset has 0 variance; skipping density estimate. Pass `warn_singular=False` to disable this warning.\n",
      "  axes = sns.kdeplot(test_predictions, ax=axes, color=sns.color_palette()[2], bw_method=bandwidth,\n",
      "/Users/alexi/Library/CloudStorage/OneDrive-Nexus365/Rotation Projects/Rotation_1/Project/DomAdpQSAR/DomAdpQSAR/presentation.py:40: UserWarning: Dataset has 0 variance; skipping density estimate. Pass `warn_singular=False` to disable this warning.\n",
      "  axes = sns.kdeplot(train_predictions, ax=axes, color=sns.color_palette()[2], linewidth=0.5, bw_method=bandwidth,\n"
     ]
    },
    {
     "name": "stdout",
     "output_type": "stream",
     "text": [
      "Step 1190, 0:00:03.087934...ize([1000, 2048])DNN Test Values:  ComparisonValues(ACC=tensor(0.8435), BAC=tensor(0.7579), MCC=tensor(0.5560), predicted_labels=tensor([0.0185, 0.0160, 0.8957,  ..., 0.0275, 0.0126, 0.0149]))\n",
      "GAN Test Values:  ComparisonValues(ACC=tensor(0.7527), BAC=tensor(0.5000), MCC=0.01, predicted_labels=tensor([0.4885, 0.4885, 0.4885,  ..., 0.4885, 0.4885, 0.4885]))\n"
     ]
    },
    {
     "name": "stderr",
     "output_type": "stream",
     "text": [
      "/Users/alexi/Library/CloudStorage/OneDrive-Nexus365/Rotation Projects/Rotation_1/Project/DomAdpQSAR/DomAdpQSAR/presentation.py:36: UserWarning: Dataset has 0 variance; skipping density estimate. Pass `warn_singular=False` to disable this warning.\n",
      "  axes = sns.kdeplot(unlabeled_predictions, ax=axes, color=sns.color_palette()[1], bw_method=bandwidth,\n",
      "/Users/alexi/Library/CloudStorage/OneDrive-Nexus365/Rotation Projects/Rotation_1/Project/DomAdpQSAR/DomAdpQSAR/presentation.py:38: UserWarning: Dataset has 0 variance; skipping density estimate. Pass `warn_singular=False` to disable this warning.\n",
      "  axes = sns.kdeplot(test_predictions, ax=axes, color=sns.color_palette()[2], bw_method=bandwidth,\n",
      "/Users/alexi/Library/CloudStorage/OneDrive-Nexus365/Rotation Projects/Rotation_1/Project/DomAdpQSAR/DomAdpQSAR/presentation.py:40: UserWarning: Dataset has 0 variance; skipping density estimate. Pass `warn_singular=False` to disable this warning.\n",
      "  axes = sns.kdeplot(train_predictions, ax=axes, color=sns.color_palette()[2], linewidth=0.5, bw_method=bandwidth,\n"
     ]
    },
    {
     "name": "stdout",
     "output_type": "stream",
     "text": [
      "Step 1197, 0:00:03.205645...ize([1000, 2048])DNN Test Values:  ComparisonValues(ACC=tensor(0.8403), BAC=tensor(0.7511), MCC=tensor(0.5452), predicted_labels=tensor([0.0094, 0.0142, 0.9082,  ..., 0.5768, 0.9897, 0.0341]))\n",
      "GAN Test Values:  ComparisonValues(ACC=tensor(0.7527), BAC=tensor(0.5000), MCC=0.01, predicted_labels=tensor([0.4883, 0.4883, 0.4883,  ..., 0.4883, 0.4883, 0.4883]))\n"
     ]
    },
    {
     "name": "stderr",
     "output_type": "stream",
     "text": [
      "/Users/alexi/Library/CloudStorage/OneDrive-Nexus365/Rotation Projects/Rotation_1/Project/DomAdpQSAR/DomAdpQSAR/presentation.py:36: UserWarning: Dataset has 0 variance; skipping density estimate. Pass `warn_singular=False` to disable this warning.\n",
      "  axes = sns.kdeplot(unlabeled_predictions, ax=axes, color=sns.color_palette()[1], bw_method=bandwidth,\n",
      "/Users/alexi/Library/CloudStorage/OneDrive-Nexus365/Rotation Projects/Rotation_1/Project/DomAdpQSAR/DomAdpQSAR/presentation.py:38: UserWarning: Dataset has 0 variance; skipping density estimate. Pass `warn_singular=False` to disable this warning.\n",
      "  axes = sns.kdeplot(test_predictions, ax=axes, color=sns.color_palette()[2], bw_method=bandwidth,\n",
      "/Users/alexi/Library/CloudStorage/OneDrive-Nexus365/Rotation Projects/Rotation_1/Project/DomAdpQSAR/DomAdpQSAR/presentation.py:40: UserWarning: Dataset has 0 variance; skipping density estimate. Pass `warn_singular=False` to disable this warning.\n",
      "  axes = sns.kdeplot(train_predictions, ax=axes, color=sns.color_palette()[2], linewidth=0.5, bw_method=bandwidth,\n"
     ]
    },
    {
     "name": "stdout",
     "output_type": "stream",
     "text": [
      "Step 1204, 0:00:03.118551...ize([1000, 2048])DNN Test Values:  ComparisonValues(ACC=tensor(0.8410), BAC=tensor(0.7544), MCC=tensor(0.5487), predicted_labels=tensor([0.0167, 0.1267, 0.5866,  ..., 0.9469, 0.0144, 0.0575]))\n",
      "GAN Test Values:  ComparisonValues(ACC=tensor(0.7527), BAC=tensor(0.5000), MCC=0.01, predicted_labels=tensor([0.4882, 0.4882, 0.4882,  ..., 0.4882, 0.4882, 0.4882]))\n"
     ]
    },
    {
     "name": "stderr",
     "output_type": "stream",
     "text": [
      "/Users/alexi/Library/CloudStorage/OneDrive-Nexus365/Rotation Projects/Rotation_1/Project/DomAdpQSAR/DomAdpQSAR/presentation.py:36: UserWarning: Dataset has 0 variance; skipping density estimate. Pass `warn_singular=False` to disable this warning.\n",
      "  axes = sns.kdeplot(unlabeled_predictions, ax=axes, color=sns.color_palette()[1], bw_method=bandwidth,\n",
      "/Users/alexi/Library/CloudStorage/OneDrive-Nexus365/Rotation Projects/Rotation_1/Project/DomAdpQSAR/DomAdpQSAR/presentation.py:38: UserWarning: Dataset has 0 variance; skipping density estimate. Pass `warn_singular=False` to disable this warning.\n",
      "  axes = sns.kdeplot(test_predictions, ax=axes, color=sns.color_palette()[2], bw_method=bandwidth,\n",
      "/Users/alexi/Library/CloudStorage/OneDrive-Nexus365/Rotation Projects/Rotation_1/Project/DomAdpQSAR/DomAdpQSAR/presentation.py:40: UserWarning: Dataset has 0 variance; skipping density estimate. Pass `warn_singular=False` to disable this warning.\n",
      "  axes = sns.kdeplot(train_predictions, ax=axes, color=sns.color_palette()[2], linewidth=0.5, bw_method=bandwidth,\n"
     ]
    },
    {
     "name": "stdout",
     "output_type": "stream",
     "text": [
      "Step 1211, 0:00:03.204651...ize([1000, 2048])DNN Test Values:  ComparisonValues(ACC=tensor(0.8423), BAC=tensor(0.7547), MCC=tensor(0.5517), predicted_labels=tensor([0.0156, 0.0129, 0.0260,  ..., 0.0146, 0.0229, 0.0149]))\n",
      "GAN Test Values:  ComparisonValues(ACC=tensor(0.7527), BAC=tensor(0.5000), MCC=0.01, predicted_labels=tensor([0.4880, 0.4880, 0.4880,  ..., 0.4880, 0.4880, 0.4880]))\n"
     ]
    },
    {
     "name": "stderr",
     "output_type": "stream",
     "text": [
      "/Users/alexi/Library/CloudStorage/OneDrive-Nexus365/Rotation Projects/Rotation_1/Project/DomAdpQSAR/DomAdpQSAR/presentation.py:36: UserWarning: Dataset has 0 variance; skipping density estimate. Pass `warn_singular=False` to disable this warning.\n",
      "  axes = sns.kdeplot(unlabeled_predictions, ax=axes, color=sns.color_palette()[1], bw_method=bandwidth,\n",
      "/Users/alexi/Library/CloudStorage/OneDrive-Nexus365/Rotation Projects/Rotation_1/Project/DomAdpQSAR/DomAdpQSAR/presentation.py:38: UserWarning: Dataset has 0 variance; skipping density estimate. Pass `warn_singular=False` to disable this warning.\n",
      "  axes = sns.kdeplot(test_predictions, ax=axes, color=sns.color_palette()[2], bw_method=bandwidth,\n",
      "/Users/alexi/Library/CloudStorage/OneDrive-Nexus365/Rotation Projects/Rotation_1/Project/DomAdpQSAR/DomAdpQSAR/presentation.py:40: UserWarning: Dataset has 0 variance; skipping density estimate. Pass `warn_singular=False` to disable this warning.\n",
      "  axes = sns.kdeplot(train_predictions, ax=axes, color=sns.color_palette()[2], linewidth=0.5, bw_method=bandwidth,\n"
     ]
    },
    {
     "name": "stdout",
     "output_type": "stream",
     "text": [
      "Step 1218, 0:00:03.062259...ize([1000, 2048])DNN Test Values:  ComparisonValues(ACC=tensor(0.8417), BAC=tensor(0.7527), MCC=tensor(0.5490), predicted_labels=tensor([0.0101, 0.0439, 0.0124,  ..., 0.0115, 0.9570, 0.0161]))\n",
      "GAN Test Values:  ComparisonValues(ACC=tensor(0.7527), BAC=tensor(0.5000), MCC=0.01, predicted_labels=tensor([0.4879, 0.4879, 0.4879,  ..., 0.4879, 0.4879, 0.4879]))\n"
     ]
    },
    {
     "name": "stderr",
     "output_type": "stream",
     "text": [
      "/Users/alexi/Library/CloudStorage/OneDrive-Nexus365/Rotation Projects/Rotation_1/Project/DomAdpQSAR/DomAdpQSAR/presentation.py:36: UserWarning: Dataset has 0 variance; skipping density estimate. Pass `warn_singular=False` to disable this warning.\n",
      "  axes = sns.kdeplot(unlabeled_predictions, ax=axes, color=sns.color_palette()[1], bw_method=bandwidth,\n",
      "/Users/alexi/Library/CloudStorage/OneDrive-Nexus365/Rotation Projects/Rotation_1/Project/DomAdpQSAR/DomAdpQSAR/presentation.py:38: UserWarning: Dataset has 0 variance; skipping density estimate. Pass `warn_singular=False` to disable this warning.\n",
      "  axes = sns.kdeplot(test_predictions, ax=axes, color=sns.color_palette()[2], bw_method=bandwidth,\n",
      "/Users/alexi/Library/CloudStorage/OneDrive-Nexus365/Rotation Projects/Rotation_1/Project/DomAdpQSAR/DomAdpQSAR/presentation.py:40: UserWarning: Dataset has 0 variance; skipping density estimate. Pass `warn_singular=False` to disable this warning.\n",
      "  axes = sns.kdeplot(train_predictions, ax=axes, color=sns.color_palette()[2], linewidth=0.5, bw_method=bandwidth,\n"
     ]
    },
    {
     "name": "stdout",
     "output_type": "stream",
     "text": [
      "Step 1225, 0:00:03.111906...ize([1000, 2048])DNN Test Values:  ComparisonValues(ACC=tensor(0.8421), BAC=tensor(0.7524), MCC=tensor(0.5498), predicted_labels=tensor([0.0516, 0.0157, 0.9869,  ..., 0.0999, 0.0141, 0.0075]))\n",
      "GAN Test Values:  ComparisonValues(ACC=tensor(0.7527), BAC=tensor(0.5000), MCC=0.01, predicted_labels=tensor([0.4877, 0.4877, 0.4877,  ..., 0.4877, 0.4877, 0.4877]))\n"
     ]
    },
    {
     "name": "stderr",
     "output_type": "stream",
     "text": [
      "/Users/alexi/Library/CloudStorage/OneDrive-Nexus365/Rotation Projects/Rotation_1/Project/DomAdpQSAR/DomAdpQSAR/presentation.py:36: UserWarning: Dataset has 0 variance; skipping density estimate. Pass `warn_singular=False` to disable this warning.\n",
      "  axes = sns.kdeplot(unlabeled_predictions, ax=axes, color=sns.color_palette()[1], bw_method=bandwidth,\n",
      "/Users/alexi/Library/CloudStorage/OneDrive-Nexus365/Rotation Projects/Rotation_1/Project/DomAdpQSAR/DomAdpQSAR/presentation.py:38: UserWarning: Dataset has 0 variance; skipping density estimate. Pass `warn_singular=False` to disable this warning.\n",
      "  axes = sns.kdeplot(test_predictions, ax=axes, color=sns.color_palette()[2], bw_method=bandwidth,\n",
      "/Users/alexi/Library/CloudStorage/OneDrive-Nexus365/Rotation Projects/Rotation_1/Project/DomAdpQSAR/DomAdpQSAR/presentation.py:40: UserWarning: Dataset has 0 variance; skipping density estimate. Pass `warn_singular=False` to disable this warning.\n",
      "  axes = sns.kdeplot(train_predictions, ax=axes, color=sns.color_palette()[2], linewidth=0.5, bw_method=bandwidth,\n"
     ]
    },
    {
     "name": "stdout",
     "output_type": "stream",
     "text": [
      "Step 1232, 0:00:03.229509...ize([1000, 2048])DNN Test Values:  ComparisonValues(ACC=tensor(0.8437), BAC=tensor(0.7587), MCC=tensor(0.5570), predicted_labels=tensor([0.0171, 0.0094, 0.2104,  ..., 0.1394, 0.9194, 0.0087]))\n",
      "GAN Test Values:  ComparisonValues(ACC=tensor(0.7527), BAC=tensor(0.5000), MCC=0.01, predicted_labels=tensor([0.4876, 0.4876, 0.4876,  ..., 0.4876, 0.4876, 0.4876]))\n"
     ]
    },
    {
     "name": "stderr",
     "output_type": "stream",
     "text": [
      "/Users/alexi/Library/CloudStorage/OneDrive-Nexus365/Rotation Projects/Rotation_1/Project/DomAdpQSAR/DomAdpQSAR/presentation.py:36: UserWarning: Dataset has 0 variance; skipping density estimate. Pass `warn_singular=False` to disable this warning.\n",
      "  axes = sns.kdeplot(unlabeled_predictions, ax=axes, color=sns.color_palette()[1], bw_method=bandwidth,\n",
      "/Users/alexi/Library/CloudStorage/OneDrive-Nexus365/Rotation Projects/Rotation_1/Project/DomAdpQSAR/DomAdpQSAR/presentation.py:38: UserWarning: Dataset has 0 variance; skipping density estimate. Pass `warn_singular=False` to disable this warning.\n",
      "  axes = sns.kdeplot(test_predictions, ax=axes, color=sns.color_palette()[2], bw_method=bandwidth,\n",
      "/Users/alexi/Library/CloudStorage/OneDrive-Nexus365/Rotation Projects/Rotation_1/Project/DomAdpQSAR/DomAdpQSAR/presentation.py:40: UserWarning: Dataset has 0 variance; skipping density estimate. Pass `warn_singular=False` to disable this warning.\n",
      "  axes = sns.kdeplot(train_predictions, ax=axes, color=sns.color_palette()[2], linewidth=0.5, bw_method=bandwidth,\n"
     ]
    },
    {
     "name": "stdout",
     "output_type": "stream",
     "text": [
      "Step 1239, 0:00:03.176648...ize([1000, 2048])DNN Test Values:  ComparisonValues(ACC=tensor(0.8437), BAC=tensor(0.7571), MCC=tensor(0.5560), predicted_labels=tensor([0.0206, 0.8404, 0.0269,  ..., 0.0151, 0.0111, 0.0273]))\n",
      "GAN Test Values:  ComparisonValues(ACC=tensor(0.7527), BAC=tensor(0.5000), MCC=0.01, predicted_labels=tensor([0.4874, 0.4874, 0.4874,  ..., 0.4874, 0.4874, 0.4874]))\n"
     ]
    },
    {
     "name": "stderr",
     "output_type": "stream",
     "text": [
      "/Users/alexi/Library/CloudStorage/OneDrive-Nexus365/Rotation Projects/Rotation_1/Project/DomAdpQSAR/DomAdpQSAR/presentation.py:36: UserWarning: Dataset has 0 variance; skipping density estimate. Pass `warn_singular=False` to disable this warning.\n",
      "  axes = sns.kdeplot(unlabeled_predictions, ax=axes, color=sns.color_palette()[1], bw_method=bandwidth,\n",
      "/Users/alexi/Library/CloudStorage/OneDrive-Nexus365/Rotation Projects/Rotation_1/Project/DomAdpQSAR/DomAdpQSAR/presentation.py:38: UserWarning: Dataset has 0 variance; skipping density estimate. Pass `warn_singular=False` to disable this warning.\n",
      "  axes = sns.kdeplot(test_predictions, ax=axes, color=sns.color_palette()[2], bw_method=bandwidth,\n",
      "/Users/alexi/Library/CloudStorage/OneDrive-Nexus365/Rotation Projects/Rotation_1/Project/DomAdpQSAR/DomAdpQSAR/presentation.py:40: UserWarning: Dataset has 0 variance; skipping density estimate. Pass `warn_singular=False` to disable this warning.\n",
      "  axes = sns.kdeplot(train_predictions, ax=axes, color=sns.color_palette()[2], linewidth=0.5, bw_method=bandwidth,\n"
     ]
    },
    {
     "name": "stdout",
     "output_type": "stream",
     "text": [
      "Step 1246, 0:00:03.172140...ize([1000, 2048])DNN Test Values:  ComparisonValues(ACC=tensor(0.8412), BAC=tensor(0.7552), MCC=tensor(0.5496), predicted_labels=tensor([0.1061, 0.0131, 0.0158,  ..., 0.0276, 0.0155, 0.9107]))\n",
      "GAN Test Values:  ComparisonValues(ACC=tensor(0.7527), BAC=tensor(0.5000), MCC=0.01, predicted_labels=tensor([0.4873, 0.4873, 0.4873,  ..., 0.4873, 0.4873, 0.4873]))\n"
     ]
    },
    {
     "name": "stderr",
     "output_type": "stream",
     "text": [
      "/Users/alexi/Library/CloudStorage/OneDrive-Nexus365/Rotation Projects/Rotation_1/Project/DomAdpQSAR/DomAdpQSAR/presentation.py:36: UserWarning: Dataset has 0 variance; skipping density estimate. Pass `warn_singular=False` to disable this warning.\n",
      "  axes = sns.kdeplot(unlabeled_predictions, ax=axes, color=sns.color_palette()[1], bw_method=bandwidth,\n",
      "/Users/alexi/Library/CloudStorage/OneDrive-Nexus365/Rotation Projects/Rotation_1/Project/DomAdpQSAR/DomAdpQSAR/presentation.py:38: UserWarning: Dataset has 0 variance; skipping density estimate. Pass `warn_singular=False` to disable this warning.\n",
      "  axes = sns.kdeplot(test_predictions, ax=axes, color=sns.color_palette()[2], bw_method=bandwidth,\n",
      "/Users/alexi/Library/CloudStorage/OneDrive-Nexus365/Rotation Projects/Rotation_1/Project/DomAdpQSAR/DomAdpQSAR/presentation.py:40: UserWarning: Dataset has 0 variance; skipping density estimate. Pass `warn_singular=False` to disable this warning.\n",
      "  axes = sns.kdeplot(train_predictions, ax=axes, color=sns.color_palette()[2], linewidth=0.5, bw_method=bandwidth,\n"
     ]
    },
    {
     "name": "stdout",
     "output_type": "stream",
     "text": [
      "Step 1253, 0:00:03.121141...ize([1000, 2048])DNN Test Values:  ComparisonValues(ACC=tensor(0.8421), BAC=tensor(0.7601), MCC=tensor(0.5547), predicted_labels=tensor([0.0143, 0.0108, 0.0160,  ..., 0.0177, 0.1093, 0.0802]))\n",
      "GAN Test Values:  ComparisonValues(ACC=tensor(0.7527), BAC=tensor(0.5000), MCC=0.01, predicted_labels=tensor([0.4871, 0.4871, 0.4871,  ..., 0.4871, 0.4871, 0.4871]))\n"
     ]
    },
    {
     "name": "stderr",
     "output_type": "stream",
     "text": [
      "/Users/alexi/Library/CloudStorage/OneDrive-Nexus365/Rotation Projects/Rotation_1/Project/DomAdpQSAR/DomAdpQSAR/presentation.py:36: UserWarning: Dataset has 0 variance; skipping density estimate. Pass `warn_singular=False` to disable this warning.\n",
      "  axes = sns.kdeplot(unlabeled_predictions, ax=axes, color=sns.color_palette()[1], bw_method=bandwidth,\n",
      "/Users/alexi/Library/CloudStorage/OneDrive-Nexus365/Rotation Projects/Rotation_1/Project/DomAdpQSAR/DomAdpQSAR/presentation.py:38: UserWarning: Dataset has 0 variance; skipping density estimate. Pass `warn_singular=False` to disable this warning.\n",
      "  axes = sns.kdeplot(test_predictions, ax=axes, color=sns.color_palette()[2], bw_method=bandwidth,\n",
      "/Users/alexi/Library/CloudStorage/OneDrive-Nexus365/Rotation Projects/Rotation_1/Project/DomAdpQSAR/DomAdpQSAR/presentation.py:40: UserWarning: Dataset has 0 variance; skipping density estimate. Pass `warn_singular=False` to disable this warning.\n",
      "  axes = sns.kdeplot(train_predictions, ax=axes, color=sns.color_palette()[2], linewidth=0.5, bw_method=bandwidth,\n"
     ]
    },
    {
     "name": "stdout",
     "output_type": "stream",
     "text": [
      "Step 1260, 0:00:03.322743...ize([1000, 2048])DNN Test Values:  ComparisonValues(ACC=tensor(0.8428), BAC=tensor(0.7590), MCC=tensor(0.5553), predicted_labels=tensor([0.6381, 0.0125, 0.0307,  ..., 0.0093, 0.0148, 0.0170]))\n",
      "GAN Test Values:  ComparisonValues(ACC=tensor(0.7527), BAC=tensor(0.5000), MCC=0.01, predicted_labels=tensor([0.4870, 0.4870, 0.4870,  ..., 0.4870, 0.4870, 0.4870]))\n"
     ]
    },
    {
     "name": "stderr",
     "output_type": "stream",
     "text": [
      "/Users/alexi/Library/CloudStorage/OneDrive-Nexus365/Rotation Projects/Rotation_1/Project/DomAdpQSAR/DomAdpQSAR/presentation.py:36: UserWarning: Dataset has 0 variance; skipping density estimate. Pass `warn_singular=False` to disable this warning.\n",
      "  axes = sns.kdeplot(unlabeled_predictions, ax=axes, color=sns.color_palette()[1], bw_method=bandwidth,\n",
      "/Users/alexi/Library/CloudStorage/OneDrive-Nexus365/Rotation Projects/Rotation_1/Project/DomAdpQSAR/DomAdpQSAR/presentation.py:38: UserWarning: Dataset has 0 variance; skipping density estimate. Pass `warn_singular=False` to disable this warning.\n",
      "  axes = sns.kdeplot(test_predictions, ax=axes, color=sns.color_palette()[2], bw_method=bandwidth,\n",
      "/Users/alexi/Library/CloudStorage/OneDrive-Nexus365/Rotation Projects/Rotation_1/Project/DomAdpQSAR/DomAdpQSAR/presentation.py:40: UserWarning: Dataset has 0 variance; skipping density estimate. Pass `warn_singular=False` to disable this warning.\n",
      "  axes = sns.kdeplot(train_predictions, ax=axes, color=sns.color_palette()[2], linewidth=0.5, bw_method=bandwidth,\n"
     ]
    },
    {
     "name": "stdout",
     "output_type": "stream",
     "text": [
      "Step 1267, 0:00:03.210942...ize([1000, 2048])DNN Test Values:  ComparisonValues(ACC=tensor(0.8433), BAC=tensor(0.7605), MCC=tensor(0.5573), predicted_labels=tensor([0.0254, 0.2769, 0.0088,  ..., 0.0353, 0.5955, 0.1408]))\n",
      "GAN Test Values:  ComparisonValues(ACC=tensor(0.7527), BAC=tensor(0.5000), MCC=0.01, predicted_labels=tensor([0.4868, 0.4868, 0.4868,  ..., 0.4868, 0.4868, 0.4868]))\n"
     ]
    },
    {
     "name": "stderr",
     "output_type": "stream",
     "text": [
      "/Users/alexi/Library/CloudStorage/OneDrive-Nexus365/Rotation Projects/Rotation_1/Project/DomAdpQSAR/DomAdpQSAR/presentation.py:36: UserWarning: Dataset has 0 variance; skipping density estimate. Pass `warn_singular=False` to disable this warning.\n",
      "  axes = sns.kdeplot(unlabeled_predictions, ax=axes, color=sns.color_palette()[1], bw_method=bandwidth,\n",
      "/Users/alexi/Library/CloudStorage/OneDrive-Nexus365/Rotation Projects/Rotation_1/Project/DomAdpQSAR/DomAdpQSAR/presentation.py:38: UserWarning: Dataset has 0 variance; skipping density estimate. Pass `warn_singular=False` to disable this warning.\n",
      "  axes = sns.kdeplot(test_predictions, ax=axes, color=sns.color_palette()[2], bw_method=bandwidth,\n",
      "/Users/alexi/Library/CloudStorage/OneDrive-Nexus365/Rotation Projects/Rotation_1/Project/DomAdpQSAR/DomAdpQSAR/presentation.py:40: UserWarning: Dataset has 0 variance; skipping density estimate. Pass `warn_singular=False` to disable this warning.\n",
      "  axes = sns.kdeplot(train_predictions, ax=axes, color=sns.color_palette()[2], linewidth=0.5, bw_method=bandwidth,\n"
     ]
    },
    {
     "name": "stdout",
     "output_type": "stream",
     "text": [
      "Step 1274, 0:00:03.137448...ize([1000, 2048])DNN Test Values:  ComparisonValues(ACC=tensor(0.8412), BAC=tensor(0.7558), MCC=tensor(0.5500), predicted_labels=tensor([0.8702, 0.0164, 0.0106,  ..., 0.0120, 0.5665, 0.0194]))\n",
      "GAN Test Values:  ComparisonValues(ACC=tensor(0.7527), BAC=tensor(0.5000), MCC=0.01, predicted_labels=tensor([0.4867, 0.4867, 0.4867,  ..., 0.4867, 0.4867, 0.4867]))\n"
     ]
    },
    {
     "name": "stderr",
     "output_type": "stream",
     "text": [
      "/Users/alexi/Library/CloudStorage/OneDrive-Nexus365/Rotation Projects/Rotation_1/Project/DomAdpQSAR/DomAdpQSAR/presentation.py:36: UserWarning: Dataset has 0 variance; skipping density estimate. Pass `warn_singular=False` to disable this warning.\n",
      "  axes = sns.kdeplot(unlabeled_predictions, ax=axes, color=sns.color_palette()[1], bw_method=bandwidth,\n",
      "/Users/alexi/Library/CloudStorage/OneDrive-Nexus365/Rotation Projects/Rotation_1/Project/DomAdpQSAR/DomAdpQSAR/presentation.py:38: UserWarning: Dataset has 0 variance; skipping density estimate. Pass `warn_singular=False` to disable this warning.\n",
      "  axes = sns.kdeplot(test_predictions, ax=axes, color=sns.color_palette()[2], bw_method=bandwidth,\n",
      "/Users/alexi/Library/CloudStorage/OneDrive-Nexus365/Rotation Projects/Rotation_1/Project/DomAdpQSAR/DomAdpQSAR/presentation.py:40: UserWarning: Dataset has 0 variance; skipping density estimate. Pass `warn_singular=False` to disable this warning.\n",
      "  axes = sns.kdeplot(train_predictions, ax=axes, color=sns.color_palette()[2], linewidth=0.5, bw_method=bandwidth,\n"
     ]
    },
    {
     "name": "stdout",
     "output_type": "stream",
     "text": [
      "Step 1281, 0:00:03.159343...ize([1000, 2048])DNN Test Values:  ComparisonValues(ACC=tensor(0.8398), BAC=tensor(0.7521), MCC=tensor(0.5449), predicted_labels=tensor([0.0207, 0.0081, 0.0339,  ..., 0.0081, 0.0105, 0.8216]))\n",
      "GAN Test Values:  ComparisonValues(ACC=tensor(0.7527), BAC=tensor(0.5000), MCC=0.01, predicted_labels=tensor([0.4865, 0.4865, 0.4865,  ..., 0.4865, 0.4865, 0.4865]))\n"
     ]
    },
    {
     "name": "stderr",
     "output_type": "stream",
     "text": [
      "/Users/alexi/Library/CloudStorage/OneDrive-Nexus365/Rotation Projects/Rotation_1/Project/DomAdpQSAR/DomAdpQSAR/presentation.py:36: UserWarning: Dataset has 0 variance; skipping density estimate. Pass `warn_singular=False` to disable this warning.\n",
      "  axes = sns.kdeplot(unlabeled_predictions, ax=axes, color=sns.color_palette()[1], bw_method=bandwidth,\n",
      "/Users/alexi/Library/CloudStorage/OneDrive-Nexus365/Rotation Projects/Rotation_1/Project/DomAdpQSAR/DomAdpQSAR/presentation.py:38: UserWarning: Dataset has 0 variance; skipping density estimate. Pass `warn_singular=False` to disable this warning.\n",
      "  axes = sns.kdeplot(test_predictions, ax=axes, color=sns.color_palette()[2], bw_method=bandwidth,\n",
      "/Users/alexi/Library/CloudStorage/OneDrive-Nexus365/Rotation Projects/Rotation_1/Project/DomAdpQSAR/DomAdpQSAR/presentation.py:40: UserWarning: Dataset has 0 variance; skipping density estimate. Pass `warn_singular=False` to disable this warning.\n",
      "  axes = sns.kdeplot(train_predictions, ax=axes, color=sns.color_palette()[2], linewidth=0.5, bw_method=bandwidth,\n"
     ]
    },
    {
     "name": "stdout",
     "output_type": "stream",
     "text": [
      "Step 1288, 0:00:03.201215...ize([1000, 2048])DNN Test Values:  ComparisonValues(ACC=tensor(0.8414), BAC=tensor(0.7553), MCC=tensor(0.5502), predicted_labels=tensor([0.0247, 0.9790, 0.0547,  ..., 0.0547, 0.5526, 0.0153]))\n",
      "GAN Test Values:  ComparisonValues(ACC=tensor(0.7527), BAC=tensor(0.5000), MCC=0.01, predicted_labels=tensor([0.4864, 0.4864, 0.4864,  ..., 0.4864, 0.4864, 0.4864]))\n"
     ]
    },
    {
     "name": "stderr",
     "output_type": "stream",
     "text": [
      "/Users/alexi/Library/CloudStorage/OneDrive-Nexus365/Rotation Projects/Rotation_1/Project/DomAdpQSAR/DomAdpQSAR/presentation.py:36: UserWarning: Dataset has 0 variance; skipping density estimate. Pass `warn_singular=False` to disable this warning.\n",
      "  axes = sns.kdeplot(unlabeled_predictions, ax=axes, color=sns.color_palette()[1], bw_method=bandwidth,\n",
      "/Users/alexi/Library/CloudStorage/OneDrive-Nexus365/Rotation Projects/Rotation_1/Project/DomAdpQSAR/DomAdpQSAR/presentation.py:38: UserWarning: Dataset has 0 variance; skipping density estimate. Pass `warn_singular=False` to disable this warning.\n",
      "  axes = sns.kdeplot(test_predictions, ax=axes, color=sns.color_palette()[2], bw_method=bandwidth,\n",
      "/Users/alexi/Library/CloudStorage/OneDrive-Nexus365/Rotation Projects/Rotation_1/Project/DomAdpQSAR/DomAdpQSAR/presentation.py:40: UserWarning: Dataset has 0 variance; skipping density estimate. Pass `warn_singular=False` to disable this warning.\n",
      "  axes = sns.kdeplot(train_predictions, ax=axes, color=sns.color_palette()[2], linewidth=0.5, bw_method=bandwidth,\n"
     ]
    },
    {
     "name": "stdout",
     "output_type": "stream",
     "text": [
      "Step 1295, 0:00:03.232853...ize([1000, 2048])DNN Test Values:  ComparisonValues(ACC=tensor(0.8433), BAC=tensor(0.7581), MCC=tensor(0.5557), predicted_labels=tensor([0.9906, 0.9918, 0.0141,  ..., 0.0124, 0.0133, 0.0467]))\n",
      "GAN Test Values:  ComparisonValues(ACC=tensor(0.7527), BAC=tensor(0.5000), MCC=0.01, predicted_labels=tensor([0.4862, 0.4862, 0.4862,  ..., 0.4862, 0.4862, 0.4862]))\n"
     ]
    },
    {
     "name": "stderr",
     "output_type": "stream",
     "text": [
      "/Users/alexi/Library/CloudStorage/OneDrive-Nexus365/Rotation Projects/Rotation_1/Project/DomAdpQSAR/DomAdpQSAR/presentation.py:36: UserWarning: Dataset has 0 variance; skipping density estimate. Pass `warn_singular=False` to disable this warning.\n",
      "  axes = sns.kdeplot(unlabeled_predictions, ax=axes, color=sns.color_palette()[1], bw_method=bandwidth,\n",
      "/Users/alexi/Library/CloudStorage/OneDrive-Nexus365/Rotation Projects/Rotation_1/Project/DomAdpQSAR/DomAdpQSAR/presentation.py:38: UserWarning: Dataset has 0 variance; skipping density estimate. Pass `warn_singular=False` to disable this warning.\n",
      "  axes = sns.kdeplot(test_predictions, ax=axes, color=sns.color_palette()[2], bw_method=bandwidth,\n",
      "/Users/alexi/Library/CloudStorage/OneDrive-Nexus365/Rotation Projects/Rotation_1/Project/DomAdpQSAR/DomAdpQSAR/presentation.py:40: UserWarning: Dataset has 0 variance; skipping density estimate. Pass `warn_singular=False` to disable this warning.\n",
      "  axes = sns.kdeplot(train_predictions, ax=axes, color=sns.color_palette()[2], linewidth=0.5, bw_method=bandwidth,\n"
     ]
    },
    {
     "name": "stdout",
     "output_type": "stream",
     "text": [
      "Step 1302, 0:00:03.056621...ize([1000, 2048])DNN Test Values:  ComparisonValues(ACC=tensor(0.8435), BAC=tensor(0.7610), MCC=tensor(0.5580), predicted_labels=tensor([0.0161, 0.0138, 0.9987,  ..., 0.0165, 0.0119, 0.0113]))\n",
      "GAN Test Values:  ComparisonValues(ACC=tensor(0.7527), BAC=tensor(0.5000), MCC=0.01, predicted_labels=tensor([0.4861, 0.4861, 0.4861,  ..., 0.4861, 0.4861, 0.4861]))\n"
     ]
    },
    {
     "name": "stderr",
     "output_type": "stream",
     "text": [
      "/Users/alexi/Library/CloudStorage/OneDrive-Nexus365/Rotation Projects/Rotation_1/Project/DomAdpQSAR/DomAdpQSAR/presentation.py:36: UserWarning: Dataset has 0 variance; skipping density estimate. Pass `warn_singular=False` to disable this warning.\n",
      "  axes = sns.kdeplot(unlabeled_predictions, ax=axes, color=sns.color_palette()[1], bw_method=bandwidth,\n",
      "/Users/alexi/Library/CloudStorage/OneDrive-Nexus365/Rotation Projects/Rotation_1/Project/DomAdpQSAR/DomAdpQSAR/presentation.py:38: UserWarning: Dataset has 0 variance; skipping density estimate. Pass `warn_singular=False` to disable this warning.\n",
      "  axes = sns.kdeplot(test_predictions, ax=axes, color=sns.color_palette()[2], bw_method=bandwidth,\n",
      "/Users/alexi/Library/CloudStorage/OneDrive-Nexus365/Rotation Projects/Rotation_1/Project/DomAdpQSAR/DomAdpQSAR/presentation.py:40: UserWarning: Dataset has 0 variance; skipping density estimate. Pass `warn_singular=False` to disable this warning.\n",
      "  axes = sns.kdeplot(train_predictions, ax=axes, color=sns.color_palette()[2], linewidth=0.5, bw_method=bandwidth,\n"
     ]
    },
    {
     "name": "stdout",
     "output_type": "stream",
     "text": [
      "Step 1309, 0:00:03.243597...ize([1000, 2048])DNN Test Values:  ComparisonValues(ACC=tensor(0.8430), BAC=tensor(0.7588), MCC=tensor(0.5557), predicted_labels=tensor([0.9528, 0.1279, 0.0119,  ..., 0.0308, 0.0155, 0.0880]))\n",
      "GAN Test Values:  ComparisonValues(ACC=tensor(0.7527), BAC=tensor(0.5000), MCC=0.01, predicted_labels=tensor([0.4860, 0.4860, 0.4860,  ..., 0.4860, 0.4860, 0.4860]))\n"
     ]
    },
    {
     "name": "stderr",
     "output_type": "stream",
     "text": [
      "/Users/alexi/Library/CloudStorage/OneDrive-Nexus365/Rotation Projects/Rotation_1/Project/DomAdpQSAR/DomAdpQSAR/presentation.py:36: UserWarning: Dataset has 0 variance; skipping density estimate. Pass `warn_singular=False` to disable this warning.\n",
      "  axes = sns.kdeplot(unlabeled_predictions, ax=axes, color=sns.color_palette()[1], bw_method=bandwidth,\n",
      "/Users/alexi/Library/CloudStorage/OneDrive-Nexus365/Rotation Projects/Rotation_1/Project/DomAdpQSAR/DomAdpQSAR/presentation.py:38: UserWarning: Dataset has 0 variance; skipping density estimate. Pass `warn_singular=False` to disable this warning.\n",
      "  axes = sns.kdeplot(test_predictions, ax=axes, color=sns.color_palette()[2], bw_method=bandwidth,\n",
      "/Users/alexi/Library/CloudStorage/OneDrive-Nexus365/Rotation Projects/Rotation_1/Project/DomAdpQSAR/DomAdpQSAR/presentation.py:40: UserWarning: Dataset has 0 variance; skipping density estimate. Pass `warn_singular=False` to disable this warning.\n",
      "  axes = sns.kdeplot(train_predictions, ax=axes, color=sns.color_palette()[2], linewidth=0.5, bw_method=bandwidth,\n"
     ]
    },
    {
     "name": "stdout",
     "output_type": "stream",
     "text": [
      "Step 1316, 0:00:03.189132...ize([1000, 2048])DNN Test Values:  ComparisonValues(ACC=tensor(0.8437), BAC=tensor(0.7562), MCC=tensor(0.5555), predicted_labels=tensor([0.0127, 0.0134, 0.9663,  ..., 0.0146, 0.0251, 0.0147]))\n",
      "GAN Test Values:  ComparisonValues(ACC=tensor(0.7527), BAC=tensor(0.5000), MCC=0.01, predicted_labels=tensor([0.4858, 0.4858, 0.4858,  ..., 0.4858, 0.4858, 0.4858]))\n"
     ]
    },
    {
     "name": "stderr",
     "output_type": "stream",
     "text": [
      "/Users/alexi/Library/CloudStorage/OneDrive-Nexus365/Rotation Projects/Rotation_1/Project/DomAdpQSAR/DomAdpQSAR/presentation.py:36: UserWarning: Dataset has 0 variance; skipping density estimate. Pass `warn_singular=False` to disable this warning.\n",
      "  axes = sns.kdeplot(unlabeled_predictions, ax=axes, color=sns.color_palette()[1], bw_method=bandwidth,\n",
      "/Users/alexi/Library/CloudStorage/OneDrive-Nexus365/Rotation Projects/Rotation_1/Project/DomAdpQSAR/DomAdpQSAR/presentation.py:38: UserWarning: Dataset has 0 variance; skipping density estimate. Pass `warn_singular=False` to disable this warning.\n",
      "  axes = sns.kdeplot(test_predictions, ax=axes, color=sns.color_palette()[2], bw_method=bandwidth,\n",
      "/Users/alexi/Library/CloudStorage/OneDrive-Nexus365/Rotation Projects/Rotation_1/Project/DomAdpQSAR/DomAdpQSAR/presentation.py:40: UserWarning: Dataset has 0 variance; skipping density estimate. Pass `warn_singular=False` to disable this warning.\n",
      "  axes = sns.kdeplot(train_predictions, ax=axes, color=sns.color_palette()[2], linewidth=0.5, bw_method=bandwidth,\n"
     ]
    },
    {
     "name": "stdout",
     "output_type": "stream",
     "text": [
      "Step 1323, 0:00:03.250789...ize([1000, 2048])DNN Test Values:  ComparisonValues(ACC=tensor(0.8417), BAC=tensor(0.7564), MCC=tensor(0.5514), predicted_labels=tensor([0.0140, 0.0189, 0.0135,  ..., 0.0199, 0.9512, 0.4145]))\n",
      "GAN Test Values:  ComparisonValues(ACC=tensor(0.7527), BAC=tensor(0.5000), MCC=0.01, predicted_labels=tensor([0.4857, 0.4857, 0.4857,  ..., 0.4857, 0.4857, 0.4857]))\n"
     ]
    },
    {
     "name": "stderr",
     "output_type": "stream",
     "text": [
      "/Users/alexi/Library/CloudStorage/OneDrive-Nexus365/Rotation Projects/Rotation_1/Project/DomAdpQSAR/DomAdpQSAR/presentation.py:36: UserWarning: Dataset has 0 variance; skipping density estimate. Pass `warn_singular=False` to disable this warning.\n",
      "  axes = sns.kdeplot(unlabeled_predictions, ax=axes, color=sns.color_palette()[1], bw_method=bandwidth,\n",
      "/Users/alexi/Library/CloudStorage/OneDrive-Nexus365/Rotation Projects/Rotation_1/Project/DomAdpQSAR/DomAdpQSAR/presentation.py:38: UserWarning: Dataset has 0 variance; skipping density estimate. Pass `warn_singular=False` to disable this warning.\n",
      "  axes = sns.kdeplot(test_predictions, ax=axes, color=sns.color_palette()[2], bw_method=bandwidth,\n",
      "/Users/alexi/Library/CloudStorage/OneDrive-Nexus365/Rotation Projects/Rotation_1/Project/DomAdpQSAR/DomAdpQSAR/presentation.py:40: UserWarning: Dataset has 0 variance; skipping density estimate. Pass `warn_singular=False` to disable this warning.\n",
      "  axes = sns.kdeplot(train_predictions, ax=axes, color=sns.color_palette()[2], linewidth=0.5, bw_method=bandwidth,\n"
     ]
    },
    {
     "name": "stdout",
     "output_type": "stream",
     "text": [
      "Step 1330, 0:00:03.285005...ize([1000, 2048])DNN Test Values:  ComparisonValues(ACC=tensor(0.8428), BAC=tensor(0.7584), MCC=tensor(0.5549), predicted_labels=tensor([0.0149, 0.0191, 0.0295,  ..., 0.0150, 0.0166, 0.9790]))\n",
      "GAN Test Values:  ComparisonValues(ACC=tensor(0.7527), BAC=tensor(0.5000), MCC=0.01, predicted_labels=tensor([0.4855, 0.4855, 0.4855,  ..., 0.4855, 0.4855, 0.4855]))\n"
     ]
    },
    {
     "name": "stderr",
     "output_type": "stream",
     "text": [
      "/Users/alexi/Library/CloudStorage/OneDrive-Nexus365/Rotation Projects/Rotation_1/Project/DomAdpQSAR/DomAdpQSAR/presentation.py:36: UserWarning: Dataset has 0 variance; skipping density estimate. Pass `warn_singular=False` to disable this warning.\n",
      "  axes = sns.kdeplot(unlabeled_predictions, ax=axes, color=sns.color_palette()[1], bw_method=bandwidth,\n",
      "/Users/alexi/Library/CloudStorage/OneDrive-Nexus365/Rotation Projects/Rotation_1/Project/DomAdpQSAR/DomAdpQSAR/presentation.py:38: UserWarning: Dataset has 0 variance; skipping density estimate. Pass `warn_singular=False` to disable this warning.\n",
      "  axes = sns.kdeplot(test_predictions, ax=axes, color=sns.color_palette()[2], bw_method=bandwidth,\n",
      "/Users/alexi/Library/CloudStorage/OneDrive-Nexus365/Rotation Projects/Rotation_1/Project/DomAdpQSAR/DomAdpQSAR/presentation.py:40: UserWarning: Dataset has 0 variance; skipping density estimate. Pass `warn_singular=False` to disable this warning.\n",
      "  axes = sns.kdeplot(train_predictions, ax=axes, color=sns.color_palette()[2], linewidth=0.5, bw_method=bandwidth,\n"
     ]
    },
    {
     "name": "stdout",
     "output_type": "stream",
     "text": [
      "Step 1337, 0:00:03.102055...ize([1000, 2048])DNN Test Values:  ComparisonValues(ACC=tensor(0.8435), BAC=tensor(0.7610), MCC=tensor(0.5580), predicted_labels=tensor([0.0219, 0.0209, 0.0100,  ..., 0.0205, 0.0126, 0.0119]))\n",
      "GAN Test Values:  ComparisonValues(ACC=tensor(0.7527), BAC=tensor(0.5000), MCC=0.01, predicted_labels=tensor([0.4854, 0.4854, 0.4854,  ..., 0.4854, 0.4854, 0.4854]))\n"
     ]
    },
    {
     "name": "stderr",
     "output_type": "stream",
     "text": [
      "/Users/alexi/Library/CloudStorage/OneDrive-Nexus365/Rotation Projects/Rotation_1/Project/DomAdpQSAR/DomAdpQSAR/presentation.py:36: UserWarning: Dataset has 0 variance; skipping density estimate. Pass `warn_singular=False` to disable this warning.\n",
      "  axes = sns.kdeplot(unlabeled_predictions, ax=axes, color=sns.color_palette()[1], bw_method=bandwidth,\n",
      "/Users/alexi/Library/CloudStorage/OneDrive-Nexus365/Rotation Projects/Rotation_1/Project/DomAdpQSAR/DomAdpQSAR/presentation.py:38: UserWarning: Dataset has 0 variance; skipping density estimate. Pass `warn_singular=False` to disable this warning.\n",
      "  axes = sns.kdeplot(test_predictions, ax=axes, color=sns.color_palette()[2], bw_method=bandwidth,\n",
      "/Users/alexi/Library/CloudStorage/OneDrive-Nexus365/Rotation Projects/Rotation_1/Project/DomAdpQSAR/DomAdpQSAR/presentation.py:40: UserWarning: Dataset has 0 variance; skipping density estimate. Pass `warn_singular=False` to disable this warning.\n",
      "  axes = sns.kdeplot(train_predictions, ax=axes, color=sns.color_palette()[2], linewidth=0.5, bw_method=bandwidth,\n"
     ]
    },
    {
     "name": "stdout",
     "output_type": "stream",
     "text": [
      "Step 1344, 0:00:03.287932...ize([1000, 2048])DNN Test Values:  ComparisonValues(ACC=tensor(0.8433), BAC=tensor(0.7618), MCC=tensor(0.5581), predicted_labels=tensor([0.0214, 0.9159, 0.7220,  ..., 0.9721, 0.0132, 0.5475]))\n",
      "GAN Test Values:  ComparisonValues(ACC=tensor(0.7527), BAC=tensor(0.5000), MCC=0.01, predicted_labels=tensor([0.4852, 0.4852, 0.4852,  ..., 0.4852, 0.4852, 0.4852]))\n"
     ]
    },
    {
     "name": "stderr",
     "output_type": "stream",
     "text": [
      "/Users/alexi/Library/CloudStorage/OneDrive-Nexus365/Rotation Projects/Rotation_1/Project/DomAdpQSAR/DomAdpQSAR/presentation.py:36: UserWarning: Dataset has 0 variance; skipping density estimate. Pass `warn_singular=False` to disable this warning.\n",
      "  axes = sns.kdeplot(unlabeled_predictions, ax=axes, color=sns.color_palette()[1], bw_method=bandwidth,\n",
      "/Users/alexi/Library/CloudStorage/OneDrive-Nexus365/Rotation Projects/Rotation_1/Project/DomAdpQSAR/DomAdpQSAR/presentation.py:38: UserWarning: Dataset has 0 variance; skipping density estimate. Pass `warn_singular=False` to disable this warning.\n",
      "  axes = sns.kdeplot(test_predictions, ax=axes, color=sns.color_palette()[2], bw_method=bandwidth,\n",
      "/Users/alexi/Library/CloudStorage/OneDrive-Nexus365/Rotation Projects/Rotation_1/Project/DomAdpQSAR/DomAdpQSAR/presentation.py:40: UserWarning: Dataset has 0 variance; skipping density estimate. Pass `warn_singular=False` to disable this warning.\n",
      "  axes = sns.kdeplot(train_predictions, ax=axes, color=sns.color_palette()[2], linewidth=0.5, bw_method=bandwidth,\n"
     ]
    },
    {
     "name": "stdout",
     "output_type": "stream",
     "text": [
      "Step 1351, 0:00:03.123590...ize([1000, 2048])DNN Test Values:  ComparisonValues(ACC=tensor(0.8442), BAC=tensor(0.7639), MCC=tensor(0.5613), predicted_labels=tensor([0.0138, 0.0321, 0.0183,  ..., 0.0143, 0.7762, 0.0202]))\n",
      "GAN Test Values:  ComparisonValues(ACC=tensor(0.7527), BAC=tensor(0.5000), MCC=0.01, predicted_labels=tensor([0.4851, 0.4851, 0.4851,  ..., 0.4851, 0.4851, 0.4851]))\n"
     ]
    },
    {
     "name": "stderr",
     "output_type": "stream",
     "text": [
      "/Users/alexi/Library/CloudStorage/OneDrive-Nexus365/Rotation Projects/Rotation_1/Project/DomAdpQSAR/DomAdpQSAR/presentation.py:36: UserWarning: Dataset has 0 variance; skipping density estimate. Pass `warn_singular=False` to disable this warning.\n",
      "  axes = sns.kdeplot(unlabeled_predictions, ax=axes, color=sns.color_palette()[1], bw_method=bandwidth,\n",
      "/Users/alexi/Library/CloudStorage/OneDrive-Nexus365/Rotation Projects/Rotation_1/Project/DomAdpQSAR/DomAdpQSAR/presentation.py:38: UserWarning: Dataset has 0 variance; skipping density estimate. Pass `warn_singular=False` to disable this warning.\n",
      "  axes = sns.kdeplot(test_predictions, ax=axes, color=sns.color_palette()[2], bw_method=bandwidth,\n",
      "/Users/alexi/Library/CloudStorage/OneDrive-Nexus365/Rotation Projects/Rotation_1/Project/DomAdpQSAR/DomAdpQSAR/presentation.py:40: UserWarning: Dataset has 0 variance; skipping density estimate. Pass `warn_singular=False` to disable this warning.\n",
      "  axes = sns.kdeplot(train_predictions, ax=axes, color=sns.color_palette()[2], linewidth=0.5, bw_method=bandwidth,\n"
     ]
    },
    {
     "name": "stdout",
     "output_type": "stream",
     "text": [
      "Step 1358, 0:00:03.112464...ize([1000, 2048])DNN Test Values:  ComparisonValues(ACC=tensor(0.8437), BAC=tensor(0.7590), MCC=tensor(0.5572), predicted_labels=tensor([0.0129, 0.9839, 0.9841,  ..., 0.0091, 0.0312, 0.9691]))\n",
      "GAN Test Values:  ComparisonValues(ACC=tensor(0.7527), BAC=tensor(0.5000), MCC=0.01, predicted_labels=tensor([0.4850, 0.4850, 0.4850,  ..., 0.4850, 0.4850, 0.4850]))\n"
     ]
    },
    {
     "name": "stderr",
     "output_type": "stream",
     "text": [
      "/Users/alexi/Library/CloudStorage/OneDrive-Nexus365/Rotation Projects/Rotation_1/Project/DomAdpQSAR/DomAdpQSAR/presentation.py:36: UserWarning: Dataset has 0 variance; skipping density estimate. Pass `warn_singular=False` to disable this warning.\n",
      "  axes = sns.kdeplot(unlabeled_predictions, ax=axes, color=sns.color_palette()[1], bw_method=bandwidth,\n",
      "/Users/alexi/Library/CloudStorage/OneDrive-Nexus365/Rotation Projects/Rotation_1/Project/DomAdpQSAR/DomAdpQSAR/presentation.py:38: UserWarning: Dataset has 0 variance; skipping density estimate. Pass `warn_singular=False` to disable this warning.\n",
      "  axes = sns.kdeplot(test_predictions, ax=axes, color=sns.color_palette()[2], bw_method=bandwidth,\n",
      "/Users/alexi/Library/CloudStorage/OneDrive-Nexus365/Rotation Projects/Rotation_1/Project/DomAdpQSAR/DomAdpQSAR/presentation.py:40: UserWarning: Dataset has 0 variance; skipping density estimate. Pass `warn_singular=False` to disable this warning.\n",
      "  axes = sns.kdeplot(train_predictions, ax=axes, color=sns.color_palette()[2], linewidth=0.5, bw_method=bandwidth,\n"
     ]
    },
    {
     "name": "stdout",
     "output_type": "stream",
     "text": [
      "Step 1365, 0:00:03.234919...ize([1000, 2048])DNN Test Values:  ComparisonValues(ACC=tensor(0.8439), BAC=tensor(0.7619), MCC=tensor(0.5595), predicted_labels=tensor([0.0135, 0.9834, 0.0216,  ..., 0.0182, 0.0103, 0.0118]))\n",
      "GAN Test Values:  ComparisonValues(ACC=tensor(0.7527), BAC=tensor(0.5000), MCC=0.01, predicted_labels=tensor([0.4848, 0.4848, 0.4848,  ..., 0.4848, 0.4848, 0.4848]))\n"
     ]
    },
    {
     "name": "stderr",
     "output_type": "stream",
     "text": [
      "/Users/alexi/Library/CloudStorage/OneDrive-Nexus365/Rotation Projects/Rotation_1/Project/DomAdpQSAR/DomAdpQSAR/presentation.py:36: UserWarning: Dataset has 0 variance; skipping density estimate. Pass `warn_singular=False` to disable this warning.\n",
      "  axes = sns.kdeplot(unlabeled_predictions, ax=axes, color=sns.color_palette()[1], bw_method=bandwidth,\n",
      "/Users/alexi/Library/CloudStorage/OneDrive-Nexus365/Rotation Projects/Rotation_1/Project/DomAdpQSAR/DomAdpQSAR/presentation.py:38: UserWarning: Dataset has 0 variance; skipping density estimate. Pass `warn_singular=False` to disable this warning.\n",
      "  axes = sns.kdeplot(test_predictions, ax=axes, color=sns.color_palette()[2], bw_method=bandwidth,\n",
      "/Users/alexi/Library/CloudStorage/OneDrive-Nexus365/Rotation Projects/Rotation_1/Project/DomAdpQSAR/DomAdpQSAR/presentation.py:40: UserWarning: Dataset has 0 variance; skipping density estimate. Pass `warn_singular=False` to disable this warning.\n",
      "  axes = sns.kdeplot(train_predictions, ax=axes, color=sns.color_palette()[2], linewidth=0.5, bw_method=bandwidth,\n"
     ]
    },
    {
     "name": "stdout",
     "output_type": "stream",
     "text": [
      "Step 1372, 0:00:03.149681...ize([1000, 2048])DNN Test Values:  ComparisonValues(ACC=tensor(0.8430), BAC=tensor(0.7619), MCC=tensor(0.5577), predicted_labels=tensor([0.0119, 0.0089, 0.0154,  ..., 0.0138, 0.8437, 0.1298]))\n",
      "GAN Test Values:  ComparisonValues(ACC=tensor(0.7527), BAC=tensor(0.5000), MCC=0.01, predicted_labels=tensor([0.4847, 0.4847, 0.4847,  ..., 0.4847, 0.4847, 0.4847]))\n"
     ]
    },
    {
     "name": "stderr",
     "output_type": "stream",
     "text": [
      "/Users/alexi/Library/CloudStorage/OneDrive-Nexus365/Rotation Projects/Rotation_1/Project/DomAdpQSAR/DomAdpQSAR/presentation.py:36: UserWarning: Dataset has 0 variance; skipping density estimate. Pass `warn_singular=False` to disable this warning.\n",
      "  axes = sns.kdeplot(unlabeled_predictions, ax=axes, color=sns.color_palette()[1], bw_method=bandwidth,\n",
      "/Users/alexi/Library/CloudStorage/OneDrive-Nexus365/Rotation Projects/Rotation_1/Project/DomAdpQSAR/DomAdpQSAR/presentation.py:38: UserWarning: Dataset has 0 variance; skipping density estimate. Pass `warn_singular=False` to disable this warning.\n",
      "  axes = sns.kdeplot(test_predictions, ax=axes, color=sns.color_palette()[2], bw_method=bandwidth,\n",
      "/Users/alexi/Library/CloudStorage/OneDrive-Nexus365/Rotation Projects/Rotation_1/Project/DomAdpQSAR/DomAdpQSAR/presentation.py:40: UserWarning: Dataset has 0 variance; skipping density estimate. Pass `warn_singular=False` to disable this warning.\n",
      "  axes = sns.kdeplot(train_predictions, ax=axes, color=sns.color_palette()[2], linewidth=0.5, bw_method=bandwidth,\n"
     ]
    },
    {
     "name": "stdout",
     "output_type": "stream",
     "text": [
      "Step 1379, 0:00:03.300580...ize([1000, 2048])DNN Test Values:  ComparisonValues(ACC=tensor(0.8414), BAC=tensor(0.7606), MCC=tensor(0.5537), predicted_labels=tensor([0.5215, 0.0202, 0.0805,  ..., 0.0113, 0.0134, 0.0099]))\n",
      "GAN Test Values:  ComparisonValues(ACC=tensor(0.7527), BAC=tensor(0.5000), MCC=0.01, predicted_labels=tensor([0.4845, 0.4845, 0.4845,  ..., 0.4845, 0.4845, 0.4845]))\n"
     ]
    },
    {
     "name": "stderr",
     "output_type": "stream",
     "text": [
      "/Users/alexi/Library/CloudStorage/OneDrive-Nexus365/Rotation Projects/Rotation_1/Project/DomAdpQSAR/DomAdpQSAR/presentation.py:36: UserWarning: Dataset has 0 variance; skipping density estimate. Pass `warn_singular=False` to disable this warning.\n",
      "  axes = sns.kdeplot(unlabeled_predictions, ax=axes, color=sns.color_palette()[1], bw_method=bandwidth,\n",
      "/Users/alexi/Library/CloudStorage/OneDrive-Nexus365/Rotation Projects/Rotation_1/Project/DomAdpQSAR/DomAdpQSAR/presentation.py:38: UserWarning: Dataset has 0 variance; skipping density estimate. Pass `warn_singular=False` to disable this warning.\n",
      "  axes = sns.kdeplot(test_predictions, ax=axes, color=sns.color_palette()[2], bw_method=bandwidth,\n",
      "/Users/alexi/Library/CloudStorage/OneDrive-Nexus365/Rotation Projects/Rotation_1/Project/DomAdpQSAR/DomAdpQSAR/presentation.py:40: UserWarning: Dataset has 0 variance; skipping density estimate. Pass `warn_singular=False` to disable this warning.\n",
      "  axes = sns.kdeplot(train_predictions, ax=axes, color=sns.color_palette()[2], linewidth=0.5, bw_method=bandwidth,\n"
     ]
    },
    {
     "name": "stdout",
     "output_type": "stream",
     "text": [
      "Step 1386, 0:00:03.217891...ize([1000, 2048])DNN Test Values:  ComparisonValues(ACC=tensor(0.8433), BAC=tensor(0.7609), MCC=tensor(0.5575), predicted_labels=tensor([0.0133, 0.0125, 0.9530,  ..., 0.0113, 0.0133, 0.1611]))\n",
      "GAN Test Values:  ComparisonValues(ACC=tensor(0.7527), BAC=tensor(0.5000), MCC=0.01, predicted_labels=tensor([0.4844, 0.4844, 0.4844,  ..., 0.4844, 0.4844, 0.4844]))\n"
     ]
    },
    {
     "name": "stderr",
     "output_type": "stream",
     "text": [
      "/Users/alexi/Library/CloudStorage/OneDrive-Nexus365/Rotation Projects/Rotation_1/Project/DomAdpQSAR/DomAdpQSAR/presentation.py:36: UserWarning: Dataset has 0 variance; skipping density estimate. Pass `warn_singular=False` to disable this warning.\n",
      "  axes = sns.kdeplot(unlabeled_predictions, ax=axes, color=sns.color_palette()[1], bw_method=bandwidth,\n",
      "/Users/alexi/Library/CloudStorage/OneDrive-Nexus365/Rotation Projects/Rotation_1/Project/DomAdpQSAR/DomAdpQSAR/presentation.py:38: UserWarning: Dataset has 0 variance; skipping density estimate. Pass `warn_singular=False` to disable this warning.\n",
      "  axes = sns.kdeplot(test_predictions, ax=axes, color=sns.color_palette()[2], bw_method=bandwidth,\n",
      "/Users/alexi/Library/CloudStorage/OneDrive-Nexus365/Rotation Projects/Rotation_1/Project/DomAdpQSAR/DomAdpQSAR/presentation.py:40: UserWarning: Dataset has 0 variance; skipping density estimate. Pass `warn_singular=False` to disable this warning.\n",
      "  axes = sns.kdeplot(train_predictions, ax=axes, color=sns.color_palette()[2], linewidth=0.5, bw_method=bandwidth,\n"
     ]
    },
    {
     "name": "stdout",
     "output_type": "stream",
     "text": [
      "Step 1393, 0:00:03.193150...ize([1000, 2048])DNN Test Values:  ComparisonValues(ACC=tensor(0.8446), BAC=tensor(0.7611), MCC=tensor(0.5604), predicted_labels=tensor([0.0524, 0.0177, 0.0384,  ..., 0.0156, 0.0121, 0.9931]))\n",
      "GAN Test Values:  ComparisonValues(ACC=tensor(0.7527), BAC=tensor(0.5000), MCC=0.01, predicted_labels=tensor([0.4843, 0.4843, 0.4843,  ..., 0.4843, 0.4843, 0.4843]))\n"
     ]
    },
    {
     "name": "stderr",
     "output_type": "stream",
     "text": [
      "/Users/alexi/Library/CloudStorage/OneDrive-Nexus365/Rotation Projects/Rotation_1/Project/DomAdpQSAR/DomAdpQSAR/presentation.py:36: UserWarning: Dataset has 0 variance; skipping density estimate. Pass `warn_singular=False` to disable this warning.\n",
      "  axes = sns.kdeplot(unlabeled_predictions, ax=axes, color=sns.color_palette()[1], bw_method=bandwidth,\n",
      "/Users/alexi/Library/CloudStorage/OneDrive-Nexus365/Rotation Projects/Rotation_1/Project/DomAdpQSAR/DomAdpQSAR/presentation.py:38: UserWarning: Dataset has 0 variance; skipping density estimate. Pass `warn_singular=False` to disable this warning.\n",
      "  axes = sns.kdeplot(test_predictions, ax=axes, color=sns.color_palette()[2], bw_method=bandwidth,\n",
      "/Users/alexi/Library/CloudStorage/OneDrive-Nexus365/Rotation Projects/Rotation_1/Project/DomAdpQSAR/DomAdpQSAR/presentation.py:40: UserWarning: Dataset has 0 variance; skipping density estimate. Pass `warn_singular=False` to disable this warning.\n",
      "  axes = sns.kdeplot(train_predictions, ax=axes, color=sns.color_palette()[2], linewidth=0.5, bw_method=bandwidth,\n"
     ]
    },
    {
     "name": "stdout",
     "output_type": "stream",
     "text": [
      "Step 1399, 0:00:03.025732...ize([218, 2048]))DNN Test Values:  ComparisonValues(ACC=tensor(0.8446), BAC=tensor(0.7590), MCC=tensor(0.5591), predicted_labels=tensor([0.0142, 0.0109, 0.0071,  ..., 0.0178, 0.0173, 0.0133]))\n",
      "GAN Test Values:  ComparisonValues(ACC=tensor(0.7527), BAC=tensor(0.5000), MCC=0.01, predicted_labels=tensor([0.4841, 0.4841, 0.4841,  ..., 0.4841, 0.4841, 0.4841]))\n",
      "Completed logs/SR GAN unlabelled val test LLx5\n"
     ]
    }
   ],
   "source": [
    "\n",
    "test_Experiment = DomAdpQSARSRGAN(settings)\n",
    "test_Experiment.settings.trial_name = \"SR GAN unlabelled val test MLx10\"\n",
    "test_Experiment.train()\n",
    "                    "
   ]
  },
  {
   "cell_type": "code",
   "execution_count": null,
   "metadata": {},
   "outputs": [],
   "source": [
    "break"
   ]
  },
  {
   "cell_type": "code",
   "execution_count": null,
   "metadata": {},
   "outputs": [],
   "source": [
    "\n",
    "\n",
    "for bool1 in [True, False]:\n",
    "    for bool2 in [True, False]:\n",
    "        for rank in [None, \"Tanimoto\"]:\n",
    "            settings.use_feature_angle = bool1\n",
    "            settings.normalize_feature_norm = bool2 \n",
    "            \n",
    "\n",
    "            test_Experiment = DomAdpQSARSRGAN(settings)\n",
    "            test_Experiment.settings.trial_name = \"SR GAN Feat Ax LLx50 rank {} Ang {} Norm Feat Norm {}\".format(str(rank), \n",
    "                                                                                                                  str(bool1), \n",
    "                                                                                                                  str(bool2))\n",
    "            print(test_Experiment.settings.trial_name)\n",
    "            test_Experiment.set_rank(rank)\n",
    "            test_Experiment.train()\n",
    "\n",
    "\n"
   ]
  },
  {
   "cell_type": "code",
   "execution_count": null,
   "metadata": {},
   "outputs": [
    {
     "ename": "SyntaxError",
     "evalue": "'break' outside loop (668683560.py, line 1)",
     "output_type": "error",
     "traceback": [
      "\u001b[0;36m  Cell \u001b[0;32mIn[6], line 1\u001b[0;36m\u001b[0m\n\u001b[0;31m    break\u001b[0m\n\u001b[0m    ^\u001b[0m\n\u001b[0;31mSyntaxError\u001b[0m\u001b[0;31m:\u001b[0m 'break' outside loop\n"
     ]
    }
   ],
   "source": [
    "break"
   ]
  },
  {
   "cell_type": "code",
   "execution_count": null,
   "metadata": {},
   "outputs": [],
   "source": [
    "# test_Experiment.model_setup()\n",
    "\n"
   ]
  },
  {
   "cell_type": "code",
   "execution_count": null,
   "metadata": {},
   "outputs": [],
   "source": [
    "test_Experiment.train()"
   ]
  },
  {
   "cell_type": "code",
   "execution_count": null,
   "metadata": {},
   "outputs": [],
   "source": []
  },
  {
   "cell_type": "code",
   "execution_count": null,
   "metadata": {},
   "outputs": [],
   "source": [
    "settings.normalize_feature_norm = False\n",
    "settings.use_feature_angle = False\n",
    "test_Experiment.settings.trial_name = 'SR-GAN Ax tune 1 feat_norm Flase angle False'\n",
    "test_Experiment.train()"
   ]
  },
  {
   "cell_type": "code",
   "execution_count": null,
   "metadata": {},
   "outputs": [],
   "source": []
  }
 ],
 "metadata": {
  "kernelspec": {
   "display_name": "fluid_test",
   "language": "python",
   "name": "python3"
  },
  "language_info": {
   "codemirror_mode": {
    "name": "ipython",
    "version": 3
   },
   "file_extension": ".py",
   "mimetype": "text/x-python",
   "name": "python",
   "nbconvert_exporter": "python",
   "pygments_lexer": "ipython3",
   "version": "3.8.16"
  },
  "orig_nbformat": 4
 },
 "nbformat": 4,
 "nbformat_minor": 2
}
