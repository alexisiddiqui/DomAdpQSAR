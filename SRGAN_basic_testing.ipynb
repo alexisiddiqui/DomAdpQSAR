{
 "cells": [
  {
   "attachments": {},
   "cell_type": "markdown",
   "metadata": {},
   "source": []
  },
  {
   "cell_type": "code",
   "execution_count": 3,
   "metadata": {},
   "outputs": [],
   "source": [
    "## QSAR SR GAN testing\n",
    "\n",
    "from DomAdpQSAR.QSARsettings import Settings\n",
    "from DomAdpQSAR.QSARsrgan import DomAdpQSARSRGAN\n",
    "\n",
    "\n",
    "settings = Settings()\n",
    "import os\n",
    "import pandas as pd"
   ]
  },
  {
   "cell_type": "code",
   "execution_count": 4,
   "metadata": {},
   "outputs": [],
   "source": [
    "data_dir = 'data'\n",
    "validation_datapath = os.path.join(data_dir, 'validation_data.pkl')\n",
    "\n",
    "validation_dataframe = pd.read_pickle(validation_datapath)\n"
   ]
  },
  {
   "cell_type": "code",
   "execution_count": 5,
   "metadata": {},
   "outputs": [
    {
     "name": "stdout",
     "output_type": "stream",
     "text": [
      "      ACTIVITY                                       MOLECULE  \\\n",
      "1421  Inactive  <rdkit.Chem.rdchem.Mol object at 0x284f41ae0>   \n",
      "2748    Active  <rdkit.Chem.rdchem.Mol object at 0x284f41a90>   \n",
      "3475  Inactive  <rdkit.Chem.rdchem.Mol object at 0x284f41b30>   \n",
      "4851  Inactive  <rdkit.Chem.rdchem.Mol object at 0x284f41b80>   \n",
      "3002  Inactive  <rdkit.Chem.rdchem.Mol object at 0x284f41bd0>   \n",
      "...        ...                                            ...   \n",
      "4746  Inactive  <rdkit.Chem.rdchem.Mol object at 0x284fe29f0>   \n",
      "7397  Inactive  <rdkit.Chem.rdchem.Mol object at 0x284fe2a40>   \n",
      "904     Active  <rdkit.Chem.rdchem.Mol object at 0x284fe2a90>   \n",
      "1446  Inactive  <rdkit.Chem.rdchem.Mol object at 0x284fe2ae0>   \n",
      "7288    Active  <rdkit.Chem.rdchem.Mol object at 0x284fe2b30>   \n",
      "\n",
      "                            INCHI  CLASS  \\\n",
      "1421  FJZDAINBGFEFNG-UHFFFAOYSA-N      0   \n",
      "2748  JOHOQMIETZSDOL-UHFFFAOYSA-N      1   \n",
      "3475  LUTWDNUXHDYZRA-UHFFFAOYSA-N      0   \n",
      "4851  QFJCIRLUMZQUOT-HPLJOQBZSA-N      0   \n",
      "3002  KHPZRFSKOJGJEJ-YYHAPLCHSA-N      0   \n",
      "...                           ...    ...   \n",
      "4746  PWWZWUNVIFMMLP-UHFFFAOYSA-N      0   \n",
      "7397  YVFFXPPCYCZALQ-OKILXGFUSA-N      0   \n",
      "904   CVFBVSUFNWOPLD-LJQANCHMSA-N      1   \n",
      "1446  FMHHVULEAZTJMA-UHFFFAOYSA-N      0   \n",
      "7288  YLVNAYQFRWZYPH-FOUBCARRSA-N      1   \n",
      "\n",
      "                                                     FP               SOURCE  \\\n",
      "1421  [1, 0, 1, 0, 1, 0, 1, 0, 1, 0, 0, 0, 0, 0, 0, ...  hERG_lhasa_training   \n",
      "2748  [1, 0, 1, 0, 1, 0, 1, 0, 0, 0, 0, 0, 0, 0, 0, ...  hERG_lhasa_training   \n",
      "3475  [1, 0, 1, 1, 1, 0, 0, 0, 0, 0, 0, 0, 0, 0, 0, ...  hERG_lhasa_training   \n",
      "4851  [1, 0, 1, 1, 0, 0, 0, 0, 0, 0, 0, 0, 0, 0, 0, ...  hERG_lhasa_training   \n",
      "3002  [1, 0, 1, 0, 0, 0, 0, 1, 0, 0, 0, 0, 0, 0, 0, ...  hERG_lhasa_training   \n",
      "...                                                 ...                  ...   \n",
      "4746  [1, 0, 1, 0, 1, 0, 0, 0, 0, 0, 0, 0, 0, 0, 0, ...  hERG_lhasa_training   \n",
      "7397  [1, 1, 1, 0, 1, 0, 1, 0, 1, 0, 0, 0, 0, 0, 0, ...  hERG_lhasa_training   \n",
      "904   [1, 0, 1, 0, 1, 0, 0, 0, 0, 0, 0, 0, 0, 0, 0, ...  hERG_lhasa_training   \n",
      "1446  [1, 0, 1, 0, 1, 0, 1, 0, 0, 0, 0, 0, 0, 0, 0, ...  hERG_lhasa_training   \n",
      "7288  [1, 0, 1, 0, 1, 0, 1, 0, 1, 0, 0, 0, 0, 0, 0, ...  hERG_lhasa_training   \n",
      "\n",
      "          ROLE  \n",
      "1421  Training  \n",
      "2748  Training  \n",
      "3475  Training  \n",
      "4851  Training  \n",
      "3002  Training  \n",
      "...        ...  \n",
      "4746  Training  \n",
      "7397  Training  \n",
      "904   Training  \n",
      "1446  Training  \n",
      "7288  Training  \n",
      "\n",
      "[1554 rows x 7 columns]\n"
     ]
    }
   ],
   "source": [
    "print((validation_dataframe))"
   ]
  },
  {
   "cell_type": "code",
   "execution_count": 4,
   "metadata": {},
   "outputs": [],
   "source": [
    "\n",
    "# settings.learning_rate = \n",
    "settings.epochs_to_run = 200\n",
    "# settings.generator_layer_sizes\n",
    "# settings.use_feature_angle = True\n",
    "\n",
    "settings.labeled_loss_multiplier = 50\n",
    "settings.matching_loss_multiplier = 3\n",
    "settings.contrasting_loss_multiplier = 2\n",
    "settings.srgan_loss_multiplier = 125\n",
    "\n",
    "settings.gradient_penalty_multiplier = 4750\n",
    "# settings.federated_datapath = os.path.join(settings.data_dir, 'transfer_full.pkl')\n"
   ]
  },
  {
   "cell_type": "code",
   "execution_count": null,
   "metadata": {},
   "outputs": [],
   "source": []
  },
  {
   "cell_type": "code",
   "execution_count": null,
   "metadata": {},
   "outputs": [],
   "source": [
    "\n",
    "\n",
    "for bool1 in [True, False]:\n",
    "    for bool2 in [True, False]:\n",
    "        for rank in [None, \"Tanimoto\"]:\n",
    "            settings.use_feature_angle = bool1\n",
    "            settings.normalize_feature_norm = bool2 \n",
    "            \n",
    "\n",
    "            test_Experiment = DomAdpQSARSRGAN(settings)\n",
    "            test_Experiment.settings.trial_name = \"SR GAN Feat Ax LLx50 rank {} Ang {} Norm Feat Norm {}\".format(str(rank), \n",
    "                                                                                                                  str(bool1), \n",
    "                                                                                                                  str(bool2))\n",
    "            print(test_Experiment.settings.trial_name)\n",
    "            test_Experiment.set_rank(rank)\n",
    "            test_Experiment.train()\n",
    "\n",
    "\n"
   ]
  },
  {
   "cell_type": "code",
   "execution_count": null,
   "metadata": {},
   "outputs": [],
   "source": [
    "# test_Experiment.model_setup()\n",
    "\n"
   ]
  },
  {
   "cell_type": "code",
   "execution_count": null,
   "metadata": {},
   "outputs": [],
   "source": [
    "test_Experiment.train()"
   ]
  },
  {
   "cell_type": "code",
   "execution_count": null,
   "metadata": {},
   "outputs": [],
   "source": []
  },
  {
   "cell_type": "code",
   "execution_count": null,
   "metadata": {},
   "outputs": [],
   "source": [
    "settings.normalize_feature_norm = False\n",
    "settings.use_feature_angle = False\n",
    "test_Experiment.settings.trial_name = 'SR-GAN Ax tune 1 feat_norm Flase angle False'\n",
    "test_Experiment.train()"
   ]
  },
  {
   "cell_type": "code",
   "execution_count": null,
   "metadata": {},
   "outputs": [],
   "source": []
  }
 ],
 "metadata": {
  "kernelspec": {
   "display_name": "fluid_test",
   "language": "python",
   "name": "python3"
  },
  "language_info": {
   "codemirror_mode": {
    "name": "ipython",
    "version": 3
   },
   "file_extension": ".py",
   "mimetype": "text/x-python",
   "name": "python",
   "nbconvert_exporter": "python",
   "pygments_lexer": "ipython3",
   "version": "3.8.16"
  },
  "orig_nbformat": 4
 },
 "nbformat": 4,
 "nbformat_minor": 2
}
