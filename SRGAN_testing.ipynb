{
 "cells": [
  {
   "cell_type": "code",
   "execution_count": 1,
   "metadata": {},
   "outputs": [],
   "source": [
    "# SR-GAN Testing"
   ]
  },
  {
   "cell_type": "code",
   "execution_count": 2,
   "metadata": {},
   "outputs": [],
   "source": [
    "\n",
    "from DomAdpQSAR.utility import gpu, seed_all\n",
    "\n",
    "from DomAdpQSAR.QSARsettings import Settings"
   ]
  },
  {
   "cell_type": "code",
   "execution_count": 3,
   "metadata": {},
   "outputs": [],
   "source": [
    "from DomAdpQSAR.QSARSRGAN import DomAdpQSARSRGAN\n",
    "\n",
    "\n"
   ]
  },
  {
   "cell_type": "markdown",
   "metadata": {},
   "source": []
  },
  {
   "cell_type": "code",
   "execution_count": 4,
   "metadata": {},
   "outputs": [
    {
     "ename": "TypeError",
     "evalue": "object.__init__() takes exactly one argument (the instance to initialize)",
     "output_type": "error",
     "traceback": [
      "\u001b[0;31m---------------------------------------------------------------------------\u001b[0m",
      "\u001b[0;31mTypeError\u001b[0m                                 Traceback (most recent call last)",
      "Cell \u001b[0;32mIn[4], line 3\u001b[0m\n\u001b[1;32m      1\u001b[0m test_settings \u001b[39m=\u001b[39m Settings()\n\u001b[1;32m      2\u001b[0m test_settings\u001b[39m.\u001b[39mtrial_name \u001b[39m=\u001b[39m \u001b[39m\"\u001b[39m\u001b[39msr-gan-test\u001b[39m\u001b[39m\"\u001b[39m\n\u001b[0;32m----> 3\u001b[0m test_Experiment \u001b[39m=\u001b[39m DomAdpQSARSRGAN(test_settings)\n",
      "File \u001b[0;32m~/Library/CloudStorage/OneDrive-Nexus365/Rotation Projects/Rotation_1/Project/DomAdpQSAR/DomAdpQSAR/QSARSRGAN.py:33\u001b[0m, in \u001b[0;36mDomAdpQSARSRGAN.__init__\u001b[0;34m(self, settings)\u001b[0m\n\u001b[1;32m     31\u001b[0m \u001b[39mdef\u001b[39;00m \u001b[39m__init__\u001b[39m(\u001b[39mself\u001b[39m, settings):\n\u001b[1;32m     32\u001b[0m     \u001b[39msuper\u001b[39m(DomAdpQSARSRGAN, \u001b[39mself\u001b[39m)\u001b[39m.\u001b[39m\u001b[39m__init__\u001b[39m(settings)\n\u001b[0;32m---> 33\u001b[0m     \u001b[39msuper\u001b[39;49m(Experiment, \u001b[39mself\u001b[39;49m)\u001b[39m.\u001b[39;49m\u001b[39m__init__\u001b[39;49m(settings)\n\u001b[1;32m     35\u001b[0m     \u001b[39m# super(DomAdpQSARSRGAN).__init__(settings)\u001b[39;00m\n\u001b[1;32m     36\u001b[0m     \u001b[39mself\u001b[39m\u001b[39m.\u001b[39mgenerator_layer_sizes \u001b[39m=\u001b[39m \u001b[39mself\u001b[39m\u001b[39m.\u001b[39msettings\u001b[39m.\u001b[39mgenerator_layer_sizes\n",
      "\u001b[0;31mTypeError\u001b[0m: object.__init__() takes exactly one argument (the instance to initialize)"
     ]
    }
   ],
   "source": [
    "test_settings = Settings()\n",
    "test_settings.trial_name = \"sr-gan-test\"\n",
    "test_Experiment = DomAdpQSARSRGAN(test_settings)"
   ]
  },
  {
   "cell_type": "code",
   "execution_count": null,
   "metadata": {},
   "outputs": [],
   "source": []
  }
 ],
 "metadata": {
  "kernelspec": {
   "display_name": "fluid_test",
   "language": "python",
   "name": "python3"
  },
  "language_info": {
   "codemirror_mode": {
    "name": "ipython",
    "version": 3
   },
   "file_extension": ".py",
   "mimetype": "text/x-python",
   "name": "python",
   "nbconvert_exporter": "python",
   "pygments_lexer": "ipython3",
   "version": "3.8.16"
  },
  "orig_nbformat": 4
 },
 "nbformat": 4,
 "nbformat_minor": 2
}
