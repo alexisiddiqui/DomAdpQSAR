{
 "cells": [
  {
   "attachments": {},
   "cell_type": "markdown",
   "metadata": {},
   "source": [
    "# Notebook to plot the different chemical spaces"
   ]
  },
  {
   "cell_type": "code",
   "execution_count": null,
   "metadata": {},
   "outputs": [],
   "source": []
  },
  {
   "cell_type": "code",
   "execution_count": 1,
   "metadata": {},
   "outputs": [],
   "source": [
    "\n",
    "from DomAdpQSAR.QSARsettings import Settings\n",
    "from DomAdpQSAR.QSARsrgan import DomAdpQSARSRGAN\n",
    "\n",
    "settings = Settings()\n",
    "\n",
    "import torch\n",
    "import numpy as np\n",
    "import pandas as pd\n",
    "from DomAdpQSAR.utility import MixtureModel, gpu\n",
    "\n",
    "from scipy.stats import norm"
   ]
  },
  {
   "cell_type": "code",
   "execution_count": 2,
   "metadata": {},
   "outputs": [
    {
     "name": "stdout",
     "output_type": "stream",
     "text": [
      "dataset rank:  None\n",
      "7\n",
      "Model loaded from `logs/SR GAN Ax LLx50 Feat size 32 Ang False Norm feat Norm True/model_1400.pth`.\n"
     ]
    }
   ],
   "source": [
    "#Load in model\n",
    "model_name = \"SR GAN Ax LLx50 Feat size 32 Ang False Norm feat Norm True\"\n",
    "\n",
    "model_path = \"logs/\" + model_name + \"/\"\n",
    "\n",
    "settings.load_model_path = model_path\n",
    "\n",
    "SRGAN = DomAdpQSARSRGAN(settings)\n",
    "\n",
    "\n",
    "SRGAN.dataset_setup()\n",
    "SRGAN.model_setup()\n",
    "SRGAN.prepare_optimizers()\n",
    "SRGAN.load_models()\n",
    "SRGAN.eval_mode()\n"
   ]
  },
  {
   "cell_type": "code",
   "execution_count": 3,
   "metadata": {},
   "outputs": [],
   "source": [
    "# Load in dataframe and concanate into global dataframe\n",
    "\n",
    "global_df = pd.concat([SRGAN.federated_dataframe, SRGAN.clean_dataframe, SRGAN.validation_dataframe, SRGAN.test_dataframe], ignore_index=True)\n",
    "\n",
    "# global_df.head()"
   ]
  },
  {
   "cell_type": "code",
   "execution_count": 4,
   "metadata": {},
   "outputs": [],
   "source": [
    "global_df = pd.read_parquet(model_name+\"_global_df.parquet\")"
   ]
  },
  {
   "attachments": {},
   "cell_type": "markdown",
   "metadata": {},
   "source": [
    "### Create generated data"
   ]
  },
  {
   "cell_type": "code",
   "execution_count": 4,
   "metadata": {},
   "outputs": [],
   "source": [
    "# Create Noise vectors\n",
    "\n",
    "z = torch.tensor(MixtureModel([norm(-settings.mean_offset, 1),\n",
    "                                norm(settings.mean_offset, 1)]\n",
    "                                ).rvs(size=[settings.batch_size,\n",
    "                                            SRGAN.G.input_size]).astype(np.float32)).to(gpu)\n",
    "# Create fake fingerprints\n",
    "fake_FP = SRGAN.G(z)\n",
    "role = \"Fake\"\n",
    "fake_FP = fake_FP.detach().cpu().numpy()\n",
    "\n",
    "# Create dataframe\n",
    "fake_df = pd.DataFrame()\n",
    "# Add to dataframe\n",
    "fake_df[\"FP\"] = fake_FP.tolist()\n",
    "fake_df[\"ROLE\"] = role\n",
    "\n"
   ]
  },
  {
   "cell_type": "code",
   "execution_count": 6,
   "metadata": {},
   "outputs": [
    {
     "data": {
      "text/plain": [
       "Transfer    50000\n",
       "Training     7772\n",
       "Test         4383\n",
       "Fake         1000\n",
       "Name: ROLE, dtype: int64"
      ]
     },
     "execution_count": 6,
     "metadata": {},
     "output_type": "execute_result"
    }
   ],
   "source": []
  },
  {
   "cell_type": "code",
   "execution_count": 5,
   "metadata": {},
   "outputs": [],
   "source": [
    "# concatentate fake and global dataframe\n",
    "global_df = pd.concat([global_df, fake_df], ignore_index=True)"
   ]
  },
  {
   "cell_type": "code",
   "execution_count": 7,
   "metadata": {},
   "outputs": [],
   "source": [
    "role_mapping = {\n",
    "    'Transfer': 0,\n",
    "    'Training': 1,\n",
    "    'Test': 2,\n",
    "    'Fake': 3\n",
    "}\n",
    "global_df[\"Role\"] = global_df[\"ROLE\"].map(role_mapping)"
   ]
  },
  {
   "cell_type": "code",
   "execution_count": 10,
   "metadata": {},
   "outputs": [
    {
     "data": {
      "text/plain": [
       "0        0\n",
       "1        0\n",
       "2        0\n",
       "3        0\n",
       "4        0\n",
       "        ..\n",
       "63150    3\n",
       "63151    3\n",
       "63152    3\n",
       "63153    3\n",
       "63154    3\n",
       "Name: Role, Length: 63155, dtype: int64"
      ]
     },
     "execution_count": 10,
     "metadata": {},
     "output_type": "execute_result"
    }
   ],
   "source": []
  },
  {
   "cell_type": "code",
   "execution_count": 77,
   "metadata": {},
   "outputs": [
    {
     "name": "stdout",
     "output_type": "stream",
     "text": [
      "5.1144010767160165643\r"
     ]
    }
   ],
   "source": [
    "# Compute tanimoto similarity against federated dataset\n",
    "\n",
    "from utils import calculate_target_similarity, calculate_set_similarity\n",
    "\n",
    "# Calculate similarity against federated dataset\n",
    "similarity_scores = []\n",
    "for idx,FP in enumerate(global_df[\"FP\"]):\n",
    "    print(100*(idx/len(global_df)), end=\"\\r\")\n",
    "    scores = calculate_target_similarity(FP, SRGAN.clean_dataframe, mean=None)\n",
    "    similarity_scores.append(scores)\n",
    "\n",
    "global_df[\"Similarity\"] = similarity_scores"
   ]
  },
  {
   "cell_type": "code",
   "execution_count": null,
   "metadata": {},
   "outputs": [],
   "source": []
  },
  {
   "cell_type": "code",
   "execution_count": 58,
   "metadata": {},
   "outputs": [
    {
     "ename": "AxisError",
     "evalue": "axis 1 is out of bounds for array of dimension 1",
     "output_type": "error",
     "traceback": [
      "\u001b[0;31m---------------------------------------------------------------------------\u001b[0m",
      "\u001b[0;31mAxisError\u001b[0m                                 Traceback (most recent call last)",
      "Cell \u001b[0;32mIn[58], line 10\u001b[0m\n\u001b[1;32m      7\u001b[0m GAN_features \u001b[39m=\u001b[39m SRGAN\u001b[39m.\u001b[39mD\u001b[39m.\u001b[39mfeatures\u001b[39m.\u001b[39mdetach()\u001b[39m.\u001b[39mcpu()\u001b[39m.\u001b[39mnumpy()\n\u001b[1;32m      9\u001b[0m \u001b[39m# calculate l2 difference of logits and features\u001b[39;00m\n\u001b[0;32m---> 10\u001b[0m logit_diff \u001b[39m=\u001b[39m np\u001b[39m.\u001b[39;49mlinalg\u001b[39m.\u001b[39;49mnorm(DNN_logits \u001b[39m-\u001b[39;49m GAN_logits, axis\u001b[39m=\u001b[39;49m\u001b[39m1\u001b[39;49m)\n\u001b[1;32m     11\u001b[0m feature_diff \u001b[39m=\u001b[39m np\u001b[39m.\u001b[39mlinalg\u001b[39m.\u001b[39mnorm(DNN_features \u001b[39m-\u001b[39m GAN_features, axis\u001b[39m=\u001b[39m\u001b[39m1\u001b[39m)\n",
      "File \u001b[0;32m<__array_function__ internals>:200\u001b[0m, in \u001b[0;36mnorm\u001b[0;34m(*args, **kwargs)\u001b[0m\n",
      "File \u001b[0;32m~/miniconda/envs/fluid_test/lib/python3.8/site-packages/numpy/linalg/linalg.py:2542\u001b[0m, in \u001b[0;36mnorm\u001b[0;34m(x, ord, axis, keepdims)\u001b[0m\n\u001b[1;32m   2539\u001b[0m \u001b[39melif\u001b[39;00m \u001b[39mord\u001b[39m \u001b[39mis\u001b[39;00m \u001b[39mNone\u001b[39;00m \u001b[39mor\u001b[39;00m \u001b[39mord\u001b[39m \u001b[39m==\u001b[39m \u001b[39m2\u001b[39m:\n\u001b[1;32m   2540\u001b[0m     \u001b[39m# special case for speedup\u001b[39;00m\n\u001b[1;32m   2541\u001b[0m     s \u001b[39m=\u001b[39m (x\u001b[39m.\u001b[39mconj() \u001b[39m*\u001b[39m x)\u001b[39m.\u001b[39mreal\n\u001b[0;32m-> 2542\u001b[0m     \u001b[39mreturn\u001b[39;00m sqrt(add\u001b[39m.\u001b[39;49mreduce(s, axis\u001b[39m=\u001b[39;49maxis, keepdims\u001b[39m=\u001b[39;49mkeepdims))\n\u001b[1;32m   2543\u001b[0m \u001b[39m# None of the str-type keywords for ord ('fro', 'nuc')\u001b[39;00m\n\u001b[1;32m   2544\u001b[0m \u001b[39m# are valid for vectors\u001b[39;00m\n\u001b[1;32m   2545\u001b[0m \u001b[39melif\u001b[39;00m \u001b[39misinstance\u001b[39m(\u001b[39mord\u001b[39m, \u001b[39mstr\u001b[39m):\n",
      "\u001b[0;31mAxisError\u001b[0m: axis 1 is out of bounds for array of dimension 1"
     ]
    }
   ],
   "source": [
    "#Compute DNN and GAN features, logits\n",
    "\n",
    "FPs = torch.tensor(global_df[\"FP\"]).to(gpu)\n",
    "DNN_logits = SRGAN.DNN(FPs).detach().cpu().numpy()\n",
    "GAN_logits = SRGAN.D(FPs).detach().cpu().numpy()\n",
    "DNN_features = SRGAN.DNN.features.detach().cpu().numpy()\n",
    "GAN_features = SRGAN.D.features.detach().cpu().numpy()\n",
    "\n",
    "# calculate root squared difference between DNN and GAN logits and features\n",
    "logit_diff = np.sqrt(np.square(DNN_logits - GAN_logits))\n",
    "feature_diff = np.sqrt(np.square(DNN_features - GAN_features))\n",
    "\n",
    "\n",
    "# Add to dataframe\n",
    "global_df[\"DNN_Logits\"] = DNN_logits.tolist()\n",
    "global_df[\"GAN_Logits\"] = GAN_logits.tolist()\n",
    "global_df[\"DNN_Features\"] = DNN_features.tolist()\n",
    "global_df[\"GAN_Features\"] = GAN_features.tolist()\n",
    "global_df[\"Logit_Diff\"] = logit_diff.tolist()\n",
    "global_df[\"Feature_Diff\"] = feature_diff.tolist()"
   ]
  },
  {
   "cell_type": "code",
   "execution_count": 14,
   "metadata": {},
   "outputs": [
    {
     "name": "stdout",
     "output_type": "stream",
     "text": [
      "0        0.487051\n",
      "1        0.142762\n",
      "2        0.006265\n",
      "3        0.013557\n",
      "4        0.043268\n",
      "           ...   \n",
      "63150    0.917429\n",
      "63151    0.895201\n",
      "63152    0.924473\n",
      "63153    0.923102\n",
      "63154    0.939591\n",
      "Name: Logit_Diff, Length: 63155, dtype: float64\n"
     ]
    }
   ],
   "source": []
  },
  {
   "cell_type": "code",
   "execution_count": 66,
   "metadata": {},
   "outputs": [
    {
     "name": "stdout",
     "output_type": "stream",
     "text": [
      "[0.2679201  0.16472697 0.20852098 ... 0.8389806  0.6579721  0.02896678]\n",
      "[[5.8604997e-01 2.9445589e-03 4.3479800e-03 ... 4.3742085e+00\n",
      "  9.7864866e-03 1.5914142e-03]\n",
      " [1.8017637e+00 1.1906178e+00 1.1273171e+00 ... 6.5069717e-01\n",
      "  5.5891079e-01 7.5602680e-02]\n",
      " [8.8214558e-01 2.9445589e-03 4.3479800e-03 ... 1.9417758e+00\n",
      "  1.3676919e+00 1.5029877e+00]\n",
      " ...\n",
      " [4.0481687e-03 2.7485309e+00 4.3479800e-03 ... 1.1650026e-02\n",
      "  9.5187836e+00 8.0041771e+00]\n",
      " [2.2246838e-01 6.1458950e+00 1.3298645e+01 ... 2.3307071e+00\n",
      "  3.6221719e+00 1.5914142e-03]\n",
      " [4.0481687e-03 6.2673812e+00 1.0051172e+01 ... 1.1650026e-02\n",
      "  5.3421354e-01 1.1291233e+00]]\n"
     ]
    }
   ],
   "source": []
  },
  {
   "cell_type": "code",
   "execution_count": 67,
   "metadata": {},
   "outputs": [],
   "source": []
  },
  {
   "cell_type": "code",
   "execution_count": 8,
   "metadata": {},
   "outputs": [],
   "source": [
    "# Compare real logits and classes\n",
    "\n",
    "DNN_distances = []\n",
    "GAN_distances = []\n",
    "\n",
    "for index, row in global_df.iterrows():\n",
    "    # print(row)\n",
    "    if row[\"ROLE\"] == \"Fake\":\n",
    "        DNN_distance = None\n",
    "        GAN_distance = None\n",
    "    else:\n",
    "        DNN_distance = np.sqrt(np.square(row[\"DNN_Logits\"] - row[\"CLASS\"]))\n",
    "        GAN_distance = np.sqrt(np.square(row[\"GAN_Logits\"] - row[\"CLASS\"]))\n",
    "\n",
    "    DNN_distances.append(DNN_distance)\n",
    "    GAN_distances.append(GAN_distance)\n",
    "\n",
    "global_df[\"DNN_Distance\"] = DNN_distances\n",
    "global_df[\"GAN_Distance\"] = GAN_distances\n"
   ]
  },
  {
   "cell_type": "code",
   "execution_count": null,
   "metadata": {},
   "outputs": [],
   "source": []
  },
  {
   "cell_type": "code",
   "execution_count": null,
   "metadata": {},
   "outputs": [],
   "source": [
    "# save dataframe to pickle\n",
    "# global_df.to_pickle(model_name+\"_global_df.pkl\")\n"
   ]
  },
  {
   "cell_type": "code",
   "execution_count": 13,
   "metadata": {},
   "outputs": [],
   "source": [
    "global_df.to_parquet(model_name+\"_global_df.parquet\")"
   ]
  },
  {
   "cell_type": "code",
   "execution_count": null,
   "metadata": {},
   "outputs": [],
   "source": [
    "# PHATE on FPs\n",
    "import phate\n",
    "phate_operator = phate.PHATE(n_components=3, n_jobs=-1)\n",
    "phate_train = phate_operator.fit_transform(FPs)"
   ]
  },
  {
   "cell_type": "code",
   "execution_count": 18,
   "metadata": {},
   "outputs": [],
   "source": []
  },
  {
   "cell_type": "code",
   "execution_count": 19,
   "metadata": {},
   "outputs": [],
   "source": [
    "# make a new df from FP and ROLE \n",
    "colour_indexes = [\"Role\", \"CLASS\", \"DNN_Logits\", \"GAN_Logits\", \"Logit_Diff\" ,\"DNN_Distance\", \"GAN_Distance\" ]\n",
    "\n",
    "plotting_df = pd.DataFrame()\n",
    "plotting_df[\"FP\"] = global_df[\"FP\"]\n",
    "plotting_df[\"ROLE\"] = global_df[\"ROLE\"]\n",
    "\n",
    "for index in colour_indexes:\n",
    "    plotting_df[index] = global_df[index]"
   ]
  },
  {
   "cell_type": "code",
   "execution_count": 41,
   "metadata": {},
   "outputs": [
    {
     "name": "stdout",
     "output_type": "stream",
     "text": [
      "Computing T-SNE_2D for FP\n",
      "Computing PHATE_2D for FP\n",
      "Calculating PHATE...\n",
      "  Running PHATE on 63155 observations and 2048 variables.\n",
      "  Calculating graph and diffusion operator...\n",
      "    Calculating PCA...\n",
      "    Calculated PCA in 7.94 seconds.\n",
      "    Calculating KNN search...\n",
      "    Calculated KNN search in 97.62 seconds.\n",
      "    Calculating affinities...\n"
     ]
    },
    {
     "name": "stderr",
     "output_type": "stream",
     "text": [
      "/Users/alexi/miniconda/envs/fluid_test/lib/python3.8/site-packages/graphtools/graphs.py:290: RuntimeWarning: Detected zero distance between 2263 pairs of samples. Consider removing duplicates to avoid errors in downstream processing.\n",
      "  warnings.warn(\n"
     ]
    },
    {
     "name": "stdout",
     "output_type": "stream",
     "text": [
      "    Calculated affinities in 0.88 seconds.\n",
      "  Calculated graph and diffusion operator in 106.48 seconds.\n",
      "  Calculating landmark operator...\n",
      "    Calculating SVD...\n"
     ]
    },
    {
     "name": "stderr",
     "output_type": "stream",
     "text": [
      "/Users/alexi/miniconda/envs/fluid_test/lib/python3.8/site-packages/graphtools/graphs.py:454: RuntimeWarning: overflow encountered in power\n",
      "  K.data = np.exp(-1 * np.power(K.data, self.decay))\n"
     ]
    },
    {
     "name": "stdout",
     "output_type": "stream",
     "text": [
      "    Calculated SVD in 4.18 seconds.\n",
      "    Calculating KMeans...\n",
      "    Calculated KMeans in 3.28 seconds.\n",
      "  Calculated landmark operator in 8.48 seconds.\n",
      "  Calculating optimal t...\n",
      "    Automatically selected t = 61\n",
      "  Calculated optimal t in 3.21 seconds.\n",
      "  Calculating diffusion potential...\n",
      "  Calculated diffusion potential in 0.65 seconds.\n",
      "  Calculating metric MDS...\n",
      "  Calculated metric MDS in 2.22 seconds.\n",
      "Calculated PHATE in 121.05 seconds.\n",
      "Computing T-SNE_2D for DNN_Features\n",
      "Computing PHATE_2D for DNN_Features\n",
      "Calculating PHATE...\n",
      "  Running PHATE on 63155 observations and 32 variables.\n",
      "  Calculating graph and diffusion operator...\n",
      "    Calculating KNN search...\n",
      "    Calculated KNN search in 20.69 seconds.\n",
      "    Calculating affinities...\n",
      "    Calculated affinities in 0.20 seconds.\n"
     ]
    },
    {
     "name": "stderr",
     "output_type": "stream",
     "text": [
      "/Users/alexi/miniconda/envs/fluid_test/lib/python3.8/site-packages/graphtools/graphs.py:290: RuntimeWarning: Detected zero distance between 3014 pairs of samples. Consider removing duplicates to avoid errors in downstream processing.\n",
      "  warnings.warn(\n",
      "/Users/alexi/miniconda/envs/fluid_test/lib/python3.8/site-packages/graphtools/graphs.py:454: RuntimeWarning: overflow encountered in power\n",
      "  K.data = np.exp(-1 * np.power(K.data, self.decay))\n"
     ]
    },
    {
     "name": "stdout",
     "output_type": "stream",
     "text": [
      "  Calculated graph and diffusion operator in 20.93 seconds.\n",
      "  Calculating landmark operator...\n",
      "    Calculating SVD...\n",
      "    Calculated SVD in 4.03 seconds.\n",
      "    Calculating KMeans...\n",
      "    Calculated KMeans in 4.15 seconds.\n",
      "  Calculated landmark operator in 9.31 seconds.\n",
      "  Calculating optimal t...\n",
      "    Automatically selected t = 33\n",
      "  Calculated optimal t in 3.82 seconds.\n",
      "  Calculating diffusion potential...\n",
      "  Calculated diffusion potential in 0.46 seconds.\n",
      "  Calculating metric MDS...\n",
      "  Calculated metric MDS in 2.22 seconds.\n",
      "Calculated PHATE in 36.74 seconds.\n",
      "Computing T-SNE_2D for GAN_Features\n",
      "Computing PHATE_2D for GAN_Features\n",
      "Calculating PHATE...\n",
      "  Running PHATE on 63155 observations and 32 variables.\n",
      "  Calculating graph and diffusion operator...\n",
      "    Calculating KNN search...\n",
      "    Calculated KNN search in 4.40 seconds.\n",
      "    Calculating affinities...\n",
      "    Calculated affinities in 0.18 seconds.\n"
     ]
    },
    {
     "name": "stderr",
     "output_type": "stream",
     "text": [
      "/Users/alexi/miniconda/envs/fluid_test/lib/python3.8/site-packages/graphtools/graphs.py:290: RuntimeWarning: Detected zero distance between 2263 pairs of samples. Consider removing duplicates to avoid errors in downstream processing.\n",
      "  warnings.warn(\n",
      "/Users/alexi/miniconda/envs/fluid_test/lib/python3.8/site-packages/graphtools/graphs.py:454: RuntimeWarning: overflow encountered in power\n",
      "  K.data = np.exp(-1 * np.power(K.data, self.decay))\n"
     ]
    },
    {
     "name": "stdout",
     "output_type": "stream",
     "text": [
      "  Calculated graph and diffusion operator in 4.61 seconds.\n",
      "  Calculating landmark operator...\n",
      "    Calculating SVD...\n",
      "    Calculated SVD in 3.81 seconds.\n",
      "    Calculating KMeans...\n",
      "    Calculated KMeans in 4.06 seconds.\n",
      "  Calculated landmark operator in 8.91 seconds.\n",
      "  Calculating optimal t...\n",
      "    Automatically selected t = 26\n",
      "  Calculated optimal t in 5.64 seconds.\n",
      "  Calculating diffusion potential...\n",
      "  Calculated diffusion potential in 0.44 seconds.\n",
      "  Calculating metric MDS...\n",
      "  Calculated metric MDS in 2.46 seconds.\n",
      "Calculated PHATE in 22.06 seconds.\n"
     ]
    }
   ],
   "source": [
    "from sklearn.manifold import TSNE\n",
    "import phate\n",
    "\n",
    "colour_indexes = [\"Role\", \"CLASS\", \"DNN_Logits\", \"GAN_Logits\", \"Logit_Diff\" ,\"DNN_Distance\", \"GAN_Distance\" ]\n",
    "\n",
    "plotting_df = pd.DataFrame()\n",
    "plotting_df[\"FP\"] = global_df[\"FP\"]\n",
    "plotting_df[\"ROLE\"] = global_df[\"ROLE\"]\n",
    "\n",
    "for index in colour_indexes:\n",
    "    plotting_df[index] = global_df[index]\n",
    "\n",
    "# Define the features and dimension reducers\n",
    "features = [\"FP\", \"DNN_Features\", \"GAN_Features\"]\n",
    "dim_reducers = [\"T-SNE_2D\", \"PHATE_2D\", \"PHATE_3D\"]\n",
    "\n",
    "# Compute TSNE and PHATE for each feature and dimension reducer\n",
    "for feature in features:\n",
    "    data = np.stack(global_df[feature].to_numpy(), axis=0)\n",
    "    for dim_reducer in dim_reducers[:2]:\n",
    "        print(f\"Computing {dim_reducer} for {feature}\")\n",
    "        if dim_reducer == \"T-SNE_2D\":\n",
    "            tsne_operator = TSNE(n_components=2)\n",
    "            transformed_data = tsne_operator.fit_transform(data)\n",
    "        elif dim_reducer == \"PHATE_2D\":\n",
    "            phate_operator = phate.PHATE(n_components=2, n_jobs=-1)\n",
    "            transformed_data = phate_operator.fit_transform(data)\n",
    "        elif dim_reducer == \"PHATE_3D\":\n",
    "            phate_operator = phate.PHATE(n_components=3, n_jobs=-1)\n",
    "            transformed_data = phate_operator.fit_transform(data)\n",
    "        \n",
    "        # Create a column name combining the method and features used\n",
    "        column_name = f\"{dim_reducer}_{feature}\"\n",
    "        \n",
    "        plotting_df[column_name] = [row for row in transformed_data]\n",
    "plotting_df.to_parquet(model_name+\"_plotting_df.parquet\")"
   ]
  },
  {
   "cell_type": "code",
   "execution_count": 33,
   "metadata": {},
   "outputs": [
    {
     "name": "stdout",
     "output_type": "stream",
     "text": [
      "[ 0.01794917 -0.0150245  -0.0069665 ]\n"
     ]
    }
   ],
   "source": [
    "for row in transformed_data:\n",
    "    print(row)\n",
    "    break"
   ]
  },
  {
   "cell_type": "code",
   "execution_count": 28,
   "metadata": {},
   "outputs": [],
   "source": [
    "\n",
    "plotting_df.to_parquet(model_name+\"_plotting_df.parquet\")"
   ]
  },
  {
   "cell_type": "code",
   "execution_count": 42,
   "metadata": {},
   "outputs": [
    {
     "data": {
      "text/plain": [
       "Index(['FP', 'ROLE', 'Role', 'CLASS', 'DNN_Logits', 'GAN_Logits', 'Logit_Diff',\n",
       "       'DNN_Distance', 'GAN_Distance', 'T-SNE_2D_FP', 'PHATE_2D_FP',\n",
       "       'T-SNE_2D_DNN_Features', 'PHATE_2D_DNN_Features',\n",
       "       'T-SNE_2D_GAN_Features', 'PHATE_2D_GAN_Features'],\n",
       "      dtype='object')"
      ]
     },
     "execution_count": 42,
     "metadata": {},
     "output_type": "execute_result"
    }
   ],
   "source": [
    "plotting_df.columns"
   ]
  },
  {
   "cell_type": "code",
   "execution_count": 26,
   "metadata": {},
   "outputs": [],
   "source": [
    "        # Add the transformed data as a column to the plotting_df DataFrame\n",
    "\n"
   ]
  },
  {
   "cell_type": "code",
   "execution_count": 31,
   "metadata": {},
   "outputs": [
    {
     "name": "stdout",
     "output_type": "stream",
     "text": [
      "Index(['FP', 'ROLE', 'Role', 'CLASS', 'DNN_Logits', 'GAN_Logits', 'Logit_Diff',\n",
      "       'DNN_Distance', 'GAN_Distance'],\n",
      "      dtype='object')\n"
     ]
    }
   ],
   "source": []
  },
  {
   "cell_type": "code",
   "execution_count": null,
   "metadata": {},
   "outputs": [],
   "source": [
    "# PCA on DNN features\n",
    "# Colour by dataset\n",
    "# Colour by class\n",
    "# Colour by logit distance from class"
   ]
  },
  {
   "cell_type": "code",
   "execution_count": null,
   "metadata": {},
   "outputs": [],
   "source": [
    "# PCA on GAN features\n",
    "# Colour by dataset\n",
    "# Colour by class\n",
    "# Colour by logit distance from class"
   ]
  },
  {
   "cell_type": "code",
   "execution_count": null,
   "metadata": {},
   "outputs": [],
   "source": [
    "# "
   ]
  }
 ],
 "metadata": {
  "kernelspec": {
   "display_name": "fluid_test",
   "language": "python",
   "name": "python3"
  },
  "language_info": {
   "codemirror_mode": {
    "name": "ipython",
    "version": 3
   },
   "file_extension": ".py",
   "mimetype": "text/x-python",
   "name": "python",
   "nbconvert_exporter": "python",
   "pygments_lexer": "ipython3",
   "version": "3.8.16"
  },
  "orig_nbformat": 4
 },
 "nbformat": 4,
 "nbformat_minor": 2
}
