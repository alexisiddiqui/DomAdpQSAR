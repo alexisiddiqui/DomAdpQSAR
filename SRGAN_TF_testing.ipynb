{
 "cells": [
  {
   "attachments": {},
   "cell_type": "markdown",
   "metadata": {},
   "source": []
  },
  {
   "cell_type": "code",
   "execution_count": null,
   "metadata": {},
   "outputs": [],
   "source": []
  },
  {
   "cell_type": "code",
   "execution_count": 1,
   "metadata": {},
   "outputs": [],
   "source": [
    "## QSAR SR GAN testing\n",
    "\n",
    "from DomAdpQSAR.QSARsettings import Settings\n",
    "from DomAdpQSAR.QSARsrgan import DomAdpQSARSRGAN\n",
    "\n",
    "\n",
    "settings = Settings()\n",
    "import os\n",
    "import pandas as pd"
   ]
  },
  {
   "cell_type": "code",
   "execution_count": null,
   "metadata": {},
   "outputs": [],
   "source": []
  },
  {
   "cell_type": "code",
   "execution_count": null,
   "metadata": {},
   "outputs": [],
   "source": []
  },
  {
   "cell_type": "code",
   "execution_count": 2,
   "metadata": {},
   "outputs": [],
   "source": [
    "\n",
    "# settings.learning_rate = \n",
    "settings.epochs_to_run = 200\n",
    "# settings.generator_layer_sizes\n",
    "# settings.use_feature_angle = True\n",
    "\n",
    "settings.labeled_loss_multiplier = 50\n",
    "settings.matching_loss_multiplier = 3\n",
    "settings.contrasting_loss_multiplier = 2\n",
    "settings.srgan_loss_multiplier = 125\n",
    "\n",
    "settings.gradient_penalty_multiplier = 4750\n",
    "# settings.federated_datapath = os.path.join(settings.data_dir, 'transfer_full.pkl')\n"
   ]
  },
  {
   "cell_type": "code",
   "execution_count": null,
   "metadata": {},
   "outputs": [],
   "source": []
  },
  {
   "cell_type": "code",
   "execution_count": 3,
   "metadata": {},
   "outputs": [],
   "source": [
    "featuriser_name = \"Broad Tuning Underfit\"\n",
    "\n",
    "featuriser_path = \"logs/\" + featuriser_name + \"/\""
   ]
  },
  {
   "attachments": {},
   "cell_type": "markdown",
   "metadata": {},
   "source": []
  },
  {
   "cell_type": "code",
   "execution_count": 5,
   "metadata": {},
   "outputs": [
    {
     "name": "stdout",
     "output_type": "stream",
     "text": [
      "Loading featuriser...\n",
      "Featuriser path: logs/Broad Tuning Underfit/\n",
      "Setting up SR-GAN with featuriser...1\n",
      "Setting up SR-GAN with featuriser...2\n",
      "Featuriser loaded.\n",
      "TF_Classifier(\n",
      "  (hidden): ModuleList(\n",
      "    (0): Linear(in_features=32, out_features=8, bias=True)\n",
      "    (1): Linear(in_features=8, out_features=1024, bias=True)\n",
      "    (2): Linear(in_features=1024, out_features=32, bias=True)\n",
      "  )\n",
      "  (batchnorm): ModuleList(\n",
      "    (0): BatchNorm1d(8, eps=1e-05, momentum=0.1, affine=True, track_running_stats=True)\n",
      "    (1): BatchNorm1d(1024, eps=1e-05, momentum=0.1, affine=True, track_running_stats=True)\n",
      "    (2): BatchNorm1d(32, eps=1e-05, momentum=0.1, affine=True, track_running_stats=True)\n",
      "  )\n",
      "  (featuriser): Classifier(\n",
      "    (hidden): ModuleList(\n",
      "      (0): Linear(in_features=2048, out_features=512, bias=True)\n",
      "      (1): Linear(in_features=512, out_features=64, bias=True)\n",
      "      (2): Linear(in_features=64, out_features=32, bias=True)\n",
      "    )\n",
      "    (batchnorm): ModuleList(\n",
      "      (0): BatchNorm1d(512, eps=1e-05, momentum=0.1, affine=True, track_running_stats=True)\n",
      "      (1): BatchNorm1d(64, eps=1e-05, momentum=0.1, affine=True, track_running_stats=True)\n",
      "      (2): BatchNorm1d(32, eps=1e-05, momentum=0.1, affine=True, track_running_stats=True)\n",
      "    )\n",
      "    (output): Linear(in_features=32, out_features=1, bias=True)\n",
      "  )\n",
      "  (output): Linear(in_features=32, out_features=1, bias=True)\n",
      ")\n",
      "dataset rank:  None\n"
     ]
    },
    {
     "ename": "KeyboardInterrupt",
     "evalue": "",
     "output_type": "error",
     "traceback": [
      "\u001b[0;31m---------------------------------------------------------------------------\u001b[0m",
      "\u001b[0;31mKeyboardInterrupt\u001b[0m                         Traceback (most recent call last)",
      "Cell \u001b[0;32mIn[5], line 6\u001b[0m\n\u001b[1;32m      3\u001b[0m test_Experiment\u001b[39m.\u001b[39mload_featuriser(path\u001b[39m=\u001b[39mfeaturiser_path)\n\u001b[1;32m      4\u001b[0m \u001b[39mprint\u001b[39m(test_Experiment\u001b[39m.\u001b[39mD)\n\u001b[0;32m----> 6\u001b[0m test_Experiment\u001b[39m.\u001b[39;49mset_rank(\u001b[39mNone\u001b[39;49;00m)\n\u001b[1;32m      7\u001b[0m test_Experiment\u001b[39m.\u001b[39msettings\u001b[39m.\u001b[39mtrial_name \u001b[39m=\u001b[39m \u001b[39m\"\u001b[39m\u001b[39mSR GAN Ax LLx50 Ang False Norm feat Norm True TF:\u001b[39m\u001b[39m\"\u001b[39m \u001b[39m+\u001b[39m featuriser_name\n\u001b[1;32m      8\u001b[0m test_Experiment\u001b[39m.\u001b[39mtrain()\n",
      "File \u001b[0;32m~/Library/CloudStorage/OneDrive-Nexus365/Rotation Projects/Rotation_1/Project/DomAdpQSAR/DomAdpQSAR/QSARsrgan.py:143\u001b[0m, in \u001b[0;36mDomAdpQSARSRGAN.set_rank\u001b[0;34m(self, rank)\u001b[0m\n\u001b[1;32m    139\u001b[0m \u001b[39m# self.rank = None\u001b[39;00m\n\u001b[1;32m    140\u001b[0m \u001b[39m# raise NotImplementedError\u001b[39;00m\n\u001b[1;32m    141\u001b[0m \u001b[39m# To be implemented later\u001b[39;00m\n\u001b[1;32m    142\u001b[0m \u001b[39mself\u001b[39m\u001b[39m.\u001b[39mrank \u001b[39m=\u001b[39m rank\n\u001b[0;32m--> 143\u001b[0m \u001b[39mself\u001b[39;49m\u001b[39m.\u001b[39;49mdataset_setup()\n\u001b[1;32m    144\u001b[0m \u001b[39mif\u001b[39;00m \u001b[39mself\u001b[39m\u001b[39m.\u001b[39mrank \u001b[39mis\u001b[39;00m \u001b[39mnot\u001b[39;00m \u001b[39mNone\u001b[39;00m:\n\u001b[1;32m    145\u001b[0m     \u001b[39mself\u001b[39m\u001b[39m.\u001b[39mlabeled_criterion \u001b[39m=\u001b[39m nn\u001b[39m.\u001b[39mBCELoss(reduction\u001b[39m=\u001b[39m\u001b[39m'\u001b[39m\u001b[39mnone\u001b[39m\u001b[39m'\u001b[39m)\n",
      "File \u001b[0;32m~/Library/CloudStorage/OneDrive-Nexus365/Rotation Projects/Rotation_1/Project/DomAdpQSAR/DomAdpQSAR/QSARsrgan.py:105\u001b[0m, in \u001b[0;36mDomAdpQSARSRGAN.dataset_setup\u001b[0;34m(self)\u001b[0m\n\u001b[1;32m    102\u001b[0m \u001b[39mprint\u001b[39m(\u001b[39m\"\u001b[39m\u001b[39mdataset rank: \u001b[39m\u001b[39m\"\u001b[39m, rank)\n\u001b[1;32m    103\u001b[0m settings \u001b[39m=\u001b[39m \u001b[39mself\u001b[39m\u001b[39m.\u001b[39msettings\n\u001b[0;32m--> 105\u001b[0m \u001b[39mself\u001b[39m\u001b[39m.\u001b[39munlabeled_dataset \u001b[39m=\u001b[39m QSARDataset(\u001b[39mself\u001b[39;49m\u001b[39m.\u001b[39;49mfederated_dataframe, \n\u001b[1;32m    106\u001b[0m                                      dataset_size\u001b[39m=\u001b[39;49msettings\u001b[39m.\u001b[39;49mfederated_dataset_size, \n\u001b[1;32m    107\u001b[0m                                      rank\u001b[39m=\u001b[39;49mrank,\n\u001b[1;32m    108\u001b[0m                                      device\u001b[39m=\u001b[39;49mgpu)\n\u001b[1;32m    109\u001b[0m \u001b[39mself\u001b[39m\u001b[39m.\u001b[39mtrain_dataset \u001b[39m=\u001b[39m QSARDataset(\u001b[39mself\u001b[39m\u001b[39m.\u001b[39mclean_dataframe, \n\u001b[1;32m    110\u001b[0m                                  dataset_size\u001b[39m=\u001b[39msettings\u001b[39m.\u001b[39mlabeled_dataset_size, \n\u001b[1;32m    111\u001b[0m                                  rank\u001b[39m=\u001b[39mrank,\n\u001b[1;32m    112\u001b[0m                                     device\u001b[39m=\u001b[39mgpu)\n\u001b[1;32m    114\u001b[0m \u001b[39mself\u001b[39m\u001b[39m.\u001b[39mvalidation_dataset \u001b[39m=\u001b[39m QSARDataset(\u001b[39mself\u001b[39m\u001b[39m.\u001b[39mvalidation_dataframe, \n\u001b[1;32m    115\u001b[0m                                       dataset_size\u001b[39m=\u001b[39msettings\u001b[39m.\u001b[39mvalidation_dataset_size, \n\u001b[1;32m    116\u001b[0m                                       device\u001b[39m=\u001b[39mgpu)\n",
      "File \u001b[0;32m~/Library/CloudStorage/OneDrive-Nexus365/Rotation Projects/Rotation_1/Project/DomAdpQSAR/DomAdpQSAR/data_test_utils.py:38\u001b[0m, in \u001b[0;36mQSARDataset.__init__\u001b[0;34m(self, dataframe, rank, dataset_size, device)\u001b[0m\n\u001b[1;32m     36\u001b[0m fp \u001b[39m=\u001b[39m [f\u001b[39m.\u001b[39mastype(np\u001b[39m.\u001b[39mfloat32)\u001b[39mfor\u001b[39;00m f \u001b[39min\u001b[39;00m fp]\n\u001b[1;32m     37\u001b[0m fp \u001b[39m=\u001b[39m np\u001b[39m.\u001b[39marray(fp)\n\u001b[0;32m---> 38\u001b[0m fp \u001b[39m=\u001b[39m torch\u001b[39m.\u001b[39mfrom_numpy(fp)\n\u001b[1;32m     40\u001b[0m \u001b[39mself\u001b[39m\u001b[39m.\u001b[39mFP \u001b[39m=\u001b[39m fp\n\u001b[1;32m     41\u001b[0m labels \u001b[39m=\u001b[39m \u001b[39mself\u001b[39m\u001b[39m.\u001b[39mlabels\n",
      "\u001b[0;31mKeyboardInterrupt\u001b[0m: "
     ]
    }
   ],
   "source": [
    "test_Experiment = DomAdpQSARSRGAN(settings)\n",
    "\n",
    "test_Experiment.load_featuriser(path=featuriser_path)\n",
    "print(test_Experiment.D)\n",
    "\n",
    "test_Experiment.set_rank(None)\n",
    "test_Experiment.settings.trial_name = \"SR GAN Ax LLx50 Ang False Norm feat Norm True TF:\" + featuriser_name\n",
    "test_Experiment.train()"
   ]
  },
  {
   "cell_type": "code",
   "execution_count": 5,
   "metadata": {},
   "outputs": [
    {
     "name": "stdout",
     "output_type": "stream",
     "text": [
      "TF_Classifier(\n",
      "  (hidden): ModuleList(\n",
      "    (0): Linear(in_features=32, out_features=8, bias=True)\n",
      "    (1): Linear(in_features=8, out_features=1024, bias=True)\n",
      "    (2): Linear(in_features=1024, out_features=32, bias=True)\n",
      "  )\n",
      "  (batchnorm): ModuleList(\n",
      "    (0): BatchNorm1d(8, eps=1e-05, momentum=0.1, affine=True, track_running_stats=True)\n",
      "    (1): BatchNorm1d(1024, eps=1e-05, momentum=0.1, affine=True, track_running_stats=True)\n",
      "    (2): BatchNorm1d(32, eps=1e-05, momentum=0.1, affine=True, track_running_stats=True)\n",
      "  )\n",
      "  (featuriser): Classifier(\n",
      "    (hidden): ModuleList(\n",
      "      (0): Linear(in_features=2048, out_features=512, bias=True)\n",
      "      (1): Linear(in_features=512, out_features=64, bias=True)\n",
      "      (2): Linear(in_features=64, out_features=32, bias=True)\n",
      "    )\n",
      "    (batchnorm): ModuleList(\n",
      "      (0): BatchNorm1d(512, eps=1e-05, momentum=0.1, affine=True, track_running_stats=True)\n",
      "      (1): BatchNorm1d(64, eps=1e-05, momentum=0.1, affine=True, track_running_stats=True)\n",
      "      (2): BatchNorm1d(32, eps=1e-05, momentum=0.1, affine=True, track_running_stats=True)\n",
      "    )\n",
      "    (output): Linear(in_features=32, out_features=1, bias=True)\n",
      "  )\n",
      "  (output): Linear(in_features=32, out_features=1, bias=True)\n",
      ")\n"
     ]
    },
    {
     "ename": "SyntaxError",
     "evalue": "'break' outside loop (3585986322.py, line 2)",
     "output_type": "error",
     "traceback": [
      "\u001b[0;36m  Cell \u001b[0;32mIn[5], line 2\u001b[0;36m\u001b[0m\n\u001b[0;31m    break\u001b[0m\n\u001b[0m    ^\u001b[0m\n\u001b[0;31mSyntaxError\u001b[0m\u001b[0;31m:\u001b[0m 'break' outside loop\n"
     ]
    }
   ],
   "source": []
  },
  {
   "cell_type": "code",
   "execution_count": 6,
   "metadata": {},
   "outputs": [
    {
     "name": "stdout",
     "output_type": "stream",
     "text": [
      "Loading featuriser...\n",
      "Featuriser path: logs/Broad Tuning Underfit/\n",
      "Setting up SR-GAN with featuriser...1\n",
      "Setting up SR-GAN with featuriser...2\n",
      "Featuriser loaded.\n",
      "TF_Classifier(\n",
      "  (hidden): ModuleList(\n",
      "    (0): Linear(in_features=32, out_features=8, bias=True)\n",
      "    (1): Linear(in_features=8, out_features=1024, bias=True)\n",
      "    (2): Linear(in_features=1024, out_features=32, bias=True)\n",
      "  )\n",
      "  (batchnorm): ModuleList(\n",
      "    (0): BatchNorm1d(8, eps=1e-05, momentum=0.1, affine=True, track_running_stats=True)\n",
      "    (1): BatchNorm1d(1024, eps=1e-05, momentum=0.1, affine=True, track_running_stats=True)\n",
      "    (2): BatchNorm1d(32, eps=1e-05, momentum=0.1, affine=True, track_running_stats=True)\n",
      "  )\n",
      "  (featuriser): Classifier(\n",
      "    (hidden): ModuleList(\n",
      "      (0): Linear(in_features=2048, out_features=512, bias=True)\n",
      "      (1): Linear(in_features=512, out_features=64, bias=True)\n",
      "      (2): Linear(in_features=64, out_features=32, bias=True)\n",
      "    )\n",
      "    (batchnorm): ModuleList(\n",
      "      (0): BatchNorm1d(512, eps=1e-05, momentum=0.1, affine=True, track_running_stats=True)\n",
      "      (1): BatchNorm1d(64, eps=1e-05, momentum=0.1, affine=True, track_running_stats=True)\n",
      "      (2): BatchNorm1d(32, eps=1e-05, momentum=0.1, affine=True, track_running_stats=True)\n",
      "    )\n",
      "    (output): Linear(in_features=32, out_features=1, bias=True)\n",
      "  )\n",
      "  (output): Linear(in_features=32, out_features=1, bias=True)\n",
      ")\n",
      "dataset rank:  Tanimoto\n",
      "7\n",
      "logs/SR GAN Ax LLx50 Ang False Norm feat Norm True Ranked TF:Broad Tuning Underfit\n",
      "dataset rank:  Tanimoto\n",
      "7\n",
      "Setting up SR-GAN with featuriser...2\n",
      "Step 0, 0:00:01.926464...5ze([1000, 2048])DNN Test Values:  ComparisonValues(ACC=tensor(0.2473), BAC=tensor(0.5000), MCC=0.01, predicted_labels=tensor([0.5180, 0.5181, 0.5180,  ..., 0.5180, 0.5179, 0.5182]))\n",
      "GAN Test Values:  ComparisonValues(ACC=tensor(0.7527), BAC=tensor(0.5000), MCC=0.01, predicted_labels=tensor([0.4804, 0.4805, 0.4805,  ..., 0.4805, 0.4805, 0.4805]))\n",
      "Step 7, 0:00:07.395888...4ze([1000, 2048])DNN Test Values:  ComparisonValues(ACC=tensor(0.7527), BAC=tensor(0.5000), MCC=0.01, predicted_labels=tensor([0.4899, 0.4898, 0.4897,  ..., 0.4906, 0.4904, 0.4901]))\n",
      "GAN Test Values:  ComparisonValues(ACC=tensor(0.7527), BAC=tensor(0.5000), MCC=0.01, predicted_labels=tensor([0.4804, 0.4805, 0.4806,  ..., 0.4804, 0.4806, 0.4806]))\n",
      "Step 14, 0:00:06.578587...ize([1000, 2048])DNN Test Values:  ComparisonValues(ACC=tensor(0.7527), BAC=tensor(0.5000), MCC=0.01, predicted_labels=tensor([0.4811, 0.4823, 0.4798,  ..., 0.4815, 0.4833, 0.4837]))\n",
      "GAN Test Values:  ComparisonValues(ACC=tensor(0.7527), BAC=tensor(0.5000), MCC=0.01, predicted_labels=tensor([0.4820, 0.4817, 0.4817,  ..., 0.4817, 0.4812, 0.4815]))\n",
      "Step 21, 0:00:05.527010...ize([1000, 2048])DNN Test Values:  ComparisonValues(ACC=tensor(0.7527), BAC=tensor(0.5000), MCC=0.01, predicted_labels=tensor([0.4776, 0.4737, 0.4792,  ..., 0.4768, 0.4798, 0.4768]))\n",
      "GAN Test Values:  ComparisonValues(ACC=tensor(0.7527), BAC=tensor(0.5000), MCC=0.01, predicted_labels=tensor([0.4805, 0.4809, 0.4801,  ..., 0.4807, 0.4807, 0.4800]))\n",
      "Step 28, 0:00:05.037804...ize([1000, 2048])DNN Test Values:  ComparisonValues(ACC=tensor(0.7527), BAC=tensor(0.5000), MCC=0.01, predicted_labels=tensor([0.4741, 0.4830, 0.4746,  ..., 0.4731, 0.4786, 0.4729]))\n",
      "GAN Test Values:  ComparisonValues(ACC=tensor(0.7527), BAC=tensor(0.5000), MCC=0.01, predicted_labels=tensor([0.4790, 0.4792, 0.4791,  ..., 0.4787, 0.4790, 0.4790]))\n",
      "Step 35, 0:00:05.546298...ize([1000, 2048])DNN Test Values:  ComparisonValues(ACC=tensor(0.7538), BAC=tensor(0.5076), MCC=tensor(0.0696), predicted_labels=tensor([0.4660, 0.4696, 0.4897,  ..., 0.4724, 0.4722, 0.4751]))\n",
      "GAN Test Values:  ComparisonValues(ACC=tensor(0.7527), BAC=tensor(0.5000), MCC=0.01, predicted_labels=tensor([0.4835, 0.4833, 0.4824,  ..., 0.4803, 0.4823, 0.4817]))\n",
      "Step 42, 0:00:06.174563...ize([1000, 2048])DNN Test Values:  ComparisonValues(ACC=tensor(0.7575), BAC=tensor(0.5227), MCC=tensor(0.1281), predicted_labels=tensor([0.4641, 0.4515, 0.4543,  ..., 0.4602, 0.4693, 0.4891]))\n",
      "GAN Test Values:  ComparisonValues(ACC=tensor(0.7527), BAC=tensor(0.5000), MCC=0.01, predicted_labels=tensor([0.4864, 0.4833, 0.4850,  ..., 0.4840, 0.4826, 0.4833]))\n",
      "Step 49, 0:00:05.806913...ize([1000, 2048])DNN Test Values:  ComparisonValues(ACC=tensor(0.7609), BAC=tensor(0.5333), MCC=tensor(0.1613), predicted_labels=tensor([0.4673, 0.4552, 0.4390,  ..., 0.4355, 0.4576, 0.4389]))\n",
      "GAN Test Values:  ComparisonValues(ACC=tensor(0.7527), BAC=tensor(0.5000), MCC=0.01, predicted_labels=tensor([0.4879, 0.4893, 0.4855,  ..., 0.4859, 0.4857, 0.4839]))\n",
      "Step 56, 0:00:05.933592...ize([1000, 2048])DNN Test Values:  ComparisonValues(ACC=tensor(0.7641), BAC=tensor(0.5373), MCC=tensor(0.1818), predicted_labels=tensor([0.4440, 0.4411, 0.4095,  ..., 0.4616, 0.4497, 0.4569]))\n",
      "GAN Test Values:  ComparisonValues(ACC=tensor(0.7527), BAC=tensor(0.5000), MCC=0.01, predicted_labels=tensor([0.4896, 0.4879, 0.4880,  ..., 0.4874, 0.4882, 0.4874]))\n",
      "Step 63, 0:00:05.572267...ize([1000, 2048])DNN Test Values:  ComparisonValues(ACC=tensor(0.7771), BAC=tensor(0.5679), MCC=tensor(0.2645), predicted_labels=tensor([0.4436, 0.5318, 0.4455,  ..., 0.4547, 0.4146, 0.4586]))\n",
      "GAN Test Values:  ComparisonValues(ACC=tensor(0.7527), BAC=tensor(0.5000), MCC=0.01, predicted_labels=tensor([0.4896, 0.4890, 0.4884,  ..., 0.4905, 0.4904, 0.4896]))\n",
      "Step 70, 0:00:05.198931...ize([1000, 2048])DNN Test Values:  ComparisonValues(ACC=tensor(0.7885), BAC=tensor(0.6015), MCC=tensor(0.3253), predicted_labels=tensor([0.4287, 0.4123, 0.4331,  ..., 0.4407, 0.4073, 0.3999]))\n",
      "GAN Test Values:  ComparisonValues(ACC=tensor(0.7527), BAC=tensor(0.5000), MCC=0.01, predicted_labels=tensor([0.4905, 0.4916, 0.4895,  ..., 0.4907, 0.4916, 0.4915]))\n",
      "Step 77, 0:00:06.041345...ize([1000, 2048])DNN Test Values:  ComparisonValues(ACC=tensor(0.7981), BAC=tensor(0.6305), MCC=tensor(0.3714), predicted_labels=tensor([0.4091, 0.4264, 0.3301,  ..., 0.5413, 0.4148, 0.3875]))\n",
      "GAN Test Values:  ComparisonValues(ACC=tensor(0.7527), BAC=tensor(0.5000), MCC=0.01, predicted_labels=tensor([0.4919, 0.4914, 0.4918,  ..., 0.4917, 0.4915, 0.4914]))\n",
      "Step 84, 0:00:06.392055...ize([1000, 2048])DNN Test Values:  ComparisonValues(ACC=tensor(0.8022), BAC=tensor(0.6410), MCC=tensor(0.3892), predicted_labels=tensor([0.5620, 0.4239, 0.4372,  ..., 0.3873, 0.3832, 0.3978]))\n",
      "GAN Test Values:  ComparisonValues(ACC=tensor(0.7527), BAC=tensor(0.5000), MCC=0.01, predicted_labels=tensor([0.4917, 0.4920, 0.4926,  ..., 0.4915, 0.4910, 0.4900]))\n",
      "Step 91, 0:00:05.634053...ize([1000, 2048])DNN Test Values:  ComparisonValues(ACC=tensor(0.8079), BAC=tensor(0.6463), MCC=tensor(0.4096), predicted_labels=tensor([0.4242, 0.4540, 0.3744,  ..., 0.3766, 0.4564, 0.3518]))\n",
      "GAN Test Values:  ComparisonValues(ACC=tensor(0.7527), BAC=tensor(0.5000), MCC=0.01, predicted_labels=tensor([0.4913, 0.4921, 0.4922,  ..., 0.4923, 0.4917, 0.4918]))\n",
      "Step 98, 0:00:05.084031...ize([1000, 2048])DNN Test Values:  ComparisonValues(ACC=tensor(0.8104), BAC=tensor(0.6523), MCC=tensor(0.4197), predicted_labels=tensor([0.4334, 0.4243, 0.3611,  ..., 0.3733, 0.4097, 0.6130]))\n",
      "GAN Test Values:  ComparisonValues(ACC=tensor(0.7527), BAC=tensor(0.5000), MCC=0.01, predicted_labels=tensor([0.4935, 0.4930, 0.4937,  ..., 0.4937, 0.4938, 0.4941]))\n",
      "Step 105, 0:00:06.435028...ize([1000, 2048])DNN Test Values:  ComparisonValues(ACC=tensor(0.8145), BAC=tensor(0.6696), MCC=tensor(0.4387), predicted_labels=tensor([0.3876, 0.4197, 0.3985,  ..., 0.5437, 0.4359, 0.4718]))\n",
      "GAN Test Values:  ComparisonValues(ACC=tensor(0.7527), BAC=tensor(0.5000), MCC=0.01, predicted_labels=tensor([0.4960, 0.4963, 0.4959,  ..., 0.4960, 0.4954, 0.4954]))\n",
      "Step 112, 0:00:05.998562...ize([1000, 2048])DNN Test Values:  ComparisonValues(ACC=tensor(0.8154), BAC=tensor(0.6683), MCC=tensor(0.4409), predicted_labels=tensor([0.3878, 0.4422, 0.3932,  ..., 0.4070, 0.3587, 0.3929]))\n",
      "GAN Test Values:  ComparisonValues(ACC=tensor(0.7531), BAC=tensor(0.5012), MCC=tensor(0.0352), predicted_labels=tensor([0.4980, 0.4970, 0.4977,  ..., 0.4979, 0.4979, 0.4972]))\n",
      "Step 119, 0:00:05.300753...ize([1000, 2048])DNN Test Values:  ComparisonValues(ACC=tensor(0.8195), BAC=tensor(0.6766), MCC=tensor(0.4563), predicted_labels=tensor([0.3796, 0.3826, 0.3649,  ..., 0.4818, 0.4033, 0.4485]))\n",
      "GAN Test Values:  ComparisonValues(ACC=tensor(0.7173), BAC=tensor(0.5031), MCC=tensor(0.0103), predicted_labels=tensor([0.4996, 0.4990, 0.4991,  ..., 0.4997, 0.4995, 0.4990]))\n",
      "Step 126, 0:00:06.590921...ize([1000, 2048])DNN Test Values:  ComparisonValues(ACC=tensor(0.8207), BAC=tensor(0.6824), MCC=tensor(0.4617), predicted_labels=tensor([0.4897, 0.6760, 0.6353,  ..., 0.3570, 0.3096, 0.4427]))\n",
      "GAN Test Values:  ComparisonValues(ACC=tensor(0.3012), BAC=tensor(0.4847), MCC=tensor(-0.0394), predicted_labels=tensor([0.4999, 0.5005, 0.5002,  ..., 0.5003, 0.5005, 0.5000]))\n",
      "Step 133, 0:00:06.649847...ize([1000, 2048])DNN Test Values:  ComparisonValues(ACC=tensor(0.8223), BAC=tensor(0.6887), MCC=tensor(0.4688), predicted_labels=tensor([0.3652, 0.4432, 0.1892,  ..., 0.3347, 0.4038, 0.4332]))\n",
      "GAN Test Values:  ComparisonValues(ACC=tensor(0.2473), BAC=tensor(0.5000), MCC=0.01, predicted_labels=tensor([0.5006, 0.5006, 0.5006,  ..., 0.5006, 0.5006, 0.5006]))\n",
      "Step 140, 0:00:06.018994...ize([1000, 2048])DNN Test Values:  ComparisonValues(ACC=tensor(0.8202), BAC=tensor(0.6839), MCC=tensor(0.4611), predicted_labels=tensor([0.3476, 0.3915, 0.3514,  ..., 0.3558, 0.3939, 0.4029]))\n",
      "GAN Test Values:  ComparisonValues(ACC=tensor(0.2473), BAC=tensor(0.5000), MCC=0.01, predicted_labels=tensor([0.5006, 0.5006, 0.5006,  ..., 0.5006, 0.5006, 0.5006]))\n"
     ]
    },
    {
     "name": "stderr",
     "output_type": "stream",
     "text": [
      "/Users/alexi/Library/CloudStorage/OneDrive-Nexus365/Rotation Projects/Rotation_1/Project/DomAdpQSAR/DomAdpQSAR/presentation.py:36: UserWarning: Dataset has 0 variance; skipping density estimate. Pass `warn_singular=False` to disable this warning.\n",
      "  axes = sns.kdeplot(unlabeled_predictions, ax=axes, color=sns.color_palette()[1], bw_method=bandwidth,\n",
      "/Users/alexi/Library/CloudStorage/OneDrive-Nexus365/Rotation Projects/Rotation_1/Project/DomAdpQSAR/DomAdpQSAR/presentation.py:38: UserWarning: Dataset has 0 variance; skipping density estimate. Pass `warn_singular=False` to disable this warning.\n",
      "  axes = sns.kdeplot(test_predictions, ax=axes, color=sns.color_palette()[2], bw_method=bandwidth,\n",
      "/Users/alexi/Library/CloudStorage/OneDrive-Nexus365/Rotation Projects/Rotation_1/Project/DomAdpQSAR/DomAdpQSAR/presentation.py:40: UserWarning: Dataset has 0 variance; skipping density estimate. Pass `warn_singular=False` to disable this warning.\n",
      "  axes = sns.kdeplot(train_predictions, ax=axes, color=sns.color_palette()[2], linewidth=0.5, bw_method=bandwidth,\n"
     ]
    },
    {
     "name": "stdout",
     "output_type": "stream",
     "text": [
      "Step 147, 0:00:06.474510...ize([1000, 2048])DNN Test Values:  ComparisonValues(ACC=tensor(0.8218), BAC=tensor(0.6853), MCC=tensor(0.4661), predicted_labels=tensor([0.6426, 0.4011, 0.2938,  ..., 0.4404, 0.5197, 0.1558]))\n",
      "GAN Test Values:  ComparisonValues(ACC=tensor(0.2473), BAC=tensor(0.5000), MCC=0.01, predicted_labels=tensor([0.5005, 0.5005, 0.5005,  ..., 0.5005, 0.5005, 0.5005]))\n"
     ]
    },
    {
     "name": "stderr",
     "output_type": "stream",
     "text": [
      "/Users/alexi/Library/CloudStorage/OneDrive-Nexus365/Rotation Projects/Rotation_1/Project/DomAdpQSAR/DomAdpQSAR/presentation.py:36: UserWarning: Dataset has 0 variance; skipping density estimate. Pass `warn_singular=False` to disable this warning.\n",
      "  axes = sns.kdeplot(unlabeled_predictions, ax=axes, color=sns.color_palette()[1], bw_method=bandwidth,\n",
      "/Users/alexi/Library/CloudStorage/OneDrive-Nexus365/Rotation Projects/Rotation_1/Project/DomAdpQSAR/DomAdpQSAR/presentation.py:38: UserWarning: Dataset has 0 variance; skipping density estimate. Pass `warn_singular=False` to disable this warning.\n",
      "  axes = sns.kdeplot(test_predictions, ax=axes, color=sns.color_palette()[2], bw_method=bandwidth,\n",
      "/Users/alexi/Library/CloudStorage/OneDrive-Nexus365/Rotation Projects/Rotation_1/Project/DomAdpQSAR/DomAdpQSAR/presentation.py:40: UserWarning: Dataset has 0 variance; skipping density estimate. Pass `warn_singular=False` to disable this warning.\n",
      "  axes = sns.kdeplot(train_predictions, ax=axes, color=sns.color_palette()[2], linewidth=0.5, bw_method=bandwidth,\n"
     ]
    },
    {
     "name": "stdout",
     "output_type": "stream",
     "text": [
      "Step 154, 0:00:05.268792...ize([1000, 2048])DNN Test Values:  ComparisonValues(ACC=tensor(0.8216), BAC=tensor(0.6848), MCC=tensor(0.4653), predicted_labels=tensor([0.3729, 0.3221, 0.6483,  ..., 0.3559, 0.3834, 0.2638]))\n",
      "GAN Test Values:  ComparisonValues(ACC=tensor(0.2473), BAC=tensor(0.5000), MCC=0.01, predicted_labels=tensor([0.5004, 0.5004, 0.5004,  ..., 0.5004, 0.5004, 0.5004]))\n"
     ]
    },
    {
     "name": "stderr",
     "output_type": "stream",
     "text": [
      "/Users/alexi/Library/CloudStorage/OneDrive-Nexus365/Rotation Projects/Rotation_1/Project/DomAdpQSAR/DomAdpQSAR/presentation.py:36: UserWarning: Dataset has 0 variance; skipping density estimate. Pass `warn_singular=False` to disable this warning.\n",
      "  axes = sns.kdeplot(unlabeled_predictions, ax=axes, color=sns.color_palette()[1], bw_method=bandwidth,\n",
      "/Users/alexi/Library/CloudStorage/OneDrive-Nexus365/Rotation Projects/Rotation_1/Project/DomAdpQSAR/DomAdpQSAR/presentation.py:38: UserWarning: Dataset has 0 variance; skipping density estimate. Pass `warn_singular=False` to disable this warning.\n",
      "  axes = sns.kdeplot(test_predictions, ax=axes, color=sns.color_palette()[2], bw_method=bandwidth,\n",
      "/Users/alexi/Library/CloudStorage/OneDrive-Nexus365/Rotation Projects/Rotation_1/Project/DomAdpQSAR/DomAdpQSAR/presentation.py:40: UserWarning: Dataset has 0 variance; skipping density estimate. Pass `warn_singular=False` to disable this warning.\n",
      "  axes = sns.kdeplot(train_predictions, ax=axes, color=sns.color_palette()[2], linewidth=0.5, bw_method=bandwidth,\n"
     ]
    },
    {
     "name": "stdout",
     "output_type": "stream",
     "text": [
      "Step 161, 0:00:05.384707...ize([1000, 2048])DNN Test Values:  ComparisonValues(ACC=tensor(0.8234), BAC=tensor(0.6863), MCC=tensor(0.4711), predicted_labels=tensor([0.5187, 0.3040, 0.2992,  ..., 0.6879, 0.2850, 0.2926]))\n",
      "GAN Test Values:  ComparisonValues(ACC=tensor(0.2473), BAC=tensor(0.5000), MCC=0.01, predicted_labels=tensor([0.5003, 0.5003, 0.5003,  ..., 0.5003, 0.5003, 0.5003]))\n"
     ]
    },
    {
     "name": "stderr",
     "output_type": "stream",
     "text": [
      "/Users/alexi/Library/CloudStorage/OneDrive-Nexus365/Rotation Projects/Rotation_1/Project/DomAdpQSAR/DomAdpQSAR/presentation.py:36: UserWarning: Dataset has 0 variance; skipping density estimate. Pass `warn_singular=False` to disable this warning.\n",
      "  axes = sns.kdeplot(unlabeled_predictions, ax=axes, color=sns.color_palette()[1], bw_method=bandwidth,\n",
      "/Users/alexi/Library/CloudStorage/OneDrive-Nexus365/Rotation Projects/Rotation_1/Project/DomAdpQSAR/DomAdpQSAR/presentation.py:38: UserWarning: Dataset has 0 variance; skipping density estimate. Pass `warn_singular=False` to disable this warning.\n",
      "  axes = sns.kdeplot(test_predictions, ax=axes, color=sns.color_palette()[2], bw_method=bandwidth,\n",
      "/Users/alexi/Library/CloudStorage/OneDrive-Nexus365/Rotation Projects/Rotation_1/Project/DomAdpQSAR/DomAdpQSAR/presentation.py:40: UserWarning: Dataset has 0 variance; skipping density estimate. Pass `warn_singular=False` to disable this warning.\n",
      "  axes = sns.kdeplot(train_predictions, ax=axes, color=sns.color_palette()[2], linewidth=0.5, bw_method=bandwidth,\n"
     ]
    },
    {
     "name": "stdout",
     "output_type": "stream",
     "text": [
      "Step 168, 0:00:05.114067...ize([1000, 2048])DNN Test Values:  ComparisonValues(ACC=tensor(0.8259), BAC=tensor(0.6951), MCC=tensor(0.4816), predicted_labels=tensor([0.5631, 0.2023, 0.3025,  ..., 0.3608, 0.3231, 0.4487]))\n",
      "GAN Test Values:  ComparisonValues(ACC=tensor(0.2473), BAC=tensor(0.5000), MCC=0.01, predicted_labels=tensor([0.5002, 0.5002, 0.5002,  ..., 0.5002, 0.5002, 0.5002]))\n"
     ]
    },
    {
     "name": "stderr",
     "output_type": "stream",
     "text": [
      "/Users/alexi/Library/CloudStorage/OneDrive-Nexus365/Rotation Projects/Rotation_1/Project/DomAdpQSAR/DomAdpQSAR/presentation.py:36: UserWarning: Dataset has 0 variance; skipping density estimate. Pass `warn_singular=False` to disable this warning.\n",
      "  axes = sns.kdeplot(unlabeled_predictions, ax=axes, color=sns.color_palette()[1], bw_method=bandwidth,\n",
      "/Users/alexi/Library/CloudStorage/OneDrive-Nexus365/Rotation Projects/Rotation_1/Project/DomAdpQSAR/DomAdpQSAR/presentation.py:38: UserWarning: Dataset has 0 variance; skipping density estimate. Pass `warn_singular=False` to disable this warning.\n",
      "  axes = sns.kdeplot(test_predictions, ax=axes, color=sns.color_palette()[2], bw_method=bandwidth,\n",
      "/Users/alexi/Library/CloudStorage/OneDrive-Nexus365/Rotation Projects/Rotation_1/Project/DomAdpQSAR/DomAdpQSAR/presentation.py:40: UserWarning: Dataset has 0 variance; skipping density estimate. Pass `warn_singular=False` to disable this warning.\n",
      "  axes = sns.kdeplot(train_predictions, ax=axes, color=sns.color_palette()[2], linewidth=0.5, bw_method=bandwidth,\n"
     ]
    },
    {
     "name": "stdout",
     "output_type": "stream",
     "text": [
      "Step 175, 0:00:04.902452...ize([1000, 2048])DNN Test Values:  ComparisonValues(ACC=tensor(0.8321), BAC=tensor(0.7076), MCC=tensor(0.5034), predicted_labels=tensor([0.2794, 0.7304, 0.4308,  ..., 0.1833, 0.3482, 0.2189]))\n",
      "GAN Test Values:  ComparisonValues(ACC=tensor(0.2473), BAC=tensor(0.5000), MCC=0.01, predicted_labels=tensor([0.5001, 0.5001, 0.5001,  ..., 0.5001, 0.5001, 0.5001]))\n"
     ]
    },
    {
     "name": "stderr",
     "output_type": "stream",
     "text": [
      "/Users/alexi/Library/CloudStorage/OneDrive-Nexus365/Rotation Projects/Rotation_1/Project/DomAdpQSAR/DomAdpQSAR/presentation.py:36: UserWarning: Dataset has 0 variance; skipping density estimate. Pass `warn_singular=False` to disable this warning.\n",
      "  axes = sns.kdeplot(unlabeled_predictions, ax=axes, color=sns.color_palette()[1], bw_method=bandwidth,\n",
      "/Users/alexi/Library/CloudStorage/OneDrive-Nexus365/Rotation Projects/Rotation_1/Project/DomAdpQSAR/DomAdpQSAR/presentation.py:38: UserWarning: Dataset has 0 variance; skipping density estimate. Pass `warn_singular=False` to disable this warning.\n",
      "  axes = sns.kdeplot(test_predictions, ax=axes, color=sns.color_palette()[2], bw_method=bandwidth,\n",
      "/Users/alexi/Library/CloudStorage/OneDrive-Nexus365/Rotation Projects/Rotation_1/Project/DomAdpQSAR/DomAdpQSAR/presentation.py:40: UserWarning: Dataset has 0 variance; skipping density estimate. Pass `warn_singular=False` to disable this warning.\n",
      "  axes = sns.kdeplot(train_predictions, ax=axes, color=sns.color_palette()[2], linewidth=0.5, bw_method=bandwidth,\n"
     ]
    },
    {
     "name": "stdout",
     "output_type": "stream",
     "text": [
      "Step 182, 0:00:05.219945...ize([1000, 2048])DNN Test Values:  ComparisonValues(ACC=tensor(0.8325), BAC=tensor(0.7094), MCC=tensor(0.5053), predicted_labels=tensor([0.3030, 0.7492, 0.1417,  ..., 0.4417, 0.3628, 0.2756]))\n",
      "GAN Test Values:  ComparisonValues(ACC=tensor(0.2473), BAC=tensor(0.5000), MCC=0.01, predicted_labels=tensor([0.5000, 0.5000, 0.5000,  ..., 0.5000, 0.5000, 0.5000]))\n"
     ]
    },
    {
     "name": "stderr",
     "output_type": "stream",
     "text": [
      "/Users/alexi/Library/CloudStorage/OneDrive-Nexus365/Rotation Projects/Rotation_1/Project/DomAdpQSAR/DomAdpQSAR/presentation.py:36: UserWarning: Dataset has 0 variance; skipping density estimate. Pass `warn_singular=False` to disable this warning.\n",
      "  axes = sns.kdeplot(unlabeled_predictions, ax=axes, color=sns.color_palette()[1], bw_method=bandwidth,\n",
      "/Users/alexi/Library/CloudStorage/OneDrive-Nexus365/Rotation Projects/Rotation_1/Project/DomAdpQSAR/DomAdpQSAR/presentation.py:38: UserWarning: Dataset has 0 variance; skipping density estimate. Pass `warn_singular=False` to disable this warning.\n",
      "  axes = sns.kdeplot(test_predictions, ax=axes, color=sns.color_palette()[2], bw_method=bandwidth,\n",
      "/Users/alexi/Library/CloudStorage/OneDrive-Nexus365/Rotation Projects/Rotation_1/Project/DomAdpQSAR/DomAdpQSAR/presentation.py:40: UserWarning: Dataset has 0 variance; skipping density estimate. Pass `warn_singular=False` to disable this warning.\n",
      "  axes = sns.kdeplot(train_predictions, ax=axes, color=sns.color_palette()[2], linewidth=0.5, bw_method=bandwidth,\n"
     ]
    },
    {
     "name": "stdout",
     "output_type": "stream",
     "text": [
      "Step 189, 0:00:06.374712...ize([1000, 2048])DNN Test Values:  ComparisonValues(ACC=tensor(0.8341), BAC=tensor(0.7148), MCC=tensor(0.5117), predicted_labels=tensor([0.3963, 0.7149, 0.3190,  ..., 0.3924, 0.3104, 0.1397]))\n",
      "GAN Test Values:  ComparisonValues(ACC=tensor(0.7527), BAC=tensor(0.5000), MCC=0.01, predicted_labels=tensor([0.4999, 0.4999, 0.4999,  ..., 0.4999, 0.4999, 0.4999]))\n"
     ]
    },
    {
     "name": "stderr",
     "output_type": "stream",
     "text": [
      "/Users/alexi/Library/CloudStorage/OneDrive-Nexus365/Rotation Projects/Rotation_1/Project/DomAdpQSAR/DomAdpQSAR/presentation.py:36: UserWarning: Dataset has 0 variance; skipping density estimate. Pass `warn_singular=False` to disable this warning.\n",
      "  axes = sns.kdeplot(unlabeled_predictions, ax=axes, color=sns.color_palette()[1], bw_method=bandwidth,\n",
      "/Users/alexi/Library/CloudStorage/OneDrive-Nexus365/Rotation Projects/Rotation_1/Project/DomAdpQSAR/DomAdpQSAR/presentation.py:38: UserWarning: Dataset has 0 variance; skipping density estimate. Pass `warn_singular=False` to disable this warning.\n",
      "  axes = sns.kdeplot(test_predictions, ax=axes, color=sns.color_palette()[2], bw_method=bandwidth,\n",
      "/Users/alexi/Library/CloudStorage/OneDrive-Nexus365/Rotation Projects/Rotation_1/Project/DomAdpQSAR/DomAdpQSAR/presentation.py:40: UserWarning: Dataset has 0 variance; skipping density estimate. Pass `warn_singular=False` to disable this warning.\n",
      "  axes = sns.kdeplot(train_predictions, ax=axes, color=sns.color_palette()[2], linewidth=0.5, bw_method=bandwidth,\n"
     ]
    },
    {
     "name": "stdout",
     "output_type": "stream",
     "text": [
      "Step 196, 0:00:06.448787...ize([1000, 2048])DNN Test Values:  ComparisonValues(ACC=tensor(0.8334), BAC=tensor(0.7135), MCC=tensor(0.5094), predicted_labels=tensor([0.2240, 0.5208, 0.2072,  ..., 0.3043, 0.3322, 0.2085]))\n",
      "GAN Test Values:  ComparisonValues(ACC=tensor(0.7527), BAC=tensor(0.5000), MCC=0.01, predicted_labels=tensor([0.4998, 0.4998, 0.4998,  ..., 0.4998, 0.4998, 0.4998]))\n"
     ]
    },
    {
     "name": "stderr",
     "output_type": "stream",
     "text": [
      "/Users/alexi/Library/CloudStorage/OneDrive-Nexus365/Rotation Projects/Rotation_1/Project/DomAdpQSAR/DomAdpQSAR/presentation.py:36: UserWarning: Dataset has 0 variance; skipping density estimate. Pass `warn_singular=False` to disable this warning.\n",
      "  axes = sns.kdeplot(unlabeled_predictions, ax=axes, color=sns.color_palette()[1], bw_method=bandwidth,\n",
      "/Users/alexi/Library/CloudStorage/OneDrive-Nexus365/Rotation Projects/Rotation_1/Project/DomAdpQSAR/DomAdpQSAR/presentation.py:38: UserWarning: Dataset has 0 variance; skipping density estimate. Pass `warn_singular=False` to disable this warning.\n",
      "  axes = sns.kdeplot(test_predictions, ax=axes, color=sns.color_palette()[2], bw_method=bandwidth,\n",
      "/Users/alexi/Library/CloudStorage/OneDrive-Nexus365/Rotation Projects/Rotation_1/Project/DomAdpQSAR/DomAdpQSAR/presentation.py:40: UserWarning: Dataset has 0 variance; skipping density estimate. Pass `warn_singular=False` to disable this warning.\n",
      "  axes = sns.kdeplot(train_predictions, ax=axes, color=sns.color_palette()[2], linewidth=0.5, bw_method=bandwidth,\n"
     ]
    },
    {
     "name": "stdout",
     "output_type": "stream",
     "text": [
      "Step 203, 0:00:07.382856...ize([1000, 2048])DNN Test Values:  ComparisonValues(ACC=tensor(0.8376), BAC=tensor(0.7211), MCC=tensor(0.5233), predicted_labels=tensor([0.1404, 0.3408, 0.1028,  ..., 0.2341, 0.1783, 0.2049]))\n",
      "GAN Test Values:  ComparisonValues(ACC=tensor(0.7527), BAC=tensor(0.5000), MCC=0.01, predicted_labels=tensor([0.4998, 0.4998, 0.4998,  ..., 0.4998, 0.4998, 0.4998]))\n"
     ]
    },
    {
     "name": "stderr",
     "output_type": "stream",
     "text": [
      "/Users/alexi/Library/CloudStorage/OneDrive-Nexus365/Rotation Projects/Rotation_1/Project/DomAdpQSAR/DomAdpQSAR/presentation.py:36: UserWarning: Dataset has 0 variance; skipping density estimate. Pass `warn_singular=False` to disable this warning.\n",
      "  axes = sns.kdeplot(unlabeled_predictions, ax=axes, color=sns.color_palette()[1], bw_method=bandwidth,\n",
      "/Users/alexi/Library/CloudStorage/OneDrive-Nexus365/Rotation Projects/Rotation_1/Project/DomAdpQSAR/DomAdpQSAR/presentation.py:38: UserWarning: Dataset has 0 variance; skipping density estimate. Pass `warn_singular=False` to disable this warning.\n",
      "  axes = sns.kdeplot(test_predictions, ax=axes, color=sns.color_palette()[2], bw_method=bandwidth,\n",
      "/Users/alexi/Library/CloudStorage/OneDrive-Nexus365/Rotation Projects/Rotation_1/Project/DomAdpQSAR/DomAdpQSAR/presentation.py:40: UserWarning: Dataset has 0 variance; skipping density estimate. Pass `warn_singular=False` to disable this warning.\n",
      "  axes = sns.kdeplot(train_predictions, ax=axes, color=sns.color_palette()[2], linewidth=0.5, bw_method=bandwidth,\n"
     ]
    },
    {
     "name": "stdout",
     "output_type": "stream",
     "text": [
      "Step 210, 0:00:05.926588...ize([1000, 2048])DNN Test Values:  ComparisonValues(ACC=tensor(0.8380), BAC=tensor(0.7258), MCC=tensor(0.5264), predicted_labels=tensor([0.4222, 0.2132, 0.1898,  ..., 0.1398, 0.1899, 0.1781]))\n",
      "GAN Test Values:  ComparisonValues(ACC=tensor(0.7527), BAC=tensor(0.5000), MCC=0.01, predicted_labels=tensor([0.4996, 0.4996, 0.4996,  ..., 0.4996, 0.4996, 0.4996]))\n"
     ]
    },
    {
     "name": "stderr",
     "output_type": "stream",
     "text": [
      "/Users/alexi/Library/CloudStorage/OneDrive-Nexus365/Rotation Projects/Rotation_1/Project/DomAdpQSAR/DomAdpQSAR/presentation.py:36: UserWarning: Dataset has 0 variance; skipping density estimate. Pass `warn_singular=False` to disable this warning.\n",
      "  axes = sns.kdeplot(unlabeled_predictions, ax=axes, color=sns.color_palette()[1], bw_method=bandwidth,\n",
      "/Users/alexi/Library/CloudStorage/OneDrive-Nexus365/Rotation Projects/Rotation_1/Project/DomAdpQSAR/DomAdpQSAR/presentation.py:38: UserWarning: Dataset has 0 variance; skipping density estimate. Pass `warn_singular=False` to disable this warning.\n",
      "  axes = sns.kdeplot(test_predictions, ax=axes, color=sns.color_palette()[2], bw_method=bandwidth,\n",
      "/Users/alexi/Library/CloudStorage/OneDrive-Nexus365/Rotation Projects/Rotation_1/Project/DomAdpQSAR/DomAdpQSAR/presentation.py:40: UserWarning: Dataset has 0 variance; skipping density estimate. Pass `warn_singular=False` to disable this warning.\n",
      "  axes = sns.kdeplot(train_predictions, ax=axes, color=sns.color_palette()[2], linewidth=0.5, bw_method=bandwidth,\n"
     ]
    },
    {
     "name": "stdout",
     "output_type": "stream",
     "text": [
      "Step 217, 0:00:05.915986...ize([1000, 2048])DNN Test Values:  ComparisonValues(ACC=tensor(0.8389), BAC=tensor(0.7273), MCC=tensor(0.5294), predicted_labels=tensor([0.4030, 0.2564, 0.1657,  ..., 0.3029, 0.1388, 0.2007]))\n",
      "GAN Test Values:  ComparisonValues(ACC=tensor(0.7527), BAC=tensor(0.5000), MCC=0.01, predicted_labels=tensor([0.4995, 0.4995, 0.4995,  ..., 0.4995, 0.4995, 0.4995]))\n"
     ]
    },
    {
     "name": "stderr",
     "output_type": "stream",
     "text": [
      "/Users/alexi/Library/CloudStorage/OneDrive-Nexus365/Rotation Projects/Rotation_1/Project/DomAdpQSAR/DomAdpQSAR/presentation.py:36: UserWarning: Dataset has 0 variance; skipping density estimate. Pass `warn_singular=False` to disable this warning.\n",
      "  axes = sns.kdeplot(unlabeled_predictions, ax=axes, color=sns.color_palette()[1], bw_method=bandwidth,\n",
      "/Users/alexi/Library/CloudStorage/OneDrive-Nexus365/Rotation Projects/Rotation_1/Project/DomAdpQSAR/DomAdpQSAR/presentation.py:38: UserWarning: Dataset has 0 variance; skipping density estimate. Pass `warn_singular=False` to disable this warning.\n",
      "  axes = sns.kdeplot(test_predictions, ax=axes, color=sns.color_palette()[2], bw_method=bandwidth,\n",
      "/Users/alexi/Library/CloudStorage/OneDrive-Nexus365/Rotation Projects/Rotation_1/Project/DomAdpQSAR/DomAdpQSAR/presentation.py:40: UserWarning: Dataset has 0 variance; skipping density estimate. Pass `warn_singular=False` to disable this warning.\n",
      "  axes = sns.kdeplot(train_predictions, ax=axes, color=sns.color_palette()[2], linewidth=0.5, bw_method=bandwidth,\n"
     ]
    },
    {
     "name": "stdout",
     "output_type": "stream",
     "text": [
      "Step 224, 0:00:05.726445...ize([1000, 2048])DNN Test Values:  ComparisonValues(ACC=tensor(0.8414), BAC=tensor(0.7333), MCC=tensor(0.5383), predicted_labels=tensor([0.3121, 0.2638, 0.3691,  ..., 0.2066, 0.6107, 0.1327]))\n",
      "GAN Test Values:  ComparisonValues(ACC=tensor(0.7527), BAC=tensor(0.5000), MCC=0.01, predicted_labels=tensor([0.4993, 0.4993, 0.4993,  ..., 0.4993, 0.4993, 0.4993]))\n"
     ]
    },
    {
     "name": "stderr",
     "output_type": "stream",
     "text": [
      "/Users/alexi/Library/CloudStorage/OneDrive-Nexus365/Rotation Projects/Rotation_1/Project/DomAdpQSAR/DomAdpQSAR/presentation.py:36: UserWarning: Dataset has 0 variance; skipping density estimate. Pass `warn_singular=False` to disable this warning.\n",
      "  axes = sns.kdeplot(unlabeled_predictions, ax=axes, color=sns.color_palette()[1], bw_method=bandwidth,\n",
      "/Users/alexi/Library/CloudStorage/OneDrive-Nexus365/Rotation Projects/Rotation_1/Project/DomAdpQSAR/DomAdpQSAR/presentation.py:38: UserWarning: Dataset has 0 variance; skipping density estimate. Pass `warn_singular=False` to disable this warning.\n",
      "  axes = sns.kdeplot(test_predictions, ax=axes, color=sns.color_palette()[2], bw_method=bandwidth,\n",
      "/Users/alexi/Library/CloudStorage/OneDrive-Nexus365/Rotation Projects/Rotation_1/Project/DomAdpQSAR/DomAdpQSAR/presentation.py:40: UserWarning: Dataset has 0 variance; skipping density estimate. Pass `warn_singular=False` to disable this warning.\n",
      "  axes = sns.kdeplot(train_predictions, ax=axes, color=sns.color_palette()[2], linewidth=0.5, bw_method=bandwidth,\n"
     ]
    },
    {
     "name": "stdout",
     "output_type": "stream",
     "text": [
      "Step 231, 0:00:06.163251...ize([1000, 2048])DNN Test Values:  ComparisonValues(ACC=tensor(0.8437), BAC=tensor(0.7364), MCC=tensor(0.5454), predicted_labels=tensor([0.2711, 0.6163, 0.4078,  ..., 0.2550, 0.2372, 0.2982]))\n",
      "GAN Test Values:  ComparisonValues(ACC=tensor(0.7527), BAC=tensor(0.5000), MCC=0.01, predicted_labels=tensor([0.4992, 0.4992, 0.4992,  ..., 0.4992, 0.4992, 0.4992]))\n"
     ]
    },
    {
     "name": "stderr",
     "output_type": "stream",
     "text": [
      "/Users/alexi/Library/CloudStorage/OneDrive-Nexus365/Rotation Projects/Rotation_1/Project/DomAdpQSAR/DomAdpQSAR/presentation.py:36: UserWarning: Dataset has 0 variance; skipping density estimate. Pass `warn_singular=False` to disable this warning.\n",
      "  axes = sns.kdeplot(unlabeled_predictions, ax=axes, color=sns.color_palette()[1], bw_method=bandwidth,\n",
      "/Users/alexi/Library/CloudStorage/OneDrive-Nexus365/Rotation Projects/Rotation_1/Project/DomAdpQSAR/DomAdpQSAR/presentation.py:38: UserWarning: Dataset has 0 variance; skipping density estimate. Pass `warn_singular=False` to disable this warning.\n",
      "  axes = sns.kdeplot(test_predictions, ax=axes, color=sns.color_palette()[2], bw_method=bandwidth,\n",
      "/Users/alexi/Library/CloudStorage/OneDrive-Nexus365/Rotation Projects/Rotation_1/Project/DomAdpQSAR/DomAdpQSAR/presentation.py:40: UserWarning: Dataset has 0 variance; skipping density estimate. Pass `warn_singular=False` to disable this warning.\n",
      "  axes = sns.kdeplot(train_predictions, ax=axes, color=sns.color_palette()[2], linewidth=0.5, bw_method=bandwidth,\n"
     ]
    },
    {
     "name": "stdout",
     "output_type": "stream",
     "text": [
      "Step 238, 0:00:07.643960...ize([1000, 2048])DNN Test Values:  ComparisonValues(ACC=tensor(0.8446), BAC=tensor(0.7388), MCC=tensor(0.5487), predicted_labels=tensor([0.1437, 0.1709, 0.6390,  ..., 0.7564, 0.1626, 0.2320]))\n",
      "GAN Test Values:  ComparisonValues(ACC=tensor(0.7527), BAC=tensor(0.5000), MCC=0.01, predicted_labels=tensor([0.4991, 0.4991, 0.4991,  ..., 0.4991, 0.4991, 0.4991]))\n"
     ]
    },
    {
     "name": "stderr",
     "output_type": "stream",
     "text": [
      "/Users/alexi/Library/CloudStorage/OneDrive-Nexus365/Rotation Projects/Rotation_1/Project/DomAdpQSAR/DomAdpQSAR/presentation.py:36: UserWarning: Dataset has 0 variance; skipping density estimate. Pass `warn_singular=False` to disable this warning.\n",
      "  axes = sns.kdeplot(unlabeled_predictions, ax=axes, color=sns.color_palette()[1], bw_method=bandwidth,\n",
      "/Users/alexi/Library/CloudStorage/OneDrive-Nexus365/Rotation Projects/Rotation_1/Project/DomAdpQSAR/DomAdpQSAR/presentation.py:38: UserWarning: Dataset has 0 variance; skipping density estimate. Pass `warn_singular=False` to disable this warning.\n",
      "  axes = sns.kdeplot(test_predictions, ax=axes, color=sns.color_palette()[2], bw_method=bandwidth,\n",
      "/Users/alexi/Library/CloudStorage/OneDrive-Nexus365/Rotation Projects/Rotation_1/Project/DomAdpQSAR/DomAdpQSAR/presentation.py:40: UserWarning: Dataset has 0 variance; skipping density estimate. Pass `warn_singular=False` to disable this warning.\n",
      "  axes = sns.kdeplot(train_predictions, ax=axes, color=sns.color_palette()[2], linewidth=0.5, bw_method=bandwidth,\n"
     ]
    },
    {
     "name": "stdout",
     "output_type": "stream",
     "text": [
      "Step 245, 0:00:06.158765...ize([1000, 2048])DNN Test Values:  ComparisonValues(ACC=tensor(0.8455), BAC=tensor(0.7373), MCC=tensor(0.5505), predicted_labels=tensor([0.2296, 0.1890, 0.1628,  ..., 0.1796, 0.1844, 0.1887]))\n",
      "GAN Test Values:  ComparisonValues(ACC=tensor(0.7527), BAC=tensor(0.5000), MCC=0.01, predicted_labels=tensor([0.4990, 0.4990, 0.4990,  ..., 0.4990, 0.4990, 0.4990]))\n"
     ]
    },
    {
     "name": "stderr",
     "output_type": "stream",
     "text": [
      "/Users/alexi/Library/CloudStorage/OneDrive-Nexus365/Rotation Projects/Rotation_1/Project/DomAdpQSAR/DomAdpQSAR/presentation.py:36: UserWarning: Dataset has 0 variance; skipping density estimate. Pass `warn_singular=False` to disable this warning.\n",
      "  axes = sns.kdeplot(unlabeled_predictions, ax=axes, color=sns.color_palette()[1], bw_method=bandwidth,\n",
      "/Users/alexi/Library/CloudStorage/OneDrive-Nexus365/Rotation Projects/Rotation_1/Project/DomAdpQSAR/DomAdpQSAR/presentation.py:38: UserWarning: Dataset has 0 variance; skipping density estimate. Pass `warn_singular=False` to disable this warning.\n",
      "  axes = sns.kdeplot(test_predictions, ax=axes, color=sns.color_palette()[2], bw_method=bandwidth,\n",
      "/Users/alexi/Library/CloudStorage/OneDrive-Nexus365/Rotation Projects/Rotation_1/Project/DomAdpQSAR/DomAdpQSAR/presentation.py:40: UserWarning: Dataset has 0 variance; skipping density estimate. Pass `warn_singular=False` to disable this warning.\n",
      "  axes = sns.kdeplot(train_predictions, ax=axes, color=sns.color_palette()[2], linewidth=0.5, bw_method=bandwidth,\n"
     ]
    },
    {
     "name": "stdout",
     "output_type": "stream",
     "text": [
      "Step 252, 0:00:05.666189...ize([1000, 2048])DNN Test Values:  ComparisonValues(ACC=tensor(0.8485), BAC=tensor(0.7485), MCC=tensor(0.5624), predicted_labels=tensor([0.5043, 0.4546, 0.1708,  ..., 0.3043, 0.1599, 0.1891]))\n",
      "GAN Test Values:  ComparisonValues(ACC=tensor(0.7527), BAC=tensor(0.5000), MCC=0.01, predicted_labels=tensor([0.4990, 0.4990, 0.4990,  ..., 0.4990, 0.4990, 0.4990]))\n"
     ]
    },
    {
     "name": "stderr",
     "output_type": "stream",
     "text": [
      "/Users/alexi/Library/CloudStorage/OneDrive-Nexus365/Rotation Projects/Rotation_1/Project/DomAdpQSAR/DomAdpQSAR/presentation.py:36: UserWarning: Dataset has 0 variance; skipping density estimate. Pass `warn_singular=False` to disable this warning.\n",
      "  axes = sns.kdeplot(unlabeled_predictions, ax=axes, color=sns.color_palette()[1], bw_method=bandwidth,\n",
      "/Users/alexi/Library/CloudStorage/OneDrive-Nexus365/Rotation Projects/Rotation_1/Project/DomAdpQSAR/DomAdpQSAR/presentation.py:38: UserWarning: Dataset has 0 variance; skipping density estimate. Pass `warn_singular=False` to disable this warning.\n",
      "  axes = sns.kdeplot(test_predictions, ax=axes, color=sns.color_palette()[2], bw_method=bandwidth,\n",
      "/Users/alexi/Library/CloudStorage/OneDrive-Nexus365/Rotation Projects/Rotation_1/Project/DomAdpQSAR/DomAdpQSAR/presentation.py:40: UserWarning: Dataset has 0 variance; skipping density estimate. Pass `warn_singular=False` to disable this warning.\n",
      "  axes = sns.kdeplot(train_predictions, ax=axes, color=sns.color_palette()[2], linewidth=0.5, bw_method=bandwidth,\n"
     ]
    },
    {
     "name": "stdout",
     "output_type": "stream",
     "text": [
      "Step 259, 0:00:05.446929...ize([1000, 2048])DNN Test Values:  ComparisonValues(ACC=tensor(0.8483), BAC=tensor(0.7484), MCC=tensor(0.5618), predicted_labels=tensor([0.5402, 0.1970, 0.1394,  ..., 0.2495, 0.3630, 0.1461]))\n",
      "GAN Test Values:  ComparisonValues(ACC=tensor(0.7527), BAC=tensor(0.5000), MCC=0.01, predicted_labels=tensor([0.4989, 0.4989, 0.4989,  ..., 0.4989, 0.4989, 0.4989]))\n"
     ]
    },
    {
     "name": "stderr",
     "output_type": "stream",
     "text": [
      "/Users/alexi/Library/CloudStorage/OneDrive-Nexus365/Rotation Projects/Rotation_1/Project/DomAdpQSAR/DomAdpQSAR/presentation.py:36: UserWarning: Dataset has 0 variance; skipping density estimate. Pass `warn_singular=False` to disable this warning.\n",
      "  axes = sns.kdeplot(unlabeled_predictions, ax=axes, color=sns.color_palette()[1], bw_method=bandwidth,\n",
      "/Users/alexi/Library/CloudStorage/OneDrive-Nexus365/Rotation Projects/Rotation_1/Project/DomAdpQSAR/DomAdpQSAR/presentation.py:38: UserWarning: Dataset has 0 variance; skipping density estimate. Pass `warn_singular=False` to disable this warning.\n",
      "  axes = sns.kdeplot(test_predictions, ax=axes, color=sns.color_palette()[2], bw_method=bandwidth,\n",
      "/Users/alexi/Library/CloudStorage/OneDrive-Nexus365/Rotation Projects/Rotation_1/Project/DomAdpQSAR/DomAdpQSAR/presentation.py:40: UserWarning: Dataset has 0 variance; skipping density estimate. Pass `warn_singular=False` to disable this warning.\n",
      "  axes = sns.kdeplot(train_predictions, ax=axes, color=sns.color_palette()[2], linewidth=0.5, bw_method=bandwidth,\n"
     ]
    },
    {
     "name": "stdout",
     "output_type": "stream",
     "text": [
      "Step 266, 0:00:05.472132...ize([1000, 2048])DNN Test Values:  ComparisonValues(ACC=tensor(0.8506), BAC=tensor(0.7555), MCC=tensor(0.5704), predicted_labels=tensor([0.2814, 0.6030, 0.2658,  ..., 0.1213, 0.1427, 0.2000]))\n",
      "GAN Test Values:  ComparisonValues(ACC=tensor(0.7527), BAC=tensor(0.5000), MCC=0.01, predicted_labels=tensor([0.4987, 0.4987, 0.4987,  ..., 0.4987, 0.4987, 0.4987]))\n"
     ]
    },
    {
     "name": "stderr",
     "output_type": "stream",
     "text": [
      "/Users/alexi/Library/CloudStorage/OneDrive-Nexus365/Rotation Projects/Rotation_1/Project/DomAdpQSAR/DomAdpQSAR/presentation.py:36: UserWarning: Dataset has 0 variance; skipping density estimate. Pass `warn_singular=False` to disable this warning.\n",
      "  axes = sns.kdeplot(unlabeled_predictions, ax=axes, color=sns.color_palette()[1], bw_method=bandwidth,\n",
      "/Users/alexi/Library/CloudStorage/OneDrive-Nexus365/Rotation Projects/Rotation_1/Project/DomAdpQSAR/DomAdpQSAR/presentation.py:38: UserWarning: Dataset has 0 variance; skipping density estimate. Pass `warn_singular=False` to disable this warning.\n",
      "  axes = sns.kdeplot(test_predictions, ax=axes, color=sns.color_palette()[2], bw_method=bandwidth,\n",
      "/Users/alexi/Library/CloudStorage/OneDrive-Nexus365/Rotation Projects/Rotation_1/Project/DomAdpQSAR/DomAdpQSAR/presentation.py:40: UserWarning: Dataset has 0 variance; skipping density estimate. Pass `warn_singular=False` to disable this warning.\n",
      "  axes = sns.kdeplot(train_predictions, ax=axes, color=sns.color_palette()[2], linewidth=0.5, bw_method=bandwidth,\n"
     ]
    },
    {
     "name": "stdout",
     "output_type": "stream",
     "text": [
      "Step 273, 0:00:05.027228...ize([1000, 2048])DNN Test Values:  ComparisonValues(ACC=tensor(0.8510), BAC=tensor(0.7580), MCC=tensor(0.5727), predicted_labels=tensor([0.1544, 0.4040, 0.1172,  ..., 0.1472, 0.1651, 0.9372]))\n",
      "GAN Test Values:  ComparisonValues(ACC=tensor(0.7527), BAC=tensor(0.5000), MCC=0.01, predicted_labels=tensor([0.4985, 0.4985, 0.4985,  ..., 0.4985, 0.4985, 0.4985]))\n"
     ]
    },
    {
     "name": "stderr",
     "output_type": "stream",
     "text": [
      "/Users/alexi/Library/CloudStorage/OneDrive-Nexus365/Rotation Projects/Rotation_1/Project/DomAdpQSAR/DomAdpQSAR/presentation.py:36: UserWarning: Dataset has 0 variance; skipping density estimate. Pass `warn_singular=False` to disable this warning.\n",
      "  axes = sns.kdeplot(unlabeled_predictions, ax=axes, color=sns.color_palette()[1], bw_method=bandwidth,\n",
      "/Users/alexi/Library/CloudStorage/OneDrive-Nexus365/Rotation Projects/Rotation_1/Project/DomAdpQSAR/DomAdpQSAR/presentation.py:38: UserWarning: Dataset has 0 variance; skipping density estimate. Pass `warn_singular=False` to disable this warning.\n",
      "  axes = sns.kdeplot(test_predictions, ax=axes, color=sns.color_palette()[2], bw_method=bandwidth,\n",
      "/Users/alexi/Library/CloudStorage/OneDrive-Nexus365/Rotation Projects/Rotation_1/Project/DomAdpQSAR/DomAdpQSAR/presentation.py:40: UserWarning: Dataset has 0 variance; skipping density estimate. Pass `warn_singular=False` to disable this warning.\n",
      "  axes = sns.kdeplot(train_predictions, ax=axes, color=sns.color_palette()[2], linewidth=0.5, bw_method=bandwidth,\n"
     ]
    },
    {
     "name": "stdout",
     "output_type": "stream",
     "text": [
      "Step 280, 0:00:05.464960...ize([1000, 2048])DNN Test Values:  ComparisonValues(ACC=tensor(0.8512), BAC=tensor(0.7581), MCC=tensor(0.5733), predicted_labels=tensor([0.2051, 0.8035, 0.2602,  ..., 0.1329, 0.1420, 0.1467]))\n",
      "GAN Test Values:  ComparisonValues(ACC=tensor(0.7527), BAC=tensor(0.5000), MCC=0.01, predicted_labels=tensor([0.4984, 0.4984, 0.4984,  ..., 0.4984, 0.4984, 0.4984]))\n"
     ]
    },
    {
     "name": "stderr",
     "output_type": "stream",
     "text": [
      "/Users/alexi/Library/CloudStorage/OneDrive-Nexus365/Rotation Projects/Rotation_1/Project/DomAdpQSAR/DomAdpQSAR/presentation.py:36: UserWarning: Dataset has 0 variance; skipping density estimate. Pass `warn_singular=False` to disable this warning.\n",
      "  axes = sns.kdeplot(unlabeled_predictions, ax=axes, color=sns.color_palette()[1], bw_method=bandwidth,\n",
      "/Users/alexi/Library/CloudStorage/OneDrive-Nexus365/Rotation Projects/Rotation_1/Project/DomAdpQSAR/DomAdpQSAR/presentation.py:38: UserWarning: Dataset has 0 variance; skipping density estimate. Pass `warn_singular=False` to disable this warning.\n",
      "  axes = sns.kdeplot(test_predictions, ax=axes, color=sns.color_palette()[2], bw_method=bandwidth,\n",
      "/Users/alexi/Library/CloudStorage/OneDrive-Nexus365/Rotation Projects/Rotation_1/Project/DomAdpQSAR/DomAdpQSAR/presentation.py:40: UserWarning: Dataset has 0 variance; skipping density estimate. Pass `warn_singular=False` to disable this warning.\n",
      "  axes = sns.kdeplot(train_predictions, ax=axes, color=sns.color_palette()[2], linewidth=0.5, bw_method=bandwidth,\n"
     ]
    },
    {
     "name": "stdout",
     "output_type": "stream",
     "text": [
      "Step 287, 0:00:06.494912...ize([1000, 2048])DNN Test Values:  ComparisonValues(ACC=tensor(0.8522), BAC=tensor(0.7612), MCC=tensor(0.5768), predicted_labels=tensor([0.5365, 0.1383, 0.7374,  ..., 0.1792, 0.1284, 0.8925]))\n",
      "GAN Test Values:  ComparisonValues(ACC=tensor(0.7527), BAC=tensor(0.5000), MCC=0.01, predicted_labels=tensor([0.4983, 0.4983, 0.4983,  ..., 0.4983, 0.4983, 0.4983]))\n"
     ]
    },
    {
     "name": "stderr",
     "output_type": "stream",
     "text": [
      "/Users/alexi/Library/CloudStorage/OneDrive-Nexus365/Rotation Projects/Rotation_1/Project/DomAdpQSAR/DomAdpQSAR/presentation.py:36: UserWarning: Dataset has 0 variance; skipping density estimate. Pass `warn_singular=False` to disable this warning.\n",
      "  axes = sns.kdeplot(unlabeled_predictions, ax=axes, color=sns.color_palette()[1], bw_method=bandwidth,\n",
      "/Users/alexi/Library/CloudStorage/OneDrive-Nexus365/Rotation Projects/Rotation_1/Project/DomAdpQSAR/DomAdpQSAR/presentation.py:38: UserWarning: Dataset has 0 variance; skipping density estimate. Pass `warn_singular=False` to disable this warning.\n",
      "  axes = sns.kdeplot(test_predictions, ax=axes, color=sns.color_palette()[2], bw_method=bandwidth,\n",
      "/Users/alexi/Library/CloudStorage/OneDrive-Nexus365/Rotation Projects/Rotation_1/Project/DomAdpQSAR/DomAdpQSAR/presentation.py:40: UserWarning: Dataset has 0 variance; skipping density estimate. Pass `warn_singular=False` to disable this warning.\n",
      "  axes = sns.kdeplot(train_predictions, ax=axes, color=sns.color_palette()[2], linewidth=0.5, bw_method=bandwidth,\n"
     ]
    },
    {
     "name": "stdout",
     "output_type": "stream",
     "text": [
      "Step 294, 0:00:05.887641...ize([1000, 2048])DNN Test Values:  ComparisonValues(ACC=tensor(0.8535), BAC=tensor(0.7677), MCC=tensor(0.5832), predicted_labels=tensor([0.1154, 0.7250, 0.3019,  ..., 0.6440, 0.1537, 0.6977]))\n",
      "GAN Test Values:  ComparisonValues(ACC=tensor(0.7527), BAC=tensor(0.5000), MCC=0.01, predicted_labels=tensor([0.4982, 0.4982, 0.4982,  ..., 0.4982, 0.4982, 0.4982]))\n"
     ]
    },
    {
     "name": "stderr",
     "output_type": "stream",
     "text": [
      "/Users/alexi/Library/CloudStorage/OneDrive-Nexus365/Rotation Projects/Rotation_1/Project/DomAdpQSAR/DomAdpQSAR/presentation.py:36: UserWarning: Dataset has 0 variance; skipping density estimate. Pass `warn_singular=False` to disable this warning.\n",
      "  axes = sns.kdeplot(unlabeled_predictions, ax=axes, color=sns.color_palette()[1], bw_method=bandwidth,\n",
      "/Users/alexi/Library/CloudStorage/OneDrive-Nexus365/Rotation Projects/Rotation_1/Project/DomAdpQSAR/DomAdpQSAR/presentation.py:38: UserWarning: Dataset has 0 variance; skipping density estimate. Pass `warn_singular=False` to disable this warning.\n",
      "  axes = sns.kdeplot(test_predictions, ax=axes, color=sns.color_palette()[2], bw_method=bandwidth,\n",
      "/Users/alexi/Library/CloudStorage/OneDrive-Nexus365/Rotation Projects/Rotation_1/Project/DomAdpQSAR/DomAdpQSAR/presentation.py:40: UserWarning: Dataset has 0 variance; skipping density estimate. Pass `warn_singular=False` to disable this warning.\n",
      "  axes = sns.kdeplot(train_predictions, ax=axes, color=sns.color_palette()[2], linewidth=0.5, bw_method=bandwidth,\n"
     ]
    },
    {
     "name": "stdout",
     "output_type": "stream",
     "text": [
      "Step 301, 0:00:05.816023...ize([1000, 2048])DNN Test Values:  ComparisonValues(ACC=tensor(0.8544), BAC=tensor(0.7677), MCC=tensor(0.5852), predicted_labels=tensor([0.7923, 0.1951, 0.1499,  ..., 0.1653, 0.6581, 0.1560]))\n",
      "GAN Test Values:  ComparisonValues(ACC=tensor(0.7527), BAC=tensor(0.5000), MCC=0.01, predicted_labels=tensor([0.4981, 0.4981, 0.4981,  ..., 0.4981, 0.4981, 0.4981]))\n"
     ]
    },
    {
     "name": "stderr",
     "output_type": "stream",
     "text": [
      "/Users/alexi/Library/CloudStorage/OneDrive-Nexus365/Rotation Projects/Rotation_1/Project/DomAdpQSAR/DomAdpQSAR/presentation.py:36: UserWarning: Dataset has 0 variance; skipping density estimate. Pass `warn_singular=False` to disable this warning.\n",
      "  axes = sns.kdeplot(unlabeled_predictions, ax=axes, color=sns.color_palette()[1], bw_method=bandwidth,\n",
      "/Users/alexi/Library/CloudStorage/OneDrive-Nexus365/Rotation Projects/Rotation_1/Project/DomAdpQSAR/DomAdpQSAR/presentation.py:38: UserWarning: Dataset has 0 variance; skipping density estimate. Pass `warn_singular=False` to disable this warning.\n",
      "  axes = sns.kdeplot(test_predictions, ax=axes, color=sns.color_palette()[2], bw_method=bandwidth,\n",
      "/Users/alexi/Library/CloudStorage/OneDrive-Nexus365/Rotation Projects/Rotation_1/Project/DomAdpQSAR/DomAdpQSAR/presentation.py:40: UserWarning: Dataset has 0 variance; skipping density estimate. Pass `warn_singular=False` to disable this warning.\n",
      "  axes = sns.kdeplot(train_predictions, ax=axes, color=sns.color_palette()[2], linewidth=0.5, bw_method=bandwidth,\n"
     ]
    },
    {
     "name": "stdout",
     "output_type": "stream",
     "text": [
      "Step 308, 0:00:07.059663...ize([1000, 2048])DNN Test Values:  ComparisonValues(ACC=tensor(0.8567), BAC=tensor(0.7710), MCC=tensor(0.5921), predicted_labels=tensor([0.7850, 0.1603, 0.3587,  ..., 0.0850, 0.1701, 0.1657]))\n",
      "GAN Test Values:  ComparisonValues(ACC=tensor(0.7527), BAC=tensor(0.5000), MCC=0.01, predicted_labels=tensor([0.4980, 0.4980, 0.4980,  ..., 0.4980, 0.4980, 0.4980]))\n"
     ]
    },
    {
     "name": "stderr",
     "output_type": "stream",
     "text": [
      "/Users/alexi/Library/CloudStorage/OneDrive-Nexus365/Rotation Projects/Rotation_1/Project/DomAdpQSAR/DomAdpQSAR/presentation.py:36: UserWarning: Dataset has 0 variance; skipping density estimate. Pass `warn_singular=False` to disable this warning.\n",
      "  axes = sns.kdeplot(unlabeled_predictions, ax=axes, color=sns.color_palette()[1], bw_method=bandwidth,\n",
      "/Users/alexi/Library/CloudStorage/OneDrive-Nexus365/Rotation Projects/Rotation_1/Project/DomAdpQSAR/DomAdpQSAR/presentation.py:38: UserWarning: Dataset has 0 variance; skipping density estimate. Pass `warn_singular=False` to disable this warning.\n",
      "  axes = sns.kdeplot(test_predictions, ax=axes, color=sns.color_palette()[2], bw_method=bandwidth,\n",
      "/Users/alexi/Library/CloudStorage/OneDrive-Nexus365/Rotation Projects/Rotation_1/Project/DomAdpQSAR/DomAdpQSAR/presentation.py:40: UserWarning: Dataset has 0 variance; skipping density estimate. Pass `warn_singular=False` to disable this warning.\n",
      "  axes = sns.kdeplot(train_predictions, ax=axes, color=sns.color_palette()[2], linewidth=0.5, bw_method=bandwidth,\n"
     ]
    },
    {
     "name": "stdout",
     "output_type": "stream",
     "text": [
      "Step 315, 0:00:09.603248...ize([1000, 2048])DNN Test Values:  ComparisonValues(ACC=tensor(0.8579), BAC=tensor(0.7718), MCC=tensor(0.5951), predicted_labels=tensor([0.1297, 0.1333, 0.3741,  ..., 0.1147, 0.0805, 0.1466]))\n",
      "GAN Test Values:  ComparisonValues(ACC=tensor(0.7527), BAC=tensor(0.5000), MCC=0.01, predicted_labels=tensor([0.4979, 0.4979, 0.4979,  ..., 0.4979, 0.4979, 0.4979]))\n"
     ]
    },
    {
     "name": "stderr",
     "output_type": "stream",
     "text": [
      "/Users/alexi/Library/CloudStorage/OneDrive-Nexus365/Rotation Projects/Rotation_1/Project/DomAdpQSAR/DomAdpQSAR/presentation.py:36: UserWarning: Dataset has 0 variance; skipping density estimate. Pass `warn_singular=False` to disable this warning.\n",
      "  axes = sns.kdeplot(unlabeled_predictions, ax=axes, color=sns.color_palette()[1], bw_method=bandwidth,\n",
      "/Users/alexi/Library/CloudStorage/OneDrive-Nexus365/Rotation Projects/Rotation_1/Project/DomAdpQSAR/DomAdpQSAR/presentation.py:38: UserWarning: Dataset has 0 variance; skipping density estimate. Pass `warn_singular=False` to disable this warning.\n",
      "  axes = sns.kdeplot(test_predictions, ax=axes, color=sns.color_palette()[2], bw_method=bandwidth,\n",
      "/Users/alexi/Library/CloudStorage/OneDrive-Nexus365/Rotation Projects/Rotation_1/Project/DomAdpQSAR/DomAdpQSAR/presentation.py:40: UserWarning: Dataset has 0 variance; skipping density estimate. Pass `warn_singular=False` to disable this warning.\n",
      "  axes = sns.kdeplot(train_predictions, ax=axes, color=sns.color_palette()[2], linewidth=0.5, bw_method=bandwidth,\n"
     ]
    },
    {
     "name": "stdout",
     "output_type": "stream",
     "text": [
      "Step 322, 0:00:06.083880...ize([1000, 2048])DNN Test Values:  ComparisonValues(ACC=tensor(0.8569), BAC=tensor(0.7743), MCC=tensor(0.5942), predicted_labels=tensor([0.1472, 0.5102, 0.6146,  ..., 0.9006, 0.2202, 0.1460]))\n",
      "GAN Test Values:  ComparisonValues(ACC=tensor(0.7527), BAC=tensor(0.5000), MCC=0.01, predicted_labels=tensor([0.4978, 0.4978, 0.4978,  ..., 0.4978, 0.4978, 0.4978]))\n"
     ]
    },
    {
     "name": "stderr",
     "output_type": "stream",
     "text": [
      "/Users/alexi/Library/CloudStorage/OneDrive-Nexus365/Rotation Projects/Rotation_1/Project/DomAdpQSAR/DomAdpQSAR/presentation.py:36: UserWarning: Dataset has 0 variance; skipping density estimate. Pass `warn_singular=False` to disable this warning.\n",
      "  axes = sns.kdeplot(unlabeled_predictions, ax=axes, color=sns.color_palette()[1], bw_method=bandwidth,\n",
      "/Users/alexi/Library/CloudStorage/OneDrive-Nexus365/Rotation Projects/Rotation_1/Project/DomAdpQSAR/DomAdpQSAR/presentation.py:38: UserWarning: Dataset has 0 variance; skipping density estimate. Pass `warn_singular=False` to disable this warning.\n",
      "  axes = sns.kdeplot(test_predictions, ax=axes, color=sns.color_palette()[2], bw_method=bandwidth,\n",
      "/Users/alexi/Library/CloudStorage/OneDrive-Nexus365/Rotation Projects/Rotation_1/Project/DomAdpQSAR/DomAdpQSAR/presentation.py:40: UserWarning: Dataset has 0 variance; skipping density estimate. Pass `warn_singular=False` to disable this warning.\n",
      "  axes = sns.kdeplot(train_predictions, ax=axes, color=sns.color_palette()[2], linewidth=0.5, bw_method=bandwidth,\n"
     ]
    },
    {
     "name": "stdout",
     "output_type": "stream",
     "text": [
      "Step 329, 0:00:05.673127...ize([1000, 2048])DNN Test Values:  ComparisonValues(ACC=tensor(0.8569), BAC=tensor(0.7749), MCC=tensor(0.5945), predicted_labels=tensor([0.7568, 0.1451, 0.1519,  ..., 0.9493, 0.1305, 0.1629]))\n",
      "GAN Test Values:  ComparisonValues(ACC=tensor(0.7527), BAC=tensor(0.5000), MCC=0.01, predicted_labels=tensor([0.4977, 0.4977, 0.4977,  ..., 0.4977, 0.4977, 0.4977]))\n"
     ]
    },
    {
     "name": "stderr",
     "output_type": "stream",
     "text": [
      "/Users/alexi/Library/CloudStorage/OneDrive-Nexus365/Rotation Projects/Rotation_1/Project/DomAdpQSAR/DomAdpQSAR/presentation.py:36: UserWarning: Dataset has 0 variance; skipping density estimate. Pass `warn_singular=False` to disable this warning.\n",
      "  axes = sns.kdeplot(unlabeled_predictions, ax=axes, color=sns.color_palette()[1], bw_method=bandwidth,\n",
      "/Users/alexi/Library/CloudStorage/OneDrive-Nexus365/Rotation Projects/Rotation_1/Project/DomAdpQSAR/DomAdpQSAR/presentation.py:38: UserWarning: Dataset has 0 variance; skipping density estimate. Pass `warn_singular=False` to disable this warning.\n",
      "  axes = sns.kdeplot(test_predictions, ax=axes, color=sns.color_palette()[2], bw_method=bandwidth,\n",
      "/Users/alexi/Library/CloudStorage/OneDrive-Nexus365/Rotation Projects/Rotation_1/Project/DomAdpQSAR/DomAdpQSAR/presentation.py:40: UserWarning: Dataset has 0 variance; skipping density estimate. Pass `warn_singular=False` to disable this warning.\n",
      "  axes = sns.kdeplot(train_predictions, ax=axes, color=sns.color_palette()[2], linewidth=0.5, bw_method=bandwidth,\n"
     ]
    },
    {
     "name": "stdout",
     "output_type": "stream",
     "text": [
      "Step 336, 0:00:05.386024...ize([1000, 2048])DNN Test Values:  ComparisonValues(ACC=tensor(0.8569), BAC=tensor(0.7755), MCC=tensor(0.5948), predicted_labels=tensor([0.1505, 0.1372, 0.0789,  ..., 0.7092, 0.1911, 0.1094]))\n",
      "GAN Test Values:  ComparisonValues(ACC=tensor(0.7527), BAC=tensor(0.5000), MCC=0.01, predicted_labels=tensor([0.4976, 0.4976, 0.4976,  ..., 0.4976, 0.4976, 0.4976]))\n"
     ]
    },
    {
     "name": "stderr",
     "output_type": "stream",
     "text": [
      "/Users/alexi/Library/CloudStorage/OneDrive-Nexus365/Rotation Projects/Rotation_1/Project/DomAdpQSAR/DomAdpQSAR/presentation.py:36: UserWarning: Dataset has 0 variance; skipping density estimate. Pass `warn_singular=False` to disable this warning.\n",
      "  axes = sns.kdeplot(unlabeled_predictions, ax=axes, color=sns.color_palette()[1], bw_method=bandwidth,\n",
      "/Users/alexi/Library/CloudStorage/OneDrive-Nexus365/Rotation Projects/Rotation_1/Project/DomAdpQSAR/DomAdpQSAR/presentation.py:38: UserWarning: Dataset has 0 variance; skipping density estimate. Pass `warn_singular=False` to disable this warning.\n",
      "  axes = sns.kdeplot(test_predictions, ax=axes, color=sns.color_palette()[2], bw_method=bandwidth,\n",
      "/Users/alexi/Library/CloudStorage/OneDrive-Nexus365/Rotation Projects/Rotation_1/Project/DomAdpQSAR/DomAdpQSAR/presentation.py:40: UserWarning: Dataset has 0 variance; skipping density estimate. Pass `warn_singular=False` to disable this warning.\n",
      "  axes = sns.kdeplot(train_predictions, ax=axes, color=sns.color_palette()[2], linewidth=0.5, bw_method=bandwidth,\n"
     ]
    },
    {
     "name": "stdout",
     "output_type": "stream",
     "text": [
      "Step 343, 0:00:05.794551...ize([1000, 2048])DNN Test Values:  ComparisonValues(ACC=tensor(0.8576), BAC=tensor(0.7754), MCC=tensor(0.5962), predicted_labels=tensor([0.1434, 0.1058, 0.1544,  ..., 0.1949, 0.1012, 0.1210]))\n",
      "GAN Test Values:  ComparisonValues(ACC=tensor(0.7527), BAC=tensor(0.5000), MCC=0.01, predicted_labels=tensor([0.4975, 0.4975, 0.4975,  ..., 0.4975, 0.4975, 0.4975]))\n"
     ]
    },
    {
     "name": "stderr",
     "output_type": "stream",
     "text": [
      "/Users/alexi/Library/CloudStorage/OneDrive-Nexus365/Rotation Projects/Rotation_1/Project/DomAdpQSAR/DomAdpQSAR/presentation.py:36: UserWarning: Dataset has 0 variance; skipping density estimate. Pass `warn_singular=False` to disable this warning.\n",
      "  axes = sns.kdeplot(unlabeled_predictions, ax=axes, color=sns.color_palette()[1], bw_method=bandwidth,\n",
      "/Users/alexi/Library/CloudStorage/OneDrive-Nexus365/Rotation Projects/Rotation_1/Project/DomAdpQSAR/DomAdpQSAR/presentation.py:38: UserWarning: Dataset has 0 variance; skipping density estimate. Pass `warn_singular=False` to disable this warning.\n",
      "  axes = sns.kdeplot(test_predictions, ax=axes, color=sns.color_palette()[2], bw_method=bandwidth,\n",
      "/Users/alexi/Library/CloudStorage/OneDrive-Nexus365/Rotation Projects/Rotation_1/Project/DomAdpQSAR/DomAdpQSAR/presentation.py:40: UserWarning: Dataset has 0 variance; skipping density estimate. Pass `warn_singular=False` to disable this warning.\n",
      "  axes = sns.kdeplot(train_predictions, ax=axes, color=sns.color_palette()[2], linewidth=0.5, bw_method=bandwidth,\n"
     ]
    },
    {
     "name": "stdout",
     "output_type": "stream",
     "text": [
      "Step 350, 0:00:06.464726...ize([1000, 2048])DNN Test Values:  ComparisonValues(ACC=tensor(0.8581), BAC=tensor(0.7775), MCC=tensor(0.5983), predicted_labels=tensor([0.1627, 0.1388, 0.2039,  ..., 0.8093, 0.1756, 0.1122]))\n",
      "GAN Test Values:  ComparisonValues(ACC=tensor(0.7527), BAC=tensor(0.5000), MCC=0.01, predicted_labels=tensor([0.4975, 0.4975, 0.4975,  ..., 0.4975, 0.4975, 0.4975]))\n"
     ]
    },
    {
     "name": "stderr",
     "output_type": "stream",
     "text": [
      "/Users/alexi/Library/CloudStorage/OneDrive-Nexus365/Rotation Projects/Rotation_1/Project/DomAdpQSAR/DomAdpQSAR/presentation.py:36: UserWarning: Dataset has 0 variance; skipping density estimate. Pass `warn_singular=False` to disable this warning.\n",
      "  axes = sns.kdeplot(unlabeled_predictions, ax=axes, color=sns.color_palette()[1], bw_method=bandwidth,\n",
      "/Users/alexi/Library/CloudStorage/OneDrive-Nexus365/Rotation Projects/Rotation_1/Project/DomAdpQSAR/DomAdpQSAR/presentation.py:38: UserWarning: Dataset has 0 variance; skipping density estimate. Pass `warn_singular=False` to disable this warning.\n",
      "  axes = sns.kdeplot(test_predictions, ax=axes, color=sns.color_palette()[2], bw_method=bandwidth,\n",
      "/Users/alexi/Library/CloudStorage/OneDrive-Nexus365/Rotation Projects/Rotation_1/Project/DomAdpQSAR/DomAdpQSAR/presentation.py:40: UserWarning: Dataset has 0 variance; skipping density estimate. Pass `warn_singular=False` to disable this warning.\n",
      "  axes = sns.kdeplot(train_predictions, ax=axes, color=sns.color_palette()[2], linewidth=0.5, bw_method=bandwidth,\n"
     ]
    },
    {
     "name": "stdout",
     "output_type": "stream",
     "text": [
      "Step 357, 0:00:06.317395...ize([1000, 2048])DNN Test Values:  ComparisonValues(ACC=tensor(0.8592), BAC=tensor(0.7792), MCC=tensor(0.6017), predicted_labels=tensor([0.9272, 0.0994, 0.4108,  ..., 0.1482, 0.1227, 0.8749]))\n",
      "GAN Test Values:  ComparisonValues(ACC=tensor(0.7527), BAC=tensor(0.5000), MCC=0.01, predicted_labels=tensor([0.4974, 0.4974, 0.4974,  ..., 0.4974, 0.4974, 0.4974]))\n"
     ]
    },
    {
     "name": "stderr",
     "output_type": "stream",
     "text": [
      "/Users/alexi/Library/CloudStorage/OneDrive-Nexus365/Rotation Projects/Rotation_1/Project/DomAdpQSAR/DomAdpQSAR/presentation.py:36: UserWarning: Dataset has 0 variance; skipping density estimate. Pass `warn_singular=False` to disable this warning.\n",
      "  axes = sns.kdeplot(unlabeled_predictions, ax=axes, color=sns.color_palette()[1], bw_method=bandwidth,\n",
      "/Users/alexi/Library/CloudStorage/OneDrive-Nexus365/Rotation Projects/Rotation_1/Project/DomAdpQSAR/DomAdpQSAR/presentation.py:38: UserWarning: Dataset has 0 variance; skipping density estimate. Pass `warn_singular=False` to disable this warning.\n",
      "  axes = sns.kdeplot(test_predictions, ax=axes, color=sns.color_palette()[2], bw_method=bandwidth,\n",
      "/Users/alexi/Library/CloudStorage/OneDrive-Nexus365/Rotation Projects/Rotation_1/Project/DomAdpQSAR/DomAdpQSAR/presentation.py:40: UserWarning: Dataset has 0 variance; skipping density estimate. Pass `warn_singular=False` to disable this warning.\n",
      "  axes = sns.kdeplot(train_predictions, ax=axes, color=sns.color_palette()[2], linewidth=0.5, bw_method=bandwidth,\n"
     ]
    },
    {
     "name": "stdout",
     "output_type": "stream",
     "text": [
      "Step 364, 0:00:05.034343...ize([1000, 2048])DNN Test Values:  ComparisonValues(ACC=tensor(0.8597), BAC=tensor(0.7798), MCC=tensor(0.6030), predicted_labels=tensor([0.1096, 0.0773, 0.2606,  ..., 0.1472, 0.6769, 0.0991]))\n",
      "GAN Test Values:  ComparisonValues(ACC=tensor(0.7527), BAC=tensor(0.5000), MCC=0.01, predicted_labels=tensor([0.4974, 0.4974, 0.4974,  ..., 0.4974, 0.4974, 0.4974]))\n"
     ]
    },
    {
     "name": "stderr",
     "output_type": "stream",
     "text": [
      "/Users/alexi/Library/CloudStorage/OneDrive-Nexus365/Rotation Projects/Rotation_1/Project/DomAdpQSAR/DomAdpQSAR/presentation.py:36: UserWarning: Dataset has 0 variance; skipping density estimate. Pass `warn_singular=False` to disable this warning.\n",
      "  axes = sns.kdeplot(unlabeled_predictions, ax=axes, color=sns.color_palette()[1], bw_method=bandwidth,\n",
      "/Users/alexi/Library/CloudStorage/OneDrive-Nexus365/Rotation Projects/Rotation_1/Project/DomAdpQSAR/DomAdpQSAR/presentation.py:38: UserWarning: Dataset has 0 variance; skipping density estimate. Pass `warn_singular=False` to disable this warning.\n",
      "  axes = sns.kdeplot(test_predictions, ax=axes, color=sns.color_palette()[2], bw_method=bandwidth,\n",
      "/Users/alexi/Library/CloudStorage/OneDrive-Nexus365/Rotation Projects/Rotation_1/Project/DomAdpQSAR/DomAdpQSAR/presentation.py:40: UserWarning: Dataset has 0 variance; skipping density estimate. Pass `warn_singular=False` to disable this warning.\n",
      "  axes = sns.kdeplot(train_predictions, ax=axes, color=sns.color_palette()[2], linewidth=0.5, bw_method=bandwidth,\n"
     ]
    },
    {
     "name": "stdout",
     "output_type": "stream",
     "text": [
      "Step 371, 0:00:05.326888...ize([1000, 2048])DNN Test Values:  ComparisonValues(ACC=tensor(0.8590), BAC=tensor(0.7781), MCC=tensor(0.6007), predicted_labels=tensor([0.1378, 0.1396, 0.1259,  ..., 0.1954, 0.1272, 0.2979]))\n",
      "GAN Test Values:  ComparisonValues(ACC=tensor(0.7527), BAC=tensor(0.5000), MCC=0.01, predicted_labels=tensor([0.4973, 0.4973, 0.4973,  ..., 0.4973, 0.4973, 0.4973]))\n"
     ]
    },
    {
     "name": "stderr",
     "output_type": "stream",
     "text": [
      "/Users/alexi/Library/CloudStorage/OneDrive-Nexus365/Rotation Projects/Rotation_1/Project/DomAdpQSAR/DomAdpQSAR/presentation.py:36: UserWarning: Dataset has 0 variance; skipping density estimate. Pass `warn_singular=False` to disable this warning.\n",
      "  axes = sns.kdeplot(unlabeled_predictions, ax=axes, color=sns.color_palette()[1], bw_method=bandwidth,\n",
      "/Users/alexi/Library/CloudStorage/OneDrive-Nexus365/Rotation Projects/Rotation_1/Project/DomAdpQSAR/DomAdpQSAR/presentation.py:38: UserWarning: Dataset has 0 variance; skipping density estimate. Pass `warn_singular=False` to disable this warning.\n",
      "  axes = sns.kdeplot(test_predictions, ax=axes, color=sns.color_palette()[2], bw_method=bandwidth,\n",
      "/Users/alexi/Library/CloudStorage/OneDrive-Nexus365/Rotation Projects/Rotation_1/Project/DomAdpQSAR/DomAdpQSAR/presentation.py:40: UserWarning: Dataset has 0 variance; skipping density estimate. Pass `warn_singular=False` to disable this warning.\n",
      "  axes = sns.kdeplot(train_predictions, ax=axes, color=sns.color_palette()[2], linewidth=0.5, bw_method=bandwidth,\n"
     ]
    },
    {
     "name": "stdout",
     "output_type": "stream",
     "text": [
      "Step 378, 0:00:04.997251...ize([1000, 2048])DNN Test Values:  ComparisonValues(ACC=tensor(0.8604), BAC=tensor(0.7831), MCC=tensor(0.6062), predicted_labels=tensor([0.3037, 0.0983, 0.1946,  ..., 0.2050, 0.1203, 0.1747]))\n",
      "GAN Test Values:  ComparisonValues(ACC=tensor(0.7527), BAC=tensor(0.5000), MCC=0.01, predicted_labels=tensor([0.4972, 0.4972, 0.4972,  ..., 0.4972, 0.4972, 0.4972]))\n"
     ]
    },
    {
     "name": "stderr",
     "output_type": "stream",
     "text": [
      "/Users/alexi/Library/CloudStorage/OneDrive-Nexus365/Rotation Projects/Rotation_1/Project/DomAdpQSAR/DomAdpQSAR/presentation.py:36: UserWarning: Dataset has 0 variance; skipping density estimate. Pass `warn_singular=False` to disable this warning.\n",
      "  axes = sns.kdeplot(unlabeled_predictions, ax=axes, color=sns.color_palette()[1], bw_method=bandwidth,\n",
      "/Users/alexi/Library/CloudStorage/OneDrive-Nexus365/Rotation Projects/Rotation_1/Project/DomAdpQSAR/DomAdpQSAR/presentation.py:38: UserWarning: Dataset has 0 variance; skipping density estimate. Pass `warn_singular=False` to disable this warning.\n",
      "  axes = sns.kdeplot(test_predictions, ax=axes, color=sns.color_palette()[2], bw_method=bandwidth,\n",
      "/Users/alexi/Library/CloudStorage/OneDrive-Nexus365/Rotation Projects/Rotation_1/Project/DomAdpQSAR/DomAdpQSAR/presentation.py:40: UserWarning: Dataset has 0 variance; skipping density estimate. Pass `warn_singular=False` to disable this warning.\n",
      "  axes = sns.kdeplot(train_predictions, ax=axes, color=sns.color_palette()[2], linewidth=0.5, bw_method=bandwidth,\n"
     ]
    },
    {
     "name": "stdout",
     "output_type": "stream",
     "text": [
      "Step 385, 0:00:05.706792...ize([1000, 2048])DNN Test Values:  ComparisonValues(ACC=tensor(0.8579), BAC=tensor(0.7789), MCC=tensor(0.5985), predicted_labels=tensor([0.0791, 0.0989, 0.0863,  ..., 0.0869, 0.0849, 0.9401]))\n",
      "GAN Test Values:  ComparisonValues(ACC=tensor(0.7527), BAC=tensor(0.5000), MCC=0.01, predicted_labels=tensor([0.4971, 0.4971, 0.4971,  ..., 0.4971, 0.4971, 0.4971]))\n"
     ]
    },
    {
     "name": "stderr",
     "output_type": "stream",
     "text": [
      "/Users/alexi/Library/CloudStorage/OneDrive-Nexus365/Rotation Projects/Rotation_1/Project/DomAdpQSAR/DomAdpQSAR/presentation.py:36: UserWarning: Dataset has 0 variance; skipping density estimate. Pass `warn_singular=False` to disable this warning.\n",
      "  axes = sns.kdeplot(unlabeled_predictions, ax=axes, color=sns.color_palette()[1], bw_method=bandwidth,\n",
      "/Users/alexi/Library/CloudStorage/OneDrive-Nexus365/Rotation Projects/Rotation_1/Project/DomAdpQSAR/DomAdpQSAR/presentation.py:38: UserWarning: Dataset has 0 variance; skipping density estimate. Pass `warn_singular=False` to disable this warning.\n",
      "  axes = sns.kdeplot(test_predictions, ax=axes, color=sns.color_palette()[2], bw_method=bandwidth,\n",
      "/Users/alexi/Library/CloudStorage/OneDrive-Nexus365/Rotation Projects/Rotation_1/Project/DomAdpQSAR/DomAdpQSAR/presentation.py:40: UserWarning: Dataset has 0 variance; skipping density estimate. Pass `warn_singular=False` to disable this warning.\n",
      "  axes = sns.kdeplot(train_predictions, ax=axes, color=sns.color_palette()[2], linewidth=0.5, bw_method=bandwidth,\n"
     ]
    },
    {
     "name": "stdout",
     "output_type": "stream",
     "text": [
      "Step 392, 0:00:05.024714...ize([1000, 2048])DNN Test Values:  ComparisonValues(ACC=tensor(0.8595), BAC=tensor(0.7840), MCC=tensor(0.6047), predicted_labels=tensor([0.0963, 0.0970, 0.0968,  ..., 0.1285, 0.1230, 0.0926]))\n",
      "GAN Test Values:  ComparisonValues(ACC=tensor(0.7527), BAC=tensor(0.5000), MCC=0.01, predicted_labels=tensor([0.4970, 0.4970, 0.4970,  ..., 0.4970, 0.4970, 0.4970]))\n"
     ]
    },
    {
     "name": "stderr",
     "output_type": "stream",
     "text": [
      "/Users/alexi/Library/CloudStorage/OneDrive-Nexus365/Rotation Projects/Rotation_1/Project/DomAdpQSAR/DomAdpQSAR/presentation.py:36: UserWarning: Dataset has 0 variance; skipping density estimate. Pass `warn_singular=False` to disable this warning.\n",
      "  axes = sns.kdeplot(unlabeled_predictions, ax=axes, color=sns.color_palette()[1], bw_method=bandwidth,\n",
      "/Users/alexi/Library/CloudStorage/OneDrive-Nexus365/Rotation Projects/Rotation_1/Project/DomAdpQSAR/DomAdpQSAR/presentation.py:38: UserWarning: Dataset has 0 variance; skipping density estimate. Pass `warn_singular=False` to disable this warning.\n",
      "  axes = sns.kdeplot(test_predictions, ax=axes, color=sns.color_palette()[2], bw_method=bandwidth,\n",
      "/Users/alexi/Library/CloudStorage/OneDrive-Nexus365/Rotation Projects/Rotation_1/Project/DomAdpQSAR/DomAdpQSAR/presentation.py:40: UserWarning: Dataset has 0 variance; skipping density estimate. Pass `warn_singular=False` to disable this warning.\n",
      "  axes = sns.kdeplot(train_predictions, ax=axes, color=sns.color_palette()[2], linewidth=0.5, bw_method=bandwidth,\n"
     ]
    },
    {
     "name": "stdout",
     "output_type": "stream",
     "text": [
      "Step 399, 0:00:05.323337...ize([1000, 2048])DNN Test Values:  ComparisonValues(ACC=tensor(0.8604), BAC=tensor(0.7858), MCC=tensor(0.6076), predicted_labels=tensor([0.6362, 0.5415, 0.0856,  ..., 0.9059, 0.0892, 0.0920]))\n",
      "GAN Test Values:  ComparisonValues(ACC=tensor(0.7527), BAC=tensor(0.5000), MCC=0.01, predicted_labels=tensor([0.4969, 0.4969, 0.4969,  ..., 0.4969, 0.4969, 0.4969]))\n"
     ]
    },
    {
     "name": "stderr",
     "output_type": "stream",
     "text": [
      "/Users/alexi/Library/CloudStorage/OneDrive-Nexus365/Rotation Projects/Rotation_1/Project/DomAdpQSAR/DomAdpQSAR/presentation.py:36: UserWarning: Dataset has 0 variance; skipping density estimate. Pass `warn_singular=False` to disable this warning.\n",
      "  axes = sns.kdeplot(unlabeled_predictions, ax=axes, color=sns.color_palette()[1], bw_method=bandwidth,\n",
      "/Users/alexi/Library/CloudStorage/OneDrive-Nexus365/Rotation Projects/Rotation_1/Project/DomAdpQSAR/DomAdpQSAR/presentation.py:38: UserWarning: Dataset has 0 variance; skipping density estimate. Pass `warn_singular=False` to disable this warning.\n",
      "  axes = sns.kdeplot(test_predictions, ax=axes, color=sns.color_palette()[2], bw_method=bandwidth,\n",
      "/Users/alexi/Library/CloudStorage/OneDrive-Nexus365/Rotation Projects/Rotation_1/Project/DomAdpQSAR/DomAdpQSAR/presentation.py:40: UserWarning: Dataset has 0 variance; skipping density estimate. Pass `warn_singular=False` to disable this warning.\n",
      "  axes = sns.kdeplot(train_predictions, ax=axes, color=sns.color_palette()[2], linewidth=0.5, bw_method=bandwidth,\n"
     ]
    },
    {
     "name": "stdout",
     "output_type": "stream",
     "text": [
      "Step 406, 0:00:05.092679...ize([1000, 2048])DNN Test Values:  ComparisonValues(ACC=tensor(0.8601), BAC=tensor(0.7882), MCC=tensor(0.6084), predicted_labels=tensor([0.9444, 0.0838, 0.0906,  ..., 0.7842, 0.1037, 0.1867]))\n",
      "GAN Test Values:  ComparisonValues(ACC=tensor(0.7527), BAC=tensor(0.5000), MCC=0.01, predicted_labels=tensor([0.4968, 0.4968, 0.4968,  ..., 0.4968, 0.4968, 0.4968]))\n"
     ]
    },
    {
     "name": "stderr",
     "output_type": "stream",
     "text": [
      "/Users/alexi/Library/CloudStorage/OneDrive-Nexus365/Rotation Projects/Rotation_1/Project/DomAdpQSAR/DomAdpQSAR/presentation.py:36: UserWarning: Dataset has 0 variance; skipping density estimate. Pass `warn_singular=False` to disable this warning.\n",
      "  axes = sns.kdeplot(unlabeled_predictions, ax=axes, color=sns.color_palette()[1], bw_method=bandwidth,\n",
      "/Users/alexi/Library/CloudStorage/OneDrive-Nexus365/Rotation Projects/Rotation_1/Project/DomAdpQSAR/DomAdpQSAR/presentation.py:38: UserWarning: Dataset has 0 variance; skipping density estimate. Pass `warn_singular=False` to disable this warning.\n",
      "  axes = sns.kdeplot(test_predictions, ax=axes, color=sns.color_palette()[2], bw_method=bandwidth,\n",
      "/Users/alexi/Library/CloudStorage/OneDrive-Nexus365/Rotation Projects/Rotation_1/Project/DomAdpQSAR/DomAdpQSAR/presentation.py:40: UserWarning: Dataset has 0 variance; skipping density estimate. Pass `warn_singular=False` to disable this warning.\n",
      "  axes = sns.kdeplot(train_predictions, ax=axes, color=sns.color_palette()[2], linewidth=0.5, bw_method=bandwidth,\n"
     ]
    },
    {
     "name": "stdout",
     "output_type": "stream",
     "text": [
      "Step 413, 0:00:05.362571...ize([1000, 2048])DNN Test Values:  ComparisonValues(ACC=tensor(0.8590), BAC=tensor(0.7834), MCC=tensor(0.6034), predicted_labels=tensor([0.8085, 0.0983, 0.1037,  ..., 0.2116, 0.0937, 0.9362]))\n",
      "GAN Test Values:  ComparisonValues(ACC=tensor(0.7527), BAC=tensor(0.5000), MCC=0.01, predicted_labels=tensor([0.4967, 0.4967, 0.4967,  ..., 0.4967, 0.4967, 0.4967]))\n"
     ]
    },
    {
     "name": "stderr",
     "output_type": "stream",
     "text": [
      "/Users/alexi/Library/CloudStorage/OneDrive-Nexus365/Rotation Projects/Rotation_1/Project/DomAdpQSAR/DomAdpQSAR/presentation.py:36: UserWarning: Dataset has 0 variance; skipping density estimate. Pass `warn_singular=False` to disable this warning.\n",
      "  axes = sns.kdeplot(unlabeled_predictions, ax=axes, color=sns.color_palette()[1], bw_method=bandwidth,\n",
      "/Users/alexi/Library/CloudStorage/OneDrive-Nexus365/Rotation Projects/Rotation_1/Project/DomAdpQSAR/DomAdpQSAR/presentation.py:38: UserWarning: Dataset has 0 variance; skipping density estimate. Pass `warn_singular=False` to disable this warning.\n",
      "  axes = sns.kdeplot(test_predictions, ax=axes, color=sns.color_palette()[2], bw_method=bandwidth,\n",
      "/Users/alexi/Library/CloudStorage/OneDrive-Nexus365/Rotation Projects/Rotation_1/Project/DomAdpQSAR/DomAdpQSAR/presentation.py:40: UserWarning: Dataset has 0 variance; skipping density estimate. Pass `warn_singular=False` to disable this warning.\n",
      "  axes = sns.kdeplot(train_predictions, ax=axes, color=sns.color_palette()[2], linewidth=0.5, bw_method=bandwidth,\n"
     ]
    },
    {
     "name": "stdout",
     "output_type": "stream",
     "text": [
      "Step 420, 0:00:04.819053...ize([1000, 2048])DNN Test Values:  ComparisonValues(ACC=tensor(0.8563), BAC=tensor(0.7803), MCC=tensor(0.5959), predicted_labels=tensor([0.0996, 0.9315, 0.2088,  ..., 0.0843, 0.1353, 0.1176]))\n",
      "GAN Test Values:  ComparisonValues(ACC=tensor(0.7527), BAC=tensor(0.5000), MCC=0.01, predicted_labels=tensor([0.4966, 0.4966, 0.4966,  ..., 0.4966, 0.4966, 0.4966]))\n"
     ]
    },
    {
     "name": "stderr",
     "output_type": "stream",
     "text": [
      "/Users/alexi/Library/CloudStorage/OneDrive-Nexus365/Rotation Projects/Rotation_1/Project/DomAdpQSAR/DomAdpQSAR/presentation.py:36: UserWarning: Dataset has 0 variance; skipping density estimate. Pass `warn_singular=False` to disable this warning.\n",
      "  axes = sns.kdeplot(unlabeled_predictions, ax=axes, color=sns.color_palette()[1], bw_method=bandwidth,\n",
      "/Users/alexi/Library/CloudStorage/OneDrive-Nexus365/Rotation Projects/Rotation_1/Project/DomAdpQSAR/DomAdpQSAR/presentation.py:38: UserWarning: Dataset has 0 variance; skipping density estimate. Pass `warn_singular=False` to disable this warning.\n",
      "  axes = sns.kdeplot(test_predictions, ax=axes, color=sns.color_palette()[2], bw_method=bandwidth,\n",
      "/Users/alexi/Library/CloudStorage/OneDrive-Nexus365/Rotation Projects/Rotation_1/Project/DomAdpQSAR/DomAdpQSAR/presentation.py:40: UserWarning: Dataset has 0 variance; skipping density estimate. Pass `warn_singular=False` to disable this warning.\n",
      "  axes = sns.kdeplot(train_predictions, ax=axes, color=sns.color_palette()[2], linewidth=0.5, bw_method=bandwidth,\n"
     ]
    },
    {
     "name": "stdout",
     "output_type": "stream",
     "text": [
      "Step 427, 0:00:06.034307...ize([1000, 2048])DNN Test Values:  ComparisonValues(ACC=tensor(0.8569), BAC=tensor(0.7823), MCC=tensor(0.5985), predicted_labels=tensor([0.1618, 0.0978, 0.1589,  ..., 0.8428, 0.1032, 0.0972]))\n",
      "GAN Test Values:  ComparisonValues(ACC=tensor(0.7527), BAC=tensor(0.5000), MCC=0.01, predicted_labels=tensor([0.4965, 0.4965, 0.4965,  ..., 0.4965, 0.4965, 0.4965]))\n"
     ]
    },
    {
     "name": "stderr",
     "output_type": "stream",
     "text": [
      "/Users/alexi/Library/CloudStorage/OneDrive-Nexus365/Rotation Projects/Rotation_1/Project/DomAdpQSAR/DomAdpQSAR/presentation.py:36: UserWarning: Dataset has 0 variance; skipping density estimate. Pass `warn_singular=False` to disable this warning.\n",
      "  axes = sns.kdeplot(unlabeled_predictions, ax=axes, color=sns.color_palette()[1], bw_method=bandwidth,\n",
      "/Users/alexi/Library/CloudStorage/OneDrive-Nexus365/Rotation Projects/Rotation_1/Project/DomAdpQSAR/DomAdpQSAR/presentation.py:38: UserWarning: Dataset has 0 variance; skipping density estimate. Pass `warn_singular=False` to disable this warning.\n",
      "  axes = sns.kdeplot(test_predictions, ax=axes, color=sns.color_palette()[2], bw_method=bandwidth,\n",
      "/Users/alexi/Library/CloudStorage/OneDrive-Nexus365/Rotation Projects/Rotation_1/Project/DomAdpQSAR/DomAdpQSAR/presentation.py:40: UserWarning: Dataset has 0 variance; skipping density estimate. Pass `warn_singular=False` to disable this warning.\n",
      "  axes = sns.kdeplot(train_predictions, ax=axes, color=sns.color_palette()[2], linewidth=0.5, bw_method=bandwidth,\n"
     ]
    },
    {
     "name": "stdout",
     "output_type": "stream",
     "text": [
      "Step 434, 0:00:06.262993...ize([1000, 2048])DNN Test Values:  ComparisonValues(ACC=tensor(0.8565), BAC=tensor(0.7817), MCC=tensor(0.5972), predicted_labels=tensor([0.0949, 0.0747, 0.1183,  ..., 0.0868, 0.8480, 0.1018]))\n",
      "GAN Test Values:  ComparisonValues(ACC=tensor(0.7527), BAC=tensor(0.5000), MCC=0.01, predicted_labels=tensor([0.4964, 0.4964, 0.4964,  ..., 0.4964, 0.4964, 0.4964]))\n"
     ]
    },
    {
     "name": "stderr",
     "output_type": "stream",
     "text": [
      "/Users/alexi/Library/CloudStorage/OneDrive-Nexus365/Rotation Projects/Rotation_1/Project/DomAdpQSAR/DomAdpQSAR/presentation.py:36: UserWarning: Dataset has 0 variance; skipping density estimate. Pass `warn_singular=False` to disable this warning.\n",
      "  axes = sns.kdeplot(unlabeled_predictions, ax=axes, color=sns.color_palette()[1], bw_method=bandwidth,\n",
      "/Users/alexi/Library/CloudStorage/OneDrive-Nexus365/Rotation Projects/Rotation_1/Project/DomAdpQSAR/DomAdpQSAR/presentation.py:38: UserWarning: Dataset has 0 variance; skipping density estimate. Pass `warn_singular=False` to disable this warning.\n",
      "  axes = sns.kdeplot(test_predictions, ax=axes, color=sns.color_palette()[2], bw_method=bandwidth,\n",
      "/Users/alexi/Library/CloudStorage/OneDrive-Nexus365/Rotation Projects/Rotation_1/Project/DomAdpQSAR/DomAdpQSAR/presentation.py:40: UserWarning: Dataset has 0 variance; skipping density estimate. Pass `warn_singular=False` to disable this warning.\n",
      "  axes = sns.kdeplot(train_predictions, ax=axes, color=sns.color_palette()[2], linewidth=0.5, bw_method=bandwidth,\n"
     ]
    },
    {
     "name": "stdout",
     "output_type": "stream",
     "text": [
      "Step 441, 0:00:07.330747...ize([1000, 2048])DNN Test Values:  ComparisonValues(ACC=tensor(0.8574), BAC=tensor(0.7805), MCC=tensor(0.5984), predicted_labels=tensor([0.6107, 0.0920, 0.0919,  ..., 0.0924, 0.9245, 0.0933]))\n",
      "GAN Test Values:  ComparisonValues(ACC=tensor(0.7527), BAC=tensor(0.5000), MCC=0.01, predicted_labels=tensor([0.4963, 0.4963, 0.4963,  ..., 0.4963, 0.4963, 0.4963]))\n"
     ]
    },
    {
     "name": "stderr",
     "output_type": "stream",
     "text": [
      "/Users/alexi/Library/CloudStorage/OneDrive-Nexus365/Rotation Projects/Rotation_1/Project/DomAdpQSAR/DomAdpQSAR/presentation.py:36: UserWarning: Dataset has 0 variance; skipping density estimate. Pass `warn_singular=False` to disable this warning.\n",
      "  axes = sns.kdeplot(unlabeled_predictions, ax=axes, color=sns.color_palette()[1], bw_method=bandwidth,\n",
      "/Users/alexi/Library/CloudStorage/OneDrive-Nexus365/Rotation Projects/Rotation_1/Project/DomAdpQSAR/DomAdpQSAR/presentation.py:38: UserWarning: Dataset has 0 variance; skipping density estimate. Pass `warn_singular=False` to disable this warning.\n",
      "  axes = sns.kdeplot(test_predictions, ax=axes, color=sns.color_palette()[2], bw_method=bandwidth,\n",
      "/Users/alexi/Library/CloudStorage/OneDrive-Nexus365/Rotation Projects/Rotation_1/Project/DomAdpQSAR/DomAdpQSAR/presentation.py:40: UserWarning: Dataset has 0 variance; skipping density estimate. Pass `warn_singular=False` to disable this warning.\n",
      "  axes = sns.kdeplot(train_predictions, ax=axes, color=sns.color_palette()[2], linewidth=0.5, bw_method=bandwidth,\n"
     ]
    },
    {
     "name": "stdout",
     "output_type": "stream",
     "text": [
      "Step 448, 0:00:07.924687...ize([1000, 2048])DNN Test Values:  ComparisonValues(ACC=tensor(0.8581), BAC=tensor(0.7803), MCC=tensor(0.5998), predicted_labels=tensor([0.1504, 0.9050, 0.0989,  ..., 0.5586, 0.0836, 0.0995]))\n",
      "GAN Test Values:  ComparisonValues(ACC=tensor(0.7527), BAC=tensor(0.5000), MCC=0.01, predicted_labels=tensor([0.4962, 0.4962, 0.4962,  ..., 0.4962, 0.4962, 0.4962]))\n"
     ]
    },
    {
     "name": "stderr",
     "output_type": "stream",
     "text": [
      "/Users/alexi/Library/CloudStorage/OneDrive-Nexus365/Rotation Projects/Rotation_1/Project/DomAdpQSAR/DomAdpQSAR/presentation.py:36: UserWarning: Dataset has 0 variance; skipping density estimate. Pass `warn_singular=False` to disable this warning.\n",
      "  axes = sns.kdeplot(unlabeled_predictions, ax=axes, color=sns.color_palette()[1], bw_method=bandwidth,\n",
      "/Users/alexi/Library/CloudStorage/OneDrive-Nexus365/Rotation Projects/Rotation_1/Project/DomAdpQSAR/DomAdpQSAR/presentation.py:38: UserWarning: Dataset has 0 variance; skipping density estimate. Pass `warn_singular=False` to disable this warning.\n",
      "  axes = sns.kdeplot(test_predictions, ax=axes, color=sns.color_palette()[2], bw_method=bandwidth,\n",
      "/Users/alexi/Library/CloudStorage/OneDrive-Nexus365/Rotation Projects/Rotation_1/Project/DomAdpQSAR/DomAdpQSAR/presentation.py:40: UserWarning: Dataset has 0 variance; skipping density estimate. Pass `warn_singular=False` to disable this warning.\n",
      "  axes = sns.kdeplot(train_predictions, ax=axes, color=sns.color_palette()[2], linewidth=0.5, bw_method=bandwidth,\n"
     ]
    },
    {
     "name": "stdout",
     "output_type": "stream",
     "text": [
      "Step 455, 0:00:07.713558...ize([1000, 2048])DNN Test Values:  ComparisonValues(ACC=tensor(0.8556), BAC=tensor(0.7827), MCC=tensor(0.5959), predicted_labels=tensor([0.1218, 0.0901, 0.7638,  ..., 0.7373, 0.0825, 0.0746]))\n",
      "GAN Test Values:  ComparisonValues(ACC=tensor(0.7527), BAC=tensor(0.5000), MCC=0.01, predicted_labels=tensor([0.4962, 0.4962, 0.4962,  ..., 0.4962, 0.4962, 0.4962]))\n"
     ]
    },
    {
     "name": "stderr",
     "output_type": "stream",
     "text": [
      "/Users/alexi/Library/CloudStorage/OneDrive-Nexus365/Rotation Projects/Rotation_1/Project/DomAdpQSAR/DomAdpQSAR/presentation.py:36: UserWarning: Dataset has 0 variance; skipping density estimate. Pass `warn_singular=False` to disable this warning.\n",
      "  axes = sns.kdeplot(unlabeled_predictions, ax=axes, color=sns.color_palette()[1], bw_method=bandwidth,\n",
      "/Users/alexi/Library/CloudStorage/OneDrive-Nexus365/Rotation Projects/Rotation_1/Project/DomAdpQSAR/DomAdpQSAR/presentation.py:38: UserWarning: Dataset has 0 variance; skipping density estimate. Pass `warn_singular=False` to disable this warning.\n",
      "  axes = sns.kdeplot(test_predictions, ax=axes, color=sns.color_palette()[2], bw_method=bandwidth,\n",
      "/Users/alexi/Library/CloudStorage/OneDrive-Nexus365/Rotation Projects/Rotation_1/Project/DomAdpQSAR/DomAdpQSAR/presentation.py:40: UserWarning: Dataset has 0 variance; skipping density estimate. Pass `warn_singular=False` to disable this warning.\n",
      "  axes = sns.kdeplot(train_predictions, ax=axes, color=sns.color_palette()[2], linewidth=0.5, bw_method=bandwidth,\n"
     ]
    },
    {
     "name": "stdout",
     "output_type": "stream",
     "text": [
      "Step 462, 0:00:06.897449...ize([1000, 2048])DNN Test Values:  ComparisonValues(ACC=tensor(0.8565), BAC=tensor(0.7861), MCC=tensor(0.5998), predicted_labels=tensor([0.1034, 0.0781, 0.7983,  ..., 0.9060, 0.0980, 0.7431]))\n",
      "GAN Test Values:  ComparisonValues(ACC=tensor(0.7527), BAC=tensor(0.5000), MCC=0.01, predicted_labels=tensor([0.4961, 0.4961, 0.4961,  ..., 0.4961, 0.4961, 0.4961]))\n"
     ]
    },
    {
     "name": "stderr",
     "output_type": "stream",
     "text": [
      "/Users/alexi/Library/CloudStorage/OneDrive-Nexus365/Rotation Projects/Rotation_1/Project/DomAdpQSAR/DomAdpQSAR/presentation.py:36: UserWarning: Dataset has 0 variance; skipping density estimate. Pass `warn_singular=False` to disable this warning.\n",
      "  axes = sns.kdeplot(unlabeled_predictions, ax=axes, color=sns.color_palette()[1], bw_method=bandwidth,\n",
      "/Users/alexi/Library/CloudStorage/OneDrive-Nexus365/Rotation Projects/Rotation_1/Project/DomAdpQSAR/DomAdpQSAR/presentation.py:38: UserWarning: Dataset has 0 variance; skipping density estimate. Pass `warn_singular=False` to disable this warning.\n",
      "  axes = sns.kdeplot(test_predictions, ax=axes, color=sns.color_palette()[2], bw_method=bandwidth,\n",
      "/Users/alexi/Library/CloudStorage/OneDrive-Nexus365/Rotation Projects/Rotation_1/Project/DomAdpQSAR/DomAdpQSAR/presentation.py:40: UserWarning: Dataset has 0 variance; skipping density estimate. Pass `warn_singular=False` to disable this warning.\n",
      "  axes = sns.kdeplot(train_predictions, ax=axes, color=sns.color_palette()[2], linewidth=0.5, bw_method=bandwidth,\n"
     ]
    },
    {
     "name": "stdout",
     "output_type": "stream",
     "text": [
      "Step 469, 0:00:06.773266...ize([1000, 2048])DNN Test Values:  ComparisonValues(ACC=tensor(0.8585), BAC=tensor(0.7887), MCC=tensor(0.6055), predicted_labels=tensor([0.1099, 0.1016, 0.1935,  ..., 0.0675, 0.1054, 0.0643]))\n",
      "GAN Test Values:  ComparisonValues(ACC=tensor(0.7527), BAC=tensor(0.5000), MCC=0.01, predicted_labels=tensor([0.4961, 0.4961, 0.4961,  ..., 0.4961, 0.4961, 0.4961]))\n"
     ]
    },
    {
     "name": "stderr",
     "output_type": "stream",
     "text": [
      "/Users/alexi/Library/CloudStorage/OneDrive-Nexus365/Rotation Projects/Rotation_1/Project/DomAdpQSAR/DomAdpQSAR/presentation.py:36: UserWarning: Dataset has 0 variance; skipping density estimate. Pass `warn_singular=False` to disable this warning.\n",
      "  axes = sns.kdeplot(unlabeled_predictions, ax=axes, color=sns.color_palette()[1], bw_method=bandwidth,\n",
      "/Users/alexi/Library/CloudStorage/OneDrive-Nexus365/Rotation Projects/Rotation_1/Project/DomAdpQSAR/DomAdpQSAR/presentation.py:38: UserWarning: Dataset has 0 variance; skipping density estimate. Pass `warn_singular=False` to disable this warning.\n",
      "  axes = sns.kdeplot(test_predictions, ax=axes, color=sns.color_palette()[2], bw_method=bandwidth,\n",
      "/Users/alexi/Library/CloudStorage/OneDrive-Nexus365/Rotation Projects/Rotation_1/Project/DomAdpQSAR/DomAdpQSAR/presentation.py:40: UserWarning: Dataset has 0 variance; skipping density estimate. Pass `warn_singular=False` to disable this warning.\n",
      "  axes = sns.kdeplot(train_predictions, ax=axes, color=sns.color_palette()[2], linewidth=0.5, bw_method=bandwidth,\n"
     ]
    },
    {
     "name": "stdout",
     "output_type": "stream",
     "text": [
      "Step 476, 0:00:06.747784...ize([1000, 2048])DNN Test Values:  ComparisonValues(ACC=tensor(0.8576), BAC=tensor(0.7862), MCC=tensor(0.6021), predicted_labels=tensor([0.0711, 0.1309, 0.0777,  ..., 0.1164, 0.0801, 0.0755]))\n",
      "GAN Test Values:  ComparisonValues(ACC=tensor(0.7527), BAC=tensor(0.5000), MCC=0.01, predicted_labels=tensor([0.4960, 0.4960, 0.4960,  ..., 0.4960, 0.4960, 0.4960]))\n"
     ]
    },
    {
     "name": "stderr",
     "output_type": "stream",
     "text": [
      "/Users/alexi/Library/CloudStorage/OneDrive-Nexus365/Rotation Projects/Rotation_1/Project/DomAdpQSAR/DomAdpQSAR/presentation.py:36: UserWarning: Dataset has 0 variance; skipping density estimate. Pass `warn_singular=False` to disable this warning.\n",
      "  axes = sns.kdeplot(unlabeled_predictions, ax=axes, color=sns.color_palette()[1], bw_method=bandwidth,\n",
      "/Users/alexi/Library/CloudStorage/OneDrive-Nexus365/Rotation Projects/Rotation_1/Project/DomAdpQSAR/DomAdpQSAR/presentation.py:38: UserWarning: Dataset has 0 variance; skipping density estimate. Pass `warn_singular=False` to disable this warning.\n",
      "  axes = sns.kdeplot(test_predictions, ax=axes, color=sns.color_palette()[2], bw_method=bandwidth,\n",
      "/Users/alexi/Library/CloudStorage/OneDrive-Nexus365/Rotation Projects/Rotation_1/Project/DomAdpQSAR/DomAdpQSAR/presentation.py:40: UserWarning: Dataset has 0 variance; skipping density estimate. Pass `warn_singular=False` to disable this warning.\n",
      "  axes = sns.kdeplot(train_predictions, ax=axes, color=sns.color_palette()[2], linewidth=0.5, bw_method=bandwidth,\n"
     ]
    },
    {
     "name": "stdout",
     "output_type": "stream",
     "text": [
      "Step 483, 0:00:05.769710...ize([1000, 2048])DNN Test Values:  ComparisonValues(ACC=tensor(0.8565), BAC=tensor(0.7861), MCC=tensor(0.5998), predicted_labels=tensor([0.0843, 0.0993, 0.1147,  ..., 0.0690, 0.0804, 0.0916]))\n",
      "GAN Test Values:  ComparisonValues(ACC=tensor(0.7527), BAC=tensor(0.5000), MCC=0.01, predicted_labels=tensor([0.4959, 0.4959, 0.4959,  ..., 0.4959, 0.4959, 0.4959]))\n"
     ]
    },
    {
     "name": "stderr",
     "output_type": "stream",
     "text": [
      "/Users/alexi/Library/CloudStorage/OneDrive-Nexus365/Rotation Projects/Rotation_1/Project/DomAdpQSAR/DomAdpQSAR/presentation.py:36: UserWarning: Dataset has 0 variance; skipping density estimate. Pass `warn_singular=False` to disable this warning.\n",
      "  axes = sns.kdeplot(unlabeled_predictions, ax=axes, color=sns.color_palette()[1], bw_method=bandwidth,\n",
      "/Users/alexi/Library/CloudStorage/OneDrive-Nexus365/Rotation Projects/Rotation_1/Project/DomAdpQSAR/DomAdpQSAR/presentation.py:38: UserWarning: Dataset has 0 variance; skipping density estimate. Pass `warn_singular=False` to disable this warning.\n",
      "  axes = sns.kdeplot(test_predictions, ax=axes, color=sns.color_palette()[2], bw_method=bandwidth,\n",
      "/Users/alexi/Library/CloudStorage/OneDrive-Nexus365/Rotation Projects/Rotation_1/Project/DomAdpQSAR/DomAdpQSAR/presentation.py:40: UserWarning: Dataset has 0 variance; skipping density estimate. Pass `warn_singular=False` to disable this warning.\n",
      "  axes = sns.kdeplot(train_predictions, ax=axes, color=sns.color_palette()[2], linewidth=0.5, bw_method=bandwidth,\n"
     ]
    },
    {
     "name": "stdout",
     "output_type": "stream",
     "text": [
      "Step 490, 0:00:06.083574...ize([1000, 2048])DNN Test Values:  ComparisonValues(ACC=tensor(0.8574), BAC=tensor(0.7836), MCC=tensor(0.6001), predicted_labels=tensor([0.0652, 0.0722, 0.0785,  ..., 0.1196, 0.0784, 0.0748]))\n",
      "GAN Test Values:  ComparisonValues(ACC=tensor(0.7527), BAC=tensor(0.5000), MCC=0.01, predicted_labels=tensor([0.4958, 0.4958, 0.4958,  ..., 0.4958, 0.4958, 0.4958]))\n"
     ]
    },
    {
     "name": "stderr",
     "output_type": "stream",
     "text": [
      "/Users/alexi/Library/CloudStorage/OneDrive-Nexus365/Rotation Projects/Rotation_1/Project/DomAdpQSAR/DomAdpQSAR/presentation.py:36: UserWarning: Dataset has 0 variance; skipping density estimate. Pass `warn_singular=False` to disable this warning.\n",
      "  axes = sns.kdeplot(unlabeled_predictions, ax=axes, color=sns.color_palette()[1], bw_method=bandwidth,\n",
      "/Users/alexi/Library/CloudStorage/OneDrive-Nexus365/Rotation Projects/Rotation_1/Project/DomAdpQSAR/DomAdpQSAR/presentation.py:38: UserWarning: Dataset has 0 variance; skipping density estimate. Pass `warn_singular=False` to disable this warning.\n",
      "  axes = sns.kdeplot(test_predictions, ax=axes, color=sns.color_palette()[2], bw_method=bandwidth,\n",
      "/Users/alexi/Library/CloudStorage/OneDrive-Nexus365/Rotation Projects/Rotation_1/Project/DomAdpQSAR/DomAdpQSAR/presentation.py:40: UserWarning: Dataset has 0 variance; skipping density estimate. Pass `warn_singular=False` to disable this warning.\n",
      "  axes = sns.kdeplot(train_predictions, ax=axes, color=sns.color_palette()[2], linewidth=0.5, bw_method=bandwidth,\n"
     ]
    },
    {
     "name": "stdout",
     "output_type": "stream",
     "text": [
      "Step 497, 0:00:05.684511...ize([1000, 2048])DNN Test Values:  ComparisonValues(ACC=tensor(0.8581), BAC=tensor(0.7803), MCC=tensor(0.5998), predicted_labels=tensor([0.0625, 0.9400, 0.0745,  ..., 0.0801, 0.0800, 0.9017]))\n",
      "GAN Test Values:  ComparisonValues(ACC=tensor(0.7527), BAC=tensor(0.5000), MCC=0.01, predicted_labels=tensor([0.4957, 0.4957, 0.4957,  ..., 0.4957, 0.4957, 0.4957]))\n"
     ]
    },
    {
     "name": "stderr",
     "output_type": "stream",
     "text": [
      "/Users/alexi/Library/CloudStorage/OneDrive-Nexus365/Rotation Projects/Rotation_1/Project/DomAdpQSAR/DomAdpQSAR/presentation.py:36: UserWarning: Dataset has 0 variance; skipping density estimate. Pass `warn_singular=False` to disable this warning.\n",
      "  axes = sns.kdeplot(unlabeled_predictions, ax=axes, color=sns.color_palette()[1], bw_method=bandwidth,\n",
      "/Users/alexi/Library/CloudStorage/OneDrive-Nexus365/Rotation Projects/Rotation_1/Project/DomAdpQSAR/DomAdpQSAR/presentation.py:38: UserWarning: Dataset has 0 variance; skipping density estimate. Pass `warn_singular=False` to disable this warning.\n",
      "  axes = sns.kdeplot(test_predictions, ax=axes, color=sns.color_palette()[2], bw_method=bandwidth,\n",
      "/Users/alexi/Library/CloudStorage/OneDrive-Nexus365/Rotation Projects/Rotation_1/Project/DomAdpQSAR/DomAdpQSAR/presentation.py:40: UserWarning: Dataset has 0 variance; skipping density estimate. Pass `warn_singular=False` to disable this warning.\n",
      "  axes = sns.kdeplot(train_predictions, ax=axes, color=sns.color_palette()[2], linewidth=0.5, bw_method=bandwidth,\n"
     ]
    },
    {
     "name": "stdout",
     "output_type": "stream",
     "text": [
      "Step 504, 0:00:05.209528...ize([1000, 2048])DNN Test Values:  ComparisonValues(ACC=tensor(0.8558), BAC=tensor(0.7788), MCC=tensor(0.5941), predicted_labels=tensor([0.0804, 0.0631, 0.0668,  ..., 0.9237, 0.7414, 0.0521]))\n",
      "GAN Test Values:  ComparisonValues(ACC=tensor(0.7527), BAC=tensor(0.5000), MCC=0.01, predicted_labels=tensor([0.4957, 0.4957, 0.4957,  ..., 0.4957, 0.4957, 0.4957]))\n"
     ]
    },
    {
     "name": "stderr",
     "output_type": "stream",
     "text": [
      "/Users/alexi/Library/CloudStorage/OneDrive-Nexus365/Rotation Projects/Rotation_1/Project/DomAdpQSAR/DomAdpQSAR/presentation.py:36: UserWarning: Dataset has 0 variance; skipping density estimate. Pass `warn_singular=False` to disable this warning.\n",
      "  axes = sns.kdeplot(unlabeled_predictions, ax=axes, color=sns.color_palette()[1], bw_method=bandwidth,\n",
      "/Users/alexi/Library/CloudStorage/OneDrive-Nexus365/Rotation Projects/Rotation_1/Project/DomAdpQSAR/DomAdpQSAR/presentation.py:38: UserWarning: Dataset has 0 variance; skipping density estimate. Pass `warn_singular=False` to disable this warning.\n",
      "  axes = sns.kdeplot(test_predictions, ax=axes, color=sns.color_palette()[2], bw_method=bandwidth,\n",
      "/Users/alexi/Library/CloudStorage/OneDrive-Nexus365/Rotation Projects/Rotation_1/Project/DomAdpQSAR/DomAdpQSAR/presentation.py:40: UserWarning: Dataset has 0 variance; skipping density estimate. Pass `warn_singular=False` to disable this warning.\n",
      "  axes = sns.kdeplot(train_predictions, ax=axes, color=sns.color_palette()[2], linewidth=0.5, bw_method=bandwidth,\n"
     ]
    },
    {
     "name": "stdout",
     "output_type": "stream",
     "text": [
      "Step 511, 0:00:05.834918...ize([1000, 2048])DNN Test Values:  ComparisonValues(ACC=tensor(0.8560), BAC=tensor(0.7842), MCC=tensor(0.5977), predicted_labels=tensor([0.0824, 0.0847, 0.0723,  ..., 0.0977, 0.0647, 0.0581]))\n",
      "GAN Test Values:  ComparisonValues(ACC=tensor(0.7527), BAC=tensor(0.5000), MCC=0.01, predicted_labels=tensor([0.4957, 0.4957, 0.4957,  ..., 0.4957, 0.4957, 0.4957]))\n"
     ]
    },
    {
     "name": "stderr",
     "output_type": "stream",
     "text": [
      "/Users/alexi/Library/CloudStorage/OneDrive-Nexus365/Rotation Projects/Rotation_1/Project/DomAdpQSAR/DomAdpQSAR/presentation.py:36: UserWarning: Dataset has 0 variance; skipping density estimate. Pass `warn_singular=False` to disable this warning.\n",
      "  axes = sns.kdeplot(unlabeled_predictions, ax=axes, color=sns.color_palette()[1], bw_method=bandwidth,\n",
      "/Users/alexi/Library/CloudStorage/OneDrive-Nexus365/Rotation Projects/Rotation_1/Project/DomAdpQSAR/DomAdpQSAR/presentation.py:38: UserWarning: Dataset has 0 variance; skipping density estimate. Pass `warn_singular=False` to disable this warning.\n",
      "  axes = sns.kdeplot(test_predictions, ax=axes, color=sns.color_palette()[2], bw_method=bandwidth,\n",
      "/Users/alexi/Library/CloudStorage/OneDrive-Nexus365/Rotation Projects/Rotation_1/Project/DomAdpQSAR/DomAdpQSAR/presentation.py:40: UserWarning: Dataset has 0 variance; skipping density estimate. Pass `warn_singular=False` to disable this warning.\n",
      "  axes = sns.kdeplot(train_predictions, ax=axes, color=sns.color_palette()[2], linewidth=0.5, bw_method=bandwidth,\n"
     ]
    },
    {
     "name": "stdout",
     "output_type": "stream",
     "text": [
      "Step 518, 0:00:05.636133...ize([1000, 2048])DNN Test Values:  ComparisonValues(ACC=tensor(0.8551), BAC=tensor(0.7855), MCC=tensor(0.5967), predicted_labels=tensor([0.0714, 0.0621, 0.0591,  ..., 0.0547, 0.0588, 0.0643]))\n",
      "GAN Test Values:  ComparisonValues(ACC=tensor(0.7527), BAC=tensor(0.5000), MCC=0.01, predicted_labels=tensor([0.4956, 0.4956, 0.4956,  ..., 0.4956, 0.4956, 0.4956]))\n"
     ]
    },
    {
     "name": "stderr",
     "output_type": "stream",
     "text": [
      "/Users/alexi/Library/CloudStorage/OneDrive-Nexus365/Rotation Projects/Rotation_1/Project/DomAdpQSAR/DomAdpQSAR/presentation.py:36: UserWarning: Dataset has 0 variance; skipping density estimate. Pass `warn_singular=False` to disable this warning.\n",
      "  axes = sns.kdeplot(unlabeled_predictions, ax=axes, color=sns.color_palette()[1], bw_method=bandwidth,\n",
      "/Users/alexi/Library/CloudStorage/OneDrive-Nexus365/Rotation Projects/Rotation_1/Project/DomAdpQSAR/DomAdpQSAR/presentation.py:38: UserWarning: Dataset has 0 variance; skipping density estimate. Pass `warn_singular=False` to disable this warning.\n",
      "  axes = sns.kdeplot(test_predictions, ax=axes, color=sns.color_palette()[2], bw_method=bandwidth,\n",
      "/Users/alexi/Library/CloudStorage/OneDrive-Nexus365/Rotation Projects/Rotation_1/Project/DomAdpQSAR/DomAdpQSAR/presentation.py:40: UserWarning: Dataset has 0 variance; skipping density estimate. Pass `warn_singular=False` to disable this warning.\n",
      "  axes = sns.kdeplot(train_predictions, ax=axes, color=sns.color_palette()[2], linewidth=0.5, bw_method=bandwidth,\n"
     ]
    },
    {
     "name": "stdout",
     "output_type": "stream",
     "text": [
      "Step 525, 0:00:05.773270...ize([1000, 2048])DNN Test Values:  ComparisonValues(ACC=tensor(0.8554), BAC=tensor(0.7890), MCC=tensor(0.5994), predicted_labels=tensor([0.8322, 0.0682, 0.0607,  ..., 0.0628, 0.0776, 0.0588]))\n",
      "GAN Test Values:  ComparisonValues(ACC=tensor(0.7527), BAC=tensor(0.5000), MCC=0.01, predicted_labels=tensor([0.4955, 0.4955, 0.4955,  ..., 0.4955, 0.4955, 0.4955]))\n"
     ]
    },
    {
     "name": "stderr",
     "output_type": "stream",
     "text": [
      "/Users/alexi/Library/CloudStorage/OneDrive-Nexus365/Rotation Projects/Rotation_1/Project/DomAdpQSAR/DomAdpQSAR/presentation.py:36: UserWarning: Dataset has 0 variance; skipping density estimate. Pass `warn_singular=False` to disable this warning.\n",
      "  axes = sns.kdeplot(unlabeled_predictions, ax=axes, color=sns.color_palette()[1], bw_method=bandwidth,\n",
      "/Users/alexi/Library/CloudStorage/OneDrive-Nexus365/Rotation Projects/Rotation_1/Project/DomAdpQSAR/DomAdpQSAR/presentation.py:38: UserWarning: Dataset has 0 variance; skipping density estimate. Pass `warn_singular=False` to disable this warning.\n",
      "  axes = sns.kdeplot(test_predictions, ax=axes, color=sns.color_palette()[2], bw_method=bandwidth,\n",
      "/Users/alexi/Library/CloudStorage/OneDrive-Nexus365/Rotation Projects/Rotation_1/Project/DomAdpQSAR/DomAdpQSAR/presentation.py:40: UserWarning: Dataset has 0 variance; skipping density estimate. Pass `warn_singular=False` to disable this warning.\n",
      "  axes = sns.kdeplot(train_predictions, ax=axes, color=sns.color_palette()[2], linewidth=0.5, bw_method=bandwidth,\n"
     ]
    },
    {
     "name": "stdout",
     "output_type": "stream",
     "text": [
      "Step 532, 0:00:10.847224...ize([1000, 2048])DNN Test Values:  ComparisonValues(ACC=tensor(0.8540), BAC=tensor(0.7859), MCC=tensor(0.5948), predicted_labels=tensor([0.0698, 0.0610, 0.0927,  ..., 0.0625, 0.0543, 0.0558]))\n",
      "GAN Test Values:  ComparisonValues(ACC=tensor(0.7527), BAC=tensor(0.5000), MCC=0.01, predicted_labels=tensor([0.4954, 0.4954, 0.4954,  ..., 0.4954, 0.4954, 0.4954]))\n"
     ]
    },
    {
     "name": "stderr",
     "output_type": "stream",
     "text": [
      "/Users/alexi/Library/CloudStorage/OneDrive-Nexus365/Rotation Projects/Rotation_1/Project/DomAdpQSAR/DomAdpQSAR/presentation.py:36: UserWarning: Dataset has 0 variance; skipping density estimate. Pass `warn_singular=False` to disable this warning.\n",
      "  axes = sns.kdeplot(unlabeled_predictions, ax=axes, color=sns.color_palette()[1], bw_method=bandwidth,\n",
      "/Users/alexi/Library/CloudStorage/OneDrive-Nexus365/Rotation Projects/Rotation_1/Project/DomAdpQSAR/DomAdpQSAR/presentation.py:38: UserWarning: Dataset has 0 variance; skipping density estimate. Pass `warn_singular=False` to disable this warning.\n",
      "  axes = sns.kdeplot(test_predictions, ax=axes, color=sns.color_palette()[2], bw_method=bandwidth,\n",
      "/Users/alexi/Library/CloudStorage/OneDrive-Nexus365/Rotation Projects/Rotation_1/Project/DomAdpQSAR/DomAdpQSAR/presentation.py:40: UserWarning: Dataset has 0 variance; skipping density estimate. Pass `warn_singular=False` to disable this warning.\n",
      "  axes = sns.kdeplot(train_predictions, ax=axes, color=sns.color_palette()[2], linewidth=0.5, bw_method=bandwidth,\n"
     ]
    },
    {
     "name": "stdout",
     "output_type": "stream",
     "text": [
      "Step 539, 0:00:07.309752...ize([1000, 2048])DNN Test Values:  ComparisonValues(ACC=tensor(0.8563), BAC=tensor(0.7847), MCC=tensor(0.5985), predicted_labels=tensor([0.9572, 0.0532, 0.9216,  ..., 0.5546, 0.0812, 0.0571]))\n",
      "GAN Test Values:  ComparisonValues(ACC=tensor(0.7527), BAC=tensor(0.5000), MCC=0.01, predicted_labels=tensor([0.4953, 0.4953, 0.4953,  ..., 0.4953, 0.4953, 0.4953]))\n"
     ]
    },
    {
     "name": "stderr",
     "output_type": "stream",
     "text": [
      "/Users/alexi/Library/CloudStorage/OneDrive-Nexus365/Rotation Projects/Rotation_1/Project/DomAdpQSAR/DomAdpQSAR/presentation.py:36: UserWarning: Dataset has 0 variance; skipping density estimate. Pass `warn_singular=False` to disable this warning.\n",
      "  axes = sns.kdeplot(unlabeled_predictions, ax=axes, color=sns.color_palette()[1], bw_method=bandwidth,\n",
      "/Users/alexi/Library/CloudStorage/OneDrive-Nexus365/Rotation Projects/Rotation_1/Project/DomAdpQSAR/DomAdpQSAR/presentation.py:38: UserWarning: Dataset has 0 variance; skipping density estimate. Pass `warn_singular=False` to disable this warning.\n",
      "  axes = sns.kdeplot(test_predictions, ax=axes, color=sns.color_palette()[2], bw_method=bandwidth,\n",
      "/Users/alexi/Library/CloudStorage/OneDrive-Nexus365/Rotation Projects/Rotation_1/Project/DomAdpQSAR/DomAdpQSAR/presentation.py:40: UserWarning: Dataset has 0 variance; skipping density estimate. Pass `warn_singular=False` to disable this warning.\n",
      "  axes = sns.kdeplot(train_predictions, ax=axes, color=sns.color_palette()[2], linewidth=0.5, bw_method=bandwidth,\n"
     ]
    },
    {
     "name": "stdout",
     "output_type": "stream",
     "text": [
      "Step 546, 0:00:06.270664...ize([1000, 2048])DNN Test Values:  ComparisonValues(ACC=tensor(0.8558), BAC=tensor(0.7825), MCC=tensor(0.5962), predicted_labels=tensor([0.0558, 0.9476, 0.0509,  ..., 0.9116, 0.0674, 0.0614]))\n",
      "GAN Test Values:  ComparisonValues(ACC=tensor(0.7527), BAC=tensor(0.5000), MCC=0.01, predicted_labels=tensor([0.4953, 0.4953, 0.4953,  ..., 0.4953, 0.4953, 0.4953]))\n"
     ]
    },
    {
     "name": "stderr",
     "output_type": "stream",
     "text": [
      "/Users/alexi/Library/CloudStorage/OneDrive-Nexus365/Rotation Projects/Rotation_1/Project/DomAdpQSAR/DomAdpQSAR/presentation.py:36: UserWarning: Dataset has 0 variance; skipping density estimate. Pass `warn_singular=False` to disable this warning.\n",
      "  axes = sns.kdeplot(unlabeled_predictions, ax=axes, color=sns.color_palette()[1], bw_method=bandwidth,\n",
      "/Users/alexi/Library/CloudStorage/OneDrive-Nexus365/Rotation Projects/Rotation_1/Project/DomAdpQSAR/DomAdpQSAR/presentation.py:38: UserWarning: Dataset has 0 variance; skipping density estimate. Pass `warn_singular=False` to disable this warning.\n",
      "  axes = sns.kdeplot(test_predictions, ax=axes, color=sns.color_palette()[2], bw_method=bandwidth,\n",
      "/Users/alexi/Library/CloudStorage/OneDrive-Nexus365/Rotation Projects/Rotation_1/Project/DomAdpQSAR/DomAdpQSAR/presentation.py:40: UserWarning: Dataset has 0 variance; skipping density estimate. Pass `warn_singular=False` to disable this warning.\n",
      "  axes = sns.kdeplot(train_predictions, ax=axes, color=sns.color_palette()[2], linewidth=0.5, bw_method=bandwidth,\n"
     ]
    },
    {
     "name": "stdout",
     "output_type": "stream",
     "text": [
      "Step 553, 0:00:06.947645...ize([1000, 2048])DNN Test Values:  ComparisonValues(ACC=tensor(0.8535), BAC=tensor(0.7767), MCC=tensor(0.5881), predicted_labels=tensor([0.0536, 0.9477, 0.0579,  ..., 0.0683, 0.0532, 0.9544]))\n",
      "GAN Test Values:  ComparisonValues(ACC=tensor(0.7527), BAC=tensor(0.5000), MCC=0.01, predicted_labels=tensor([0.4953, 0.4953, 0.4953,  ..., 0.4953, 0.4953, 0.4953]))\n"
     ]
    },
    {
     "name": "stderr",
     "output_type": "stream",
     "text": [
      "/Users/alexi/Library/CloudStorage/OneDrive-Nexus365/Rotation Projects/Rotation_1/Project/DomAdpQSAR/DomAdpQSAR/presentation.py:36: UserWarning: Dataset has 0 variance; skipping density estimate. Pass `warn_singular=False` to disable this warning.\n",
      "  axes = sns.kdeplot(unlabeled_predictions, ax=axes, color=sns.color_palette()[1], bw_method=bandwidth,\n",
      "/Users/alexi/Library/CloudStorage/OneDrive-Nexus365/Rotation Projects/Rotation_1/Project/DomAdpQSAR/DomAdpQSAR/presentation.py:38: UserWarning: Dataset has 0 variance; skipping density estimate. Pass `warn_singular=False` to disable this warning.\n",
      "  axes = sns.kdeplot(test_predictions, ax=axes, color=sns.color_palette()[2], bw_method=bandwidth,\n",
      "/Users/alexi/Library/CloudStorage/OneDrive-Nexus365/Rotation Projects/Rotation_1/Project/DomAdpQSAR/DomAdpQSAR/presentation.py:40: UserWarning: Dataset has 0 variance; skipping density estimate. Pass `warn_singular=False` to disable this warning.\n",
      "  axes = sns.kdeplot(train_predictions, ax=axes, color=sns.color_palette()[2], linewidth=0.5, bw_method=bandwidth,\n"
     ]
    },
    {
     "name": "stdout",
     "output_type": "stream",
     "text": [
      "Step 560, 0:00:06.344094...ize([1000, 2048])DNN Test Values:  ComparisonValues(ACC=tensor(0.8522), BAC=tensor(0.7736), MCC=tensor(0.5834), predicted_labels=tensor([0.0564, 0.0604, 0.0495,  ..., 0.0568, 0.0668, 0.9608]))\n",
      "GAN Test Values:  ComparisonValues(ACC=tensor(0.7527), BAC=tensor(0.5000), MCC=0.01, predicted_labels=tensor([0.4952, 0.4952, 0.4952,  ..., 0.4952, 0.4952, 0.4952]))\n"
     ]
    },
    {
     "name": "stderr",
     "output_type": "stream",
     "text": [
      "/Users/alexi/Library/CloudStorage/OneDrive-Nexus365/Rotation Projects/Rotation_1/Project/DomAdpQSAR/DomAdpQSAR/presentation.py:36: UserWarning: Dataset has 0 variance; skipping density estimate. Pass `warn_singular=False` to disable this warning.\n",
      "  axes = sns.kdeplot(unlabeled_predictions, ax=axes, color=sns.color_palette()[1], bw_method=bandwidth,\n",
      "/Users/alexi/Library/CloudStorage/OneDrive-Nexus365/Rotation Projects/Rotation_1/Project/DomAdpQSAR/DomAdpQSAR/presentation.py:38: UserWarning: Dataset has 0 variance; skipping density estimate. Pass `warn_singular=False` to disable this warning.\n",
      "  axes = sns.kdeplot(test_predictions, ax=axes, color=sns.color_palette()[2], bw_method=bandwidth,\n",
      "/Users/alexi/Library/CloudStorage/OneDrive-Nexus365/Rotation Projects/Rotation_1/Project/DomAdpQSAR/DomAdpQSAR/presentation.py:40: UserWarning: Dataset has 0 variance; skipping density estimate. Pass `warn_singular=False` to disable this warning.\n",
      "  axes = sns.kdeplot(train_predictions, ax=axes, color=sns.color_palette()[2], linewidth=0.5, bw_method=bandwidth,\n"
     ]
    },
    {
     "name": "stdout",
     "output_type": "stream",
     "text": [
      "Step 567, 0:00:06.579683...ize([1000, 2048])DNN Test Values:  ComparisonValues(ACC=tensor(0.8533), BAC=tensor(0.7743), MCC=tensor(0.5863), predicted_labels=tensor([0.0678, 0.0742, 0.0571,  ..., 0.0577, 0.9589, 0.0514]))\n",
      "GAN Test Values:  ComparisonValues(ACC=tensor(0.7527), BAC=tensor(0.5000), MCC=0.01, predicted_labels=tensor([0.4951, 0.4951, 0.4951,  ..., 0.4951, 0.4951, 0.4951]))\n"
     ]
    },
    {
     "name": "stderr",
     "output_type": "stream",
     "text": [
      "/Users/alexi/Library/CloudStorage/OneDrive-Nexus365/Rotation Projects/Rotation_1/Project/DomAdpQSAR/DomAdpQSAR/presentation.py:36: UserWarning: Dataset has 0 variance; skipping density estimate. Pass `warn_singular=False` to disable this warning.\n",
      "  axes = sns.kdeplot(unlabeled_predictions, ax=axes, color=sns.color_palette()[1], bw_method=bandwidth,\n",
      "/Users/alexi/Library/CloudStorage/OneDrive-Nexus365/Rotation Projects/Rotation_1/Project/DomAdpQSAR/DomAdpQSAR/presentation.py:38: UserWarning: Dataset has 0 variance; skipping density estimate. Pass `warn_singular=False` to disable this warning.\n",
      "  axes = sns.kdeplot(test_predictions, ax=axes, color=sns.color_palette()[2], bw_method=bandwidth,\n",
      "/Users/alexi/Library/CloudStorage/OneDrive-Nexus365/Rotation Projects/Rotation_1/Project/DomAdpQSAR/DomAdpQSAR/presentation.py:40: UserWarning: Dataset has 0 variance; skipping density estimate. Pass `warn_singular=False` to disable this warning.\n",
      "  axes = sns.kdeplot(train_predictions, ax=axes, color=sns.color_palette()[2], linewidth=0.5, bw_method=bandwidth,\n"
     ]
    },
    {
     "name": "stdout",
     "output_type": "stream",
     "text": [
      "Step 574, 0:00:05.867557...ize([1000, 2048])DNN Test Values:  ComparisonValues(ACC=tensor(0.8538), BAC=tensor(0.7777), MCC=tensor(0.5892), predicted_labels=tensor([0.2442, 0.0818, 0.0569,  ..., 0.0598, 0.9557, 0.0509]))\n",
      "GAN Test Values:  ComparisonValues(ACC=tensor(0.7527), BAC=tensor(0.5000), MCC=0.01, predicted_labels=tensor([0.4950, 0.4950, 0.4950,  ..., 0.4950, 0.4950, 0.4950]))\n"
     ]
    },
    {
     "name": "stderr",
     "output_type": "stream",
     "text": [
      "/Users/alexi/Library/CloudStorage/OneDrive-Nexus365/Rotation Projects/Rotation_1/Project/DomAdpQSAR/DomAdpQSAR/presentation.py:36: UserWarning: Dataset has 0 variance; skipping density estimate. Pass `warn_singular=False` to disable this warning.\n",
      "  axes = sns.kdeplot(unlabeled_predictions, ax=axes, color=sns.color_palette()[1], bw_method=bandwidth,\n",
      "/Users/alexi/Library/CloudStorage/OneDrive-Nexus365/Rotation Projects/Rotation_1/Project/DomAdpQSAR/DomAdpQSAR/presentation.py:38: UserWarning: Dataset has 0 variance; skipping density estimate. Pass `warn_singular=False` to disable this warning.\n",
      "  axes = sns.kdeplot(test_predictions, ax=axes, color=sns.color_palette()[2], bw_method=bandwidth,\n",
      "/Users/alexi/Library/CloudStorage/OneDrive-Nexus365/Rotation Projects/Rotation_1/Project/DomAdpQSAR/DomAdpQSAR/presentation.py:40: UserWarning: Dataset has 0 variance; skipping density estimate. Pass `warn_singular=False` to disable this warning.\n",
      "  axes = sns.kdeplot(train_predictions, ax=axes, color=sns.color_palette()[2], linewidth=0.5, bw_method=bandwidth,\n"
     ]
    },
    {
     "name": "stdout",
     "output_type": "stream",
     "text": [
      "Step 581, 0:00:06.776968...ize([1000, 2048])DNN Test Values:  ComparisonValues(ACC=tensor(0.8519), BAC=tensor(0.7799), MCC=tensor(0.5869), predicted_labels=tensor([0.0529, 0.0480, 0.0774,  ..., 0.0535, 0.0600, 0.0565]))\n",
      "GAN Test Values:  ComparisonValues(ACC=tensor(0.7527), BAC=tensor(0.5000), MCC=0.01, predicted_labels=tensor([0.4949, 0.4949, 0.4949,  ..., 0.4949, 0.4949, 0.4949]))\n"
     ]
    },
    {
     "name": "stderr",
     "output_type": "stream",
     "text": [
      "/Users/alexi/Library/CloudStorage/OneDrive-Nexus365/Rotation Projects/Rotation_1/Project/DomAdpQSAR/DomAdpQSAR/presentation.py:36: UserWarning: Dataset has 0 variance; skipping density estimate. Pass `warn_singular=False` to disable this warning.\n",
      "  axes = sns.kdeplot(unlabeled_predictions, ax=axes, color=sns.color_palette()[1], bw_method=bandwidth,\n",
      "/Users/alexi/Library/CloudStorage/OneDrive-Nexus365/Rotation Projects/Rotation_1/Project/DomAdpQSAR/DomAdpQSAR/presentation.py:38: UserWarning: Dataset has 0 variance; skipping density estimate. Pass `warn_singular=False` to disable this warning.\n",
      "  axes = sns.kdeplot(test_predictions, ax=axes, color=sns.color_palette()[2], bw_method=bandwidth,\n",
      "/Users/alexi/Library/CloudStorage/OneDrive-Nexus365/Rotation Projects/Rotation_1/Project/DomAdpQSAR/DomAdpQSAR/presentation.py:40: UserWarning: Dataset has 0 variance; skipping density estimate. Pass `warn_singular=False` to disable this warning.\n",
      "  axes = sns.kdeplot(train_predictions, ax=axes, color=sns.color_palette()[2], linewidth=0.5, bw_method=bandwidth,\n"
     ]
    },
    {
     "name": "stdout",
     "output_type": "stream",
     "text": [
      "Step 588, 0:00:06.891171...ize([1000, 2048])DNN Test Values:  ComparisonValues(ACC=tensor(0.8531), BAC=tensor(0.7813), MCC=tensor(0.5900), predicted_labels=tensor([0.8936, 0.0484, 0.0506,  ..., 0.0530, 0.0727, 0.2843]))\n",
      "GAN Test Values:  ComparisonValues(ACC=tensor(0.7527), BAC=tensor(0.5000), MCC=0.01, predicted_labels=tensor([0.4948, 0.4948, 0.4948,  ..., 0.4948, 0.4948, 0.4948]))\n"
     ]
    },
    {
     "name": "stderr",
     "output_type": "stream",
     "text": [
      "/Users/alexi/Library/CloudStorage/OneDrive-Nexus365/Rotation Projects/Rotation_1/Project/DomAdpQSAR/DomAdpQSAR/presentation.py:36: UserWarning: Dataset has 0 variance; skipping density estimate. Pass `warn_singular=False` to disable this warning.\n",
      "  axes = sns.kdeplot(unlabeled_predictions, ax=axes, color=sns.color_palette()[1], bw_method=bandwidth,\n",
      "/Users/alexi/Library/CloudStorage/OneDrive-Nexus365/Rotation Projects/Rotation_1/Project/DomAdpQSAR/DomAdpQSAR/presentation.py:38: UserWarning: Dataset has 0 variance; skipping density estimate. Pass `warn_singular=False` to disable this warning.\n",
      "  axes = sns.kdeplot(test_predictions, ax=axes, color=sns.color_palette()[2], bw_method=bandwidth,\n",
      "/Users/alexi/Library/CloudStorage/OneDrive-Nexus365/Rotation Projects/Rotation_1/Project/DomAdpQSAR/DomAdpQSAR/presentation.py:40: UserWarning: Dataset has 0 variance; skipping density estimate. Pass `warn_singular=False` to disable this warning.\n",
      "  axes = sns.kdeplot(train_predictions, ax=axes, color=sns.color_palette()[2], linewidth=0.5, bw_method=bandwidth,\n"
     ]
    },
    {
     "name": "stdout",
     "output_type": "stream",
     "text": [
      "Step 595, 0:00:06.607667...ize([1000, 2048])DNN Test Values:  ComparisonValues(ACC=tensor(0.8542), BAC=tensor(0.7836), MCC=tensor(0.5937), predicted_labels=tensor([0.0534, 0.0513, 0.0564,  ..., 0.0534, 0.0558, 0.9607]))\n",
      "GAN Test Values:  ComparisonValues(ACC=tensor(0.7527), BAC=tensor(0.5000), MCC=0.01, predicted_labels=tensor([0.4948, 0.4948, 0.4948,  ..., 0.4948, 0.4948, 0.4948]))\n"
     ]
    },
    {
     "name": "stderr",
     "output_type": "stream",
     "text": [
      "/Users/alexi/Library/CloudStorage/OneDrive-Nexus365/Rotation Projects/Rotation_1/Project/DomAdpQSAR/DomAdpQSAR/presentation.py:36: UserWarning: Dataset has 0 variance; skipping density estimate. Pass `warn_singular=False` to disable this warning.\n",
      "  axes = sns.kdeplot(unlabeled_predictions, ax=axes, color=sns.color_palette()[1], bw_method=bandwidth,\n",
      "/Users/alexi/Library/CloudStorage/OneDrive-Nexus365/Rotation Projects/Rotation_1/Project/DomAdpQSAR/DomAdpQSAR/presentation.py:38: UserWarning: Dataset has 0 variance; skipping density estimate. Pass `warn_singular=False` to disable this warning.\n",
      "  axes = sns.kdeplot(test_predictions, ax=axes, color=sns.color_palette()[2], bw_method=bandwidth,\n",
      "/Users/alexi/Library/CloudStorage/OneDrive-Nexus365/Rotation Projects/Rotation_1/Project/DomAdpQSAR/DomAdpQSAR/presentation.py:40: UserWarning: Dataset has 0 variance; skipping density estimate. Pass `warn_singular=False` to disable this warning.\n",
      "  axes = sns.kdeplot(train_predictions, ax=axes, color=sns.color_palette()[2], linewidth=0.5, bw_method=bandwidth,\n"
     ]
    },
    {
     "name": "stdout",
     "output_type": "stream",
     "text": [
      "Step 602, 0:00:07.056769...ize([1000, 2048])DNN Test Values:  ComparisonValues(ACC=tensor(0.8533), BAC=tensor(0.7833), MCC=tensor(0.5918), predicted_labels=tensor([0.0522, 0.9615, 0.0866,  ..., 0.0541, 0.9617, 0.9335]))\n",
      "GAN Test Values:  ComparisonValues(ACC=tensor(0.7527), BAC=tensor(0.5000), MCC=0.01, predicted_labels=tensor([0.4947, 0.4947, 0.4947,  ..., 0.4947, 0.4947, 0.4947]))\n"
     ]
    },
    {
     "name": "stderr",
     "output_type": "stream",
     "text": [
      "/Users/alexi/Library/CloudStorage/OneDrive-Nexus365/Rotation Projects/Rotation_1/Project/DomAdpQSAR/DomAdpQSAR/presentation.py:36: UserWarning: Dataset has 0 variance; skipping density estimate. Pass `warn_singular=False` to disable this warning.\n",
      "  axes = sns.kdeplot(unlabeled_predictions, ax=axes, color=sns.color_palette()[1], bw_method=bandwidth,\n",
      "/Users/alexi/Library/CloudStorage/OneDrive-Nexus365/Rotation Projects/Rotation_1/Project/DomAdpQSAR/DomAdpQSAR/presentation.py:38: UserWarning: Dataset has 0 variance; skipping density estimate. Pass `warn_singular=False` to disable this warning.\n",
      "  axes = sns.kdeplot(test_predictions, ax=axes, color=sns.color_palette()[2], bw_method=bandwidth,\n",
      "/Users/alexi/Library/CloudStorage/OneDrive-Nexus365/Rotation Projects/Rotation_1/Project/DomAdpQSAR/DomAdpQSAR/presentation.py:40: UserWarning: Dataset has 0 variance; skipping density estimate. Pass `warn_singular=False` to disable this warning.\n",
      "  axes = sns.kdeplot(train_predictions, ax=axes, color=sns.color_palette()[2], linewidth=0.5, bw_method=bandwidth,\n"
     ]
    },
    {
     "name": "stdout",
     "output_type": "stream",
     "text": [
      "Step 609, 0:00:06.172702...ize([1000, 2048])DNN Test Values:  ComparisonValues(ACC=tensor(0.8528), BAC=tensor(0.7852), MCC=tensor(0.5921), predicted_labels=tensor([0.8016, 0.0496, 0.9606,  ..., 0.0575, 0.2861, 0.3976]))\n",
      "GAN Test Values:  ComparisonValues(ACC=tensor(0.7527), BAC=tensor(0.5000), MCC=0.01, predicted_labels=tensor([0.4946, 0.4946, 0.4946,  ..., 0.4946, 0.4946, 0.4946]))\n"
     ]
    },
    {
     "name": "stderr",
     "output_type": "stream",
     "text": [
      "/Users/alexi/Library/CloudStorage/OneDrive-Nexus365/Rotation Projects/Rotation_1/Project/DomAdpQSAR/DomAdpQSAR/presentation.py:36: UserWarning: Dataset has 0 variance; skipping density estimate. Pass `warn_singular=False` to disable this warning.\n",
      "  axes = sns.kdeplot(unlabeled_predictions, ax=axes, color=sns.color_palette()[1], bw_method=bandwidth,\n",
      "/Users/alexi/Library/CloudStorage/OneDrive-Nexus365/Rotation Projects/Rotation_1/Project/DomAdpQSAR/DomAdpQSAR/presentation.py:38: UserWarning: Dataset has 0 variance; skipping density estimate. Pass `warn_singular=False` to disable this warning.\n",
      "  axes = sns.kdeplot(test_predictions, ax=axes, color=sns.color_palette()[2], bw_method=bandwidth,\n",
      "/Users/alexi/Library/CloudStorage/OneDrive-Nexus365/Rotation Projects/Rotation_1/Project/DomAdpQSAR/DomAdpQSAR/presentation.py:40: UserWarning: Dataset has 0 variance; skipping density estimate. Pass `warn_singular=False` to disable this warning.\n",
      "  axes = sns.kdeplot(train_predictions, ax=axes, color=sns.color_palette()[2], linewidth=0.5, bw_method=bandwidth,\n"
     ]
    },
    {
     "name": "stdout",
     "output_type": "stream",
     "text": [
      "Step 616, 0:00:06.571673...ize([1000, 2048])DNN Test Values:  ComparisonValues(ACC=tensor(0.8510), BAC=tensor(0.7827), MCC=tensor(0.5870), predicted_labels=tensor([0.0462, 0.0497, 0.9647,  ..., 0.0465, 0.0433, 0.0536]))\n",
      "GAN Test Values:  ComparisonValues(ACC=tensor(0.7527), BAC=tensor(0.5000), MCC=0.01, predicted_labels=tensor([0.4945, 0.4945, 0.4945,  ..., 0.4945, 0.4945, 0.4945]))\n"
     ]
    },
    {
     "name": "stderr",
     "output_type": "stream",
     "text": [
      "/Users/alexi/Library/CloudStorage/OneDrive-Nexus365/Rotation Projects/Rotation_1/Project/DomAdpQSAR/DomAdpQSAR/presentation.py:36: UserWarning: Dataset has 0 variance; skipping density estimate. Pass `warn_singular=False` to disable this warning.\n",
      "  axes = sns.kdeplot(unlabeled_predictions, ax=axes, color=sns.color_palette()[1], bw_method=bandwidth,\n",
      "/Users/alexi/Library/CloudStorage/OneDrive-Nexus365/Rotation Projects/Rotation_1/Project/DomAdpQSAR/DomAdpQSAR/presentation.py:38: UserWarning: Dataset has 0 variance; skipping density estimate. Pass `warn_singular=False` to disable this warning.\n",
      "  axes = sns.kdeplot(test_predictions, ax=axes, color=sns.color_palette()[2], bw_method=bandwidth,\n",
      "/Users/alexi/Library/CloudStorage/OneDrive-Nexus365/Rotation Projects/Rotation_1/Project/DomAdpQSAR/DomAdpQSAR/presentation.py:40: UserWarning: Dataset has 0 variance; skipping density estimate. Pass `warn_singular=False` to disable this warning.\n",
      "  axes = sns.kdeplot(train_predictions, ax=axes, color=sns.color_palette()[2], linewidth=0.5, bw_method=bandwidth,\n"
     ]
    },
    {
     "name": "stdout",
     "output_type": "stream",
     "text": [
      "Step 623, 0:00:06.656044...ize([1000, 2048])DNN Test Values:  ComparisonValues(ACC=tensor(0.8515), BAC=tensor(0.7840), MCC=tensor(0.5887), predicted_labels=tensor([0.0507, 0.0438, 0.0992,  ..., 0.9661, 0.0489, 0.0579]))\n",
      "GAN Test Values:  ComparisonValues(ACC=tensor(0.7527), BAC=tensor(0.5000), MCC=0.01, predicted_labels=tensor([0.4944, 0.4944, 0.4944,  ..., 0.4944, 0.4944, 0.4944]))\n"
     ]
    },
    {
     "name": "stderr",
     "output_type": "stream",
     "text": [
      "/Users/alexi/Library/CloudStorage/OneDrive-Nexus365/Rotation Projects/Rotation_1/Project/DomAdpQSAR/DomAdpQSAR/presentation.py:36: UserWarning: Dataset has 0 variance; skipping density estimate. Pass `warn_singular=False` to disable this warning.\n",
      "  axes = sns.kdeplot(unlabeled_predictions, ax=axes, color=sns.color_palette()[1], bw_method=bandwidth,\n",
      "/Users/alexi/Library/CloudStorage/OneDrive-Nexus365/Rotation Projects/Rotation_1/Project/DomAdpQSAR/DomAdpQSAR/presentation.py:38: UserWarning: Dataset has 0 variance; skipping density estimate. Pass `warn_singular=False` to disable this warning.\n",
      "  axes = sns.kdeplot(test_predictions, ax=axes, color=sns.color_palette()[2], bw_method=bandwidth,\n",
      "/Users/alexi/Library/CloudStorage/OneDrive-Nexus365/Rotation Projects/Rotation_1/Project/DomAdpQSAR/DomAdpQSAR/presentation.py:40: UserWarning: Dataset has 0 variance; skipping density estimate. Pass `warn_singular=False` to disable this warning.\n",
      "  axes = sns.kdeplot(train_predictions, ax=axes, color=sns.color_palette()[2], linewidth=0.5, bw_method=bandwidth,\n"
     ]
    },
    {
     "name": "stdout",
     "output_type": "stream",
     "text": [
      "Step 630, 0:00:06.390891...ize([1000, 2048])DNN Test Values:  ComparisonValues(ACC=tensor(0.8501), BAC=tensor(0.7778), MCC=tensor(0.5820), predicted_labels=tensor([0.0931, 0.9658, 0.9492,  ..., 0.0540, 0.6149, 0.9603]))\n",
      "GAN Test Values:  ComparisonValues(ACC=tensor(0.7527), BAC=tensor(0.5000), MCC=0.01, predicted_labels=tensor([0.4944, 0.4944, 0.4944,  ..., 0.4944, 0.4944, 0.4944]))\n"
     ]
    },
    {
     "name": "stderr",
     "output_type": "stream",
     "text": [
      "/Users/alexi/Library/CloudStorage/OneDrive-Nexus365/Rotation Projects/Rotation_1/Project/DomAdpQSAR/DomAdpQSAR/presentation.py:36: UserWarning: Dataset has 0 variance; skipping density estimate. Pass `warn_singular=False` to disable this warning.\n",
      "  axes = sns.kdeplot(unlabeled_predictions, ax=axes, color=sns.color_palette()[1], bw_method=bandwidth,\n",
      "/Users/alexi/Library/CloudStorage/OneDrive-Nexus365/Rotation Projects/Rotation_1/Project/DomAdpQSAR/DomAdpQSAR/presentation.py:38: UserWarning: Dataset has 0 variance; skipping density estimate. Pass `warn_singular=False` to disable this warning.\n",
      "  axes = sns.kdeplot(test_predictions, ax=axes, color=sns.color_palette()[2], bw_method=bandwidth,\n",
      "/Users/alexi/Library/CloudStorage/OneDrive-Nexus365/Rotation Projects/Rotation_1/Project/DomAdpQSAR/DomAdpQSAR/presentation.py:40: UserWarning: Dataset has 0 variance; skipping density estimate. Pass `warn_singular=False` to disable this warning.\n",
      "  axes = sns.kdeplot(train_predictions, ax=axes, color=sns.color_palette()[2], linewidth=0.5, bw_method=bandwidth,\n"
     ]
    },
    {
     "name": "stdout",
     "output_type": "stream",
     "text": [
      "Step 637, 0:00:06.051009...ize([1000, 2048])DNN Test Values:  ComparisonValues(ACC=tensor(0.8496), BAC=tensor(0.7775), MCC=tensor(0.5809), predicted_labels=tensor([0.0951, 0.0483, 0.0431,  ..., 0.0400, 0.0465, 0.0495]))\n",
      "GAN Test Values:  ComparisonValues(ACC=tensor(0.7527), BAC=tensor(0.5000), MCC=0.01, predicted_labels=tensor([0.4943, 0.4943, 0.4943,  ..., 0.4943, 0.4943, 0.4943]))\n"
     ]
    },
    {
     "name": "stderr",
     "output_type": "stream",
     "text": [
      "/Users/alexi/Library/CloudStorage/OneDrive-Nexus365/Rotation Projects/Rotation_1/Project/DomAdpQSAR/DomAdpQSAR/presentation.py:36: UserWarning: Dataset has 0 variance; skipping density estimate. Pass `warn_singular=False` to disable this warning.\n",
      "  axes = sns.kdeplot(unlabeled_predictions, ax=axes, color=sns.color_palette()[1], bw_method=bandwidth,\n",
      "/Users/alexi/Library/CloudStorage/OneDrive-Nexus365/Rotation Projects/Rotation_1/Project/DomAdpQSAR/DomAdpQSAR/presentation.py:38: UserWarning: Dataset has 0 variance; skipping density estimate. Pass `warn_singular=False` to disable this warning.\n",
      "  axes = sns.kdeplot(test_predictions, ax=axes, color=sns.color_palette()[2], bw_method=bandwidth,\n",
      "/Users/alexi/Library/CloudStorage/OneDrive-Nexus365/Rotation Projects/Rotation_1/Project/DomAdpQSAR/DomAdpQSAR/presentation.py:40: UserWarning: Dataset has 0 variance; skipping density estimate. Pass `warn_singular=False` to disable this warning.\n",
      "  axes = sns.kdeplot(train_predictions, ax=axes, color=sns.color_palette()[2], linewidth=0.5, bw_method=bandwidth,\n"
     ]
    },
    {
     "name": "stdout",
     "output_type": "stream",
     "text": [
      "Step 644, 0:00:06.313327...ize([1000, 2048])DNN Test Values:  ComparisonValues(ACC=tensor(0.8499), BAC=tensor(0.7739), MCC=tensor(0.5790), predicted_labels=tensor([0.9623, 0.0430, 0.0421,  ..., 0.3669, 0.0460, 0.0964]))\n",
      "GAN Test Values:  ComparisonValues(ACC=tensor(0.7527), BAC=tensor(0.5000), MCC=0.01, predicted_labels=tensor([0.4942, 0.4942, 0.4942,  ..., 0.4942, 0.4942, 0.4942]))\n"
     ]
    },
    {
     "name": "stderr",
     "output_type": "stream",
     "text": [
      "/Users/alexi/Library/CloudStorage/OneDrive-Nexus365/Rotation Projects/Rotation_1/Project/DomAdpQSAR/DomAdpQSAR/presentation.py:36: UserWarning: Dataset has 0 variance; skipping density estimate. Pass `warn_singular=False` to disable this warning.\n",
      "  axes = sns.kdeplot(unlabeled_predictions, ax=axes, color=sns.color_palette()[1], bw_method=bandwidth,\n",
      "/Users/alexi/Library/CloudStorage/OneDrive-Nexus365/Rotation Projects/Rotation_1/Project/DomAdpQSAR/DomAdpQSAR/presentation.py:38: UserWarning: Dataset has 0 variance; skipping density estimate. Pass `warn_singular=False` to disable this warning.\n",
      "  axes = sns.kdeplot(test_predictions, ax=axes, color=sns.color_palette()[2], bw_method=bandwidth,\n",
      "/Users/alexi/Library/CloudStorage/OneDrive-Nexus365/Rotation Projects/Rotation_1/Project/DomAdpQSAR/DomAdpQSAR/presentation.py:40: UserWarning: Dataset has 0 variance; skipping density estimate. Pass `warn_singular=False` to disable this warning.\n",
      "  axes = sns.kdeplot(train_predictions, ax=axes, color=sns.color_palette()[2], linewidth=0.5, bw_method=bandwidth,\n"
     ]
    },
    {
     "name": "stdout",
     "output_type": "stream",
     "text": [
      "Step 651, 0:00:05.978402...ize([1000, 2048])DNN Test Values:  ComparisonValues(ACC=tensor(0.8492), BAC=tensor(0.7763), MCC=tensor(0.5792), predicted_labels=tensor([0.0412, 0.0494, 0.0481,  ..., 0.0478, 0.0473, 0.1188]))\n",
      "GAN Test Values:  ComparisonValues(ACC=tensor(0.7527), BAC=tensor(0.5000), MCC=0.01, predicted_labels=tensor([0.4942, 0.4942, 0.4942,  ..., 0.4942, 0.4942, 0.4942]))\n"
     ]
    },
    {
     "name": "stderr",
     "output_type": "stream",
     "text": [
      "/Users/alexi/Library/CloudStorage/OneDrive-Nexus365/Rotation Projects/Rotation_1/Project/DomAdpQSAR/DomAdpQSAR/presentation.py:36: UserWarning: Dataset has 0 variance; skipping density estimate. Pass `warn_singular=False` to disable this warning.\n",
      "  axes = sns.kdeplot(unlabeled_predictions, ax=axes, color=sns.color_palette()[1], bw_method=bandwidth,\n",
      "/Users/alexi/Library/CloudStorage/OneDrive-Nexus365/Rotation Projects/Rotation_1/Project/DomAdpQSAR/DomAdpQSAR/presentation.py:38: UserWarning: Dataset has 0 variance; skipping density estimate. Pass `warn_singular=False` to disable this warning.\n",
      "  axes = sns.kdeplot(test_predictions, ax=axes, color=sns.color_palette()[2], bw_method=bandwidth,\n",
      "/Users/alexi/Library/CloudStorage/OneDrive-Nexus365/Rotation Projects/Rotation_1/Project/DomAdpQSAR/DomAdpQSAR/presentation.py:40: UserWarning: Dataset has 0 variance; skipping density estimate. Pass `warn_singular=False` to disable this warning.\n",
      "  axes = sns.kdeplot(train_predictions, ax=axes, color=sns.color_palette()[2], linewidth=0.5, bw_method=bandwidth,\n"
     ]
    },
    {
     "name": "stdout",
     "output_type": "stream",
     "text": [
      "Step 658, 0:00:06.752969...ize([1000, 2048])DNN Test Values:  ComparisonValues(ACC=tensor(0.8510), BAC=tensor(0.7815), MCC=tensor(0.5862), predicted_labels=tensor([0.0535, 0.9409, 0.0483,  ..., 0.0419, 0.9692, 0.0507]))\n",
      "GAN Test Values:  ComparisonValues(ACC=tensor(0.7527), BAC=tensor(0.5000), MCC=0.01, predicted_labels=tensor([0.4941, 0.4941, 0.4941,  ..., 0.4941, 0.4941, 0.4941]))\n"
     ]
    },
    {
     "name": "stderr",
     "output_type": "stream",
     "text": [
      "/Users/alexi/Library/CloudStorage/OneDrive-Nexus365/Rotation Projects/Rotation_1/Project/DomAdpQSAR/DomAdpQSAR/presentation.py:36: UserWarning: Dataset has 0 variance; skipping density estimate. Pass `warn_singular=False` to disable this warning.\n",
      "  axes = sns.kdeplot(unlabeled_predictions, ax=axes, color=sns.color_palette()[1], bw_method=bandwidth,\n",
      "/Users/alexi/Library/CloudStorage/OneDrive-Nexus365/Rotation Projects/Rotation_1/Project/DomAdpQSAR/DomAdpQSAR/presentation.py:38: UserWarning: Dataset has 0 variance; skipping density estimate. Pass `warn_singular=False` to disable this warning.\n",
      "  axes = sns.kdeplot(test_predictions, ax=axes, color=sns.color_palette()[2], bw_method=bandwidth,\n",
      "/Users/alexi/Library/CloudStorage/OneDrive-Nexus365/Rotation Projects/Rotation_1/Project/DomAdpQSAR/DomAdpQSAR/presentation.py:40: UserWarning: Dataset has 0 variance; skipping density estimate. Pass `warn_singular=False` to disable this warning.\n",
      "  axes = sns.kdeplot(train_predictions, ax=axes, color=sns.color_palette()[2], linewidth=0.5, bw_method=bandwidth,\n"
     ]
    },
    {
     "name": "stdout",
     "output_type": "stream",
     "text": [
      "Step 665, 0:00:05.151555...ize([1000, 2048])DNN Test Values:  ComparisonValues(ACC=tensor(0.8490), BAC=tensor(0.7817), MCC=tensor(0.5825), predicted_labels=tensor([0.6751, 0.9598, 0.0400,  ..., 0.0843, 0.0415, 0.0403]))\n",
      "GAN Test Values:  ComparisonValues(ACC=tensor(0.7527), BAC=tensor(0.5000), MCC=0.01, predicted_labels=tensor([0.4941, 0.4941, 0.4941,  ..., 0.4941, 0.4941, 0.4941]))\n"
     ]
    },
    {
     "name": "stderr",
     "output_type": "stream",
     "text": [
      "/Users/alexi/Library/CloudStorage/OneDrive-Nexus365/Rotation Projects/Rotation_1/Project/DomAdpQSAR/DomAdpQSAR/presentation.py:36: UserWarning: Dataset has 0 variance; skipping density estimate. Pass `warn_singular=False` to disable this warning.\n",
      "  axes = sns.kdeplot(unlabeled_predictions, ax=axes, color=sns.color_palette()[1], bw_method=bandwidth,\n",
      "/Users/alexi/Library/CloudStorage/OneDrive-Nexus365/Rotation Projects/Rotation_1/Project/DomAdpQSAR/DomAdpQSAR/presentation.py:38: UserWarning: Dataset has 0 variance; skipping density estimate. Pass `warn_singular=False` to disable this warning.\n",
      "  axes = sns.kdeplot(test_predictions, ax=axes, color=sns.color_palette()[2], bw_method=bandwidth,\n",
      "/Users/alexi/Library/CloudStorage/OneDrive-Nexus365/Rotation Projects/Rotation_1/Project/DomAdpQSAR/DomAdpQSAR/presentation.py:40: UserWarning: Dataset has 0 variance; skipping density estimate. Pass `warn_singular=False` to disable this warning.\n",
      "  axes = sns.kdeplot(train_predictions, ax=axes, color=sns.color_palette()[2], linewidth=0.5, bw_method=bandwidth,\n"
     ]
    },
    {
     "name": "stdout",
     "output_type": "stream",
     "text": [
      "Step 672, 0:00:04.998819...ize([1000, 2048])DNN Test Values:  ComparisonValues(ACC=tensor(0.8506), BAC=tensor(0.7806), MCC=tensor(0.5847), predicted_labels=tensor([0.0407, 0.2746, 0.0406,  ..., 0.0518, 0.0585, 0.3549]))\n",
      "GAN Test Values:  ComparisonValues(ACC=tensor(0.7527), BAC=tensor(0.5000), MCC=0.01, predicted_labels=tensor([0.4940, 0.4940, 0.4940,  ..., 0.4940, 0.4940, 0.4940]))\n"
     ]
    },
    {
     "name": "stderr",
     "output_type": "stream",
     "text": [
      "/Users/alexi/Library/CloudStorage/OneDrive-Nexus365/Rotation Projects/Rotation_1/Project/DomAdpQSAR/DomAdpQSAR/presentation.py:36: UserWarning: Dataset has 0 variance; skipping density estimate. Pass `warn_singular=False` to disable this warning.\n",
      "  axes = sns.kdeplot(unlabeled_predictions, ax=axes, color=sns.color_palette()[1], bw_method=bandwidth,\n",
      "/Users/alexi/Library/CloudStorage/OneDrive-Nexus365/Rotation Projects/Rotation_1/Project/DomAdpQSAR/DomAdpQSAR/presentation.py:38: UserWarning: Dataset has 0 variance; skipping density estimate. Pass `warn_singular=False` to disable this warning.\n",
      "  axes = sns.kdeplot(test_predictions, ax=axes, color=sns.color_palette()[2], bw_method=bandwidth,\n",
      "/Users/alexi/Library/CloudStorage/OneDrive-Nexus365/Rotation Projects/Rotation_1/Project/DomAdpQSAR/DomAdpQSAR/presentation.py:40: UserWarning: Dataset has 0 variance; skipping density estimate. Pass `warn_singular=False` to disable this warning.\n",
      "  axes = sns.kdeplot(train_predictions, ax=axes, color=sns.color_palette()[2], linewidth=0.5, bw_method=bandwidth,\n"
     ]
    },
    {
     "name": "stdout",
     "output_type": "stream",
     "text": [
      "Step 679, 0:00:05.180731...ize([1000, 2048])DNN Test Values:  ComparisonValues(ACC=tensor(0.8524), BAC=tensor(0.7802), MCC=tensor(0.5880), predicted_labels=tensor([0.0410, 0.7368, 0.0442,  ..., 0.9642, 0.0430, 0.0554]))\n",
      "GAN Test Values:  ComparisonValues(ACC=tensor(0.7527), BAC=tensor(0.5000), MCC=0.01, predicted_labels=tensor([0.4939, 0.4939, 0.4939,  ..., 0.4939, 0.4939, 0.4939]))\n"
     ]
    },
    {
     "name": "stderr",
     "output_type": "stream",
     "text": [
      "/Users/alexi/Library/CloudStorage/OneDrive-Nexus365/Rotation Projects/Rotation_1/Project/DomAdpQSAR/DomAdpQSAR/presentation.py:36: UserWarning: Dataset has 0 variance; skipping density estimate. Pass `warn_singular=False` to disable this warning.\n",
      "  axes = sns.kdeplot(unlabeled_predictions, ax=axes, color=sns.color_palette()[1], bw_method=bandwidth,\n",
      "/Users/alexi/Library/CloudStorage/OneDrive-Nexus365/Rotation Projects/Rotation_1/Project/DomAdpQSAR/DomAdpQSAR/presentation.py:38: UserWarning: Dataset has 0 variance; skipping density estimate. Pass `warn_singular=False` to disable this warning.\n",
      "  axes = sns.kdeplot(test_predictions, ax=axes, color=sns.color_palette()[2], bw_method=bandwidth,\n",
      "/Users/alexi/Library/CloudStorage/OneDrive-Nexus365/Rotation Projects/Rotation_1/Project/DomAdpQSAR/DomAdpQSAR/presentation.py:40: UserWarning: Dataset has 0 variance; skipping density estimate. Pass `warn_singular=False` to disable this warning.\n",
      "  axes = sns.kdeplot(train_predictions, ax=axes, color=sns.color_palette()[2], linewidth=0.5, bw_method=bandwidth,\n"
     ]
    },
    {
     "name": "stdout",
     "output_type": "stream",
     "text": [
      "Step 686, 0:00:05.134377...ize([1000, 2048])DNN Test Values:  ComparisonValues(ACC=tensor(0.8501), BAC=tensor(0.7747), MCC=tensor(0.5800), predicted_labels=tensor([0.0387, 0.0676, 0.0418,  ..., 0.0410, 0.0463, 0.0349]))\n",
      "GAN Test Values:  ComparisonValues(ACC=tensor(0.7527), BAC=tensor(0.5000), MCC=0.01, predicted_labels=tensor([0.4939, 0.4939, 0.4939,  ..., 0.4939, 0.4939, 0.4939]))\n"
     ]
    },
    {
     "name": "stderr",
     "output_type": "stream",
     "text": [
      "/Users/alexi/Library/CloudStorage/OneDrive-Nexus365/Rotation Projects/Rotation_1/Project/DomAdpQSAR/DomAdpQSAR/presentation.py:36: UserWarning: Dataset has 0 variance; skipping density estimate. Pass `warn_singular=False` to disable this warning.\n",
      "  axes = sns.kdeplot(unlabeled_predictions, ax=axes, color=sns.color_palette()[1], bw_method=bandwidth,\n",
      "/Users/alexi/Library/CloudStorage/OneDrive-Nexus365/Rotation Projects/Rotation_1/Project/DomAdpQSAR/DomAdpQSAR/presentation.py:38: UserWarning: Dataset has 0 variance; skipping density estimate. Pass `warn_singular=False` to disable this warning.\n",
      "  axes = sns.kdeplot(test_predictions, ax=axes, color=sns.color_palette()[2], bw_method=bandwidth,\n",
      "/Users/alexi/Library/CloudStorage/OneDrive-Nexus365/Rotation Projects/Rotation_1/Project/DomAdpQSAR/DomAdpQSAR/presentation.py:40: UserWarning: Dataset has 0 variance; skipping density estimate. Pass `warn_singular=False` to disable this warning.\n",
      "  axes = sns.kdeplot(train_predictions, ax=axes, color=sns.color_palette()[2], linewidth=0.5, bw_method=bandwidth,\n"
     ]
    },
    {
     "name": "stdout",
     "output_type": "stream",
     "text": [
      "Step 693, 0:00:05.192592...ize([1000, 2048])DNN Test Values:  ComparisonValues(ACC=tensor(0.8503), BAC=tensor(0.7779), MCC=tensor(0.5825), predicted_labels=tensor([0.0388, 0.0893, 0.0424,  ..., 0.0616, 0.0558, 0.0468]))\n",
      "GAN Test Values:  ComparisonValues(ACC=tensor(0.7527), BAC=tensor(0.5000), MCC=0.01, predicted_labels=tensor([0.4939, 0.4939, 0.4939,  ..., 0.4939, 0.4939, 0.4939]))\n"
     ]
    },
    {
     "name": "stderr",
     "output_type": "stream",
     "text": [
      "/Users/alexi/Library/CloudStorage/OneDrive-Nexus365/Rotation Projects/Rotation_1/Project/DomAdpQSAR/DomAdpQSAR/presentation.py:36: UserWarning: Dataset has 0 variance; skipping density estimate. Pass `warn_singular=False` to disable this warning.\n",
      "  axes = sns.kdeplot(unlabeled_predictions, ax=axes, color=sns.color_palette()[1], bw_method=bandwidth,\n",
      "/Users/alexi/Library/CloudStorage/OneDrive-Nexus365/Rotation Projects/Rotation_1/Project/DomAdpQSAR/DomAdpQSAR/presentation.py:38: UserWarning: Dataset has 0 variance; skipping density estimate. Pass `warn_singular=False` to disable this warning.\n",
      "  axes = sns.kdeplot(test_predictions, ax=axes, color=sns.color_palette()[2], bw_method=bandwidth,\n",
      "/Users/alexi/Library/CloudStorage/OneDrive-Nexus365/Rotation Projects/Rotation_1/Project/DomAdpQSAR/DomAdpQSAR/presentation.py:40: UserWarning: Dataset has 0 variance; skipping density estimate. Pass `warn_singular=False` to disable this warning.\n",
      "  axes = sns.kdeplot(train_predictions, ax=axes, color=sns.color_palette()[2], linewidth=0.5, bw_method=bandwidth,\n"
     ]
    },
    {
     "name": "stdout",
     "output_type": "stream",
     "text": [
      "Step 700, 0:00:05.677039...ize([1000, 2048])DNN Test Values:  ComparisonValues(ACC=tensor(0.8480), BAC=tensor(0.7743), MCC=tensor(0.5757), predicted_labels=tensor([0.0391, 0.0470, 0.0433,  ..., 0.0870, 0.0430, 0.9296]))\n",
      "GAN Test Values:  ComparisonValues(ACC=tensor(0.7527), BAC=tensor(0.5000), MCC=0.01, predicted_labels=tensor([0.4938, 0.4938, 0.4938,  ..., 0.4938, 0.4938, 0.4938]))\n"
     ]
    },
    {
     "name": "stderr",
     "output_type": "stream",
     "text": [
      "/Users/alexi/Library/CloudStorage/OneDrive-Nexus365/Rotation Projects/Rotation_1/Project/DomAdpQSAR/DomAdpQSAR/presentation.py:36: UserWarning: Dataset has 0 variance; skipping density estimate. Pass `warn_singular=False` to disable this warning.\n",
      "  axes = sns.kdeplot(unlabeled_predictions, ax=axes, color=sns.color_palette()[1], bw_method=bandwidth,\n",
      "/Users/alexi/Library/CloudStorage/OneDrive-Nexus365/Rotation Projects/Rotation_1/Project/DomAdpQSAR/DomAdpQSAR/presentation.py:38: UserWarning: Dataset has 0 variance; skipping density estimate. Pass `warn_singular=False` to disable this warning.\n",
      "  axes = sns.kdeplot(test_predictions, ax=axes, color=sns.color_palette()[2], bw_method=bandwidth,\n",
      "/Users/alexi/Library/CloudStorage/OneDrive-Nexus365/Rotation Projects/Rotation_1/Project/DomAdpQSAR/DomAdpQSAR/presentation.py:40: UserWarning: Dataset has 0 variance; skipping density estimate. Pass `warn_singular=False` to disable this warning.\n",
      "  axes = sns.kdeplot(train_predictions, ax=axes, color=sns.color_palette()[2], linewidth=0.5, bw_method=bandwidth,\n"
     ]
    },
    {
     "name": "stdout",
     "output_type": "stream",
     "text": [
      "Step 707, 0:00:04.789546...ize([1000, 2048])DNN Test Values:  ComparisonValues(ACC=tensor(0.8467), BAC=tensor(0.7789), MCC=tensor(0.5764), predicted_labels=tensor([0.0371, 0.2838, 0.0426,  ..., 0.0379, 0.0396, 0.0381]))\n",
      "GAN Test Values:  ComparisonValues(ACC=tensor(0.7527), BAC=tensor(0.5000), MCC=0.01, predicted_labels=tensor([0.4938, 0.4938, 0.4938,  ..., 0.4938, 0.4938, 0.4938]))\n"
     ]
    },
    {
     "name": "stderr",
     "output_type": "stream",
     "text": [
      "/Users/alexi/Library/CloudStorage/OneDrive-Nexus365/Rotation Projects/Rotation_1/Project/DomAdpQSAR/DomAdpQSAR/presentation.py:36: UserWarning: Dataset has 0 variance; skipping density estimate. Pass `warn_singular=False` to disable this warning.\n",
      "  axes = sns.kdeplot(unlabeled_predictions, ax=axes, color=sns.color_palette()[1], bw_method=bandwidth,\n",
      "/Users/alexi/Library/CloudStorage/OneDrive-Nexus365/Rotation Projects/Rotation_1/Project/DomAdpQSAR/DomAdpQSAR/presentation.py:38: UserWarning: Dataset has 0 variance; skipping density estimate. Pass `warn_singular=False` to disable this warning.\n",
      "  axes = sns.kdeplot(test_predictions, ax=axes, color=sns.color_palette()[2], bw_method=bandwidth,\n",
      "/Users/alexi/Library/CloudStorage/OneDrive-Nexus365/Rotation Projects/Rotation_1/Project/DomAdpQSAR/DomAdpQSAR/presentation.py:40: UserWarning: Dataset has 0 variance; skipping density estimate. Pass `warn_singular=False` to disable this warning.\n",
      "  axes = sns.kdeplot(train_predictions, ax=axes, color=sns.color_palette()[2], linewidth=0.5, bw_method=bandwidth,\n"
     ]
    },
    {
     "name": "stdout",
     "output_type": "stream",
     "text": [
      "Step 714, 0:00:05.261159...ize([1000, 2048])DNN Test Values:  ComparisonValues(ACC=tensor(0.8474), BAC=tensor(0.7784), MCC=tensor(0.5773), predicted_labels=tensor([0.0385, 0.0367, 0.0389,  ..., 0.0588, 0.9436, 0.0415]))\n",
      "GAN Test Values:  ComparisonValues(ACC=tensor(0.7527), BAC=tensor(0.5000), MCC=0.01, predicted_labels=tensor([0.4938, 0.4938, 0.4938,  ..., 0.4938, 0.4938, 0.4938]))\n"
     ]
    },
    {
     "name": "stderr",
     "output_type": "stream",
     "text": [
      "/Users/alexi/Library/CloudStorage/OneDrive-Nexus365/Rotation Projects/Rotation_1/Project/DomAdpQSAR/DomAdpQSAR/presentation.py:36: UserWarning: Dataset has 0 variance; skipping density estimate. Pass `warn_singular=False` to disable this warning.\n",
      "  axes = sns.kdeplot(unlabeled_predictions, ax=axes, color=sns.color_palette()[1], bw_method=bandwidth,\n",
      "/Users/alexi/Library/CloudStorage/OneDrive-Nexus365/Rotation Projects/Rotation_1/Project/DomAdpQSAR/DomAdpQSAR/presentation.py:38: UserWarning: Dataset has 0 variance; skipping density estimate. Pass `warn_singular=False` to disable this warning.\n",
      "  axes = sns.kdeplot(test_predictions, ax=axes, color=sns.color_palette()[2], bw_method=bandwidth,\n",
      "/Users/alexi/Library/CloudStorage/OneDrive-Nexus365/Rotation Projects/Rotation_1/Project/DomAdpQSAR/DomAdpQSAR/presentation.py:40: UserWarning: Dataset has 0 variance; skipping density estimate. Pass `warn_singular=False` to disable this warning.\n",
      "  axes = sns.kdeplot(train_predictions, ax=axes, color=sns.color_palette()[2], linewidth=0.5, bw_method=bandwidth,\n"
     ]
    },
    {
     "name": "stdout",
     "output_type": "stream",
     "text": [
      "Step 721, 0:00:05.275942...ize([1000, 2048])DNN Test Values:  ComparisonValues(ACC=tensor(0.8517), BAC=tensor(0.7798), MCC=tensor(0.5864), predicted_labels=tensor([0.9367, 0.9216, 0.0460,  ..., 0.0463, 0.0343, 0.0515]))\n",
      "GAN Test Values:  ComparisonValues(ACC=tensor(0.7527), BAC=tensor(0.5000), MCC=0.01, predicted_labels=tensor([0.4938, 0.4938, 0.4938,  ..., 0.4938, 0.4938, 0.4938]))\n"
     ]
    },
    {
     "name": "stderr",
     "output_type": "stream",
     "text": [
      "/Users/alexi/Library/CloudStorage/OneDrive-Nexus365/Rotation Projects/Rotation_1/Project/DomAdpQSAR/DomAdpQSAR/presentation.py:36: UserWarning: Dataset has 0 variance; skipping density estimate. Pass `warn_singular=False` to disable this warning.\n",
      "  axes = sns.kdeplot(unlabeled_predictions, ax=axes, color=sns.color_palette()[1], bw_method=bandwidth,\n",
      "/Users/alexi/Library/CloudStorage/OneDrive-Nexus365/Rotation Projects/Rotation_1/Project/DomAdpQSAR/DomAdpQSAR/presentation.py:38: UserWarning: Dataset has 0 variance; skipping density estimate. Pass `warn_singular=False` to disable this warning.\n",
      "  axes = sns.kdeplot(test_predictions, ax=axes, color=sns.color_palette()[2], bw_method=bandwidth,\n",
      "/Users/alexi/Library/CloudStorage/OneDrive-Nexus365/Rotation Projects/Rotation_1/Project/DomAdpQSAR/DomAdpQSAR/presentation.py:40: UserWarning: Dataset has 0 variance; skipping density estimate. Pass `warn_singular=False` to disable this warning.\n",
      "  axes = sns.kdeplot(train_predictions, ax=axes, color=sns.color_palette()[2], linewidth=0.5, bw_method=bandwidth,\n"
     ]
    },
    {
     "name": "stdout",
     "output_type": "stream",
     "text": [
      "Step 728, 0:00:04.982944...ize([1000, 2048])DNN Test Values:  ComparisonValues(ACC=tensor(0.8501), BAC=tensor(0.7735), MCC=tensor(0.5792), predicted_labels=tensor([0.0370, 0.0380, 0.0363,  ..., 0.0310, 0.0463, 0.0349]))\n",
      "GAN Test Values:  ComparisonValues(ACC=tensor(0.7527), BAC=tensor(0.5000), MCC=0.01, predicted_labels=tensor([0.4938, 0.4938, 0.4938,  ..., 0.4938, 0.4938, 0.4938]))\n"
     ]
    },
    {
     "name": "stderr",
     "output_type": "stream",
     "text": [
      "/Users/alexi/Library/CloudStorage/OneDrive-Nexus365/Rotation Projects/Rotation_1/Project/DomAdpQSAR/DomAdpQSAR/presentation.py:36: UserWarning: Dataset has 0 variance; skipping density estimate. Pass `warn_singular=False` to disable this warning.\n",
      "  axes = sns.kdeplot(unlabeled_predictions, ax=axes, color=sns.color_palette()[1], bw_method=bandwidth,\n",
      "/Users/alexi/Library/CloudStorage/OneDrive-Nexus365/Rotation Projects/Rotation_1/Project/DomAdpQSAR/DomAdpQSAR/presentation.py:38: UserWarning: Dataset has 0 variance; skipping density estimate. Pass `warn_singular=False` to disable this warning.\n",
      "  axes = sns.kdeplot(test_predictions, ax=axes, color=sns.color_palette()[2], bw_method=bandwidth,\n",
      "/Users/alexi/Library/CloudStorage/OneDrive-Nexus365/Rotation Projects/Rotation_1/Project/DomAdpQSAR/DomAdpQSAR/presentation.py:40: UserWarning: Dataset has 0 variance; skipping density estimate. Pass `warn_singular=False` to disable this warning.\n",
      "  axes = sns.kdeplot(train_predictions, ax=axes, color=sns.color_palette()[2], linewidth=0.5, bw_method=bandwidth,\n"
     ]
    },
    {
     "name": "stdout",
     "output_type": "stream",
     "text": [
      "Step 735, 0:00:05.344521...ize([1000, 2048])DNN Test Values:  ComparisonValues(ACC=tensor(0.8496), BAC=tensor(0.7750), MCC=tensor(0.5793), predicted_labels=tensor([0.0310, 0.0349, 0.0328,  ..., 0.0415, 0.8919, 0.0361]))\n",
      "GAN Test Values:  ComparisonValues(ACC=tensor(0.7527), BAC=tensor(0.5000), MCC=0.01, predicted_labels=tensor([0.4938, 0.4938, 0.4938,  ..., 0.4938, 0.4938, 0.4938]))\n"
     ]
    },
    {
     "name": "stderr",
     "output_type": "stream",
     "text": [
      "/Users/alexi/Library/CloudStorage/OneDrive-Nexus365/Rotation Projects/Rotation_1/Project/DomAdpQSAR/DomAdpQSAR/presentation.py:36: UserWarning: Dataset has 0 variance; skipping density estimate. Pass `warn_singular=False` to disable this warning.\n",
      "  axes = sns.kdeplot(unlabeled_predictions, ax=axes, color=sns.color_palette()[1], bw_method=bandwidth,\n",
      "/Users/alexi/Library/CloudStorage/OneDrive-Nexus365/Rotation Projects/Rotation_1/Project/DomAdpQSAR/DomAdpQSAR/presentation.py:38: UserWarning: Dataset has 0 variance; skipping density estimate. Pass `warn_singular=False` to disable this warning.\n",
      "  axes = sns.kdeplot(test_predictions, ax=axes, color=sns.color_palette()[2], bw_method=bandwidth,\n",
      "/Users/alexi/Library/CloudStorage/OneDrive-Nexus365/Rotation Projects/Rotation_1/Project/DomAdpQSAR/DomAdpQSAR/presentation.py:40: UserWarning: Dataset has 0 variance; skipping density estimate. Pass `warn_singular=False` to disable this warning.\n",
      "  axes = sns.kdeplot(train_predictions, ax=axes, color=sns.color_palette()[2], linewidth=0.5, bw_method=bandwidth,\n"
     ]
    },
    {
     "name": "stdout",
     "output_type": "stream",
     "text": [
      "Step 742, 0:00:06.036157...ize([1000, 2048])DNN Test Values:  ComparisonValues(ACC=tensor(0.8490), BAC=tensor(0.7783), MCC=tensor(0.5801), predicted_labels=tensor([0.0456, 0.0356, 0.0368,  ..., 0.0329, 0.0432, 0.9673]))\n",
      "GAN Test Values:  ComparisonValues(ACC=tensor(0.7527), BAC=tensor(0.5000), MCC=0.01, predicted_labels=tensor([0.4938, 0.4938, 0.4938,  ..., 0.4938, 0.4938, 0.4938]))\n"
     ]
    },
    {
     "name": "stderr",
     "output_type": "stream",
     "text": [
      "/Users/alexi/Library/CloudStorage/OneDrive-Nexus365/Rotation Projects/Rotation_1/Project/DomAdpQSAR/DomAdpQSAR/presentation.py:36: UserWarning: Dataset has 0 variance; skipping density estimate. Pass `warn_singular=False` to disable this warning.\n",
      "  axes = sns.kdeplot(unlabeled_predictions, ax=axes, color=sns.color_palette()[1], bw_method=bandwidth,\n",
      "/Users/alexi/Library/CloudStorage/OneDrive-Nexus365/Rotation Projects/Rotation_1/Project/DomAdpQSAR/DomAdpQSAR/presentation.py:38: UserWarning: Dataset has 0 variance; skipping density estimate. Pass `warn_singular=False` to disable this warning.\n",
      "  axes = sns.kdeplot(test_predictions, ax=axes, color=sns.color_palette()[2], bw_method=bandwidth,\n",
      "/Users/alexi/Library/CloudStorage/OneDrive-Nexus365/Rotation Projects/Rotation_1/Project/DomAdpQSAR/DomAdpQSAR/presentation.py:40: UserWarning: Dataset has 0 variance; skipping density estimate. Pass `warn_singular=False` to disable this warning.\n",
      "  axes = sns.kdeplot(train_predictions, ax=axes, color=sns.color_palette()[2], linewidth=0.5, bw_method=bandwidth,\n"
     ]
    },
    {
     "name": "stdout",
     "output_type": "stream",
     "text": [
      "Step 749, 0:00:06.005692...ize([1000, 2048])DNN Test Values:  ComparisonValues(ACC=tensor(0.8512), BAC=tensor(0.7792), MCC=tensor(0.5851), predicted_labels=tensor([0.2026, 0.0356, 0.0399,  ..., 0.0408, 0.0439, 0.0369]))\n",
      "GAN Test Values:  ComparisonValues(ACC=tensor(0.7527), BAC=tensor(0.5000), MCC=0.01, predicted_labels=tensor([0.4938, 0.4938, 0.4938,  ..., 0.4938, 0.4938, 0.4938]))\n"
     ]
    },
    {
     "name": "stderr",
     "output_type": "stream",
     "text": [
      "/Users/alexi/Library/CloudStorage/OneDrive-Nexus365/Rotation Projects/Rotation_1/Project/DomAdpQSAR/DomAdpQSAR/presentation.py:36: UserWarning: Dataset has 0 variance; skipping density estimate. Pass `warn_singular=False` to disable this warning.\n",
      "  axes = sns.kdeplot(unlabeled_predictions, ax=axes, color=sns.color_palette()[1], bw_method=bandwidth,\n",
      "/Users/alexi/Library/CloudStorage/OneDrive-Nexus365/Rotation Projects/Rotation_1/Project/DomAdpQSAR/DomAdpQSAR/presentation.py:38: UserWarning: Dataset has 0 variance; skipping density estimate. Pass `warn_singular=False` to disable this warning.\n",
      "  axes = sns.kdeplot(test_predictions, ax=axes, color=sns.color_palette()[2], bw_method=bandwidth,\n",
      "/Users/alexi/Library/CloudStorage/OneDrive-Nexus365/Rotation Projects/Rotation_1/Project/DomAdpQSAR/DomAdpQSAR/presentation.py:40: UserWarning: Dataset has 0 variance; skipping density estimate. Pass `warn_singular=False` to disable this warning.\n",
      "  axes = sns.kdeplot(train_predictions, ax=axes, color=sns.color_palette()[2], linewidth=0.5, bw_method=bandwidth,\n"
     ]
    },
    {
     "name": "stdout",
     "output_type": "stream",
     "text": [
      "Step 756, 0:00:06.051249...ize([1000, 2048])DNN Test Values:  ComparisonValues(ACC=tensor(0.8499), BAC=tensor(0.7820), MCC=tensor(0.5844), predicted_labels=tensor([0.0325, 0.0327, 0.0411,  ..., 0.0312, 0.0462, 0.0545]))\n",
      "GAN Test Values:  ComparisonValues(ACC=tensor(0.7527), BAC=tensor(0.5000), MCC=0.01, predicted_labels=tensor([0.4937, 0.4937, 0.4937,  ..., 0.4937, 0.4937, 0.4937]))\n"
     ]
    },
    {
     "name": "stderr",
     "output_type": "stream",
     "text": [
      "/Users/alexi/Library/CloudStorage/OneDrive-Nexus365/Rotation Projects/Rotation_1/Project/DomAdpQSAR/DomAdpQSAR/presentation.py:36: UserWarning: Dataset has 0 variance; skipping density estimate. Pass `warn_singular=False` to disable this warning.\n",
      "  axes = sns.kdeplot(unlabeled_predictions, ax=axes, color=sns.color_palette()[1], bw_method=bandwidth,\n",
      "/Users/alexi/Library/CloudStorage/OneDrive-Nexus365/Rotation Projects/Rotation_1/Project/DomAdpQSAR/DomAdpQSAR/presentation.py:38: UserWarning: Dataset has 0 variance; skipping density estimate. Pass `warn_singular=False` to disable this warning.\n",
      "  axes = sns.kdeplot(test_predictions, ax=axes, color=sns.color_palette()[2], bw_method=bandwidth,\n",
      "/Users/alexi/Library/CloudStorage/OneDrive-Nexus365/Rotation Projects/Rotation_1/Project/DomAdpQSAR/DomAdpQSAR/presentation.py:40: UserWarning: Dataset has 0 variance; skipping density estimate. Pass `warn_singular=False` to disable this warning.\n",
      "  axes = sns.kdeplot(train_predictions, ax=axes, color=sns.color_palette()[2], linewidth=0.5, bw_method=bandwidth,\n"
     ]
    },
    {
     "name": "stdout",
     "output_type": "stream",
     "text": [
      "Step 763, 0:00:05.688032...ize([1000, 2048])DNN Test Values:  ComparisonValues(ACC=tensor(0.8501), BAC=tensor(0.7793), MCC=tensor(0.5830), predicted_labels=tensor([0.0655, 0.0417, 0.9726,  ..., 0.0985, 0.0298, 0.0310]))\n",
      "GAN Test Values:  ComparisonValues(ACC=tensor(0.7527), BAC=tensor(0.5000), MCC=0.01, predicted_labels=tensor([0.4937, 0.4937, 0.4937,  ..., 0.4937, 0.4937, 0.4937]))\n"
     ]
    },
    {
     "name": "stderr",
     "output_type": "stream",
     "text": [
      "/Users/alexi/Library/CloudStorage/OneDrive-Nexus365/Rotation Projects/Rotation_1/Project/DomAdpQSAR/DomAdpQSAR/presentation.py:36: UserWarning: Dataset has 0 variance; skipping density estimate. Pass `warn_singular=False` to disable this warning.\n",
      "  axes = sns.kdeplot(unlabeled_predictions, ax=axes, color=sns.color_palette()[1], bw_method=bandwidth,\n",
      "/Users/alexi/Library/CloudStorage/OneDrive-Nexus365/Rotation Projects/Rotation_1/Project/DomAdpQSAR/DomAdpQSAR/presentation.py:38: UserWarning: Dataset has 0 variance; skipping density estimate. Pass `warn_singular=False` to disable this warning.\n",
      "  axes = sns.kdeplot(test_predictions, ax=axes, color=sns.color_palette()[2], bw_method=bandwidth,\n",
      "/Users/alexi/Library/CloudStorage/OneDrive-Nexus365/Rotation Projects/Rotation_1/Project/DomAdpQSAR/DomAdpQSAR/presentation.py:40: UserWarning: Dataset has 0 variance; skipping density estimate. Pass `warn_singular=False` to disable this warning.\n",
      "  axes = sns.kdeplot(train_predictions, ax=axes, color=sns.color_palette()[2], linewidth=0.5, bw_method=bandwidth,\n"
     ]
    },
    {
     "name": "stdout",
     "output_type": "stream",
     "text": [
      "Step 770, 0:00:06.531282...ize([1000, 2048])DNN Test Values:  ComparisonValues(ACC=tensor(0.8485), BAC=tensor(0.7739), MCC=tensor(0.5764), predicted_labels=tensor([0.0604, 0.0309, 0.0332,  ..., 0.9094, 0.9539, 0.0348]))\n",
      "GAN Test Values:  ComparisonValues(ACC=tensor(0.7527), BAC=tensor(0.5000), MCC=0.01, predicted_labels=tensor([0.4936, 0.4936, 0.4936,  ..., 0.4936, 0.4936, 0.4936]))\n"
     ]
    },
    {
     "name": "stderr",
     "output_type": "stream",
     "text": [
      "/Users/alexi/Library/CloudStorage/OneDrive-Nexus365/Rotation Projects/Rotation_1/Project/DomAdpQSAR/DomAdpQSAR/presentation.py:36: UserWarning: Dataset has 0 variance; skipping density estimate. Pass `warn_singular=False` to disable this warning.\n",
      "  axes = sns.kdeplot(unlabeled_predictions, ax=axes, color=sns.color_palette()[1], bw_method=bandwidth,\n",
      "/Users/alexi/Library/CloudStorage/OneDrive-Nexus365/Rotation Projects/Rotation_1/Project/DomAdpQSAR/DomAdpQSAR/presentation.py:38: UserWarning: Dataset has 0 variance; skipping density estimate. Pass `warn_singular=False` to disable this warning.\n",
      "  axes = sns.kdeplot(test_predictions, ax=axes, color=sns.color_palette()[2], bw_method=bandwidth,\n",
      "/Users/alexi/Library/CloudStorage/OneDrive-Nexus365/Rotation Projects/Rotation_1/Project/DomAdpQSAR/DomAdpQSAR/presentation.py:40: UserWarning: Dataset has 0 variance; skipping density estimate. Pass `warn_singular=False` to disable this warning.\n",
      "  axes = sns.kdeplot(train_predictions, ax=axes, color=sns.color_palette()[2], linewidth=0.5, bw_method=bandwidth,\n"
     ]
    },
    {
     "name": "stdout",
     "output_type": "stream",
     "text": [
      "Step 777, 0:00:05.635425...ize([1000, 2048])DNN Test Values:  ComparisonValues(ACC=tensor(0.8469), BAC=tensor(0.7713), MCC=tensor(0.5715), predicted_labels=tensor([0.0343, 0.0319, 0.9266,  ..., 0.0334, 0.8451, 0.9026]))\n",
      "GAN Test Values:  ComparisonValues(ACC=tensor(0.7527), BAC=tensor(0.5000), MCC=0.01, predicted_labels=tensor([0.4936, 0.4936, 0.4936,  ..., 0.4936, 0.4936, 0.4936]))\n"
     ]
    },
    {
     "name": "stderr",
     "output_type": "stream",
     "text": [
      "/Users/alexi/Library/CloudStorage/OneDrive-Nexus365/Rotation Projects/Rotation_1/Project/DomAdpQSAR/DomAdpQSAR/presentation.py:36: UserWarning: Dataset has 0 variance; skipping density estimate. Pass `warn_singular=False` to disable this warning.\n",
      "  axes = sns.kdeplot(unlabeled_predictions, ax=axes, color=sns.color_palette()[1], bw_method=bandwidth,\n",
      "/Users/alexi/Library/CloudStorage/OneDrive-Nexus365/Rotation Projects/Rotation_1/Project/DomAdpQSAR/DomAdpQSAR/presentation.py:38: UserWarning: Dataset has 0 variance; skipping density estimate. Pass `warn_singular=False` to disable this warning.\n",
      "  axes = sns.kdeplot(test_predictions, ax=axes, color=sns.color_palette()[2], bw_method=bandwidth,\n",
      "/Users/alexi/Library/CloudStorage/OneDrive-Nexus365/Rotation Projects/Rotation_1/Project/DomAdpQSAR/DomAdpQSAR/presentation.py:40: UserWarning: Dataset has 0 variance; skipping density estimate. Pass `warn_singular=False` to disable this warning.\n",
      "  axes = sns.kdeplot(train_predictions, ax=axes, color=sns.color_palette()[2], linewidth=0.5, bw_method=bandwidth,\n"
     ]
    },
    {
     "name": "stdout",
     "output_type": "stream",
     "text": [
      "Step 784, 0:00:05.814352...ize([1000, 2048])DNN Test Values:  ComparisonValues(ACC=tensor(0.8467), BAC=tensor(0.7733), MCC=tensor(0.5725), predicted_labels=tensor([0.9342, 0.9352, 0.1398,  ..., 0.0305, 0.0361, 0.0414]))\n",
      "GAN Test Values:  ComparisonValues(ACC=tensor(0.7527), BAC=tensor(0.5000), MCC=0.01, predicted_labels=tensor([0.4936, 0.4936, 0.4936,  ..., 0.4936, 0.4936, 0.4936]))\n"
     ]
    },
    {
     "name": "stderr",
     "output_type": "stream",
     "text": [
      "/Users/alexi/Library/CloudStorage/OneDrive-Nexus365/Rotation Projects/Rotation_1/Project/DomAdpQSAR/DomAdpQSAR/presentation.py:36: UserWarning: Dataset has 0 variance; skipping density estimate. Pass `warn_singular=False` to disable this warning.\n",
      "  axes = sns.kdeplot(unlabeled_predictions, ax=axes, color=sns.color_palette()[1], bw_method=bandwidth,\n",
      "/Users/alexi/Library/CloudStorage/OneDrive-Nexus365/Rotation Projects/Rotation_1/Project/DomAdpQSAR/DomAdpQSAR/presentation.py:38: UserWarning: Dataset has 0 variance; skipping density estimate. Pass `warn_singular=False` to disable this warning.\n",
      "  axes = sns.kdeplot(test_predictions, ax=axes, color=sns.color_palette()[2], bw_method=bandwidth,\n",
      "/Users/alexi/Library/CloudStorage/OneDrive-Nexus365/Rotation Projects/Rotation_1/Project/DomAdpQSAR/DomAdpQSAR/presentation.py:40: UserWarning: Dataset has 0 variance; skipping density estimate. Pass `warn_singular=False` to disable this warning.\n",
      "  axes = sns.kdeplot(train_predictions, ax=axes, color=sns.color_palette()[2], linewidth=0.5, bw_method=bandwidth,\n"
     ]
    },
    {
     "name": "stdout",
     "output_type": "stream",
     "text": [
      "Step 791, 0:00:05.931880...ize([1000, 2048])DNN Test Values:  ComparisonValues(ACC=tensor(0.8476), BAC=tensor(0.7780), MCC=tensor(0.5774), predicted_labels=tensor([0.0308, 0.7798, 0.0394,  ..., 0.0286, 0.0327, 0.9749]))\n",
      "GAN Test Values:  ComparisonValues(ACC=tensor(0.7527), BAC=tensor(0.5000), MCC=0.01, predicted_labels=tensor([0.4935, 0.4935, 0.4935,  ..., 0.4935, 0.4935, 0.4935]))\n"
     ]
    },
    {
     "name": "stderr",
     "output_type": "stream",
     "text": [
      "/Users/alexi/Library/CloudStorage/OneDrive-Nexus365/Rotation Projects/Rotation_1/Project/DomAdpQSAR/DomAdpQSAR/presentation.py:36: UserWarning: Dataset has 0 variance; skipping density estimate. Pass `warn_singular=False` to disable this warning.\n",
      "  axes = sns.kdeplot(unlabeled_predictions, ax=axes, color=sns.color_palette()[1], bw_method=bandwidth,\n",
      "/Users/alexi/Library/CloudStorage/OneDrive-Nexus365/Rotation Projects/Rotation_1/Project/DomAdpQSAR/DomAdpQSAR/presentation.py:38: UserWarning: Dataset has 0 variance; skipping density estimate. Pass `warn_singular=False` to disable this warning.\n",
      "  axes = sns.kdeplot(test_predictions, ax=axes, color=sns.color_palette()[2], bw_method=bandwidth,\n",
      "/Users/alexi/Library/CloudStorage/OneDrive-Nexus365/Rotation Projects/Rotation_1/Project/DomAdpQSAR/DomAdpQSAR/presentation.py:40: UserWarning: Dataset has 0 variance; skipping density estimate. Pass `warn_singular=False` to disable this warning.\n",
      "  axes = sns.kdeplot(train_predictions, ax=axes, color=sns.color_palette()[2], linewidth=0.5, bw_method=bandwidth,\n"
     ]
    },
    {
     "name": "stdout",
     "output_type": "stream",
     "text": [
      "Step 798, 0:00:05.983856...ize([1000, 2048])DNN Test Values:  ComparisonValues(ACC=tensor(0.8455), BAC=tensor(0.7831), MCC=tensor(0.5776), predicted_labels=tensor([0.9661, 0.0351, 0.0509,  ..., 0.0365, 0.1066, 0.0288]))\n",
      "GAN Test Values:  ComparisonValues(ACC=tensor(0.7527), BAC=tensor(0.5000), MCC=0.01, predicted_labels=tensor([0.4935, 0.4935, 0.4935,  ..., 0.4935, 0.4935, 0.4935]))\n"
     ]
    },
    {
     "name": "stderr",
     "output_type": "stream",
     "text": [
      "/Users/alexi/Library/CloudStorage/OneDrive-Nexus365/Rotation Projects/Rotation_1/Project/DomAdpQSAR/DomAdpQSAR/presentation.py:36: UserWarning: Dataset has 0 variance; skipping density estimate. Pass `warn_singular=False` to disable this warning.\n",
      "  axes = sns.kdeplot(unlabeled_predictions, ax=axes, color=sns.color_palette()[1], bw_method=bandwidth,\n",
      "/Users/alexi/Library/CloudStorage/OneDrive-Nexus365/Rotation Projects/Rotation_1/Project/DomAdpQSAR/DomAdpQSAR/presentation.py:38: UserWarning: Dataset has 0 variance; skipping density estimate. Pass `warn_singular=False` to disable this warning.\n",
      "  axes = sns.kdeplot(test_predictions, ax=axes, color=sns.color_palette()[2], bw_method=bandwidth,\n",
      "/Users/alexi/Library/CloudStorage/OneDrive-Nexus365/Rotation Projects/Rotation_1/Project/DomAdpQSAR/DomAdpQSAR/presentation.py:40: UserWarning: Dataset has 0 variance; skipping density estimate. Pass `warn_singular=False` to disable this warning.\n",
      "  axes = sns.kdeplot(train_predictions, ax=axes, color=sns.color_palette()[2], linewidth=0.5, bw_method=bandwidth,\n"
     ]
    },
    {
     "name": "stdout",
     "output_type": "stream",
     "text": [
      "Step 805, 0:00:06.487953...ize([1000, 2048])DNN Test Values:  ComparisonValues(ACC=tensor(0.8480), BAC=tensor(0.7882), MCC=tensor(0.5857), predicted_labels=tensor([0.0326, 0.3939, 0.9590,  ..., 0.0334, 0.0303, 0.0306]))\n",
      "GAN Test Values:  ComparisonValues(ACC=tensor(0.7527), BAC=tensor(0.5000), MCC=0.01, predicted_labels=tensor([0.4934, 0.4934, 0.4934,  ..., 0.4934, 0.4934, 0.4934]))\n"
     ]
    },
    {
     "name": "stderr",
     "output_type": "stream",
     "text": [
      "/Users/alexi/Library/CloudStorage/OneDrive-Nexus365/Rotation Projects/Rotation_1/Project/DomAdpQSAR/DomAdpQSAR/presentation.py:36: UserWarning: Dataset has 0 variance; skipping density estimate. Pass `warn_singular=False` to disable this warning.\n",
      "  axes = sns.kdeplot(unlabeled_predictions, ax=axes, color=sns.color_palette()[1], bw_method=bandwidth,\n",
      "/Users/alexi/Library/CloudStorage/OneDrive-Nexus365/Rotation Projects/Rotation_1/Project/DomAdpQSAR/DomAdpQSAR/presentation.py:38: UserWarning: Dataset has 0 variance; skipping density estimate. Pass `warn_singular=False` to disable this warning.\n",
      "  axes = sns.kdeplot(test_predictions, ax=axes, color=sns.color_palette()[2], bw_method=bandwidth,\n",
      "/Users/alexi/Library/CloudStorage/OneDrive-Nexus365/Rotation Projects/Rotation_1/Project/DomAdpQSAR/DomAdpQSAR/presentation.py:40: UserWarning: Dataset has 0 variance; skipping density estimate. Pass `warn_singular=False` to disable this warning.\n",
      "  axes = sns.kdeplot(train_predictions, ax=axes, color=sns.color_palette()[2], linewidth=0.5, bw_method=bandwidth,\n"
     ]
    },
    {
     "name": "stdout",
     "output_type": "stream",
     "text": [
      "Step 812, 0:00:08.387104...ize([1000, 2048])DNN Test Values:  ComparisonValues(ACC=tensor(0.8517), BAC=tensor(0.7860), MCC=tensor(0.5906), predicted_labels=tensor([0.0363, 0.0287, 0.0290,  ..., 0.0303, 0.9516, 0.0285]))\n",
      "GAN Test Values:  ComparisonValues(ACC=tensor(0.7527), BAC=tensor(0.5000), MCC=0.01, predicted_labels=tensor([0.4934, 0.4934, 0.4934,  ..., 0.4934, 0.4934, 0.4934]))\n"
     ]
    },
    {
     "name": "stderr",
     "output_type": "stream",
     "text": [
      "/Users/alexi/Library/CloudStorage/OneDrive-Nexus365/Rotation Projects/Rotation_1/Project/DomAdpQSAR/DomAdpQSAR/presentation.py:36: UserWarning: Dataset has 0 variance; skipping density estimate. Pass `warn_singular=False` to disable this warning.\n",
      "  axes = sns.kdeplot(unlabeled_predictions, ax=axes, color=sns.color_palette()[1], bw_method=bandwidth,\n",
      "/Users/alexi/Library/CloudStorage/OneDrive-Nexus365/Rotation Projects/Rotation_1/Project/DomAdpQSAR/DomAdpQSAR/presentation.py:38: UserWarning: Dataset has 0 variance; skipping density estimate. Pass `warn_singular=False` to disable this warning.\n",
      "  axes = sns.kdeplot(test_predictions, ax=axes, color=sns.color_palette()[2], bw_method=bandwidth,\n",
      "/Users/alexi/Library/CloudStorage/OneDrive-Nexus365/Rotation Projects/Rotation_1/Project/DomAdpQSAR/DomAdpQSAR/presentation.py:40: UserWarning: Dataset has 0 variance; skipping density estimate. Pass `warn_singular=False` to disable this warning.\n",
      "  axes = sns.kdeplot(train_predictions, ax=axes, color=sns.color_palette()[2], linewidth=0.5, bw_method=bandwidth,\n"
     ]
    },
    {
     "name": "stdout",
     "output_type": "stream",
     "text": [
      "Step 819, 0:00:05.864471...ize([1000, 2048])DNN Test Values:  ComparisonValues(ACC=tensor(0.8538), BAC=tensor(0.7839), MCC=tensor(0.5931), predicted_labels=tensor([0.0279, 0.0309, 0.0343,  ..., 0.0452, 0.0276, 0.0351]))\n",
      "GAN Test Values:  ComparisonValues(ACC=tensor(0.7527), BAC=tensor(0.5000), MCC=0.01, predicted_labels=tensor([0.4934, 0.4934, 0.4934,  ..., 0.4934, 0.4934, 0.4934]))\n"
     ]
    },
    {
     "name": "stderr",
     "output_type": "stream",
     "text": [
      "/Users/alexi/Library/CloudStorage/OneDrive-Nexus365/Rotation Projects/Rotation_1/Project/DomAdpQSAR/DomAdpQSAR/presentation.py:36: UserWarning: Dataset has 0 variance; skipping density estimate. Pass `warn_singular=False` to disable this warning.\n",
      "  axes = sns.kdeplot(unlabeled_predictions, ax=axes, color=sns.color_palette()[1], bw_method=bandwidth,\n",
      "/Users/alexi/Library/CloudStorage/OneDrive-Nexus365/Rotation Projects/Rotation_1/Project/DomAdpQSAR/DomAdpQSAR/presentation.py:38: UserWarning: Dataset has 0 variance; skipping density estimate. Pass `warn_singular=False` to disable this warning.\n",
      "  axes = sns.kdeplot(test_predictions, ax=axes, color=sns.color_palette()[2], bw_method=bandwidth,\n",
      "/Users/alexi/Library/CloudStorage/OneDrive-Nexus365/Rotation Projects/Rotation_1/Project/DomAdpQSAR/DomAdpQSAR/presentation.py:40: UserWarning: Dataset has 0 variance; skipping density estimate. Pass `warn_singular=False` to disable this warning.\n",
      "  axes = sns.kdeplot(train_predictions, ax=axes, color=sns.color_palette()[2], linewidth=0.5, bw_method=bandwidth,\n"
     ]
    },
    {
     "name": "stdout",
     "output_type": "stream",
     "text": [
      "Step 826, 0:00:05.761378...ize([1000, 2048])DNN Test Values:  ComparisonValues(ACC=tensor(0.8535), BAC=tensor(0.7791), MCC=tensor(0.5896), predicted_labels=tensor([0.0326, 0.0435, 0.0666,  ..., 0.0331, 0.0417, 0.0258]))\n",
      "GAN Test Values:  ComparisonValues(ACC=tensor(0.7527), BAC=tensor(0.5000), MCC=0.01, predicted_labels=tensor([0.4934, 0.4934, 0.4934,  ..., 0.4934, 0.4934, 0.4934]))\n"
     ]
    },
    {
     "name": "stderr",
     "output_type": "stream",
     "text": [
      "/Users/alexi/Library/CloudStorage/OneDrive-Nexus365/Rotation Projects/Rotation_1/Project/DomAdpQSAR/DomAdpQSAR/presentation.py:36: UserWarning: Dataset has 0 variance; skipping density estimate. Pass `warn_singular=False` to disable this warning.\n",
      "  axes = sns.kdeplot(unlabeled_predictions, ax=axes, color=sns.color_palette()[1], bw_method=bandwidth,\n",
      "/Users/alexi/Library/CloudStorage/OneDrive-Nexus365/Rotation Projects/Rotation_1/Project/DomAdpQSAR/DomAdpQSAR/presentation.py:38: UserWarning: Dataset has 0 variance; skipping density estimate. Pass `warn_singular=False` to disable this warning.\n",
      "  axes = sns.kdeplot(test_predictions, ax=axes, color=sns.color_palette()[2], bw_method=bandwidth,\n",
      "/Users/alexi/Library/CloudStorage/OneDrive-Nexus365/Rotation Projects/Rotation_1/Project/DomAdpQSAR/DomAdpQSAR/presentation.py:40: UserWarning: Dataset has 0 variance; skipping density estimate. Pass `warn_singular=False` to disable this warning.\n",
      "  axes = sns.kdeplot(train_predictions, ax=axes, color=sns.color_palette()[2], linewidth=0.5, bw_method=bandwidth,\n"
     ]
    },
    {
     "name": "stdout",
     "output_type": "stream",
     "text": [
      "Step 833, 0:00:06.065428...ize([1000, 2048])DNN Test Values:  ComparisonValues(ACC=tensor(0.8522), BAC=tensor(0.7779), MCC=tensor(0.5861), predicted_labels=tensor([0.0281, 0.0327, 0.0599,  ..., 0.0312, 0.0353, 0.0286]))\n",
      "GAN Test Values:  ComparisonValues(ACC=tensor(0.7527), BAC=tensor(0.5000), MCC=0.01, predicted_labels=tensor([0.4934, 0.4934, 0.4934,  ..., 0.4934, 0.4934, 0.4934]))\n"
     ]
    },
    {
     "name": "stderr",
     "output_type": "stream",
     "text": [
      "/Users/alexi/Library/CloudStorage/OneDrive-Nexus365/Rotation Projects/Rotation_1/Project/DomAdpQSAR/DomAdpQSAR/presentation.py:36: UserWarning: Dataset has 0 variance; skipping density estimate. Pass `warn_singular=False` to disable this warning.\n",
      "  axes = sns.kdeplot(unlabeled_predictions, ax=axes, color=sns.color_palette()[1], bw_method=bandwidth,\n",
      "/Users/alexi/Library/CloudStorage/OneDrive-Nexus365/Rotation Projects/Rotation_1/Project/DomAdpQSAR/DomAdpQSAR/presentation.py:38: UserWarning: Dataset has 0 variance; skipping density estimate. Pass `warn_singular=False` to disable this warning.\n",
      "  axes = sns.kdeplot(test_predictions, ax=axes, color=sns.color_palette()[2], bw_method=bandwidth,\n",
      "/Users/alexi/Library/CloudStorage/OneDrive-Nexus365/Rotation Projects/Rotation_1/Project/DomAdpQSAR/DomAdpQSAR/presentation.py:40: UserWarning: Dataset has 0 variance; skipping density estimate. Pass `warn_singular=False` to disable this warning.\n",
      "  axes = sns.kdeplot(train_predictions, ax=axes, color=sns.color_palette()[2], linewidth=0.5, bw_method=bandwidth,\n"
     ]
    },
    {
     "name": "stdout",
     "output_type": "stream",
     "text": [
      "Step 840, 0:00:05.564238...ize([1000, 2048])DNN Test Values:  ComparisonValues(ACC=tensor(0.8501), BAC=tensor(0.7744), MCC=tensor(0.5798), predicted_labels=tensor([0.8798, 0.8020, 0.2641,  ..., 0.0320, 0.0280, 0.0270]))\n",
      "GAN Test Values:  ComparisonValues(ACC=tensor(0.7527), BAC=tensor(0.5000), MCC=0.01, predicted_labels=tensor([0.4933, 0.4933, 0.4933,  ..., 0.4933, 0.4933, 0.4933]))\n"
     ]
    },
    {
     "name": "stderr",
     "output_type": "stream",
     "text": [
      "/Users/alexi/Library/CloudStorage/OneDrive-Nexus365/Rotation Projects/Rotation_1/Project/DomAdpQSAR/DomAdpQSAR/presentation.py:36: UserWarning: Dataset has 0 variance; skipping density estimate. Pass `warn_singular=False` to disable this warning.\n",
      "  axes = sns.kdeplot(unlabeled_predictions, ax=axes, color=sns.color_palette()[1], bw_method=bandwidth,\n",
      "/Users/alexi/Library/CloudStorage/OneDrive-Nexus365/Rotation Projects/Rotation_1/Project/DomAdpQSAR/DomAdpQSAR/presentation.py:38: UserWarning: Dataset has 0 variance; skipping density estimate. Pass `warn_singular=False` to disable this warning.\n",
      "  axes = sns.kdeplot(test_predictions, ax=axes, color=sns.color_palette()[2], bw_method=bandwidth,\n",
      "/Users/alexi/Library/CloudStorage/OneDrive-Nexus365/Rotation Projects/Rotation_1/Project/DomAdpQSAR/DomAdpQSAR/presentation.py:40: UserWarning: Dataset has 0 variance; skipping density estimate. Pass `warn_singular=False` to disable this warning.\n",
      "  axes = sns.kdeplot(train_predictions, ax=axes, color=sns.color_palette()[2], linewidth=0.5, bw_method=bandwidth,\n"
     ]
    },
    {
     "name": "stdout",
     "output_type": "stream",
     "text": [
      "Step 847, 0:00:06.010822...ize([1000, 2048])DNN Test Values:  ComparisonValues(ACC=tensor(0.8490), BAC=tensor(0.7749), MCC=tensor(0.5778), predicted_labels=tensor([0.9666, 0.0264, 0.9664,  ..., 0.0287, 0.0298, 0.3513]))\n",
      "GAN Test Values:  ComparisonValues(ACC=tensor(0.7527), BAC=tensor(0.5000), MCC=0.01, predicted_labels=tensor([0.4933, 0.4933, 0.4933,  ..., 0.4933, 0.4933, 0.4933]))\n"
     ]
    },
    {
     "name": "stderr",
     "output_type": "stream",
     "text": [
      "/Users/alexi/Library/CloudStorage/OneDrive-Nexus365/Rotation Projects/Rotation_1/Project/DomAdpQSAR/DomAdpQSAR/presentation.py:36: UserWarning: Dataset has 0 variance; skipping density estimate. Pass `warn_singular=False` to disable this warning.\n",
      "  axes = sns.kdeplot(unlabeled_predictions, ax=axes, color=sns.color_palette()[1], bw_method=bandwidth,\n",
      "/Users/alexi/Library/CloudStorage/OneDrive-Nexus365/Rotation Projects/Rotation_1/Project/DomAdpQSAR/DomAdpQSAR/presentation.py:38: UserWarning: Dataset has 0 variance; skipping density estimate. Pass `warn_singular=False` to disable this warning.\n",
      "  axes = sns.kdeplot(test_predictions, ax=axes, color=sns.color_palette()[2], bw_method=bandwidth,\n",
      "/Users/alexi/Library/CloudStorage/OneDrive-Nexus365/Rotation Projects/Rotation_1/Project/DomAdpQSAR/DomAdpQSAR/presentation.py:40: UserWarning: Dataset has 0 variance; skipping density estimate. Pass `warn_singular=False` to disable this warning.\n",
      "  axes = sns.kdeplot(train_predictions, ax=axes, color=sns.color_palette()[2], linewidth=0.5, bw_method=bandwidth,\n"
     ]
    },
    {
     "name": "stdout",
     "output_type": "stream",
     "text": [
      "Step 854, 0:00:05.595068...ize([1000, 2048])DNN Test Values:  ComparisonValues(ACC=tensor(0.8483), BAC=tensor(0.7763), MCC=tensor(0.5775), predicted_labels=tensor([0.0388, 0.0844, 0.0498,  ..., 0.8852, 0.0313, 0.0254]))\n",
      "GAN Test Values:  ComparisonValues(ACC=tensor(0.7527), BAC=tensor(0.5000), MCC=0.01, predicted_labels=tensor([0.4933, 0.4933, 0.4933,  ..., 0.4933, 0.4933, 0.4933]))\n"
     ]
    },
    {
     "name": "stderr",
     "output_type": "stream",
     "text": [
      "/Users/alexi/Library/CloudStorage/OneDrive-Nexus365/Rotation Projects/Rotation_1/Project/DomAdpQSAR/DomAdpQSAR/presentation.py:36: UserWarning: Dataset has 0 variance; skipping density estimate. Pass `warn_singular=False` to disable this warning.\n",
      "  axes = sns.kdeplot(unlabeled_predictions, ax=axes, color=sns.color_palette()[1], bw_method=bandwidth,\n",
      "/Users/alexi/Library/CloudStorage/OneDrive-Nexus365/Rotation Projects/Rotation_1/Project/DomAdpQSAR/DomAdpQSAR/presentation.py:38: UserWarning: Dataset has 0 variance; skipping density estimate. Pass `warn_singular=False` to disable this warning.\n",
      "  axes = sns.kdeplot(test_predictions, ax=axes, color=sns.color_palette()[2], bw_method=bandwidth,\n",
      "/Users/alexi/Library/CloudStorage/OneDrive-Nexus365/Rotation Projects/Rotation_1/Project/DomAdpQSAR/DomAdpQSAR/presentation.py:40: UserWarning: Dataset has 0 variance; skipping density estimate. Pass `warn_singular=False` to disable this warning.\n",
      "  axes = sns.kdeplot(train_predictions, ax=axes, color=sns.color_palette()[2], linewidth=0.5, bw_method=bandwidth,\n"
     ]
    },
    {
     "name": "stdout",
     "output_type": "stream",
     "text": [
      "Step 861, 0:00:05.411290...ize([1000, 2048])DNN Test Values:  ComparisonValues(ACC=tensor(0.8503), BAC=tensor(0.7752), MCC=tensor(0.5807), predicted_labels=tensor([0.0262, 0.0602, 0.0241,  ..., 0.0345, 0.9522, 0.9419]))\n",
      "GAN Test Values:  ComparisonValues(ACC=tensor(0.7527), BAC=tensor(0.5000), MCC=0.01, predicted_labels=tensor([0.4932, 0.4932, 0.4932,  ..., 0.4932, 0.4932, 0.4932]))\n"
     ]
    },
    {
     "name": "stderr",
     "output_type": "stream",
     "text": [
      "/Users/alexi/Library/CloudStorage/OneDrive-Nexus365/Rotation Projects/Rotation_1/Project/DomAdpQSAR/DomAdpQSAR/presentation.py:36: UserWarning: Dataset has 0 variance; skipping density estimate. Pass `warn_singular=False` to disable this warning.\n",
      "  axes = sns.kdeplot(unlabeled_predictions, ax=axes, color=sns.color_palette()[1], bw_method=bandwidth,\n",
      "/Users/alexi/Library/CloudStorage/OneDrive-Nexus365/Rotation Projects/Rotation_1/Project/DomAdpQSAR/DomAdpQSAR/presentation.py:38: UserWarning: Dataset has 0 variance; skipping density estimate. Pass `warn_singular=False` to disable this warning.\n",
      "  axes = sns.kdeplot(test_predictions, ax=axes, color=sns.color_palette()[2], bw_method=bandwidth,\n",
      "/Users/alexi/Library/CloudStorage/OneDrive-Nexus365/Rotation Projects/Rotation_1/Project/DomAdpQSAR/DomAdpQSAR/presentation.py:40: UserWarning: Dataset has 0 variance; skipping density estimate. Pass `warn_singular=False` to disable this warning.\n",
      "  axes = sns.kdeplot(train_predictions, ax=axes, color=sns.color_palette()[2], linewidth=0.5, bw_method=bandwidth,\n"
     ]
    },
    {
     "name": "stdout",
     "output_type": "stream",
     "text": [
      "Step 868, 0:00:05.674715...ize([1000, 2048])DNN Test Values:  ComparisonValues(ACC=tensor(0.8487), BAC=tensor(0.7741), MCC=tensor(0.5769), predicted_labels=tensor([0.8280, 0.4942, 0.0275,  ..., 0.9713, 0.0247, 0.9634]))\n",
      "GAN Test Values:  ComparisonValues(ACC=tensor(0.7527), BAC=tensor(0.5000), MCC=0.01, predicted_labels=tensor([0.4932, 0.4932, 0.4932,  ..., 0.4932, 0.4932, 0.4932]))\n"
     ]
    },
    {
     "name": "stderr",
     "output_type": "stream",
     "text": [
      "/Users/alexi/Library/CloudStorage/OneDrive-Nexus365/Rotation Projects/Rotation_1/Project/DomAdpQSAR/DomAdpQSAR/presentation.py:36: UserWarning: Dataset has 0 variance; skipping density estimate. Pass `warn_singular=False` to disable this warning.\n",
      "  axes = sns.kdeplot(unlabeled_predictions, ax=axes, color=sns.color_palette()[1], bw_method=bandwidth,\n",
      "/Users/alexi/Library/CloudStorage/OneDrive-Nexus365/Rotation Projects/Rotation_1/Project/DomAdpQSAR/DomAdpQSAR/presentation.py:38: UserWarning: Dataset has 0 variance; skipping density estimate. Pass `warn_singular=False` to disable this warning.\n",
      "  axes = sns.kdeplot(test_predictions, ax=axes, color=sns.color_palette()[2], bw_method=bandwidth,\n",
      "/Users/alexi/Library/CloudStorage/OneDrive-Nexus365/Rotation Projects/Rotation_1/Project/DomAdpQSAR/DomAdpQSAR/presentation.py:40: UserWarning: Dataset has 0 variance; skipping density estimate. Pass `warn_singular=False` to disable this warning.\n",
      "  axes = sns.kdeplot(train_predictions, ax=axes, color=sns.color_palette()[2], linewidth=0.5, bw_method=bandwidth,\n"
     ]
    },
    {
     "name": "stdout",
     "output_type": "stream",
     "text": [
      "Step 875, 0:00:06.655261...ize([1000, 2048])DNN Test Values:  ComparisonValues(ACC=tensor(0.8499), BAC=tensor(0.7814), MCC=tensor(0.5840), predicted_labels=tensor([0.0237, 0.0249, 0.9609,  ..., 0.0348, 0.0274, 0.0259]))\n",
      "GAN Test Values:  ComparisonValues(ACC=tensor(0.7527), BAC=tensor(0.5000), MCC=0.01, predicted_labels=tensor([0.4932, 0.4932, 0.4932,  ..., 0.4932, 0.4932, 0.4932]))\n"
     ]
    },
    {
     "name": "stderr",
     "output_type": "stream",
     "text": [
      "/Users/alexi/Library/CloudStorage/OneDrive-Nexus365/Rotation Projects/Rotation_1/Project/DomAdpQSAR/DomAdpQSAR/presentation.py:36: UserWarning: Dataset has 0 variance; skipping density estimate. Pass `warn_singular=False` to disable this warning.\n",
      "  axes = sns.kdeplot(unlabeled_predictions, ax=axes, color=sns.color_palette()[1], bw_method=bandwidth,\n",
      "/Users/alexi/Library/CloudStorage/OneDrive-Nexus365/Rotation Projects/Rotation_1/Project/DomAdpQSAR/DomAdpQSAR/presentation.py:38: UserWarning: Dataset has 0 variance; skipping density estimate. Pass `warn_singular=False` to disable this warning.\n",
      "  axes = sns.kdeplot(test_predictions, ax=axes, color=sns.color_palette()[2], bw_method=bandwidth,\n",
      "/Users/alexi/Library/CloudStorage/OneDrive-Nexus365/Rotation Projects/Rotation_1/Project/DomAdpQSAR/DomAdpQSAR/presentation.py:40: UserWarning: Dataset has 0 variance; skipping density estimate. Pass `warn_singular=False` to disable this warning.\n",
      "  axes = sns.kdeplot(train_predictions, ax=axes, color=sns.color_palette()[2], linewidth=0.5, bw_method=bandwidth,\n"
     ]
    },
    {
     "name": "stdout",
     "output_type": "stream",
     "text": [
      "Step 882, 0:00:06.808232...ize([1000, 2048])DNN Test Values:  ComparisonValues(ACC=tensor(0.8494), BAC=tensor(0.7804), MCC=tensor(0.5825), predicted_labels=tensor([0.0299, 0.0286, 0.0320,  ..., 0.0249, 0.0225, 0.9737]))\n",
      "GAN Test Values:  ComparisonValues(ACC=tensor(0.7527), BAC=tensor(0.5000), MCC=0.01, predicted_labels=tensor([0.4932, 0.4932, 0.4932,  ..., 0.4932, 0.4932, 0.4932]))\n"
     ]
    },
    {
     "name": "stderr",
     "output_type": "stream",
     "text": [
      "/Users/alexi/Library/CloudStorage/OneDrive-Nexus365/Rotation Projects/Rotation_1/Project/DomAdpQSAR/DomAdpQSAR/presentation.py:36: UserWarning: Dataset has 0 variance; skipping density estimate. Pass `warn_singular=False` to disable this warning.\n",
      "  axes = sns.kdeplot(unlabeled_predictions, ax=axes, color=sns.color_palette()[1], bw_method=bandwidth,\n",
      "/Users/alexi/Library/CloudStorage/OneDrive-Nexus365/Rotation Projects/Rotation_1/Project/DomAdpQSAR/DomAdpQSAR/presentation.py:38: UserWarning: Dataset has 0 variance; skipping density estimate. Pass `warn_singular=False` to disable this warning.\n",
      "  axes = sns.kdeplot(test_predictions, ax=axes, color=sns.color_palette()[2], bw_method=bandwidth,\n",
      "/Users/alexi/Library/CloudStorage/OneDrive-Nexus365/Rotation Projects/Rotation_1/Project/DomAdpQSAR/DomAdpQSAR/presentation.py:40: UserWarning: Dataset has 0 variance; skipping density estimate. Pass `warn_singular=False` to disable this warning.\n",
      "  axes = sns.kdeplot(train_predictions, ax=axes, color=sns.color_palette()[2], linewidth=0.5, bw_method=bandwidth,\n"
     ]
    },
    {
     "name": "stdout",
     "output_type": "stream",
     "text": [
      "Step 889, 0:00:05.717886...ize([1000, 2048])DNN Test Values:  ComparisonValues(ACC=tensor(0.8490), BAC=tensor(0.7798), MCC=tensor(0.5812), predicted_labels=tensor([0.0276, 0.0270, 0.0238,  ..., 0.9757, 0.3348, 0.0235]))\n",
      "GAN Test Values:  ComparisonValues(ACC=tensor(0.7527), BAC=tensor(0.5000), MCC=0.01, predicted_labels=tensor([0.4932, 0.4932, 0.4932,  ..., 0.4932, 0.4932, 0.4932]))\n"
     ]
    },
    {
     "name": "stderr",
     "output_type": "stream",
     "text": [
      "/Users/alexi/Library/CloudStorage/OneDrive-Nexus365/Rotation Projects/Rotation_1/Project/DomAdpQSAR/DomAdpQSAR/presentation.py:36: UserWarning: Dataset has 0 variance; skipping density estimate. Pass `warn_singular=False` to disable this warning.\n",
      "  axes = sns.kdeplot(unlabeled_predictions, ax=axes, color=sns.color_palette()[1], bw_method=bandwidth,\n",
      "/Users/alexi/Library/CloudStorage/OneDrive-Nexus365/Rotation Projects/Rotation_1/Project/DomAdpQSAR/DomAdpQSAR/presentation.py:38: UserWarning: Dataset has 0 variance; skipping density estimate. Pass `warn_singular=False` to disable this warning.\n",
      "  axes = sns.kdeplot(test_predictions, ax=axes, color=sns.color_palette()[2], bw_method=bandwidth,\n",
      "/Users/alexi/Library/CloudStorage/OneDrive-Nexus365/Rotation Projects/Rotation_1/Project/DomAdpQSAR/DomAdpQSAR/presentation.py:40: UserWarning: Dataset has 0 variance; skipping density estimate. Pass `warn_singular=False` to disable this warning.\n",
      "  axes = sns.kdeplot(train_predictions, ax=axes, color=sns.color_palette()[2], linewidth=0.5, bw_method=bandwidth,\n"
     ]
    },
    {
     "name": "stdout",
     "output_type": "stream",
     "text": [
      "Step 896, 0:00:05.953680...ize([1000, 2048])DNN Test Values:  ComparisonValues(ACC=tensor(0.8462), BAC=tensor(0.7808), MCC=tensor(0.5770), predicted_labels=tensor([0.0249, 0.0583, 0.0231,  ..., 0.0262, 0.0291, 0.0252]))\n",
      "GAN Test Values:  ComparisonValues(ACC=tensor(0.7527), BAC=tensor(0.5000), MCC=0.01, predicted_labels=tensor([0.4932, 0.4932, 0.4932,  ..., 0.4932, 0.4932, 0.4932]))\n"
     ]
    },
    {
     "name": "stderr",
     "output_type": "stream",
     "text": [
      "/Users/alexi/Library/CloudStorage/OneDrive-Nexus365/Rotation Projects/Rotation_1/Project/DomAdpQSAR/DomAdpQSAR/presentation.py:36: UserWarning: Dataset has 0 variance; skipping density estimate. Pass `warn_singular=False` to disable this warning.\n",
      "  axes = sns.kdeplot(unlabeled_predictions, ax=axes, color=sns.color_palette()[1], bw_method=bandwidth,\n",
      "/Users/alexi/Library/CloudStorage/OneDrive-Nexus365/Rotation Projects/Rotation_1/Project/DomAdpQSAR/DomAdpQSAR/presentation.py:38: UserWarning: Dataset has 0 variance; skipping density estimate. Pass `warn_singular=False` to disable this warning.\n",
      "  axes = sns.kdeplot(test_predictions, ax=axes, color=sns.color_palette()[2], bw_method=bandwidth,\n",
      "/Users/alexi/Library/CloudStorage/OneDrive-Nexus365/Rotation Projects/Rotation_1/Project/DomAdpQSAR/DomAdpQSAR/presentation.py:40: UserWarning: Dataset has 0 variance; skipping density estimate. Pass `warn_singular=False` to disable this warning.\n",
      "  axes = sns.kdeplot(train_predictions, ax=axes, color=sns.color_palette()[2], linewidth=0.5, bw_method=bandwidth,\n"
     ]
    },
    {
     "name": "stdout",
     "output_type": "stream",
     "text": [
      "Step 903, 0:00:05.945012...ize([1000, 2048])DNN Test Values:  ComparisonValues(ACC=tensor(0.8460), BAC=tensor(0.7834), MCC=tensor(0.5786), predicted_labels=tensor([0.0341, 0.0246, 0.0271,  ..., 0.9778, 0.0248, 0.0252]))\n",
      "GAN Test Values:  ComparisonValues(ACC=tensor(0.7527), BAC=tensor(0.5000), MCC=0.01, predicted_labels=tensor([0.4931, 0.4931, 0.4931,  ..., 0.4931, 0.4931, 0.4931]))\n"
     ]
    },
    {
     "name": "stderr",
     "output_type": "stream",
     "text": [
      "/Users/alexi/Library/CloudStorage/OneDrive-Nexus365/Rotation Projects/Rotation_1/Project/DomAdpQSAR/DomAdpQSAR/presentation.py:36: UserWarning: Dataset has 0 variance; skipping density estimate. Pass `warn_singular=False` to disable this warning.\n",
      "  axes = sns.kdeplot(unlabeled_predictions, ax=axes, color=sns.color_palette()[1], bw_method=bandwidth,\n",
      "/Users/alexi/Library/CloudStorage/OneDrive-Nexus365/Rotation Projects/Rotation_1/Project/DomAdpQSAR/DomAdpQSAR/presentation.py:38: UserWarning: Dataset has 0 variance; skipping density estimate. Pass `warn_singular=False` to disable this warning.\n",
      "  axes = sns.kdeplot(test_predictions, ax=axes, color=sns.color_palette()[2], bw_method=bandwidth,\n",
      "/Users/alexi/Library/CloudStorage/OneDrive-Nexus365/Rotation Projects/Rotation_1/Project/DomAdpQSAR/DomAdpQSAR/presentation.py:40: UserWarning: Dataset has 0 variance; skipping density estimate. Pass `warn_singular=False` to disable this warning.\n",
      "  axes = sns.kdeplot(train_predictions, ax=axes, color=sns.color_palette()[2], linewidth=0.5, bw_method=bandwidth,\n"
     ]
    },
    {
     "name": "stdout",
     "output_type": "stream",
     "text": [
      "Step 910, 0:00:06.367397...ize([1000, 2048])DNN Test Values:  ComparisonValues(ACC=tensor(0.8471), BAC=tensor(0.7817), MCC=tensor(0.5793), predicted_labels=tensor([0.0330, 0.0230, 0.9740,  ..., 0.0231, 0.0249, 0.9602]))\n",
      "GAN Test Values:  ComparisonValues(ACC=tensor(0.7527), BAC=tensor(0.5000), MCC=0.01, predicted_labels=tensor([0.4931, 0.4931, 0.4931,  ..., 0.4931, 0.4931, 0.4931]))\n"
     ]
    },
    {
     "name": "stderr",
     "output_type": "stream",
     "text": [
      "/Users/alexi/Library/CloudStorage/OneDrive-Nexus365/Rotation Projects/Rotation_1/Project/DomAdpQSAR/DomAdpQSAR/presentation.py:36: UserWarning: Dataset has 0 variance; skipping density estimate. Pass `warn_singular=False` to disable this warning.\n",
      "  axes = sns.kdeplot(unlabeled_predictions, ax=axes, color=sns.color_palette()[1], bw_method=bandwidth,\n",
      "/Users/alexi/Library/CloudStorage/OneDrive-Nexus365/Rotation Projects/Rotation_1/Project/DomAdpQSAR/DomAdpQSAR/presentation.py:38: UserWarning: Dataset has 0 variance; skipping density estimate. Pass `warn_singular=False` to disable this warning.\n",
      "  axes = sns.kdeplot(test_predictions, ax=axes, color=sns.color_palette()[2], bw_method=bandwidth,\n",
      "/Users/alexi/Library/CloudStorage/OneDrive-Nexus365/Rotation Projects/Rotation_1/Project/DomAdpQSAR/DomAdpQSAR/presentation.py:40: UserWarning: Dataset has 0 variance; skipping density estimate. Pass `warn_singular=False` to disable this warning.\n",
      "  axes = sns.kdeplot(train_predictions, ax=axes, color=sns.color_palette()[2], linewidth=0.5, bw_method=bandwidth,\n"
     ]
    },
    {
     "name": "stdout",
     "output_type": "stream",
     "text": [
      "Step 917, 0:00:05.947202...ize([1000, 2048])DNN Test Values:  ComparisonValues(ACC=tensor(0.8455), BAC=tensor(0.7809), MCC=tensor(0.5759), predicted_labels=tensor([0.0331, 0.9704, 0.0433,  ..., 0.9585, 0.8554, 0.0234]))\n",
      "GAN Test Values:  ComparisonValues(ACC=tensor(0.7527), BAC=tensor(0.5000), MCC=0.01, predicted_labels=tensor([0.4930, 0.4930, 0.4930,  ..., 0.4930, 0.4930, 0.4930]))\n"
     ]
    },
    {
     "name": "stderr",
     "output_type": "stream",
     "text": [
      "/Users/alexi/Library/CloudStorage/OneDrive-Nexus365/Rotation Projects/Rotation_1/Project/DomAdpQSAR/DomAdpQSAR/presentation.py:36: UserWarning: Dataset has 0 variance; skipping density estimate. Pass `warn_singular=False` to disable this warning.\n",
      "  axes = sns.kdeplot(unlabeled_predictions, ax=axes, color=sns.color_palette()[1], bw_method=bandwidth,\n",
      "/Users/alexi/Library/CloudStorage/OneDrive-Nexus365/Rotation Projects/Rotation_1/Project/DomAdpQSAR/DomAdpQSAR/presentation.py:38: UserWarning: Dataset has 0 variance; skipping density estimate. Pass `warn_singular=False` to disable this warning.\n",
      "  axes = sns.kdeplot(test_predictions, ax=axes, color=sns.color_palette()[2], bw_method=bandwidth,\n",
      "/Users/alexi/Library/CloudStorage/OneDrive-Nexus365/Rotation Projects/Rotation_1/Project/DomAdpQSAR/DomAdpQSAR/presentation.py:40: UserWarning: Dataset has 0 variance; skipping density estimate. Pass `warn_singular=False` to disable this warning.\n",
      "  axes = sns.kdeplot(train_predictions, ax=axes, color=sns.color_palette()[2], linewidth=0.5, bw_method=bandwidth,\n"
     ]
    },
    {
     "name": "stdout",
     "output_type": "stream",
     "text": [
      "Step 924, 0:00:05.860287...ize([1000, 2048])DNN Test Values:  ComparisonValues(ACC=tensor(0.8455), BAC=tensor(0.7779), MCC=tensor(0.5736), predicted_labels=tensor([0.0229, 0.0212, 0.0258,  ..., 0.0299, 0.0223, 0.8888]))\n",
      "GAN Test Values:  ComparisonValues(ACC=tensor(0.7527), BAC=tensor(0.5000), MCC=0.01, predicted_labels=tensor([0.4930, 0.4930, 0.4930,  ..., 0.4930, 0.4930, 0.4930]))\n"
     ]
    },
    {
     "name": "stderr",
     "output_type": "stream",
     "text": [
      "/Users/alexi/Library/CloudStorage/OneDrive-Nexus365/Rotation Projects/Rotation_1/Project/DomAdpQSAR/DomAdpQSAR/presentation.py:36: UserWarning: Dataset has 0 variance; skipping density estimate. Pass `warn_singular=False` to disable this warning.\n",
      "  axes = sns.kdeplot(unlabeled_predictions, ax=axes, color=sns.color_palette()[1], bw_method=bandwidth,\n",
      "/Users/alexi/Library/CloudStorage/OneDrive-Nexus365/Rotation Projects/Rotation_1/Project/DomAdpQSAR/DomAdpQSAR/presentation.py:38: UserWarning: Dataset has 0 variance; skipping density estimate. Pass `warn_singular=False` to disable this warning.\n",
      "  axes = sns.kdeplot(test_predictions, ax=axes, color=sns.color_palette()[2], bw_method=bandwidth,\n",
      "/Users/alexi/Library/CloudStorage/OneDrive-Nexus365/Rotation Projects/Rotation_1/Project/DomAdpQSAR/DomAdpQSAR/presentation.py:40: UserWarning: Dataset has 0 variance; skipping density estimate. Pass `warn_singular=False` to disable this warning.\n",
      "  axes = sns.kdeplot(train_predictions, ax=axes, color=sns.color_palette()[2], linewidth=0.5, bw_method=bandwidth,\n"
     ]
    },
    {
     "name": "stdout",
     "output_type": "stream",
     "text": [
      "Step 931, 0:00:05.916116...ize([1000, 2048])DNN Test Values:  ComparisonValues(ACC=tensor(0.8469), BAC=tensor(0.7822), MCC=tensor(0.5792), predicted_labels=tensor([0.0219, 0.0268, 0.9149,  ..., 0.9613, 0.9790, 0.0248]))\n",
      "GAN Test Values:  ComparisonValues(ACC=tensor(0.7527), BAC=tensor(0.5000), MCC=0.01, predicted_labels=tensor([0.4930, 0.4930, 0.4930,  ..., 0.4930, 0.4930, 0.4930]))\n"
     ]
    },
    {
     "name": "stderr",
     "output_type": "stream",
     "text": [
      "/Users/alexi/Library/CloudStorage/OneDrive-Nexus365/Rotation Projects/Rotation_1/Project/DomAdpQSAR/DomAdpQSAR/presentation.py:36: UserWarning: Dataset has 0 variance; skipping density estimate. Pass `warn_singular=False` to disable this warning.\n",
      "  axes = sns.kdeplot(unlabeled_predictions, ax=axes, color=sns.color_palette()[1], bw_method=bandwidth,\n",
      "/Users/alexi/Library/CloudStorage/OneDrive-Nexus365/Rotation Projects/Rotation_1/Project/DomAdpQSAR/DomAdpQSAR/presentation.py:38: UserWarning: Dataset has 0 variance; skipping density estimate. Pass `warn_singular=False` to disable this warning.\n",
      "  axes = sns.kdeplot(test_predictions, ax=axes, color=sns.color_palette()[2], bw_method=bandwidth,\n",
      "/Users/alexi/Library/CloudStorage/OneDrive-Nexus365/Rotation Projects/Rotation_1/Project/DomAdpQSAR/DomAdpQSAR/presentation.py:40: UserWarning: Dataset has 0 variance; skipping density estimate. Pass `warn_singular=False` to disable this warning.\n",
      "  axes = sns.kdeplot(train_predictions, ax=axes, color=sns.color_palette()[2], linewidth=0.5, bw_method=bandwidth,\n"
     ]
    },
    {
     "name": "stdout",
     "output_type": "stream",
     "text": [
      "Step 938, 0:00:06.204176...ize([1000, 2048])DNN Test Values:  ComparisonValues(ACC=tensor(0.8462), BAC=tensor(0.7777), MCC=tensor(0.5747), predicted_labels=tensor([0.0237, 0.9704, 0.0560,  ..., 0.0223, 0.0219, 0.0251]))\n",
      "GAN Test Values:  ComparisonValues(ACC=tensor(0.7527), BAC=tensor(0.5000), MCC=0.01, predicted_labels=tensor([0.4929, 0.4929, 0.4929,  ..., 0.4929, 0.4929, 0.4929]))\n"
     ]
    },
    {
     "name": "stderr",
     "output_type": "stream",
     "text": [
      "/Users/alexi/Library/CloudStorage/OneDrive-Nexus365/Rotation Projects/Rotation_1/Project/DomAdpQSAR/DomAdpQSAR/presentation.py:36: UserWarning: Dataset has 0 variance; skipping density estimate. Pass `warn_singular=False` to disable this warning.\n",
      "  axes = sns.kdeplot(unlabeled_predictions, ax=axes, color=sns.color_palette()[1], bw_method=bandwidth,\n",
      "/Users/alexi/Library/CloudStorage/OneDrive-Nexus365/Rotation Projects/Rotation_1/Project/DomAdpQSAR/DomAdpQSAR/presentation.py:38: UserWarning: Dataset has 0 variance; skipping density estimate. Pass `warn_singular=False` to disable this warning.\n",
      "  axes = sns.kdeplot(test_predictions, ax=axes, color=sns.color_palette()[2], bw_method=bandwidth,\n",
      "/Users/alexi/Library/CloudStorage/OneDrive-Nexus365/Rotation Projects/Rotation_1/Project/DomAdpQSAR/DomAdpQSAR/presentation.py:40: UserWarning: Dataset has 0 variance; skipping density estimate. Pass `warn_singular=False` to disable this warning.\n",
      "  axes = sns.kdeplot(train_predictions, ax=axes, color=sns.color_palette()[2], linewidth=0.5, bw_method=bandwidth,\n"
     ]
    },
    {
     "name": "stdout",
     "output_type": "stream",
     "text": [
      "Step 945, 0:00:05.626791...ize([1000, 2048])DNN Test Values:  ComparisonValues(ACC=tensor(0.8485), BAC=tensor(0.7808), MCC=tensor(0.5810), predicted_labels=tensor([0.0230, 0.0221, 0.0196,  ..., 0.0237, 0.9379, 0.0231]))\n",
      "GAN Test Values:  ComparisonValues(ACC=tensor(0.7527), BAC=tensor(0.5000), MCC=0.01, predicted_labels=tensor([0.4929, 0.4929, 0.4929,  ..., 0.4929, 0.4929, 0.4929]))\n"
     ]
    },
    {
     "name": "stderr",
     "output_type": "stream",
     "text": [
      "/Users/alexi/Library/CloudStorage/OneDrive-Nexus365/Rotation Projects/Rotation_1/Project/DomAdpQSAR/DomAdpQSAR/presentation.py:36: UserWarning: Dataset has 0 variance; skipping density estimate. Pass `warn_singular=False` to disable this warning.\n",
      "  axes = sns.kdeplot(unlabeled_predictions, ax=axes, color=sns.color_palette()[1], bw_method=bandwidth,\n",
      "/Users/alexi/Library/CloudStorage/OneDrive-Nexus365/Rotation Projects/Rotation_1/Project/DomAdpQSAR/DomAdpQSAR/presentation.py:38: UserWarning: Dataset has 0 variance; skipping density estimate. Pass `warn_singular=False` to disable this warning.\n",
      "  axes = sns.kdeplot(test_predictions, ax=axes, color=sns.color_palette()[2], bw_method=bandwidth,\n",
      "/Users/alexi/Library/CloudStorage/OneDrive-Nexus365/Rotation Projects/Rotation_1/Project/DomAdpQSAR/DomAdpQSAR/presentation.py:40: UserWarning: Dataset has 0 variance; skipping density estimate. Pass `warn_singular=False` to disable this warning.\n",
      "  axes = sns.kdeplot(train_predictions, ax=axes, color=sns.color_palette()[2], linewidth=0.5, bw_method=bandwidth,\n"
     ]
    },
    {
     "name": "stdout",
     "output_type": "stream",
     "text": [
      "Step 952, 0:00:06.049915...ize([1000, 2048])DNN Test Values:  ComparisonValues(ACC=tensor(0.8487), BAC=tensor(0.7843), MCC=tensor(0.5840), predicted_labels=tensor([0.0390, 0.0315, 0.2488,  ..., 0.0237, 0.9783, 0.0239]))\n",
      "GAN Test Values:  ComparisonValues(ACC=tensor(0.7527), BAC=tensor(0.5000), MCC=0.01, predicted_labels=tensor([0.4930, 0.4930, 0.4930,  ..., 0.4930, 0.4930, 0.4930]))\n"
     ]
    },
    {
     "name": "stderr",
     "output_type": "stream",
     "text": [
      "/Users/alexi/Library/CloudStorage/OneDrive-Nexus365/Rotation Projects/Rotation_1/Project/DomAdpQSAR/DomAdpQSAR/presentation.py:36: UserWarning: Dataset has 0 variance; skipping density estimate. Pass `warn_singular=False` to disable this warning.\n",
      "  axes = sns.kdeplot(unlabeled_predictions, ax=axes, color=sns.color_palette()[1], bw_method=bandwidth,\n",
      "/Users/alexi/Library/CloudStorage/OneDrive-Nexus365/Rotation Projects/Rotation_1/Project/DomAdpQSAR/DomAdpQSAR/presentation.py:38: UserWarning: Dataset has 0 variance; skipping density estimate. Pass `warn_singular=False` to disable this warning.\n",
      "  axes = sns.kdeplot(test_predictions, ax=axes, color=sns.color_palette()[2], bw_method=bandwidth,\n",
      "/Users/alexi/Library/CloudStorage/OneDrive-Nexus365/Rotation Projects/Rotation_1/Project/DomAdpQSAR/DomAdpQSAR/presentation.py:40: UserWarning: Dataset has 0 variance; skipping density estimate. Pass `warn_singular=False` to disable this warning.\n",
      "  axes = sns.kdeplot(train_predictions, ax=axes, color=sns.color_palette()[2], linewidth=0.5, bw_method=bandwidth,\n"
     ]
    },
    {
     "name": "stdout",
     "output_type": "stream",
     "text": [
      "Step 959, 0:00:06.001055...ize([1000, 2048])DNN Test Values:  ComparisonValues(ACC=tensor(0.8490), BAC=tensor(0.7807), MCC=tensor(0.5819), predicted_labels=tensor([0.0515, 0.0228, 0.0250,  ..., 0.0219, 0.0257, 0.9288]))\n",
      "GAN Test Values:  ComparisonValues(ACC=tensor(0.7527), BAC=tensor(0.5000), MCC=0.01, predicted_labels=tensor([0.4930, 0.4930, 0.4930,  ..., 0.4930, 0.4930, 0.4930]))\n"
     ]
    },
    {
     "name": "stderr",
     "output_type": "stream",
     "text": [
      "/Users/alexi/Library/CloudStorage/OneDrive-Nexus365/Rotation Projects/Rotation_1/Project/DomAdpQSAR/DomAdpQSAR/presentation.py:36: UserWarning: Dataset has 0 variance; skipping density estimate. Pass `warn_singular=False` to disable this warning.\n",
      "  axes = sns.kdeplot(unlabeled_predictions, ax=axes, color=sns.color_palette()[1], bw_method=bandwidth,\n",
      "/Users/alexi/Library/CloudStorage/OneDrive-Nexus365/Rotation Projects/Rotation_1/Project/DomAdpQSAR/DomAdpQSAR/presentation.py:38: UserWarning: Dataset has 0 variance; skipping density estimate. Pass `warn_singular=False` to disable this warning.\n",
      "  axes = sns.kdeplot(test_predictions, ax=axes, color=sns.color_palette()[2], bw_method=bandwidth,\n",
      "/Users/alexi/Library/CloudStorage/OneDrive-Nexus365/Rotation Projects/Rotation_1/Project/DomAdpQSAR/DomAdpQSAR/presentation.py:40: UserWarning: Dataset has 0 variance; skipping density estimate. Pass `warn_singular=False` to disable this warning.\n",
      "  axes = sns.kdeplot(train_predictions, ax=axes, color=sns.color_palette()[2], linewidth=0.5, bw_method=bandwidth,\n"
     ]
    },
    {
     "name": "stdout",
     "output_type": "stream",
     "text": [
      "Step 966, 0:00:05.829182...ize([1000, 2048])DNN Test Values:  ComparisonValues(ACC=tensor(0.8490), BAC=tensor(0.7832), MCC=tensor(0.5836), predicted_labels=tensor([0.9682, 0.0237, 0.0222,  ..., 0.9799, 0.0244, 0.0286]))\n",
      "GAN Test Values:  ComparisonValues(ACC=tensor(0.7527), BAC=tensor(0.5000), MCC=0.01, predicted_labels=tensor([0.4930, 0.4930, 0.4930,  ..., 0.4930, 0.4930, 0.4930]))\n"
     ]
    },
    {
     "name": "stderr",
     "output_type": "stream",
     "text": [
      "/Users/alexi/Library/CloudStorage/OneDrive-Nexus365/Rotation Projects/Rotation_1/Project/DomAdpQSAR/DomAdpQSAR/presentation.py:36: UserWarning: Dataset has 0 variance; skipping density estimate. Pass `warn_singular=False` to disable this warning.\n",
      "  axes = sns.kdeplot(unlabeled_predictions, ax=axes, color=sns.color_palette()[1], bw_method=bandwidth,\n",
      "/Users/alexi/Library/CloudStorage/OneDrive-Nexus365/Rotation Projects/Rotation_1/Project/DomAdpQSAR/DomAdpQSAR/presentation.py:38: UserWarning: Dataset has 0 variance; skipping density estimate. Pass `warn_singular=False` to disable this warning.\n",
      "  axes = sns.kdeplot(test_predictions, ax=axes, color=sns.color_palette()[2], bw_method=bandwidth,\n",
      "/Users/alexi/Library/CloudStorage/OneDrive-Nexus365/Rotation Projects/Rotation_1/Project/DomAdpQSAR/DomAdpQSAR/presentation.py:40: UserWarning: Dataset has 0 variance; skipping density estimate. Pass `warn_singular=False` to disable this warning.\n",
      "  axes = sns.kdeplot(train_predictions, ax=axes, color=sns.color_palette()[2], linewidth=0.5, bw_method=bandwidth,\n"
     ]
    },
    {
     "name": "stdout",
     "output_type": "stream",
     "text": [
      "Step 973, 0:00:05.618484...ize([1000, 2048])DNN Test Values:  ComparisonValues(ACC=tensor(0.8487), BAC=tensor(0.7874), MCC=tensor(0.5863), predicted_labels=tensor([0.0210, 0.0441, 0.0223,  ..., 0.9264, 0.0222, 0.0286]))\n",
      "GAN Test Values:  ComparisonValues(ACC=tensor(0.7527), BAC=tensor(0.5000), MCC=0.01, predicted_labels=tensor([0.4930, 0.4930, 0.4930,  ..., 0.4930, 0.4930, 0.4930]))\n"
     ]
    },
    {
     "name": "stderr",
     "output_type": "stream",
     "text": [
      "/Users/alexi/Library/CloudStorage/OneDrive-Nexus365/Rotation Projects/Rotation_1/Project/DomAdpQSAR/DomAdpQSAR/presentation.py:36: UserWarning: Dataset has 0 variance; skipping density estimate. Pass `warn_singular=False` to disable this warning.\n",
      "  axes = sns.kdeplot(unlabeled_predictions, ax=axes, color=sns.color_palette()[1], bw_method=bandwidth,\n",
      "/Users/alexi/Library/CloudStorage/OneDrive-Nexus365/Rotation Projects/Rotation_1/Project/DomAdpQSAR/DomAdpQSAR/presentation.py:38: UserWarning: Dataset has 0 variance; skipping density estimate. Pass `warn_singular=False` to disable this warning.\n",
      "  axes = sns.kdeplot(test_predictions, ax=axes, color=sns.color_palette()[2], bw_method=bandwidth,\n",
      "/Users/alexi/Library/CloudStorage/OneDrive-Nexus365/Rotation Projects/Rotation_1/Project/DomAdpQSAR/DomAdpQSAR/presentation.py:40: UserWarning: Dataset has 0 variance; skipping density estimate. Pass `warn_singular=False` to disable this warning.\n",
      "  axes = sns.kdeplot(train_predictions, ax=axes, color=sns.color_palette()[2], linewidth=0.5, bw_method=bandwidth,\n"
     ]
    },
    {
     "name": "stdout",
     "output_type": "stream",
     "text": [
      "Step 980, 0:00:06.084069...ize([1000, 2048])DNN Test Values:  ComparisonValues(ACC=tensor(0.8492), BAC=tensor(0.7821), MCC=tensor(0.5833), predicted_labels=tensor([0.9372, 0.9750, 0.0218,  ..., 0.9427, 0.0257, 0.0225]))\n",
      "GAN Test Values:  ComparisonValues(ACC=tensor(0.7527), BAC=tensor(0.5000), MCC=0.01, predicted_labels=tensor([0.4929, 0.4929, 0.4929,  ..., 0.4929, 0.4929, 0.4929]))\n"
     ]
    },
    {
     "name": "stderr",
     "output_type": "stream",
     "text": [
      "/Users/alexi/Library/CloudStorage/OneDrive-Nexus365/Rotation Projects/Rotation_1/Project/DomAdpQSAR/DomAdpQSAR/presentation.py:36: UserWarning: Dataset has 0 variance; skipping density estimate. Pass `warn_singular=False` to disable this warning.\n",
      "  axes = sns.kdeplot(unlabeled_predictions, ax=axes, color=sns.color_palette()[1], bw_method=bandwidth,\n",
      "/Users/alexi/Library/CloudStorage/OneDrive-Nexus365/Rotation Projects/Rotation_1/Project/DomAdpQSAR/DomAdpQSAR/presentation.py:38: UserWarning: Dataset has 0 variance; skipping density estimate. Pass `warn_singular=False` to disable this warning.\n",
      "  axes = sns.kdeplot(test_predictions, ax=axes, color=sns.color_palette()[2], bw_method=bandwidth,\n",
      "/Users/alexi/Library/CloudStorage/OneDrive-Nexus365/Rotation Projects/Rotation_1/Project/DomAdpQSAR/DomAdpQSAR/presentation.py:40: UserWarning: Dataset has 0 variance; skipping density estimate. Pass `warn_singular=False` to disable this warning.\n",
      "  axes = sns.kdeplot(train_predictions, ax=axes, color=sns.color_palette()[2], linewidth=0.5, bw_method=bandwidth,\n"
     ]
    },
    {
     "name": "stdout",
     "output_type": "stream",
     "text": [
      "Step 987, 0:00:05.955000...ize([1000, 2048])DNN Test Values:  ComparisonValues(ACC=tensor(0.8494), BAC=tensor(0.7810), MCC=tensor(0.5829), predicted_labels=tensor([0.0240, 0.7251, 0.0209,  ..., 0.0212, 0.0405, 0.0257]))\n",
      "GAN Test Values:  ComparisonValues(ACC=tensor(0.7527), BAC=tensor(0.5000), MCC=0.01, predicted_labels=tensor([0.4929, 0.4929, 0.4929,  ..., 0.4929, 0.4929, 0.4929]))\n"
     ]
    },
    {
     "name": "stderr",
     "output_type": "stream",
     "text": [
      "/Users/alexi/Library/CloudStorage/OneDrive-Nexus365/Rotation Projects/Rotation_1/Project/DomAdpQSAR/DomAdpQSAR/presentation.py:36: UserWarning: Dataset has 0 variance; skipping density estimate. Pass `warn_singular=False` to disable this warning.\n",
      "  axes = sns.kdeplot(unlabeled_predictions, ax=axes, color=sns.color_palette()[1], bw_method=bandwidth,\n",
      "/Users/alexi/Library/CloudStorage/OneDrive-Nexus365/Rotation Projects/Rotation_1/Project/DomAdpQSAR/DomAdpQSAR/presentation.py:38: UserWarning: Dataset has 0 variance; skipping density estimate. Pass `warn_singular=False` to disable this warning.\n",
      "  axes = sns.kdeplot(test_predictions, ax=axes, color=sns.color_palette()[2], bw_method=bandwidth,\n",
      "/Users/alexi/Library/CloudStorage/OneDrive-Nexus365/Rotation Projects/Rotation_1/Project/DomAdpQSAR/DomAdpQSAR/presentation.py:40: UserWarning: Dataset has 0 variance; skipping density estimate. Pass `warn_singular=False` to disable this warning.\n",
      "  axes = sns.kdeplot(train_predictions, ax=axes, color=sns.color_palette()[2], linewidth=0.5, bw_method=bandwidth,\n"
     ]
    },
    {
     "name": "stdout",
     "output_type": "stream",
     "text": [
      "Step 994, 0:00:07.079486...ize([1000, 2048])DNN Test Values:  ComparisonValues(ACC=tensor(0.8501), BAC=tensor(0.7834), MCC=tensor(0.5858), predicted_labels=tensor([0.0205, 0.9623, 0.0233,  ..., 0.9775, 0.9809, 0.0211]))\n",
      "GAN Test Values:  ComparisonValues(ACC=tensor(0.7527), BAC=tensor(0.5000), MCC=0.01, predicted_labels=tensor([0.4928, 0.4928, 0.4928,  ..., 0.4928, 0.4928, 0.4928]))\n"
     ]
    },
    {
     "name": "stderr",
     "output_type": "stream",
     "text": [
      "/Users/alexi/Library/CloudStorage/OneDrive-Nexus365/Rotation Projects/Rotation_1/Project/DomAdpQSAR/DomAdpQSAR/presentation.py:36: UserWarning: Dataset has 0 variance; skipping density estimate. Pass `warn_singular=False` to disable this warning.\n",
      "  axes = sns.kdeplot(unlabeled_predictions, ax=axes, color=sns.color_palette()[1], bw_method=bandwidth,\n",
      "/Users/alexi/Library/CloudStorage/OneDrive-Nexus365/Rotation Projects/Rotation_1/Project/DomAdpQSAR/DomAdpQSAR/presentation.py:38: UserWarning: Dataset has 0 variance; skipping density estimate. Pass `warn_singular=False` to disable this warning.\n",
      "  axes = sns.kdeplot(test_predictions, ax=axes, color=sns.color_palette()[2], bw_method=bandwidth,\n",
      "/Users/alexi/Library/CloudStorage/OneDrive-Nexus365/Rotation Projects/Rotation_1/Project/DomAdpQSAR/DomAdpQSAR/presentation.py:40: UserWarning: Dataset has 0 variance; skipping density estimate. Pass `warn_singular=False` to disable this warning.\n",
      "  axes = sns.kdeplot(train_predictions, ax=axes, color=sns.color_palette()[2], linewidth=0.5, bw_method=bandwidth,\n"
     ]
    },
    {
     "name": "stdout",
     "output_type": "stream",
     "text": [
      "Step 1001, 0:00:05.627728...ize([1000, 2048])DNN Test Values:  ComparisonValues(ACC=tensor(0.8485), BAC=tensor(0.7770), MCC=tensor(0.5784), predicted_labels=tensor([0.0566, 0.8528, 0.2336,  ..., 0.9569, 0.0261, 0.0444]))\n",
      "GAN Test Values:  ComparisonValues(ACC=tensor(0.7527), BAC=tensor(0.5000), MCC=0.01, predicted_labels=tensor([0.4927, 0.4927, 0.4927,  ..., 0.4927, 0.4927, 0.4927]))\n"
     ]
    },
    {
     "name": "stderr",
     "output_type": "stream",
     "text": [
      "/Users/alexi/Library/CloudStorage/OneDrive-Nexus365/Rotation Projects/Rotation_1/Project/DomAdpQSAR/DomAdpQSAR/presentation.py:36: UserWarning: Dataset has 0 variance; skipping density estimate. Pass `warn_singular=False` to disable this warning.\n",
      "  axes = sns.kdeplot(unlabeled_predictions, ax=axes, color=sns.color_palette()[1], bw_method=bandwidth,\n",
      "/Users/alexi/Library/CloudStorage/OneDrive-Nexus365/Rotation Projects/Rotation_1/Project/DomAdpQSAR/DomAdpQSAR/presentation.py:38: UserWarning: Dataset has 0 variance; skipping density estimate. Pass `warn_singular=False` to disable this warning.\n",
      "  axes = sns.kdeplot(test_predictions, ax=axes, color=sns.color_palette()[2], bw_method=bandwidth,\n",
      "/Users/alexi/Library/CloudStorage/OneDrive-Nexus365/Rotation Projects/Rotation_1/Project/DomAdpQSAR/DomAdpQSAR/presentation.py:40: UserWarning: Dataset has 0 variance; skipping density estimate. Pass `warn_singular=False` to disable this warning.\n",
      "  axes = sns.kdeplot(train_predictions, ax=axes, color=sns.color_palette()[2], linewidth=0.5, bw_method=bandwidth,\n"
     ]
    },
    {
     "name": "stdout",
     "output_type": "stream",
     "text": [
      "Step 1008, 0:00:06.115208...ize([1000, 2048])DNN Test Values:  ComparisonValues(ACC=tensor(0.8494), BAC=tensor(0.7810), MCC=tensor(0.5829), predicted_labels=tensor([0.0216, 0.5993, 0.0270,  ..., 0.0694, 0.0203, 0.0243]))\n",
      "GAN Test Values:  ComparisonValues(ACC=tensor(0.7527), BAC=tensor(0.5000), MCC=0.01, predicted_labels=tensor([0.4927, 0.4927, 0.4927,  ..., 0.4927, 0.4927, 0.4927]))\n"
     ]
    },
    {
     "name": "stderr",
     "output_type": "stream",
     "text": [
      "/Users/alexi/Library/CloudStorage/OneDrive-Nexus365/Rotation Projects/Rotation_1/Project/DomAdpQSAR/DomAdpQSAR/presentation.py:36: UserWarning: Dataset has 0 variance; skipping density estimate. Pass `warn_singular=False` to disable this warning.\n",
      "  axes = sns.kdeplot(unlabeled_predictions, ax=axes, color=sns.color_palette()[1], bw_method=bandwidth,\n",
      "/Users/alexi/Library/CloudStorage/OneDrive-Nexus365/Rotation Projects/Rotation_1/Project/DomAdpQSAR/DomAdpQSAR/presentation.py:38: UserWarning: Dataset has 0 variance; skipping density estimate. Pass `warn_singular=False` to disable this warning.\n",
      "  axes = sns.kdeplot(test_predictions, ax=axes, color=sns.color_palette()[2], bw_method=bandwidth,\n",
      "/Users/alexi/Library/CloudStorage/OneDrive-Nexus365/Rotation Projects/Rotation_1/Project/DomAdpQSAR/DomAdpQSAR/presentation.py:40: UserWarning: Dataset has 0 variance; skipping density estimate. Pass `warn_singular=False` to disable this warning.\n",
      "  axes = sns.kdeplot(train_predictions, ax=axes, color=sns.color_palette()[2], linewidth=0.5, bw_method=bandwidth,\n"
     ]
    },
    {
     "name": "stdout",
     "output_type": "stream",
     "text": [
      "Step 1015, 0:00:06.336697...ize([1000, 2048])DNN Test Values:  ComparisonValues(ACC=tensor(0.8503), BAC=tensor(0.7820), MCC=tensor(0.5852), predicted_labels=tensor([0.0270, 0.9436, 0.0453,  ..., 0.0226, 0.0200, 0.0200]))\n",
      "GAN Test Values:  ComparisonValues(ACC=tensor(0.7527), BAC=tensor(0.5000), MCC=0.01, predicted_labels=tensor([0.4926, 0.4926, 0.4926,  ..., 0.4926, 0.4926, 0.4926]))\n"
     ]
    },
    {
     "name": "stderr",
     "output_type": "stream",
     "text": [
      "/Users/alexi/Library/CloudStorage/OneDrive-Nexus365/Rotation Projects/Rotation_1/Project/DomAdpQSAR/DomAdpQSAR/presentation.py:36: UserWarning: Dataset has 0 variance; skipping density estimate. Pass `warn_singular=False` to disable this warning.\n",
      "  axes = sns.kdeplot(unlabeled_predictions, ax=axes, color=sns.color_palette()[1], bw_method=bandwidth,\n",
      "/Users/alexi/Library/CloudStorage/OneDrive-Nexus365/Rotation Projects/Rotation_1/Project/DomAdpQSAR/DomAdpQSAR/presentation.py:38: UserWarning: Dataset has 0 variance; skipping density estimate. Pass `warn_singular=False` to disable this warning.\n",
      "  axes = sns.kdeplot(test_predictions, ax=axes, color=sns.color_palette()[2], bw_method=bandwidth,\n",
      "/Users/alexi/Library/CloudStorage/OneDrive-Nexus365/Rotation Projects/Rotation_1/Project/DomAdpQSAR/DomAdpQSAR/presentation.py:40: UserWarning: Dataset has 0 variance; skipping density estimate. Pass `warn_singular=False` to disable this warning.\n",
      "  axes = sns.kdeplot(train_predictions, ax=axes, color=sns.color_palette()[2], linewidth=0.5, bw_method=bandwidth,\n"
     ]
    },
    {
     "name": "stdout",
     "output_type": "stream",
     "text": [
      "Step 1022, 0:00:06.235870...ize([1000, 2048])DNN Test Values:  ComparisonValues(ACC=tensor(0.8508), BAC=tensor(0.7782), MCC=tensor(0.5836), predicted_labels=tensor([0.9730, 0.0230, 0.0225,  ..., 0.9455, 0.0308, 0.0247]))\n",
      "GAN Test Values:  ComparisonValues(ACC=tensor(0.7527), BAC=tensor(0.5000), MCC=0.01, predicted_labels=tensor([0.4925, 0.4925, 0.4925,  ..., 0.4925, 0.4925, 0.4925]))\n"
     ]
    },
    {
     "name": "stderr",
     "output_type": "stream",
     "text": [
      "/Users/alexi/Library/CloudStorage/OneDrive-Nexus365/Rotation Projects/Rotation_1/Project/DomAdpQSAR/DomAdpQSAR/presentation.py:36: UserWarning: Dataset has 0 variance; skipping density estimate. Pass `warn_singular=False` to disable this warning.\n",
      "  axes = sns.kdeplot(unlabeled_predictions, ax=axes, color=sns.color_palette()[1], bw_method=bandwidth,\n",
      "/Users/alexi/Library/CloudStorage/OneDrive-Nexus365/Rotation Projects/Rotation_1/Project/DomAdpQSAR/DomAdpQSAR/presentation.py:38: UserWarning: Dataset has 0 variance; skipping density estimate. Pass `warn_singular=False` to disable this warning.\n",
      "  axes = sns.kdeplot(test_predictions, ax=axes, color=sns.color_palette()[2], bw_method=bandwidth,\n",
      "/Users/alexi/Library/CloudStorage/OneDrive-Nexus365/Rotation Projects/Rotation_1/Project/DomAdpQSAR/DomAdpQSAR/presentation.py:40: UserWarning: Dataset has 0 variance; skipping density estimate. Pass `warn_singular=False` to disable this warning.\n",
      "  axes = sns.kdeplot(train_predictions, ax=axes, color=sns.color_palette()[2], linewidth=0.5, bw_method=bandwidth,\n"
     ]
    },
    {
     "name": "stdout",
     "output_type": "stream",
     "text": [
      "Step 1029, 0:00:06.221680...ize([1000, 2048])DNN Test Values:  ComparisonValues(ACC=tensor(0.8515), BAC=tensor(0.7837), MCC=tensor(0.5885), predicted_labels=tensor([0.0200, 0.0196, 0.0308,  ..., 0.0218, 0.0192, 0.0187]))\n",
      "GAN Test Values:  ComparisonValues(ACC=tensor(0.7527), BAC=tensor(0.5000), MCC=0.01, predicted_labels=tensor([0.4925, 0.4925, 0.4925,  ..., 0.4925, 0.4925, 0.4925]))\n"
     ]
    },
    {
     "name": "stderr",
     "output_type": "stream",
     "text": [
      "/Users/alexi/Library/CloudStorage/OneDrive-Nexus365/Rotation Projects/Rotation_1/Project/DomAdpQSAR/DomAdpQSAR/presentation.py:36: UserWarning: Dataset has 0 variance; skipping density estimate. Pass `warn_singular=False` to disable this warning.\n",
      "  axes = sns.kdeplot(unlabeled_predictions, ax=axes, color=sns.color_palette()[1], bw_method=bandwidth,\n",
      "/Users/alexi/Library/CloudStorage/OneDrive-Nexus365/Rotation Projects/Rotation_1/Project/DomAdpQSAR/DomAdpQSAR/presentation.py:38: UserWarning: Dataset has 0 variance; skipping density estimate. Pass `warn_singular=False` to disable this warning.\n",
      "  axes = sns.kdeplot(test_predictions, ax=axes, color=sns.color_palette()[2], bw_method=bandwidth,\n",
      "/Users/alexi/Library/CloudStorage/OneDrive-Nexus365/Rotation Projects/Rotation_1/Project/DomAdpQSAR/DomAdpQSAR/presentation.py:40: UserWarning: Dataset has 0 variance; skipping density estimate. Pass `warn_singular=False` to disable this warning.\n",
      "  axes = sns.kdeplot(train_predictions, ax=axes, color=sns.color_palette()[2], linewidth=0.5, bw_method=bandwidth,\n"
     ]
    },
    {
     "name": "stdout",
     "output_type": "stream",
     "text": [
      "Step 1036, 0:00:05.992277...ize([1000, 2048])DNN Test Values:  ComparisonValues(ACC=tensor(0.8503), BAC=tensor(0.7804), MCC=tensor(0.5842), predicted_labels=tensor([0.0224, 0.9777, 0.0277,  ..., 0.0193, 0.9739, 0.0212]))\n",
      "GAN Test Values:  ComparisonValues(ACC=tensor(0.7527), BAC=tensor(0.5000), MCC=0.01, predicted_labels=tensor([0.4924, 0.4924, 0.4924,  ..., 0.4924, 0.4924, 0.4924]))\n"
     ]
    },
    {
     "name": "stderr",
     "output_type": "stream",
     "text": [
      "/Users/alexi/Library/CloudStorage/OneDrive-Nexus365/Rotation Projects/Rotation_1/Project/DomAdpQSAR/DomAdpQSAR/presentation.py:36: UserWarning: Dataset has 0 variance; skipping density estimate. Pass `warn_singular=False` to disable this warning.\n",
      "  axes = sns.kdeplot(unlabeled_predictions, ax=axes, color=sns.color_palette()[1], bw_method=bandwidth,\n",
      "/Users/alexi/Library/CloudStorage/OneDrive-Nexus365/Rotation Projects/Rotation_1/Project/DomAdpQSAR/DomAdpQSAR/presentation.py:38: UserWarning: Dataset has 0 variance; skipping density estimate. Pass `warn_singular=False` to disable this warning.\n",
      "  axes = sns.kdeplot(test_predictions, ax=axes, color=sns.color_palette()[2], bw_method=bandwidth,\n",
      "/Users/alexi/Library/CloudStorage/OneDrive-Nexus365/Rotation Projects/Rotation_1/Project/DomAdpQSAR/DomAdpQSAR/presentation.py:40: UserWarning: Dataset has 0 variance; skipping density estimate. Pass `warn_singular=False` to disable this warning.\n",
      "  axes = sns.kdeplot(train_predictions, ax=axes, color=sns.color_palette()[2], linewidth=0.5, bw_method=bandwidth,\n"
     ]
    },
    {
     "name": "stdout",
     "output_type": "stream",
     "text": [
      "Step 1043, 0:00:06.227814...ize([1000, 2048])DNN Test Values:  ComparisonValues(ACC=tensor(0.8490), BAC=tensor(0.7773), MCC=tensor(0.5795), predicted_labels=tensor([0.9819, 0.0202, 0.0191,  ..., 0.0200, 0.0183, 0.0185]))\n",
      "GAN Test Values:  ComparisonValues(ACC=tensor(0.7527), BAC=tensor(0.5000), MCC=0.01, predicted_labels=tensor([0.4924, 0.4924, 0.4924,  ..., 0.4924, 0.4924, 0.4924]))\n"
     ]
    },
    {
     "name": "stderr",
     "output_type": "stream",
     "text": [
      "/Users/alexi/Library/CloudStorage/OneDrive-Nexus365/Rotation Projects/Rotation_1/Project/DomAdpQSAR/DomAdpQSAR/presentation.py:36: UserWarning: Dataset has 0 variance; skipping density estimate. Pass `warn_singular=False` to disable this warning.\n",
      "  axes = sns.kdeplot(unlabeled_predictions, ax=axes, color=sns.color_palette()[1], bw_method=bandwidth,\n",
      "/Users/alexi/Library/CloudStorage/OneDrive-Nexus365/Rotation Projects/Rotation_1/Project/DomAdpQSAR/DomAdpQSAR/presentation.py:38: UserWarning: Dataset has 0 variance; skipping density estimate. Pass `warn_singular=False` to disable this warning.\n",
      "  axes = sns.kdeplot(test_predictions, ax=axes, color=sns.color_palette()[2], bw_method=bandwidth,\n",
      "/Users/alexi/Library/CloudStorage/OneDrive-Nexus365/Rotation Projects/Rotation_1/Project/DomAdpQSAR/DomAdpQSAR/presentation.py:40: UserWarning: Dataset has 0 variance; skipping density estimate. Pass `warn_singular=False` to disable this warning.\n",
      "  axes = sns.kdeplot(train_predictions, ax=axes, color=sns.color_palette()[2], linewidth=0.5, bw_method=bandwidth,\n"
     ]
    },
    {
     "name": "stdout",
     "output_type": "stream",
     "text": [
      "Step 1050, 0:00:06.162610...ize([1000, 2048])DNN Test Values:  ComparisonValues(ACC=tensor(0.8485), BAC=tensor(0.7795), MCC=tensor(0.5802), predicted_labels=tensor([0.0365, 0.0184, 0.0187,  ..., 0.0226, 0.0193, 0.0178]))\n",
      "GAN Test Values:  ComparisonValues(ACC=tensor(0.7527), BAC=tensor(0.5000), MCC=0.01, predicted_labels=tensor([0.4924, 0.4924, 0.4924,  ..., 0.4924, 0.4924, 0.4924]))\n"
     ]
    },
    {
     "name": "stderr",
     "output_type": "stream",
     "text": [
      "/Users/alexi/Library/CloudStorage/OneDrive-Nexus365/Rotation Projects/Rotation_1/Project/DomAdpQSAR/DomAdpQSAR/presentation.py:36: UserWarning: Dataset has 0 variance; skipping density estimate. Pass `warn_singular=False` to disable this warning.\n",
      "  axes = sns.kdeplot(unlabeled_predictions, ax=axes, color=sns.color_palette()[1], bw_method=bandwidth,\n",
      "/Users/alexi/Library/CloudStorage/OneDrive-Nexus365/Rotation Projects/Rotation_1/Project/DomAdpQSAR/DomAdpQSAR/presentation.py:38: UserWarning: Dataset has 0 variance; skipping density estimate. Pass `warn_singular=False` to disable this warning.\n",
      "  axes = sns.kdeplot(test_predictions, ax=axes, color=sns.color_palette()[2], bw_method=bandwidth,\n",
      "/Users/alexi/Library/CloudStorage/OneDrive-Nexus365/Rotation Projects/Rotation_1/Project/DomAdpQSAR/DomAdpQSAR/presentation.py:40: UserWarning: Dataset has 0 variance; skipping density estimate. Pass `warn_singular=False` to disable this warning.\n",
      "  axes = sns.kdeplot(train_predictions, ax=axes, color=sns.color_palette()[2], linewidth=0.5, bw_method=bandwidth,\n"
     ]
    },
    {
     "name": "stdout",
     "output_type": "stream",
     "text": [
      "Step 1057, 0:00:05.872767...ize([1000, 2048])DNN Test Values:  ComparisonValues(ACC=tensor(0.8499), BAC=tensor(0.7776), MCC=tensor(0.5814), predicted_labels=tensor([0.9706, 0.9747, 0.0326,  ..., 0.0177, 0.6803, 0.0190]))\n",
      "GAN Test Values:  ComparisonValues(ACC=tensor(0.7527), BAC=tensor(0.5000), MCC=0.01, predicted_labels=tensor([0.4923, 0.4923, 0.4923,  ..., 0.4923, 0.4923, 0.4923]))\n"
     ]
    },
    {
     "name": "stderr",
     "output_type": "stream",
     "text": [
      "/Users/alexi/Library/CloudStorage/OneDrive-Nexus365/Rotation Projects/Rotation_1/Project/DomAdpQSAR/DomAdpQSAR/presentation.py:36: UserWarning: Dataset has 0 variance; skipping density estimate. Pass `warn_singular=False` to disable this warning.\n",
      "  axes = sns.kdeplot(unlabeled_predictions, ax=axes, color=sns.color_palette()[1], bw_method=bandwidth,\n",
      "/Users/alexi/Library/CloudStorage/OneDrive-Nexus365/Rotation Projects/Rotation_1/Project/DomAdpQSAR/DomAdpQSAR/presentation.py:38: UserWarning: Dataset has 0 variance; skipping density estimate. Pass `warn_singular=False` to disable this warning.\n",
      "  axes = sns.kdeplot(test_predictions, ax=axes, color=sns.color_palette()[2], bw_method=bandwidth,\n",
      "/Users/alexi/Library/CloudStorage/OneDrive-Nexus365/Rotation Projects/Rotation_1/Project/DomAdpQSAR/DomAdpQSAR/presentation.py:40: UserWarning: Dataset has 0 variance; skipping density estimate. Pass `warn_singular=False` to disable this warning.\n",
      "  axes = sns.kdeplot(train_predictions, ax=axes, color=sns.color_palette()[2], linewidth=0.5, bw_method=bandwidth,\n"
     ]
    },
    {
     "name": "stdout",
     "output_type": "stream",
     "text": [
      "Step 1064, 0:00:06.093254...ize([1000, 2048])DNN Test Values:  ComparisonValues(ACC=tensor(0.8499), BAC=tensor(0.7758), MCC=tensor(0.5802), predicted_labels=tensor([0.0189, 0.9764, 0.0453,  ..., 0.0202, 0.9790, 0.0182]))\n",
      "GAN Test Values:  ComparisonValues(ACC=tensor(0.7527), BAC=tensor(0.5000), MCC=0.01, predicted_labels=tensor([0.4923, 0.4923, 0.4923,  ..., 0.4923, 0.4923, 0.4923]))\n"
     ]
    },
    {
     "name": "stderr",
     "output_type": "stream",
     "text": [
      "/Users/alexi/Library/CloudStorage/OneDrive-Nexus365/Rotation Projects/Rotation_1/Project/DomAdpQSAR/DomAdpQSAR/presentation.py:36: UserWarning: Dataset has 0 variance; skipping density estimate. Pass `warn_singular=False` to disable this warning.\n",
      "  axes = sns.kdeplot(unlabeled_predictions, ax=axes, color=sns.color_palette()[1], bw_method=bandwidth,\n",
      "/Users/alexi/Library/CloudStorage/OneDrive-Nexus365/Rotation Projects/Rotation_1/Project/DomAdpQSAR/DomAdpQSAR/presentation.py:38: UserWarning: Dataset has 0 variance; skipping density estimate. Pass `warn_singular=False` to disable this warning.\n",
      "  axes = sns.kdeplot(test_predictions, ax=axes, color=sns.color_palette()[2], bw_method=bandwidth,\n",
      "/Users/alexi/Library/CloudStorage/OneDrive-Nexus365/Rotation Projects/Rotation_1/Project/DomAdpQSAR/DomAdpQSAR/presentation.py:40: UserWarning: Dataset has 0 variance; skipping density estimate. Pass `warn_singular=False` to disable this warning.\n",
      "  axes = sns.kdeplot(train_predictions, ax=axes, color=sns.color_palette()[2], linewidth=0.5, bw_method=bandwidth,\n"
     ]
    },
    {
     "name": "stdout",
     "output_type": "stream",
     "text": [
      "Step 1071, 0:00:06.123560...ize([1000, 2048])DNN Test Values:  ComparisonValues(ACC=tensor(0.8469), BAC=tensor(0.7719), MCC=tensor(0.5719), predicted_labels=tensor([0.0271, 0.0196, 0.9689,  ..., 0.0171, 0.9764, 0.0172]))\n",
      "GAN Test Values:  ComparisonValues(ACC=tensor(0.7527), BAC=tensor(0.5000), MCC=0.01, predicted_labels=tensor([0.4924, 0.4924, 0.4924,  ..., 0.4924, 0.4924, 0.4924]))\n"
     ]
    },
    {
     "name": "stderr",
     "output_type": "stream",
     "text": [
      "/Users/alexi/Library/CloudStorage/OneDrive-Nexus365/Rotation Projects/Rotation_1/Project/DomAdpQSAR/DomAdpQSAR/presentation.py:36: UserWarning: Dataset has 0 variance; skipping density estimate. Pass `warn_singular=False` to disable this warning.\n",
      "  axes = sns.kdeplot(unlabeled_predictions, ax=axes, color=sns.color_palette()[1], bw_method=bandwidth,\n",
      "/Users/alexi/Library/CloudStorage/OneDrive-Nexus365/Rotation Projects/Rotation_1/Project/DomAdpQSAR/DomAdpQSAR/presentation.py:38: UserWarning: Dataset has 0 variance; skipping density estimate. Pass `warn_singular=False` to disable this warning.\n",
      "  axes = sns.kdeplot(test_predictions, ax=axes, color=sns.color_palette()[2], bw_method=bandwidth,\n",
      "/Users/alexi/Library/CloudStorage/OneDrive-Nexus365/Rotation Projects/Rotation_1/Project/DomAdpQSAR/DomAdpQSAR/presentation.py:40: UserWarning: Dataset has 0 variance; skipping density estimate. Pass `warn_singular=False` to disable this warning.\n",
      "  axes = sns.kdeplot(train_predictions, ax=axes, color=sns.color_palette()[2], linewidth=0.5, bw_method=bandwidth,\n"
     ]
    },
    {
     "name": "stdout",
     "output_type": "stream",
     "text": [
      "Step 1078, 0:00:05.674216...ize([1000, 2048])DNN Test Values:  ComparisonValues(ACC=tensor(0.8449), BAC=tensor(0.7700), MCC=tensor(0.5667), predicted_labels=tensor([0.0255, 0.7468, 0.0169,  ..., 0.0184, 0.0203, 0.9688]))\n",
      "GAN Test Values:  ComparisonValues(ACC=tensor(0.7527), BAC=tensor(0.5000), MCC=0.01, predicted_labels=tensor([0.4923, 0.4923, 0.4923,  ..., 0.4923, 0.4923, 0.4923]))\n"
     ]
    },
    {
     "name": "stderr",
     "output_type": "stream",
     "text": [
      "/Users/alexi/Library/CloudStorage/OneDrive-Nexus365/Rotation Projects/Rotation_1/Project/DomAdpQSAR/DomAdpQSAR/presentation.py:36: UserWarning: Dataset has 0 variance; skipping density estimate. Pass `warn_singular=False` to disable this warning.\n",
      "  axes = sns.kdeplot(unlabeled_predictions, ax=axes, color=sns.color_palette()[1], bw_method=bandwidth,\n",
      "/Users/alexi/Library/CloudStorage/OneDrive-Nexus365/Rotation Projects/Rotation_1/Project/DomAdpQSAR/DomAdpQSAR/presentation.py:38: UserWarning: Dataset has 0 variance; skipping density estimate. Pass `warn_singular=False` to disable this warning.\n",
      "  axes = sns.kdeplot(test_predictions, ax=axes, color=sns.color_palette()[2], bw_method=bandwidth,\n",
      "/Users/alexi/Library/CloudStorage/OneDrive-Nexus365/Rotation Projects/Rotation_1/Project/DomAdpQSAR/DomAdpQSAR/presentation.py:40: UserWarning: Dataset has 0 variance; skipping density estimate. Pass `warn_singular=False` to disable this warning.\n",
      "  axes = sns.kdeplot(train_predictions, ax=axes, color=sns.color_palette()[2], linewidth=0.5, bw_method=bandwidth,\n"
     ]
    },
    {
     "name": "stdout",
     "output_type": "stream",
     "text": [
      "Step 1085, 0:00:05.865517...ize([1000, 2048])DNN Test Values:  ComparisonValues(ACC=tensor(0.8433), BAC=tensor(0.7698), MCC=tensor(0.5636), predicted_labels=tensor([0.0211, 0.0172, 0.0173,  ..., 0.0187, 0.6414, 0.0240]))\n",
      "GAN Test Values:  ComparisonValues(ACC=tensor(0.7527), BAC=tensor(0.5000), MCC=0.01, predicted_labels=tensor([0.4923, 0.4923, 0.4923,  ..., 0.4923, 0.4923, 0.4923]))\n"
     ]
    },
    {
     "name": "stderr",
     "output_type": "stream",
     "text": [
      "/Users/alexi/Library/CloudStorage/OneDrive-Nexus365/Rotation Projects/Rotation_1/Project/DomAdpQSAR/DomAdpQSAR/presentation.py:36: UserWarning: Dataset has 0 variance; skipping density estimate. Pass `warn_singular=False` to disable this warning.\n",
      "  axes = sns.kdeplot(unlabeled_predictions, ax=axes, color=sns.color_palette()[1], bw_method=bandwidth,\n",
      "/Users/alexi/Library/CloudStorage/OneDrive-Nexus365/Rotation Projects/Rotation_1/Project/DomAdpQSAR/DomAdpQSAR/presentation.py:38: UserWarning: Dataset has 0 variance; skipping density estimate. Pass `warn_singular=False` to disable this warning.\n",
      "  axes = sns.kdeplot(test_predictions, ax=axes, color=sns.color_palette()[2], bw_method=bandwidth,\n",
      "/Users/alexi/Library/CloudStorage/OneDrive-Nexus365/Rotation Projects/Rotation_1/Project/DomAdpQSAR/DomAdpQSAR/presentation.py:40: UserWarning: Dataset has 0 variance; skipping density estimate. Pass `warn_singular=False` to disable this warning.\n",
      "  axes = sns.kdeplot(train_predictions, ax=axes, color=sns.color_palette()[2], linewidth=0.5, bw_method=bandwidth,\n"
     ]
    },
    {
     "name": "stdout",
     "output_type": "stream",
     "text": [
      "Step 1092, 0:00:05.955285...ize([1000, 2048])DNN Test Values:  ComparisonValues(ACC=tensor(0.8444), BAC=tensor(0.7721), MCC=tensor(0.5674), predicted_labels=tensor([0.0158, 0.0197, 0.0190,  ..., 0.0152, 0.9682, 0.9688]))\n",
      "GAN Test Values:  ComparisonValues(ACC=tensor(0.7527), BAC=tensor(0.5000), MCC=0.01, predicted_labels=tensor([0.4923, 0.4923, 0.4923,  ..., 0.4923, 0.4923, 0.4923]))\n"
     ]
    },
    {
     "name": "stderr",
     "output_type": "stream",
     "text": [
      "/Users/alexi/Library/CloudStorage/OneDrive-Nexus365/Rotation Projects/Rotation_1/Project/DomAdpQSAR/DomAdpQSAR/presentation.py:36: UserWarning: Dataset has 0 variance; skipping density estimate. Pass `warn_singular=False` to disable this warning.\n",
      "  axes = sns.kdeplot(unlabeled_predictions, ax=axes, color=sns.color_palette()[1], bw_method=bandwidth,\n",
      "/Users/alexi/Library/CloudStorage/OneDrive-Nexus365/Rotation Projects/Rotation_1/Project/DomAdpQSAR/DomAdpQSAR/presentation.py:38: UserWarning: Dataset has 0 variance; skipping density estimate. Pass `warn_singular=False` to disable this warning.\n",
      "  axes = sns.kdeplot(test_predictions, ax=axes, color=sns.color_palette()[2], bw_method=bandwidth,\n",
      "/Users/alexi/Library/CloudStorage/OneDrive-Nexus365/Rotation Projects/Rotation_1/Project/DomAdpQSAR/DomAdpQSAR/presentation.py:40: UserWarning: Dataset has 0 variance; skipping density estimate. Pass `warn_singular=False` to disable this warning.\n",
      "  axes = sns.kdeplot(train_predictions, ax=axes, color=sns.color_palette()[2], linewidth=0.5, bw_method=bandwidth,\n"
     ]
    },
    {
     "name": "stdout",
     "output_type": "stream",
     "text": [
      "Step 1099, 0:00:06.403101...ize([1000, 2048])DNN Test Values:  ComparisonValues(ACC=tensor(0.8439), BAC=tensor(0.7765), MCC=tensor(0.5697), predicted_labels=tensor([0.9771, 0.0297, 0.0181,  ..., 0.0172, 0.9650, 0.9241]))\n",
      "GAN Test Values:  ComparisonValues(ACC=tensor(0.7527), BAC=tensor(0.5000), MCC=0.01, predicted_labels=tensor([0.4922, 0.4922, 0.4922,  ..., 0.4922, 0.4922, 0.4922]))\n"
     ]
    },
    {
     "name": "stderr",
     "output_type": "stream",
     "text": [
      "/Users/alexi/Library/CloudStorage/OneDrive-Nexus365/Rotation Projects/Rotation_1/Project/DomAdpQSAR/DomAdpQSAR/presentation.py:36: UserWarning: Dataset has 0 variance; skipping density estimate. Pass `warn_singular=False` to disable this warning.\n",
      "  axes = sns.kdeplot(unlabeled_predictions, ax=axes, color=sns.color_palette()[1], bw_method=bandwidth,\n",
      "/Users/alexi/Library/CloudStorage/OneDrive-Nexus365/Rotation Projects/Rotation_1/Project/DomAdpQSAR/DomAdpQSAR/presentation.py:38: UserWarning: Dataset has 0 variance; skipping density estimate. Pass `warn_singular=False` to disable this warning.\n",
      "  axes = sns.kdeplot(test_predictions, ax=axes, color=sns.color_palette()[2], bw_method=bandwidth,\n",
      "/Users/alexi/Library/CloudStorage/OneDrive-Nexus365/Rotation Projects/Rotation_1/Project/DomAdpQSAR/DomAdpQSAR/presentation.py:40: UserWarning: Dataset has 0 variance; skipping density estimate. Pass `warn_singular=False` to disable this warning.\n",
      "  axes = sns.kdeplot(train_predictions, ax=axes, color=sns.color_palette()[2], linewidth=0.5, bw_method=bandwidth,\n"
     ]
    },
    {
     "name": "stdout",
     "output_type": "stream",
     "text": [
      "Step 1106, 0:00:05.868724...ize([1000, 2048])DNN Test Values:  ComparisonValues(ACC=tensor(0.8428), BAC=tensor(0.7745), MCC=tensor(0.5662), predicted_labels=tensor([0.0213, 0.9825, 0.0184,  ..., 0.0221, 0.2983, 0.0180]))\n",
      "GAN Test Values:  ComparisonValues(ACC=tensor(0.7527), BAC=tensor(0.5000), MCC=0.01, predicted_labels=tensor([0.4922, 0.4922, 0.4922,  ..., 0.4922, 0.4922, 0.4922]))\n"
     ]
    },
    {
     "name": "stderr",
     "output_type": "stream",
     "text": [
      "/Users/alexi/Library/CloudStorage/OneDrive-Nexus365/Rotation Projects/Rotation_1/Project/DomAdpQSAR/DomAdpQSAR/presentation.py:36: UserWarning: Dataset has 0 variance; skipping density estimate. Pass `warn_singular=False` to disable this warning.\n",
      "  axes = sns.kdeplot(unlabeled_predictions, ax=axes, color=sns.color_palette()[1], bw_method=bandwidth,\n",
      "/Users/alexi/Library/CloudStorage/OneDrive-Nexus365/Rotation Projects/Rotation_1/Project/DomAdpQSAR/DomAdpQSAR/presentation.py:38: UserWarning: Dataset has 0 variance; skipping density estimate. Pass `warn_singular=False` to disable this warning.\n",
      "  axes = sns.kdeplot(test_predictions, ax=axes, color=sns.color_palette()[2], bw_method=bandwidth,\n",
      "/Users/alexi/Library/CloudStorage/OneDrive-Nexus365/Rotation Projects/Rotation_1/Project/DomAdpQSAR/DomAdpQSAR/presentation.py:40: UserWarning: Dataset has 0 variance; skipping density estimate. Pass `warn_singular=False` to disable this warning.\n",
      "  axes = sns.kdeplot(train_predictions, ax=axes, color=sns.color_palette()[2], linewidth=0.5, bw_method=bandwidth,\n"
     ]
    },
    {
     "name": "stdout",
     "output_type": "stream",
     "text": [
      "Step 1113, 0:00:06.362525...ize([1000, 2048])DNN Test Values:  ComparisonValues(ACC=tensor(0.8428), BAC=tensor(0.7723), MCC=tensor(0.5646), predicted_labels=tensor([0.0199, 0.7941, 0.0210,  ..., 0.0173, 0.0173, 0.0228]))\n",
      "GAN Test Values:  ComparisonValues(ACC=tensor(0.7527), BAC=tensor(0.5000), MCC=0.01, predicted_labels=tensor([0.4921, 0.4921, 0.4921,  ..., 0.4921, 0.4921, 0.4921]))\n"
     ]
    },
    {
     "name": "stderr",
     "output_type": "stream",
     "text": [
      "/Users/alexi/Library/CloudStorage/OneDrive-Nexus365/Rotation Projects/Rotation_1/Project/DomAdpQSAR/DomAdpQSAR/presentation.py:36: UserWarning: Dataset has 0 variance; skipping density estimate. Pass `warn_singular=False` to disable this warning.\n",
      "  axes = sns.kdeplot(unlabeled_predictions, ax=axes, color=sns.color_palette()[1], bw_method=bandwidth,\n",
      "/Users/alexi/Library/CloudStorage/OneDrive-Nexus365/Rotation Projects/Rotation_1/Project/DomAdpQSAR/DomAdpQSAR/presentation.py:38: UserWarning: Dataset has 0 variance; skipping density estimate. Pass `warn_singular=False` to disable this warning.\n",
      "  axes = sns.kdeplot(test_predictions, ax=axes, color=sns.color_palette()[2], bw_method=bandwidth,\n",
      "/Users/alexi/Library/CloudStorage/OneDrive-Nexus365/Rotation Projects/Rotation_1/Project/DomAdpQSAR/DomAdpQSAR/presentation.py:40: UserWarning: Dataset has 0 variance; skipping density estimate. Pass `warn_singular=False` to disable this warning.\n",
      "  axes = sns.kdeplot(train_predictions, ax=axes, color=sns.color_palette()[2], linewidth=0.5, bw_method=bandwidth,\n"
     ]
    },
    {
     "name": "stdout",
     "output_type": "stream",
     "text": [
      "Step 1120, 0:00:06.798272...ize([1000, 2048])DNN Test Values:  ComparisonValues(ACC=tensor(0.8446), BAC=tensor(0.7707), MCC=tensor(0.5668), predicted_labels=tensor([0.9698, 0.0154, 0.0155,  ..., 0.0234, 0.0203, 0.0165]))\n",
      "GAN Test Values:  ComparisonValues(ACC=tensor(0.7527), BAC=tensor(0.5000), MCC=0.01, predicted_labels=tensor([0.4921, 0.4921, 0.4921,  ..., 0.4921, 0.4921, 0.4921]))\n"
     ]
    },
    {
     "name": "stderr",
     "output_type": "stream",
     "text": [
      "/Users/alexi/Library/CloudStorage/OneDrive-Nexus365/Rotation Projects/Rotation_1/Project/DomAdpQSAR/DomAdpQSAR/presentation.py:36: UserWarning: Dataset has 0 variance; skipping density estimate. Pass `warn_singular=False` to disable this warning.\n",
      "  axes = sns.kdeplot(unlabeled_predictions, ax=axes, color=sns.color_palette()[1], bw_method=bandwidth,\n",
      "/Users/alexi/Library/CloudStorage/OneDrive-Nexus365/Rotation Projects/Rotation_1/Project/DomAdpQSAR/DomAdpQSAR/presentation.py:38: UserWarning: Dataset has 0 variance; skipping density estimate. Pass `warn_singular=False` to disable this warning.\n",
      "  axes = sns.kdeplot(test_predictions, ax=axes, color=sns.color_palette()[2], bw_method=bandwidth,\n",
      "/Users/alexi/Library/CloudStorage/OneDrive-Nexus365/Rotation Projects/Rotation_1/Project/DomAdpQSAR/DomAdpQSAR/presentation.py:40: UserWarning: Dataset has 0 variance; skipping density estimate. Pass `warn_singular=False` to disable this warning.\n",
      "  axes = sns.kdeplot(train_predictions, ax=axes, color=sns.color_palette()[2], linewidth=0.5, bw_method=bandwidth,\n"
     ]
    },
    {
     "name": "stdout",
     "output_type": "stream",
     "text": [
      "Step 1127, 0:00:06.852119...ize([1000, 2048])DNN Test Values:  ComparisonValues(ACC=tensor(0.8437), BAC=tensor(0.7726), MCC=tensor(0.5665), predicted_labels=tensor([0.0163, 0.0197, 0.0144,  ..., 0.0229, 0.9758, 0.9823]))\n",
      "GAN Test Values:  ComparisonValues(ACC=tensor(0.7527), BAC=tensor(0.5000), MCC=0.01, predicted_labels=tensor([0.4921, 0.4921, 0.4921,  ..., 0.4921, 0.4921, 0.4921]))\n"
     ]
    },
    {
     "name": "stderr",
     "output_type": "stream",
     "text": [
      "/Users/alexi/Library/CloudStorage/OneDrive-Nexus365/Rotation Projects/Rotation_1/Project/DomAdpQSAR/DomAdpQSAR/presentation.py:36: UserWarning: Dataset has 0 variance; skipping density estimate. Pass `warn_singular=False` to disable this warning.\n",
      "  axes = sns.kdeplot(unlabeled_predictions, ax=axes, color=sns.color_palette()[1], bw_method=bandwidth,\n",
      "/Users/alexi/Library/CloudStorage/OneDrive-Nexus365/Rotation Projects/Rotation_1/Project/DomAdpQSAR/DomAdpQSAR/presentation.py:38: UserWarning: Dataset has 0 variance; skipping density estimate. Pass `warn_singular=False` to disable this warning.\n",
      "  axes = sns.kdeplot(test_predictions, ax=axes, color=sns.color_palette()[2], bw_method=bandwidth,\n",
      "/Users/alexi/Library/CloudStorage/OneDrive-Nexus365/Rotation Projects/Rotation_1/Project/DomAdpQSAR/DomAdpQSAR/presentation.py:40: UserWarning: Dataset has 0 variance; skipping density estimate. Pass `warn_singular=False` to disable this warning.\n",
      "  axes = sns.kdeplot(train_predictions, ax=axes, color=sns.color_palette()[2], linewidth=0.5, bw_method=bandwidth,\n"
     ]
    },
    {
     "name": "stdout",
     "output_type": "stream",
     "text": [
      "Step 1134, 0:00:07.596488...ize([1000, 2048])DNN Test Values:  ComparisonValues(ACC=tensor(0.8462), BAC=tensor(0.7789), MCC=tensor(0.5756), predicted_labels=tensor([0.9726, 0.0339, 0.9741,  ..., 0.0191, 0.0182, 0.0183]))\n",
      "GAN Test Values:  ComparisonValues(ACC=tensor(0.7527), BAC=tensor(0.5000), MCC=0.01, predicted_labels=tensor([0.4922, 0.4922, 0.4922,  ..., 0.4922, 0.4922, 0.4922]))\n"
     ]
    },
    {
     "name": "stderr",
     "output_type": "stream",
     "text": [
      "/Users/alexi/Library/CloudStorage/OneDrive-Nexus365/Rotation Projects/Rotation_1/Project/DomAdpQSAR/DomAdpQSAR/presentation.py:36: UserWarning: Dataset has 0 variance; skipping density estimate. Pass `warn_singular=False` to disable this warning.\n",
      "  axes = sns.kdeplot(unlabeled_predictions, ax=axes, color=sns.color_palette()[1], bw_method=bandwidth,\n",
      "/Users/alexi/Library/CloudStorage/OneDrive-Nexus365/Rotation Projects/Rotation_1/Project/DomAdpQSAR/DomAdpQSAR/presentation.py:38: UserWarning: Dataset has 0 variance; skipping density estimate. Pass `warn_singular=False` to disable this warning.\n",
      "  axes = sns.kdeplot(test_predictions, ax=axes, color=sns.color_palette()[2], bw_method=bandwidth,\n",
      "/Users/alexi/Library/CloudStorage/OneDrive-Nexus365/Rotation Projects/Rotation_1/Project/DomAdpQSAR/DomAdpQSAR/presentation.py:40: UserWarning: Dataset has 0 variance; skipping density estimate. Pass `warn_singular=False` to disable this warning.\n",
      "  axes = sns.kdeplot(train_predictions, ax=axes, color=sns.color_palette()[2], linewidth=0.5, bw_method=bandwidth,\n"
     ]
    },
    {
     "name": "stdout",
     "output_type": "stream",
     "text": [
      "Step 1141, 0:00:06.454762...ize([1000, 2048])DNN Test Values:  ComparisonValues(ACC=tensor(0.8469), BAC=tensor(0.7803), MCC=tensor(0.5778), predicted_labels=tensor([0.0162, 0.9768, 0.0137,  ..., 0.9624, 0.0156, 0.9613]))\n",
      "GAN Test Values:  ComparisonValues(ACC=tensor(0.7527), BAC=tensor(0.5000), MCC=0.01, predicted_labels=tensor([0.4921, 0.4921, 0.4921,  ..., 0.4921, 0.4921, 0.4921]))\n"
     ]
    },
    {
     "name": "stderr",
     "output_type": "stream",
     "text": [
      "/Users/alexi/Library/CloudStorage/OneDrive-Nexus365/Rotation Projects/Rotation_1/Project/DomAdpQSAR/DomAdpQSAR/presentation.py:36: UserWarning: Dataset has 0 variance; skipping density estimate. Pass `warn_singular=False` to disable this warning.\n",
      "  axes = sns.kdeplot(unlabeled_predictions, ax=axes, color=sns.color_palette()[1], bw_method=bandwidth,\n",
      "/Users/alexi/Library/CloudStorage/OneDrive-Nexus365/Rotation Projects/Rotation_1/Project/DomAdpQSAR/DomAdpQSAR/presentation.py:38: UserWarning: Dataset has 0 variance; skipping density estimate. Pass `warn_singular=False` to disable this warning.\n",
      "  axes = sns.kdeplot(test_predictions, ax=axes, color=sns.color_palette()[2], bw_method=bandwidth,\n",
      "/Users/alexi/Library/CloudStorage/OneDrive-Nexus365/Rotation Projects/Rotation_1/Project/DomAdpQSAR/DomAdpQSAR/presentation.py:40: UserWarning: Dataset has 0 variance; skipping density estimate. Pass `warn_singular=False` to disable this warning.\n",
      "  axes = sns.kdeplot(train_predictions, ax=axes, color=sns.color_palette()[2], linewidth=0.5, bw_method=bandwidth,\n"
     ]
    },
    {
     "name": "stdout",
     "output_type": "stream",
     "text": [
      "Step 1148, 0:00:05.995018...ize([1000, 2048])DNN Test Values:  ComparisonValues(ACC=tensor(0.8478), BAC=tensor(0.7791), MCC=tensor(0.5786), predicted_labels=tensor([0.0154, 0.0146, 0.9783,  ..., 0.8654, 0.9773, 0.0159]))\n",
      "GAN Test Values:  ComparisonValues(ACC=tensor(0.7527), BAC=tensor(0.5000), MCC=0.01, predicted_labels=tensor([0.4921, 0.4921, 0.4921,  ..., 0.4921, 0.4921, 0.4921]))\n"
     ]
    },
    {
     "name": "stderr",
     "output_type": "stream",
     "text": [
      "/Users/alexi/Library/CloudStorage/OneDrive-Nexus365/Rotation Projects/Rotation_1/Project/DomAdpQSAR/DomAdpQSAR/presentation.py:36: UserWarning: Dataset has 0 variance; skipping density estimate. Pass `warn_singular=False` to disable this warning.\n",
      "  axes = sns.kdeplot(unlabeled_predictions, ax=axes, color=sns.color_palette()[1], bw_method=bandwidth,\n",
      "/Users/alexi/Library/CloudStorage/OneDrive-Nexus365/Rotation Projects/Rotation_1/Project/DomAdpQSAR/DomAdpQSAR/presentation.py:38: UserWarning: Dataset has 0 variance; skipping density estimate. Pass `warn_singular=False` to disable this warning.\n",
      "  axes = sns.kdeplot(test_predictions, ax=axes, color=sns.color_palette()[2], bw_method=bandwidth,\n",
      "/Users/alexi/Library/CloudStorage/OneDrive-Nexus365/Rotation Projects/Rotation_1/Project/DomAdpQSAR/DomAdpQSAR/presentation.py:40: UserWarning: Dataset has 0 variance; skipping density estimate. Pass `warn_singular=False` to disable this warning.\n",
      "  axes = sns.kdeplot(train_predictions, ax=axes, color=sns.color_palette()[2], linewidth=0.5, bw_method=bandwidth,\n"
     ]
    },
    {
     "name": "stdout",
     "output_type": "stream",
     "text": [
      "Step 1155, 0:00:05.943036...ize([1000, 2048])DNN Test Values:  ComparisonValues(ACC=tensor(0.8499), BAC=tensor(0.7804), MCC=tensor(0.5833), predicted_labels=tensor([0.0222, 0.5634, 0.0187,  ..., 0.0175, 0.0173, 0.0156]))\n",
      "GAN Test Values:  ComparisonValues(ACC=tensor(0.7527), BAC=tensor(0.5000), MCC=0.01, predicted_labels=tensor([0.4920, 0.4920, 0.4920,  ..., 0.4920, 0.4920, 0.4920]))\n"
     ]
    },
    {
     "name": "stderr",
     "output_type": "stream",
     "text": [
      "/Users/alexi/Library/CloudStorage/OneDrive-Nexus365/Rotation Projects/Rotation_1/Project/DomAdpQSAR/DomAdpQSAR/presentation.py:36: UserWarning: Dataset has 0 variance; skipping density estimate. Pass `warn_singular=False` to disable this warning.\n",
      "  axes = sns.kdeplot(unlabeled_predictions, ax=axes, color=sns.color_palette()[1], bw_method=bandwidth,\n",
      "/Users/alexi/Library/CloudStorage/OneDrive-Nexus365/Rotation Projects/Rotation_1/Project/DomAdpQSAR/DomAdpQSAR/presentation.py:38: UserWarning: Dataset has 0 variance; skipping density estimate. Pass `warn_singular=False` to disable this warning.\n",
      "  axes = sns.kdeplot(test_predictions, ax=axes, color=sns.color_palette()[2], bw_method=bandwidth,\n",
      "/Users/alexi/Library/CloudStorage/OneDrive-Nexus365/Rotation Projects/Rotation_1/Project/DomAdpQSAR/DomAdpQSAR/presentation.py:40: UserWarning: Dataset has 0 variance; skipping density estimate. Pass `warn_singular=False` to disable this warning.\n",
      "  axes = sns.kdeplot(train_predictions, ax=axes, color=sns.color_palette()[2], linewidth=0.5, bw_method=bandwidth,\n"
     ]
    },
    {
     "name": "stdout",
     "output_type": "stream",
     "text": [
      "Step 1162, 0:00:06.011127...ize([1000, 2048])DNN Test Values:  ComparisonValues(ACC=tensor(0.8494), BAC=tensor(0.7786), MCC=tensor(0.5812), predicted_labels=tensor([0.0406, 0.0164, 0.9856,  ..., 0.0157, 0.9229, 0.0481]))\n",
      "GAN Test Values:  ComparisonValues(ACC=tensor(0.7527), BAC=tensor(0.5000), MCC=0.01, predicted_labels=tensor([0.4919, 0.4919, 0.4919,  ..., 0.4919, 0.4919, 0.4919]))\n"
     ]
    },
    {
     "name": "stderr",
     "output_type": "stream",
     "text": [
      "/Users/alexi/Library/CloudStorage/OneDrive-Nexus365/Rotation Projects/Rotation_1/Project/DomAdpQSAR/DomAdpQSAR/presentation.py:36: UserWarning: Dataset has 0 variance; skipping density estimate. Pass `warn_singular=False` to disable this warning.\n",
      "  axes = sns.kdeplot(unlabeled_predictions, ax=axes, color=sns.color_palette()[1], bw_method=bandwidth,\n",
      "/Users/alexi/Library/CloudStorage/OneDrive-Nexus365/Rotation Projects/Rotation_1/Project/DomAdpQSAR/DomAdpQSAR/presentation.py:38: UserWarning: Dataset has 0 variance; skipping density estimate. Pass `warn_singular=False` to disable this warning.\n",
      "  axes = sns.kdeplot(test_predictions, ax=axes, color=sns.color_palette()[2], bw_method=bandwidth,\n",
      "/Users/alexi/Library/CloudStorage/OneDrive-Nexus365/Rotation Projects/Rotation_1/Project/DomAdpQSAR/DomAdpQSAR/presentation.py:40: UserWarning: Dataset has 0 variance; skipping density estimate. Pass `warn_singular=False` to disable this warning.\n",
      "  axes = sns.kdeplot(train_predictions, ax=axes, color=sns.color_palette()[2], linewidth=0.5, bw_method=bandwidth,\n"
     ]
    },
    {
     "name": "stdout",
     "output_type": "stream",
     "text": [
      "Step 1169, 0:00:06.019420...ize([1000, 2048])DNN Test Values:  ComparisonValues(ACC=tensor(0.8510), BAC=tensor(0.7768), MCC=tensor(0.5832), predicted_labels=tensor([0.0152, 0.9729, 0.8938,  ..., 0.0186, 0.0190, 0.0161]))\n",
      "GAN Test Values:  ComparisonValues(ACC=tensor(0.7527), BAC=tensor(0.5000), MCC=0.01, predicted_labels=tensor([0.4918, 0.4918, 0.4918,  ..., 0.4918, 0.4918, 0.4918]))\n"
     ]
    },
    {
     "name": "stderr",
     "output_type": "stream",
     "text": [
      "/Users/alexi/Library/CloudStorage/OneDrive-Nexus365/Rotation Projects/Rotation_1/Project/DomAdpQSAR/DomAdpQSAR/presentation.py:36: UserWarning: Dataset has 0 variance; skipping density estimate. Pass `warn_singular=False` to disable this warning.\n",
      "  axes = sns.kdeplot(unlabeled_predictions, ax=axes, color=sns.color_palette()[1], bw_method=bandwidth,\n",
      "/Users/alexi/Library/CloudStorage/OneDrive-Nexus365/Rotation Projects/Rotation_1/Project/DomAdpQSAR/DomAdpQSAR/presentation.py:38: UserWarning: Dataset has 0 variance; skipping density estimate. Pass `warn_singular=False` to disable this warning.\n",
      "  axes = sns.kdeplot(test_predictions, ax=axes, color=sns.color_palette()[2], bw_method=bandwidth,\n",
      "/Users/alexi/Library/CloudStorage/OneDrive-Nexus365/Rotation Projects/Rotation_1/Project/DomAdpQSAR/DomAdpQSAR/presentation.py:40: UserWarning: Dataset has 0 variance; skipping density estimate. Pass `warn_singular=False` to disable this warning.\n",
      "  axes = sns.kdeplot(train_predictions, ax=axes, color=sns.color_palette()[2], linewidth=0.5, bw_method=bandwidth,\n"
     ]
    },
    {
     "name": "stdout",
     "output_type": "stream",
     "text": [
      "Step 1176, 0:00:05.706976...ize([1000, 2048])DNN Test Values:  ComparisonValues(ACC=tensor(0.8528), BAC=tensor(0.7802), MCC=tensor(0.5889), predicted_labels=tensor([0.0184, 0.0223, 0.0183,  ..., 0.9764, 0.0233, 0.0177]))\n",
      "GAN Test Values:  ComparisonValues(ACC=tensor(0.7527), BAC=tensor(0.5000), MCC=0.01, predicted_labels=tensor([0.4917, 0.4917, 0.4917,  ..., 0.4917, 0.4917, 0.4917]))\n"
     ]
    },
    {
     "name": "stderr",
     "output_type": "stream",
     "text": [
      "/Users/alexi/Library/CloudStorage/OneDrive-Nexus365/Rotation Projects/Rotation_1/Project/DomAdpQSAR/DomAdpQSAR/presentation.py:36: UserWarning: Dataset has 0 variance; skipping density estimate. Pass `warn_singular=False` to disable this warning.\n",
      "  axes = sns.kdeplot(unlabeled_predictions, ax=axes, color=sns.color_palette()[1], bw_method=bandwidth,\n",
      "/Users/alexi/Library/CloudStorage/OneDrive-Nexus365/Rotation Projects/Rotation_1/Project/DomAdpQSAR/DomAdpQSAR/presentation.py:38: UserWarning: Dataset has 0 variance; skipping density estimate. Pass `warn_singular=False` to disable this warning.\n",
      "  axes = sns.kdeplot(test_predictions, ax=axes, color=sns.color_palette()[2], bw_method=bandwidth,\n",
      "/Users/alexi/Library/CloudStorage/OneDrive-Nexus365/Rotation Projects/Rotation_1/Project/DomAdpQSAR/DomAdpQSAR/presentation.py:40: UserWarning: Dataset has 0 variance; skipping density estimate. Pass `warn_singular=False` to disable this warning.\n",
      "  axes = sns.kdeplot(train_predictions, ax=axes, color=sns.color_palette()[2], linewidth=0.5, bw_method=bandwidth,\n"
     ]
    },
    {
     "name": "stdout",
     "output_type": "stream",
     "text": [
      "Step 1183, 0:00:07.034747...ize([1000, 2048])DNN Test Values:  ComparisonValues(ACC=tensor(0.8508), BAC=tensor(0.7767), MCC=tensor(0.5826), predicted_labels=tensor([0.0150, 0.0218, 0.0264,  ..., 0.9518, 0.0144, 0.2598]))\n",
      "GAN Test Values:  ComparisonValues(ACC=tensor(0.7527), BAC=tensor(0.5000), MCC=0.01, predicted_labels=tensor([0.4916, 0.4916, 0.4916,  ..., 0.4916, 0.4916, 0.4916]))\n"
     ]
    },
    {
     "name": "stderr",
     "output_type": "stream",
     "text": [
      "/Users/alexi/Library/CloudStorage/OneDrive-Nexus365/Rotation Projects/Rotation_1/Project/DomAdpQSAR/DomAdpQSAR/presentation.py:36: UserWarning: Dataset has 0 variance; skipping density estimate. Pass `warn_singular=False` to disable this warning.\n",
      "  axes = sns.kdeplot(unlabeled_predictions, ax=axes, color=sns.color_palette()[1], bw_method=bandwidth,\n",
      "/Users/alexi/Library/CloudStorage/OneDrive-Nexus365/Rotation Projects/Rotation_1/Project/DomAdpQSAR/DomAdpQSAR/presentation.py:38: UserWarning: Dataset has 0 variance; skipping density estimate. Pass `warn_singular=False` to disable this warning.\n",
      "  axes = sns.kdeplot(test_predictions, ax=axes, color=sns.color_palette()[2], bw_method=bandwidth,\n",
      "/Users/alexi/Library/CloudStorage/OneDrive-Nexus365/Rotation Projects/Rotation_1/Project/DomAdpQSAR/DomAdpQSAR/presentation.py:40: UserWarning: Dataset has 0 variance; skipping density estimate. Pass `warn_singular=False` to disable this warning.\n",
      "  axes = sns.kdeplot(train_predictions, ax=axes, color=sns.color_palette()[2], linewidth=0.5, bw_method=bandwidth,\n"
     ]
    },
    {
     "name": "stdout",
     "output_type": "stream",
     "text": [
      "Step 1190, 0:00:06.512583...ize([1000, 2048])DNN Test Values:  ComparisonValues(ACC=tensor(0.8490), BAC=tensor(0.7804), MCC=tensor(0.5816), predicted_labels=tensor([0.8920, 0.9847, 0.9525,  ..., 0.0181, 0.0154, 0.0749]))\n",
      "GAN Test Values:  ComparisonValues(ACC=tensor(0.7527), BAC=tensor(0.5000), MCC=0.01, predicted_labels=tensor([0.4914, 0.4914, 0.4914,  ..., 0.4914, 0.4914, 0.4914]))\n"
     ]
    },
    {
     "name": "stderr",
     "output_type": "stream",
     "text": [
      "/Users/alexi/Library/CloudStorage/OneDrive-Nexus365/Rotation Projects/Rotation_1/Project/DomAdpQSAR/DomAdpQSAR/presentation.py:36: UserWarning: Dataset has 0 variance; skipping density estimate. Pass `warn_singular=False` to disable this warning.\n",
      "  axes = sns.kdeplot(unlabeled_predictions, ax=axes, color=sns.color_palette()[1], bw_method=bandwidth,\n",
      "/Users/alexi/Library/CloudStorage/OneDrive-Nexus365/Rotation Projects/Rotation_1/Project/DomAdpQSAR/DomAdpQSAR/presentation.py:38: UserWarning: Dataset has 0 variance; skipping density estimate. Pass `warn_singular=False` to disable this warning.\n",
      "  axes = sns.kdeplot(test_predictions, ax=axes, color=sns.color_palette()[2], bw_method=bandwidth,\n",
      "/Users/alexi/Library/CloudStorage/OneDrive-Nexus365/Rotation Projects/Rotation_1/Project/DomAdpQSAR/DomAdpQSAR/presentation.py:40: UserWarning: Dataset has 0 variance; skipping density estimate. Pass `warn_singular=False` to disable this warning.\n",
      "  axes = sns.kdeplot(train_predictions, ax=axes, color=sns.color_palette()[2], linewidth=0.5, bw_method=bandwidth,\n"
     ]
    },
    {
     "name": "stdout",
     "output_type": "stream",
     "text": [
      "Step 1197, 0:00:07.709906...ize([1000, 2048])DNN Test Values:  ComparisonValues(ACC=tensor(0.8499), BAC=tensor(0.7764), MCC=tensor(0.5806), predicted_labels=tensor([0.0161, 0.0143, 0.0135,  ..., 0.0160, 0.0137, 0.0141]))\n",
      "GAN Test Values:  ComparisonValues(ACC=tensor(0.7527), BAC=tensor(0.5000), MCC=0.01, predicted_labels=tensor([0.4912, 0.4912, 0.4912,  ..., 0.4912, 0.4912, 0.4912]))\n"
     ]
    },
    {
     "name": "stderr",
     "output_type": "stream",
     "text": [
      "/Users/alexi/Library/CloudStorage/OneDrive-Nexus365/Rotation Projects/Rotation_1/Project/DomAdpQSAR/DomAdpQSAR/presentation.py:36: UserWarning: Dataset has 0 variance; skipping density estimate. Pass `warn_singular=False` to disable this warning.\n",
      "  axes = sns.kdeplot(unlabeled_predictions, ax=axes, color=sns.color_palette()[1], bw_method=bandwidth,\n",
      "/Users/alexi/Library/CloudStorage/OneDrive-Nexus365/Rotation Projects/Rotation_1/Project/DomAdpQSAR/DomAdpQSAR/presentation.py:38: UserWarning: Dataset has 0 variance; skipping density estimate. Pass `warn_singular=False` to disable this warning.\n",
      "  axes = sns.kdeplot(test_predictions, ax=axes, color=sns.color_palette()[2], bw_method=bandwidth,\n",
      "/Users/alexi/Library/CloudStorage/OneDrive-Nexus365/Rotation Projects/Rotation_1/Project/DomAdpQSAR/DomAdpQSAR/presentation.py:40: UserWarning: Dataset has 0 variance; skipping density estimate. Pass `warn_singular=False` to disable this warning.\n",
      "  axes = sns.kdeplot(train_predictions, ax=axes, color=sns.color_palette()[2], linewidth=0.5, bw_method=bandwidth,\n"
     ]
    },
    {
     "name": "stdout",
     "output_type": "stream",
     "text": [
      "Step 1204, 0:00:06.473667...ize([1000, 2048])DNN Test Values:  ComparisonValues(ACC=tensor(0.8506), BAC=tensor(0.7725), MCC=tensor(0.5795), predicted_labels=tensor([0.0211, 0.0145, 0.0156,  ..., 0.0148, 0.0259, 0.9797]))\n",
      "GAN Test Values:  ComparisonValues(ACC=tensor(0.7527), BAC=tensor(0.5000), MCC=0.01, predicted_labels=tensor([0.4912, 0.4912, 0.4912,  ..., 0.4912, 0.4912, 0.4912]))\n"
     ]
    },
    {
     "name": "stderr",
     "output_type": "stream",
     "text": [
      "/Users/alexi/Library/CloudStorage/OneDrive-Nexus365/Rotation Projects/Rotation_1/Project/DomAdpQSAR/DomAdpQSAR/presentation.py:36: UserWarning: Dataset has 0 variance; skipping density estimate. Pass `warn_singular=False` to disable this warning.\n",
      "  axes = sns.kdeplot(unlabeled_predictions, ax=axes, color=sns.color_palette()[1], bw_method=bandwidth,\n",
      "/Users/alexi/Library/CloudStorage/OneDrive-Nexus365/Rotation Projects/Rotation_1/Project/DomAdpQSAR/DomAdpQSAR/presentation.py:38: UserWarning: Dataset has 0 variance; skipping density estimate. Pass `warn_singular=False` to disable this warning.\n",
      "  axes = sns.kdeplot(test_predictions, ax=axes, color=sns.color_palette()[2], bw_method=bandwidth,\n",
      "/Users/alexi/Library/CloudStorage/OneDrive-Nexus365/Rotation Projects/Rotation_1/Project/DomAdpQSAR/DomAdpQSAR/presentation.py:40: UserWarning: Dataset has 0 variance; skipping density estimate. Pass `warn_singular=False` to disable this warning.\n",
      "  axes = sns.kdeplot(train_predictions, ax=axes, color=sns.color_palette()[2], linewidth=0.5, bw_method=bandwidth,\n"
     ]
    },
    {
     "name": "stdout",
     "output_type": "stream",
     "text": [
      "Step 1211, 0:00:06.379061...ize([1000, 2048])DNN Test Values:  ComparisonValues(ACC=tensor(0.8476), BAC=tensor(0.7761), MCC=tensor(0.5761), predicted_labels=tensor([0.8388, 0.0308, 0.0328,  ..., 0.0155, 0.0196, 0.0182]))\n",
      "GAN Test Values:  ComparisonValues(ACC=tensor(0.7527), BAC=tensor(0.5000), MCC=0.01, predicted_labels=tensor([0.4912, 0.4912, 0.4912,  ..., 0.4912, 0.4912, 0.4912]))\n"
     ]
    },
    {
     "name": "stderr",
     "output_type": "stream",
     "text": [
      "/Users/alexi/Library/CloudStorage/OneDrive-Nexus365/Rotation Projects/Rotation_1/Project/DomAdpQSAR/DomAdpQSAR/presentation.py:36: UserWarning: Dataset has 0 variance; skipping density estimate. Pass `warn_singular=False` to disable this warning.\n",
      "  axes = sns.kdeplot(unlabeled_predictions, ax=axes, color=sns.color_palette()[1], bw_method=bandwidth,\n",
      "/Users/alexi/Library/CloudStorage/OneDrive-Nexus365/Rotation Projects/Rotation_1/Project/DomAdpQSAR/DomAdpQSAR/presentation.py:38: UserWarning: Dataset has 0 variance; skipping density estimate. Pass `warn_singular=False` to disable this warning.\n",
      "  axes = sns.kdeplot(test_predictions, ax=axes, color=sns.color_palette()[2], bw_method=bandwidth,\n",
      "/Users/alexi/Library/CloudStorage/OneDrive-Nexus365/Rotation Projects/Rotation_1/Project/DomAdpQSAR/DomAdpQSAR/presentation.py:40: UserWarning: Dataset has 0 variance; skipping density estimate. Pass `warn_singular=False` to disable this warning.\n",
      "  axes = sns.kdeplot(train_predictions, ax=axes, color=sns.color_palette()[2], linewidth=0.5, bw_method=bandwidth,\n"
     ]
    },
    {
     "name": "stdout",
     "output_type": "stream",
     "text": [
      "Step 1218, 0:00:06.480780...ize([1000, 2048])DNN Test Values:  ComparisonValues(ACC=tensor(0.8496), BAC=tensor(0.7719), MCC=tensor(0.5773), predicted_labels=tensor([0.0163, 0.9822, 0.9689,  ..., 0.0154, 0.0140, 0.9291]))\n",
      "GAN Test Values:  ComparisonValues(ACC=tensor(0.7527), BAC=tensor(0.5000), MCC=0.01, predicted_labels=tensor([0.4912, 0.4912, 0.4912,  ..., 0.4912, 0.4912, 0.4912]))\n"
     ]
    },
    {
     "name": "stderr",
     "output_type": "stream",
     "text": [
      "/Users/alexi/Library/CloudStorage/OneDrive-Nexus365/Rotation Projects/Rotation_1/Project/DomAdpQSAR/DomAdpQSAR/presentation.py:36: UserWarning: Dataset has 0 variance; skipping density estimate. Pass `warn_singular=False` to disable this warning.\n",
      "  axes = sns.kdeplot(unlabeled_predictions, ax=axes, color=sns.color_palette()[1], bw_method=bandwidth,\n",
      "/Users/alexi/Library/CloudStorage/OneDrive-Nexus365/Rotation Projects/Rotation_1/Project/DomAdpQSAR/DomAdpQSAR/presentation.py:38: UserWarning: Dataset has 0 variance; skipping density estimate. Pass `warn_singular=False` to disable this warning.\n",
      "  axes = sns.kdeplot(test_predictions, ax=axes, color=sns.color_palette()[2], bw_method=bandwidth,\n",
      "/Users/alexi/Library/CloudStorage/OneDrive-Nexus365/Rotation Projects/Rotation_1/Project/DomAdpQSAR/DomAdpQSAR/presentation.py:40: UserWarning: Dataset has 0 variance; skipping density estimate. Pass `warn_singular=False` to disable this warning.\n",
      "  axes = sns.kdeplot(train_predictions, ax=axes, color=sns.color_palette()[2], linewidth=0.5, bw_method=bandwidth,\n"
     ]
    },
    {
     "name": "stdout",
     "output_type": "stream",
     "text": [
      "Step 1225, 0:00:06.208208...ize([1000, 2048])DNN Test Values:  ComparisonValues(ACC=tensor(0.8469), BAC=tensor(0.7738), MCC=tensor(0.5732), predicted_labels=tensor([0.0171, 0.9820, 0.0138,  ..., 0.0177, 0.0243, 0.0172]))\n",
      "GAN Test Values:  ComparisonValues(ACC=tensor(0.7527), BAC=tensor(0.5000), MCC=0.01, predicted_labels=tensor([0.4911, 0.4911, 0.4911,  ..., 0.4911, 0.4911, 0.4911]))\n"
     ]
    },
    {
     "name": "stderr",
     "output_type": "stream",
     "text": [
      "/Users/alexi/Library/CloudStorage/OneDrive-Nexus365/Rotation Projects/Rotation_1/Project/DomAdpQSAR/DomAdpQSAR/presentation.py:36: UserWarning: Dataset has 0 variance; skipping density estimate. Pass `warn_singular=False` to disable this warning.\n",
      "  axes = sns.kdeplot(unlabeled_predictions, ax=axes, color=sns.color_palette()[1], bw_method=bandwidth,\n",
      "/Users/alexi/Library/CloudStorage/OneDrive-Nexus365/Rotation Projects/Rotation_1/Project/DomAdpQSAR/DomAdpQSAR/presentation.py:38: UserWarning: Dataset has 0 variance; skipping density estimate. Pass `warn_singular=False` to disable this warning.\n",
      "  axes = sns.kdeplot(test_predictions, ax=axes, color=sns.color_palette()[2], bw_method=bandwidth,\n",
      "/Users/alexi/Library/CloudStorage/OneDrive-Nexus365/Rotation Projects/Rotation_1/Project/DomAdpQSAR/DomAdpQSAR/presentation.py:40: UserWarning: Dataset has 0 variance; skipping density estimate. Pass `warn_singular=False` to disable this warning.\n",
      "  axes = sns.kdeplot(train_predictions, ax=axes, color=sns.color_palette()[2], linewidth=0.5, bw_method=bandwidth,\n"
     ]
    },
    {
     "name": "stdout",
     "output_type": "stream",
     "text": [
      "Step 1232, 0:00:07.065941...ize([1000, 2048])DNN Test Values:  ComparisonValues(ACC=tensor(0.8478), BAC=tensor(0.7642), MCC=tensor(0.5689), predicted_labels=tensor([0.0123, 0.0135, 0.0156,  ..., 0.0169, 0.0459, 0.0250]))\n",
      "GAN Test Values:  ComparisonValues(ACC=tensor(0.7527), BAC=tensor(0.5000), MCC=0.01, predicted_labels=tensor([0.4910, 0.4910, 0.4910,  ..., 0.4910, 0.4910, 0.4910]))\n"
     ]
    },
    {
     "name": "stderr",
     "output_type": "stream",
     "text": [
      "/Users/alexi/Library/CloudStorage/OneDrive-Nexus365/Rotation Projects/Rotation_1/Project/DomAdpQSAR/DomAdpQSAR/presentation.py:36: UserWarning: Dataset has 0 variance; skipping density estimate. Pass `warn_singular=False` to disable this warning.\n",
      "  axes = sns.kdeplot(unlabeled_predictions, ax=axes, color=sns.color_palette()[1], bw_method=bandwidth,\n",
      "/Users/alexi/Library/CloudStorage/OneDrive-Nexus365/Rotation Projects/Rotation_1/Project/DomAdpQSAR/DomAdpQSAR/presentation.py:38: UserWarning: Dataset has 0 variance; skipping density estimate. Pass `warn_singular=False` to disable this warning.\n",
      "  axes = sns.kdeplot(test_predictions, ax=axes, color=sns.color_palette()[2], bw_method=bandwidth,\n",
      "/Users/alexi/Library/CloudStorage/OneDrive-Nexus365/Rotation Projects/Rotation_1/Project/DomAdpQSAR/DomAdpQSAR/presentation.py:40: UserWarning: Dataset has 0 variance; skipping density estimate. Pass `warn_singular=False` to disable this warning.\n",
      "  axes = sns.kdeplot(train_predictions, ax=axes, color=sns.color_palette()[2], linewidth=0.5, bw_method=bandwidth,\n"
     ]
    },
    {
     "name": "stdout",
     "output_type": "stream",
     "text": [
      "Step 1239, 0:00:07.015314...ize([1000, 2048])DNN Test Values:  ComparisonValues(ACC=tensor(0.8485), BAC=tensor(0.7674), MCC=tensor(0.5722), predicted_labels=tensor([0.0137, 0.0138, 0.0196,  ..., 0.9594, 0.0348, 0.9493]))\n",
      "GAN Test Values:  ComparisonValues(ACC=tensor(0.7527), BAC=tensor(0.5000), MCC=0.01, predicted_labels=tensor([0.4909, 0.4909, 0.4909,  ..., 0.4909, 0.4909, 0.4909]))\n"
     ]
    },
    {
     "name": "stderr",
     "output_type": "stream",
     "text": [
      "/Users/alexi/Library/CloudStorage/OneDrive-Nexus365/Rotation Projects/Rotation_1/Project/DomAdpQSAR/DomAdpQSAR/presentation.py:36: UserWarning: Dataset has 0 variance; skipping density estimate. Pass `warn_singular=False` to disable this warning.\n",
      "  axes = sns.kdeplot(unlabeled_predictions, ax=axes, color=sns.color_palette()[1], bw_method=bandwidth,\n",
      "/Users/alexi/Library/CloudStorage/OneDrive-Nexus365/Rotation Projects/Rotation_1/Project/DomAdpQSAR/DomAdpQSAR/presentation.py:38: UserWarning: Dataset has 0 variance; skipping density estimate. Pass `warn_singular=False` to disable this warning.\n",
      "  axes = sns.kdeplot(test_predictions, ax=axes, color=sns.color_palette()[2], bw_method=bandwidth,\n",
      "/Users/alexi/Library/CloudStorage/OneDrive-Nexus365/Rotation Projects/Rotation_1/Project/DomAdpQSAR/DomAdpQSAR/presentation.py:40: UserWarning: Dataset has 0 variance; skipping density estimate. Pass `warn_singular=False` to disable this warning.\n",
      "  axes = sns.kdeplot(train_predictions, ax=axes, color=sns.color_palette()[2], linewidth=0.5, bw_method=bandwidth,\n"
     ]
    },
    {
     "name": "stdout",
     "output_type": "stream",
     "text": [
      "Step 1246, 0:00:06.434158...ize([1000, 2048])DNN Test Values:  ComparisonValues(ACC=tensor(0.8460), BAC=tensor(0.7670), MCC=tensor(0.5669), predicted_labels=tensor([0.0172, 0.0138, 0.0134,  ..., 0.0137, 0.0130, 0.9697]))\n",
      "GAN Test Values:  ComparisonValues(ACC=tensor(0.7527), BAC=tensor(0.5000), MCC=0.01, predicted_labels=tensor([0.4908, 0.4908, 0.4908,  ..., 0.4908, 0.4908, 0.4908]))\n"
     ]
    },
    {
     "name": "stderr",
     "output_type": "stream",
     "text": [
      "/Users/alexi/Library/CloudStorage/OneDrive-Nexus365/Rotation Projects/Rotation_1/Project/DomAdpQSAR/DomAdpQSAR/presentation.py:36: UserWarning: Dataset has 0 variance; skipping density estimate. Pass `warn_singular=False` to disable this warning.\n",
      "  axes = sns.kdeplot(unlabeled_predictions, ax=axes, color=sns.color_palette()[1], bw_method=bandwidth,\n",
      "/Users/alexi/Library/CloudStorage/OneDrive-Nexus365/Rotation Projects/Rotation_1/Project/DomAdpQSAR/DomAdpQSAR/presentation.py:38: UserWarning: Dataset has 0 variance; skipping density estimate. Pass `warn_singular=False` to disable this warning.\n",
      "  axes = sns.kdeplot(test_predictions, ax=axes, color=sns.color_palette()[2], bw_method=bandwidth,\n",
      "/Users/alexi/Library/CloudStorage/OneDrive-Nexus365/Rotation Projects/Rotation_1/Project/DomAdpQSAR/DomAdpQSAR/presentation.py:40: UserWarning: Dataset has 0 variance; skipping density estimate. Pass `warn_singular=False` to disable this warning.\n",
      "  axes = sns.kdeplot(train_predictions, ax=axes, color=sns.color_palette()[2], linewidth=0.5, bw_method=bandwidth,\n"
     ]
    },
    {
     "name": "stdout",
     "output_type": "stream",
     "text": [
      "Step 1253, 0:00:06.688075...ize([1000, 2048])DNN Test Values:  ComparisonValues(ACC=tensor(0.8435), BAC=tensor(0.7684), MCC=tensor(0.5630), predicted_labels=tensor([0.0123, 0.8469, 0.9723,  ..., 0.0139, 0.0169, 0.9835]))\n",
      "GAN Test Values:  ComparisonValues(ACC=tensor(0.7527), BAC=tensor(0.5000), MCC=0.01, predicted_labels=tensor([0.4909, 0.4909, 0.4909,  ..., 0.4909, 0.4909, 0.4909]))\n"
     ]
    },
    {
     "name": "stderr",
     "output_type": "stream",
     "text": [
      "/Users/alexi/Library/CloudStorage/OneDrive-Nexus365/Rotation Projects/Rotation_1/Project/DomAdpQSAR/DomAdpQSAR/presentation.py:36: UserWarning: Dataset has 0 variance; skipping density estimate. Pass `warn_singular=False` to disable this warning.\n",
      "  axes = sns.kdeplot(unlabeled_predictions, ax=axes, color=sns.color_palette()[1], bw_method=bandwidth,\n",
      "/Users/alexi/Library/CloudStorage/OneDrive-Nexus365/Rotation Projects/Rotation_1/Project/DomAdpQSAR/DomAdpQSAR/presentation.py:38: UserWarning: Dataset has 0 variance; skipping density estimate. Pass `warn_singular=False` to disable this warning.\n",
      "  axes = sns.kdeplot(test_predictions, ax=axes, color=sns.color_palette()[2], bw_method=bandwidth,\n",
      "/Users/alexi/Library/CloudStorage/OneDrive-Nexus365/Rotation Projects/Rotation_1/Project/DomAdpQSAR/DomAdpQSAR/presentation.py:40: UserWarning: Dataset has 0 variance; skipping density estimate. Pass `warn_singular=False` to disable this warning.\n",
      "  axes = sns.kdeplot(train_predictions, ax=axes, color=sns.color_palette()[2], linewidth=0.5, bw_method=bandwidth,\n"
     ]
    },
    {
     "name": "stdout",
     "output_type": "stream",
     "text": [
      "Step 1260, 0:00:06.463304...ize([1000, 2048])DNN Test Values:  ComparisonValues(ACC=tensor(0.8439), BAC=tensor(0.7740), MCC=tensor(0.5679), predicted_labels=tensor([0.8549, 0.9827, 0.0190,  ..., 0.9845, 0.0388, 0.0126]))\n",
      "GAN Test Values:  ComparisonValues(ACC=tensor(0.7527), BAC=tensor(0.5000), MCC=0.01, predicted_labels=tensor([0.4910, 0.4910, 0.4910,  ..., 0.4910, 0.4910, 0.4910]))\n"
     ]
    },
    {
     "name": "stderr",
     "output_type": "stream",
     "text": [
      "/Users/alexi/Library/CloudStorage/OneDrive-Nexus365/Rotation Projects/Rotation_1/Project/DomAdpQSAR/DomAdpQSAR/presentation.py:36: UserWarning: Dataset has 0 variance; skipping density estimate. Pass `warn_singular=False` to disable this warning.\n",
      "  axes = sns.kdeplot(unlabeled_predictions, ax=axes, color=sns.color_palette()[1], bw_method=bandwidth,\n",
      "/Users/alexi/Library/CloudStorage/OneDrive-Nexus365/Rotation Projects/Rotation_1/Project/DomAdpQSAR/DomAdpQSAR/presentation.py:38: UserWarning: Dataset has 0 variance; skipping density estimate. Pass `warn_singular=False` to disable this warning.\n",
      "  axes = sns.kdeplot(test_predictions, ax=axes, color=sns.color_palette()[2], bw_method=bandwidth,\n",
      "/Users/alexi/Library/CloudStorage/OneDrive-Nexus365/Rotation Projects/Rotation_1/Project/DomAdpQSAR/DomAdpQSAR/presentation.py:40: UserWarning: Dataset has 0 variance; skipping density estimate. Pass `warn_singular=False` to disable this warning.\n",
      "  axes = sns.kdeplot(train_predictions, ax=axes, color=sns.color_palette()[2], linewidth=0.5, bw_method=bandwidth,\n"
     ]
    },
    {
     "name": "stdout",
     "output_type": "stream",
     "text": [
      "Step 1267, 0:00:06.723885...ize([1000, 2048])DNN Test Values:  ComparisonValues(ACC=tensor(0.8439), BAC=tensor(0.7715), MCC=tensor(0.5661), predicted_labels=tensor([0.0319, 0.0416, 0.0231,  ..., 0.0411, 0.0430, 0.0467]))\n",
      "GAN Test Values:  ComparisonValues(ACC=tensor(0.7527), BAC=tensor(0.5000), MCC=0.01, predicted_labels=tensor([0.4912, 0.4912, 0.4912,  ..., 0.4912, 0.4912, 0.4912]))\n"
     ]
    },
    {
     "name": "stderr",
     "output_type": "stream",
     "text": [
      "/Users/alexi/Library/CloudStorage/OneDrive-Nexus365/Rotation Projects/Rotation_1/Project/DomAdpQSAR/DomAdpQSAR/presentation.py:36: UserWarning: Dataset has 0 variance; skipping density estimate. Pass `warn_singular=False` to disable this warning.\n",
      "  axes = sns.kdeplot(unlabeled_predictions, ax=axes, color=sns.color_palette()[1], bw_method=bandwidth,\n",
      "/Users/alexi/Library/CloudStorage/OneDrive-Nexus365/Rotation Projects/Rotation_1/Project/DomAdpQSAR/DomAdpQSAR/presentation.py:38: UserWarning: Dataset has 0 variance; skipping density estimate. Pass `warn_singular=False` to disable this warning.\n",
      "  axes = sns.kdeplot(test_predictions, ax=axes, color=sns.color_palette()[2], bw_method=bandwidth,\n",
      "/Users/alexi/Library/CloudStorage/OneDrive-Nexus365/Rotation Projects/Rotation_1/Project/DomAdpQSAR/DomAdpQSAR/presentation.py:40: UserWarning: Dataset has 0 variance; skipping density estimate. Pass `warn_singular=False` to disable this warning.\n",
      "  axes = sns.kdeplot(train_predictions, ax=axes, color=sns.color_palette()[2], linewidth=0.5, bw_method=bandwidth,\n"
     ]
    },
    {
     "name": "stdout",
     "output_type": "stream",
     "text": [
      "Step 1274, 0:00:07.889054...ize([1000, 2048])DNN Test Values:  ComparisonValues(ACC=tensor(0.8439), BAC=tensor(0.7756), MCC=tensor(0.5690), predicted_labels=tensor([0.9839, 0.0249, 0.9755,  ..., 0.0188, 0.0142, 0.0187]))\n",
      "GAN Test Values:  ComparisonValues(ACC=tensor(0.7527), BAC=tensor(0.5000), MCC=0.01, predicted_labels=tensor([0.4912, 0.4912, 0.4912,  ..., 0.4912, 0.4912, 0.4912]))\n"
     ]
    },
    {
     "name": "stderr",
     "output_type": "stream",
     "text": [
      "/Users/alexi/Library/CloudStorage/OneDrive-Nexus365/Rotation Projects/Rotation_1/Project/DomAdpQSAR/DomAdpQSAR/presentation.py:36: UserWarning: Dataset has 0 variance; skipping density estimate. Pass `warn_singular=False` to disable this warning.\n",
      "  axes = sns.kdeplot(unlabeled_predictions, ax=axes, color=sns.color_palette()[1], bw_method=bandwidth,\n",
      "/Users/alexi/Library/CloudStorage/OneDrive-Nexus365/Rotation Projects/Rotation_1/Project/DomAdpQSAR/DomAdpQSAR/presentation.py:38: UserWarning: Dataset has 0 variance; skipping density estimate. Pass `warn_singular=False` to disable this warning.\n",
      "  axes = sns.kdeplot(test_predictions, ax=axes, color=sns.color_palette()[2], bw_method=bandwidth,\n",
      "/Users/alexi/Library/CloudStorage/OneDrive-Nexus365/Rotation Projects/Rotation_1/Project/DomAdpQSAR/DomAdpQSAR/presentation.py:40: UserWarning: Dataset has 0 variance; skipping density estimate. Pass `warn_singular=False` to disable this warning.\n",
      "  axes = sns.kdeplot(train_predictions, ax=axes, color=sns.color_palette()[2], linewidth=0.5, bw_method=bandwidth,\n"
     ]
    },
    {
     "name": "stdout",
     "output_type": "stream",
     "text": [
      "Step 1281, 0:00:06.690737...ize([1000, 2048])DNN Test Values:  ComparisonValues(ACC=tensor(0.8442), BAC=tensor(0.7791), MCC=tensor(0.5721), predicted_labels=tensor([0.0145, 0.0138, 0.0190,  ..., 0.0130, 0.8942, 0.9670]))\n",
      "GAN Test Values:  ComparisonValues(ACC=tensor(0.7527), BAC=tensor(0.5000), MCC=0.01, predicted_labels=tensor([0.4913, 0.4913, 0.4913,  ..., 0.4913, 0.4913, 0.4913]))\n"
     ]
    },
    {
     "name": "stderr",
     "output_type": "stream",
     "text": [
      "/Users/alexi/Library/CloudStorage/OneDrive-Nexus365/Rotation Projects/Rotation_1/Project/DomAdpQSAR/DomAdpQSAR/presentation.py:36: UserWarning: Dataset has 0 variance; skipping density estimate. Pass `warn_singular=False` to disable this warning.\n",
      "  axes = sns.kdeplot(unlabeled_predictions, ax=axes, color=sns.color_palette()[1], bw_method=bandwidth,\n",
      "/Users/alexi/Library/CloudStorage/OneDrive-Nexus365/Rotation Projects/Rotation_1/Project/DomAdpQSAR/DomAdpQSAR/presentation.py:38: UserWarning: Dataset has 0 variance; skipping density estimate. Pass `warn_singular=False` to disable this warning.\n",
      "  axes = sns.kdeplot(test_predictions, ax=axes, color=sns.color_palette()[2], bw_method=bandwidth,\n",
      "/Users/alexi/Library/CloudStorage/OneDrive-Nexus365/Rotation Projects/Rotation_1/Project/DomAdpQSAR/DomAdpQSAR/presentation.py:40: UserWarning: Dataset has 0 variance; skipping density estimate. Pass `warn_singular=False` to disable this warning.\n",
      "  axes = sns.kdeplot(train_predictions, ax=axes, color=sns.color_palette()[2], linewidth=0.5, bw_method=bandwidth,\n"
     ]
    },
    {
     "name": "stdout",
     "output_type": "stream",
     "text": [
      "Step 1288, 0:00:06.741526...ize([1000, 2048])DNN Test Values:  ComparisonValues(ACC=tensor(0.8430), BAC=tensor(0.7784), MCC=tensor(0.5696), predicted_labels=tensor([0.0129, 0.9795, 0.0156,  ..., 0.0126, 0.0124, 0.0355]))\n",
      "GAN Test Values:  ComparisonValues(ACC=tensor(0.7527), BAC=tensor(0.5000), MCC=0.01, predicted_labels=tensor([0.4913, 0.4913, 0.4913,  ..., 0.4913, 0.4913, 0.4913]))\n"
     ]
    },
    {
     "name": "stderr",
     "output_type": "stream",
     "text": [
      "/Users/alexi/Library/CloudStorage/OneDrive-Nexus365/Rotation Projects/Rotation_1/Project/DomAdpQSAR/DomAdpQSAR/presentation.py:36: UserWarning: Dataset has 0 variance; skipping density estimate. Pass `warn_singular=False` to disable this warning.\n",
      "  axes = sns.kdeplot(unlabeled_predictions, ax=axes, color=sns.color_palette()[1], bw_method=bandwidth,\n",
      "/Users/alexi/Library/CloudStorage/OneDrive-Nexus365/Rotation Projects/Rotation_1/Project/DomAdpQSAR/DomAdpQSAR/presentation.py:38: UserWarning: Dataset has 0 variance; skipping density estimate. Pass `warn_singular=False` to disable this warning.\n",
      "  axes = sns.kdeplot(test_predictions, ax=axes, color=sns.color_palette()[2], bw_method=bandwidth,\n",
      "/Users/alexi/Library/CloudStorage/OneDrive-Nexus365/Rotation Projects/Rotation_1/Project/DomAdpQSAR/DomAdpQSAR/presentation.py:40: UserWarning: Dataset has 0 variance; skipping density estimate. Pass `warn_singular=False` to disable this warning.\n",
      "  axes = sns.kdeplot(train_predictions, ax=axes, color=sns.color_palette()[2], linewidth=0.5, bw_method=bandwidth,\n"
     ]
    },
    {
     "name": "stdout",
     "output_type": "stream",
     "text": [
      "Step 1295, 0:00:06.853362...ize([1000, 2048])DNN Test Values:  ComparisonValues(ACC=tensor(0.8444), BAC=tensor(0.7743), MCC=tensor(0.5689), predicted_labels=tensor([0.0136, 0.9812, 0.8943,  ..., 0.0172, 0.0139, 0.9817]))\n",
      "GAN Test Values:  ComparisonValues(ACC=tensor(0.7527), BAC=tensor(0.5000), MCC=0.01, predicted_labels=tensor([0.4912, 0.4912, 0.4912,  ..., 0.4912, 0.4912, 0.4912]))\n"
     ]
    },
    {
     "name": "stderr",
     "output_type": "stream",
     "text": [
      "/Users/alexi/Library/CloudStorage/OneDrive-Nexus365/Rotation Projects/Rotation_1/Project/DomAdpQSAR/DomAdpQSAR/presentation.py:36: UserWarning: Dataset has 0 variance; skipping density estimate. Pass `warn_singular=False` to disable this warning.\n",
      "  axes = sns.kdeplot(unlabeled_predictions, ax=axes, color=sns.color_palette()[1], bw_method=bandwidth,\n",
      "/Users/alexi/Library/CloudStorage/OneDrive-Nexus365/Rotation Projects/Rotation_1/Project/DomAdpQSAR/DomAdpQSAR/presentation.py:38: UserWarning: Dataset has 0 variance; skipping density estimate. Pass `warn_singular=False` to disable this warning.\n",
      "  axes = sns.kdeplot(test_predictions, ax=axes, color=sns.color_palette()[2], bw_method=bandwidth,\n",
      "/Users/alexi/Library/CloudStorage/OneDrive-Nexus365/Rotation Projects/Rotation_1/Project/DomAdpQSAR/DomAdpQSAR/presentation.py:40: UserWarning: Dataset has 0 variance; skipping density estimate. Pass `warn_singular=False` to disable this warning.\n",
      "  axes = sns.kdeplot(train_predictions, ax=axes, color=sns.color_palette()[2], linewidth=0.5, bw_method=bandwidth,\n"
     ]
    },
    {
     "name": "stdout",
     "output_type": "stream",
     "text": [
      "Step 1302, 0:00:06.235599...ize([1000, 2048])DNN Test Values:  ComparisonValues(ACC=tensor(0.8433), BAC=tensor(0.7773), MCC=tensor(0.5691), predicted_labels=tensor([0.9786, 0.0185, 0.0127,  ..., 0.0135, 0.0139, 0.1111]))\n",
      "GAN Test Values:  ComparisonValues(ACC=tensor(0.7527), BAC=tensor(0.5000), MCC=0.01, predicted_labels=tensor([0.4912, 0.4912, 0.4912,  ..., 0.4912, 0.4912, 0.4912]))\n"
     ]
    },
    {
     "name": "stderr",
     "output_type": "stream",
     "text": [
      "/Users/alexi/Library/CloudStorage/OneDrive-Nexus365/Rotation Projects/Rotation_1/Project/DomAdpQSAR/DomAdpQSAR/presentation.py:36: UserWarning: Dataset has 0 variance; skipping density estimate. Pass `warn_singular=False` to disable this warning.\n",
      "  axes = sns.kdeplot(unlabeled_predictions, ax=axes, color=sns.color_palette()[1], bw_method=bandwidth,\n",
      "/Users/alexi/Library/CloudStorage/OneDrive-Nexus365/Rotation Projects/Rotation_1/Project/DomAdpQSAR/DomAdpQSAR/presentation.py:38: UserWarning: Dataset has 0 variance; skipping density estimate. Pass `warn_singular=False` to disable this warning.\n",
      "  axes = sns.kdeplot(test_predictions, ax=axes, color=sns.color_palette()[2], bw_method=bandwidth,\n",
      "/Users/alexi/Library/CloudStorage/OneDrive-Nexus365/Rotation Projects/Rotation_1/Project/DomAdpQSAR/DomAdpQSAR/presentation.py:40: UserWarning: Dataset has 0 variance; skipping density estimate. Pass `warn_singular=False` to disable this warning.\n",
      "  axes = sns.kdeplot(train_predictions, ax=axes, color=sns.color_palette()[2], linewidth=0.5, bw_method=bandwidth,\n"
     ]
    },
    {
     "name": "stdout",
     "output_type": "stream",
     "text": [
      "Step 1309, 0:00:06.477201...ize([1000, 2048])DNN Test Values:  ComparisonValues(ACC=tensor(0.8439), BAC=tensor(0.7759), MCC=tensor(0.5693), predicted_labels=tensor([0.9844, 0.0338, 0.9821,  ..., 0.0173, 0.0133, 0.0163]))\n",
      "GAN Test Values:  ComparisonValues(ACC=tensor(0.7527), BAC=tensor(0.5000), MCC=0.01, predicted_labels=tensor([0.4912, 0.4912, 0.4912,  ..., 0.4912, 0.4912, 0.4912]))\n"
     ]
    },
    {
     "name": "stderr",
     "output_type": "stream",
     "text": [
      "/Users/alexi/Library/CloudStorage/OneDrive-Nexus365/Rotation Projects/Rotation_1/Project/DomAdpQSAR/DomAdpQSAR/presentation.py:36: UserWarning: Dataset has 0 variance; skipping density estimate. Pass `warn_singular=False` to disable this warning.\n",
      "  axes = sns.kdeplot(unlabeled_predictions, ax=axes, color=sns.color_palette()[1], bw_method=bandwidth,\n",
      "/Users/alexi/Library/CloudStorage/OneDrive-Nexus365/Rotation Projects/Rotation_1/Project/DomAdpQSAR/DomAdpQSAR/presentation.py:38: UserWarning: Dataset has 0 variance; skipping density estimate. Pass `warn_singular=False` to disable this warning.\n",
      "  axes = sns.kdeplot(test_predictions, ax=axes, color=sns.color_palette()[2], bw_method=bandwidth,\n",
      "/Users/alexi/Library/CloudStorage/OneDrive-Nexus365/Rotation Projects/Rotation_1/Project/DomAdpQSAR/DomAdpQSAR/presentation.py:40: UserWarning: Dataset has 0 variance; skipping density estimate. Pass `warn_singular=False` to disable this warning.\n",
      "  axes = sns.kdeplot(train_predictions, ax=axes, color=sns.color_palette()[2], linewidth=0.5, bw_method=bandwidth,\n"
     ]
    },
    {
     "name": "stdout",
     "output_type": "stream",
     "text": [
      "Step 1316, 0:00:06.284634...ize([1000, 2048])DNN Test Values:  ComparisonValues(ACC=tensor(0.8439), BAC=tensor(0.7756), MCC=tensor(0.5690), predicted_labels=tensor([0.0110, 0.9552, 0.0123,  ..., 0.0153, 0.0117, 0.0138]))\n",
      "GAN Test Values:  ComparisonValues(ACC=tensor(0.7527), BAC=tensor(0.5000), MCC=0.01, predicted_labels=tensor([0.4912, 0.4912, 0.4912,  ..., 0.4912, 0.4912, 0.4912]))\n"
     ]
    },
    {
     "name": "stderr",
     "output_type": "stream",
     "text": [
      "/Users/alexi/Library/CloudStorage/OneDrive-Nexus365/Rotation Projects/Rotation_1/Project/DomAdpQSAR/DomAdpQSAR/presentation.py:36: UserWarning: Dataset has 0 variance; skipping density estimate. Pass `warn_singular=False` to disable this warning.\n",
      "  axes = sns.kdeplot(unlabeled_predictions, ax=axes, color=sns.color_palette()[1], bw_method=bandwidth,\n",
      "/Users/alexi/Library/CloudStorage/OneDrive-Nexus365/Rotation Projects/Rotation_1/Project/DomAdpQSAR/DomAdpQSAR/presentation.py:38: UserWarning: Dataset has 0 variance; skipping density estimate. Pass `warn_singular=False` to disable this warning.\n",
      "  axes = sns.kdeplot(test_predictions, ax=axes, color=sns.color_palette()[2], bw_method=bandwidth,\n",
      "/Users/alexi/Library/CloudStorage/OneDrive-Nexus365/Rotation Projects/Rotation_1/Project/DomAdpQSAR/DomAdpQSAR/presentation.py:40: UserWarning: Dataset has 0 variance; skipping density estimate. Pass `warn_singular=False` to disable this warning.\n",
      "  axes = sns.kdeplot(train_predictions, ax=axes, color=sns.color_palette()[2], linewidth=0.5, bw_method=bandwidth,\n"
     ]
    },
    {
     "name": "stdout",
     "output_type": "stream",
     "text": [
      "Step 1323, 0:00:06.995225...ize([1000, 2048])DNN Test Values:  ComparisonValues(ACC=tensor(0.8451), BAC=tensor(0.7701), MCC=tensor(0.5672), predicted_labels=tensor([0.0108, 0.9530, 0.0650,  ..., 0.9845, 0.0180, 0.0127]))\n",
      "GAN Test Values:  ComparisonValues(ACC=tensor(0.7527), BAC=tensor(0.5000), MCC=0.01, predicted_labels=tensor([0.4912, 0.4912, 0.4912,  ..., 0.4912, 0.4912, 0.4912]))\n"
     ]
    },
    {
     "name": "stderr",
     "output_type": "stream",
     "text": [
      "/Users/alexi/Library/CloudStorage/OneDrive-Nexus365/Rotation Projects/Rotation_1/Project/DomAdpQSAR/DomAdpQSAR/presentation.py:36: UserWarning: Dataset has 0 variance; skipping density estimate. Pass `warn_singular=False` to disable this warning.\n",
      "  axes = sns.kdeplot(unlabeled_predictions, ax=axes, color=sns.color_palette()[1], bw_method=bandwidth,\n",
      "/Users/alexi/Library/CloudStorage/OneDrive-Nexus365/Rotation Projects/Rotation_1/Project/DomAdpQSAR/DomAdpQSAR/presentation.py:38: UserWarning: Dataset has 0 variance; skipping density estimate. Pass `warn_singular=False` to disable this warning.\n",
      "  axes = sns.kdeplot(test_predictions, ax=axes, color=sns.color_palette()[2], bw_method=bandwidth,\n",
      "/Users/alexi/Library/CloudStorage/OneDrive-Nexus365/Rotation Projects/Rotation_1/Project/DomAdpQSAR/DomAdpQSAR/presentation.py:40: UserWarning: Dataset has 0 variance; skipping density estimate. Pass `warn_singular=False` to disable this warning.\n",
      "  axes = sns.kdeplot(train_predictions, ax=axes, color=sns.color_palette()[2], linewidth=0.5, bw_method=bandwidth,\n"
     ]
    },
    {
     "name": "stdout",
     "output_type": "stream",
     "text": [
      "Step 1330, 0:00:07.505030...ize([1000, 2048])DNN Test Values:  ComparisonValues(ACC=tensor(0.8455), BAC=tensor(0.7689), MCC=tensor(0.5672), predicted_labels=tensor([0.0114, 0.0145, 0.0153,  ..., 0.0128, 0.0149, 0.9829]))\n",
      "GAN Test Values:  ComparisonValues(ACC=tensor(0.7527), BAC=tensor(0.5000), MCC=0.01, predicted_labels=tensor([0.4912, 0.4912, 0.4912,  ..., 0.4912, 0.4912, 0.4912]))\n"
     ]
    },
    {
     "name": "stderr",
     "output_type": "stream",
     "text": [
      "/Users/alexi/Library/CloudStorage/OneDrive-Nexus365/Rotation Projects/Rotation_1/Project/DomAdpQSAR/DomAdpQSAR/presentation.py:36: UserWarning: Dataset has 0 variance; skipping density estimate. Pass `warn_singular=False` to disable this warning.\n",
      "  axes = sns.kdeplot(unlabeled_predictions, ax=axes, color=sns.color_palette()[1], bw_method=bandwidth,\n",
      "/Users/alexi/Library/CloudStorage/OneDrive-Nexus365/Rotation Projects/Rotation_1/Project/DomAdpQSAR/DomAdpQSAR/presentation.py:38: UserWarning: Dataset has 0 variance; skipping density estimate. Pass `warn_singular=False` to disable this warning.\n",
      "  axes = sns.kdeplot(test_predictions, ax=axes, color=sns.color_palette()[2], bw_method=bandwidth,\n",
      "/Users/alexi/Library/CloudStorage/OneDrive-Nexus365/Rotation Projects/Rotation_1/Project/DomAdpQSAR/DomAdpQSAR/presentation.py:40: UserWarning: Dataset has 0 variance; skipping density estimate. Pass `warn_singular=False` to disable this warning.\n",
      "  axes = sns.kdeplot(train_predictions, ax=axes, color=sns.color_palette()[2], linewidth=0.5, bw_method=bandwidth,\n"
     ]
    },
    {
     "name": "stdout",
     "output_type": "stream",
     "text": [
      "Step 1337, 0:00:06.463648...ize([1000, 2048])DNN Test Values:  ComparisonValues(ACC=tensor(0.8442), BAC=tensor(0.7711), MCC=tensor(0.5662), predicted_labels=tensor([0.0119, 0.0104, 0.0275,  ..., 0.0116, 0.0314, 0.4480]))\n",
      "GAN Test Values:  ComparisonValues(ACC=tensor(0.7527), BAC=tensor(0.5000), MCC=0.01, predicted_labels=tensor([0.4912, 0.4912, 0.4912,  ..., 0.4912, 0.4912, 0.4912]))\n"
     ]
    },
    {
     "name": "stderr",
     "output_type": "stream",
     "text": [
      "/Users/alexi/Library/CloudStorage/OneDrive-Nexus365/Rotation Projects/Rotation_1/Project/DomAdpQSAR/DomAdpQSAR/presentation.py:36: UserWarning: Dataset has 0 variance; skipping density estimate. Pass `warn_singular=False` to disable this warning.\n",
      "  axes = sns.kdeplot(unlabeled_predictions, ax=axes, color=sns.color_palette()[1], bw_method=bandwidth,\n",
      "/Users/alexi/Library/CloudStorage/OneDrive-Nexus365/Rotation Projects/Rotation_1/Project/DomAdpQSAR/DomAdpQSAR/presentation.py:38: UserWarning: Dataset has 0 variance; skipping density estimate. Pass `warn_singular=False` to disable this warning.\n",
      "  axes = sns.kdeplot(test_predictions, ax=axes, color=sns.color_palette()[2], bw_method=bandwidth,\n",
      "/Users/alexi/Library/CloudStorage/OneDrive-Nexus365/Rotation Projects/Rotation_1/Project/DomAdpQSAR/DomAdpQSAR/presentation.py:40: UserWarning: Dataset has 0 variance; skipping density estimate. Pass `warn_singular=False` to disable this warning.\n",
      "  axes = sns.kdeplot(train_predictions, ax=axes, color=sns.color_palette()[2], linewidth=0.5, bw_method=bandwidth,\n"
     ]
    },
    {
     "name": "stdout",
     "output_type": "stream",
     "text": [
      "Step 1344, 0:00:06.473423...ize([1000, 2048])DNN Test Values:  ComparisonValues(ACC=tensor(0.8465), BAC=tensor(0.7757), MCC=tensor(0.5737), predicted_labels=tensor([0.0208, 0.0111, 0.1140,  ..., 0.0120, 0.0114, 0.0147]))\n",
      "GAN Test Values:  ComparisonValues(ACC=tensor(0.7527), BAC=tensor(0.5000), MCC=0.01, predicted_labels=tensor([0.4911, 0.4911, 0.4911,  ..., 0.4911, 0.4911, 0.4911]))\n"
     ]
    },
    {
     "name": "stderr",
     "output_type": "stream",
     "text": [
      "/Users/alexi/Library/CloudStorage/OneDrive-Nexus365/Rotation Projects/Rotation_1/Project/DomAdpQSAR/DomAdpQSAR/presentation.py:36: UserWarning: Dataset has 0 variance; skipping density estimate. Pass `warn_singular=False` to disable this warning.\n",
      "  axes = sns.kdeplot(unlabeled_predictions, ax=axes, color=sns.color_palette()[1], bw_method=bandwidth,\n",
      "/Users/alexi/Library/CloudStorage/OneDrive-Nexus365/Rotation Projects/Rotation_1/Project/DomAdpQSAR/DomAdpQSAR/presentation.py:38: UserWarning: Dataset has 0 variance; skipping density estimate. Pass `warn_singular=False` to disable this warning.\n",
      "  axes = sns.kdeplot(test_predictions, ax=axes, color=sns.color_palette()[2], bw_method=bandwidth,\n",
      "/Users/alexi/Library/CloudStorage/OneDrive-Nexus365/Rotation Projects/Rotation_1/Project/DomAdpQSAR/DomAdpQSAR/presentation.py:40: UserWarning: Dataset has 0 variance; skipping density estimate. Pass `warn_singular=False` to disable this warning.\n",
      "  axes = sns.kdeplot(train_predictions, ax=axes, color=sns.color_palette()[2], linewidth=0.5, bw_method=bandwidth,\n"
     ]
    },
    {
     "name": "stdout",
     "output_type": "stream",
     "text": [
      "Step 1351, 0:00:07.429096...ize([1000, 2048])DNN Test Values:  ComparisonValues(ACC=tensor(0.8465), BAC=tensor(0.7738), MCC=tensor(0.5724), predicted_labels=tensor([0.9690, 0.0149, 0.0111,  ..., 0.0108, 0.0121, 0.0426]))\n",
      "GAN Test Values:  ComparisonValues(ACC=tensor(0.7527), BAC=tensor(0.5000), MCC=0.01, predicted_labels=tensor([0.4910, 0.4910, 0.4910,  ..., 0.4910, 0.4910, 0.4910]))\n"
     ]
    },
    {
     "name": "stderr",
     "output_type": "stream",
     "text": [
      "/Users/alexi/Library/CloudStorage/OneDrive-Nexus365/Rotation Projects/Rotation_1/Project/DomAdpQSAR/DomAdpQSAR/presentation.py:36: UserWarning: Dataset has 0 variance; skipping density estimate. Pass `warn_singular=False` to disable this warning.\n",
      "  axes = sns.kdeplot(unlabeled_predictions, ax=axes, color=sns.color_palette()[1], bw_method=bandwidth,\n",
      "/Users/alexi/Library/CloudStorage/OneDrive-Nexus365/Rotation Projects/Rotation_1/Project/DomAdpQSAR/DomAdpQSAR/presentation.py:38: UserWarning: Dataset has 0 variance; skipping density estimate. Pass `warn_singular=False` to disable this warning.\n",
      "  axes = sns.kdeplot(test_predictions, ax=axes, color=sns.color_palette()[2], bw_method=bandwidth,\n",
      "/Users/alexi/Library/CloudStorage/OneDrive-Nexus365/Rotation Projects/Rotation_1/Project/DomAdpQSAR/DomAdpQSAR/presentation.py:40: UserWarning: Dataset has 0 variance; skipping density estimate. Pass `warn_singular=False` to disable this warning.\n",
      "  axes = sns.kdeplot(train_predictions, ax=axes, color=sns.color_palette()[2], linewidth=0.5, bw_method=bandwidth,\n"
     ]
    },
    {
     "name": "stdout",
     "output_type": "stream",
     "text": [
      "Step 1358, 0:00:06.335524...ize([1000, 2048])DNN Test Values:  ComparisonValues(ACC=tensor(0.8462), BAC=tensor(0.7746), MCC=tensor(0.5725), predicted_labels=tensor([0.0122, 0.0217, 0.7967,  ..., 0.0120, 0.0131, 0.0116]))\n",
      "GAN Test Values:  ComparisonValues(ACC=tensor(0.7527), BAC=tensor(0.5000), MCC=0.01, predicted_labels=tensor([0.4910, 0.4910, 0.4910,  ..., 0.4910, 0.4910, 0.4910]))\n"
     ]
    },
    {
     "name": "stderr",
     "output_type": "stream",
     "text": [
      "/Users/alexi/Library/CloudStorage/OneDrive-Nexus365/Rotation Projects/Rotation_1/Project/DomAdpQSAR/DomAdpQSAR/presentation.py:36: UserWarning: Dataset has 0 variance; skipping density estimate. Pass `warn_singular=False` to disable this warning.\n",
      "  axes = sns.kdeplot(unlabeled_predictions, ax=axes, color=sns.color_palette()[1], bw_method=bandwidth,\n",
      "/Users/alexi/Library/CloudStorage/OneDrive-Nexus365/Rotation Projects/Rotation_1/Project/DomAdpQSAR/DomAdpQSAR/presentation.py:38: UserWarning: Dataset has 0 variance; skipping density estimate. Pass `warn_singular=False` to disable this warning.\n",
      "  axes = sns.kdeplot(test_predictions, ax=axes, color=sns.color_palette()[2], bw_method=bandwidth,\n",
      "/Users/alexi/Library/CloudStorage/OneDrive-Nexus365/Rotation Projects/Rotation_1/Project/DomAdpQSAR/DomAdpQSAR/presentation.py:40: UserWarning: Dataset has 0 variance; skipping density estimate. Pass `warn_singular=False` to disable this warning.\n",
      "  axes = sns.kdeplot(train_predictions, ax=axes, color=sns.color_palette()[2], linewidth=0.5, bw_method=bandwidth,\n"
     ]
    },
    {
     "name": "stdout",
     "output_type": "stream",
     "text": [
      "Step 1365, 0:00:06.305260...ize([1000, 2048])DNN Test Values:  ComparisonValues(ACC=tensor(0.8465), BAC=tensor(0.7704), MCC=tensor(0.5700), predicted_labels=tensor([0.0279, 0.0180, 0.1856,  ..., 0.0131, 0.9549, 0.0135]))\n",
      "GAN Test Values:  ComparisonValues(ACC=tensor(0.7527), BAC=tensor(0.5000), MCC=0.01, predicted_labels=tensor([0.4909, 0.4909, 0.4909,  ..., 0.4909, 0.4909, 0.4909]))\n"
     ]
    },
    {
     "name": "stderr",
     "output_type": "stream",
     "text": [
      "/Users/alexi/Library/CloudStorage/OneDrive-Nexus365/Rotation Projects/Rotation_1/Project/DomAdpQSAR/DomAdpQSAR/presentation.py:36: UserWarning: Dataset has 0 variance; skipping density estimate. Pass `warn_singular=False` to disable this warning.\n",
      "  axes = sns.kdeplot(unlabeled_predictions, ax=axes, color=sns.color_palette()[1], bw_method=bandwidth,\n",
      "/Users/alexi/Library/CloudStorage/OneDrive-Nexus365/Rotation Projects/Rotation_1/Project/DomAdpQSAR/DomAdpQSAR/presentation.py:38: UserWarning: Dataset has 0 variance; skipping density estimate. Pass `warn_singular=False` to disable this warning.\n",
      "  axes = sns.kdeplot(test_predictions, ax=axes, color=sns.color_palette()[2], bw_method=bandwidth,\n",
      "/Users/alexi/Library/CloudStorage/OneDrive-Nexus365/Rotation Projects/Rotation_1/Project/DomAdpQSAR/DomAdpQSAR/presentation.py:40: UserWarning: Dataset has 0 variance; skipping density estimate. Pass `warn_singular=False` to disable this warning.\n",
      "  axes = sns.kdeplot(train_predictions, ax=axes, color=sns.color_palette()[2], linewidth=0.5, bw_method=bandwidth,\n"
     ]
    },
    {
     "name": "stdout",
     "output_type": "stream",
     "text": [
      "Step 1372, 0:00:09.794651...ize([1000, 2048])DNN Test Values:  ComparisonValues(ACC=tensor(0.8476), BAC=tensor(0.7718), MCC=tensor(0.5732), predicted_labels=tensor([0.0133, 0.0115, 0.0112,  ..., 0.0213, 0.0133, 0.0118]))\n",
      "GAN Test Values:  ComparisonValues(ACC=tensor(0.7527), BAC=tensor(0.5000), MCC=0.01, predicted_labels=tensor([0.4909, 0.4909, 0.4909,  ..., 0.4909, 0.4909, 0.4909]))\n"
     ]
    },
    {
     "name": "stderr",
     "output_type": "stream",
     "text": [
      "/Users/alexi/Library/CloudStorage/OneDrive-Nexus365/Rotation Projects/Rotation_1/Project/DomAdpQSAR/DomAdpQSAR/presentation.py:36: UserWarning: Dataset has 0 variance; skipping density estimate. Pass `warn_singular=False` to disable this warning.\n",
      "  axes = sns.kdeplot(unlabeled_predictions, ax=axes, color=sns.color_palette()[1], bw_method=bandwidth,\n",
      "/Users/alexi/Library/CloudStorage/OneDrive-Nexus365/Rotation Projects/Rotation_1/Project/DomAdpQSAR/DomAdpQSAR/presentation.py:38: UserWarning: Dataset has 0 variance; skipping density estimate. Pass `warn_singular=False` to disable this warning.\n",
      "  axes = sns.kdeplot(test_predictions, ax=axes, color=sns.color_palette()[2], bw_method=bandwidth,\n",
      "/Users/alexi/Library/CloudStorage/OneDrive-Nexus365/Rotation Projects/Rotation_1/Project/DomAdpQSAR/DomAdpQSAR/presentation.py:40: UserWarning: Dataset has 0 variance; skipping density estimate. Pass `warn_singular=False` to disable this warning.\n",
      "  axes = sns.kdeplot(train_predictions, ax=axes, color=sns.color_palette()[2], linewidth=0.5, bw_method=bandwidth,\n"
     ]
    },
    {
     "name": "stdout",
     "output_type": "stream",
     "text": [
      "Step 1379, 0:00:09.998093...ize([1000, 2048])DNN Test Values:  ComparisonValues(ACC=tensor(0.8483), BAC=tensor(0.7735), MCC=tensor(0.5756), predicted_labels=tensor([0.0155, 0.7930, 0.0151,  ..., 0.0164, 0.0179, 0.0294]))\n",
      "GAN Test Values:  ComparisonValues(ACC=tensor(0.7527), BAC=tensor(0.5000), MCC=0.01, predicted_labels=tensor([0.4909, 0.4909, 0.4909,  ..., 0.4909, 0.4909, 0.4909]))\n"
     ]
    },
    {
     "name": "stderr",
     "output_type": "stream",
     "text": [
      "/Users/alexi/Library/CloudStorage/OneDrive-Nexus365/Rotation Projects/Rotation_1/Project/DomAdpQSAR/DomAdpQSAR/presentation.py:36: UserWarning: Dataset has 0 variance; skipping density estimate. Pass `warn_singular=False` to disable this warning.\n",
      "  axes = sns.kdeplot(unlabeled_predictions, ax=axes, color=sns.color_palette()[1], bw_method=bandwidth,\n",
      "/Users/alexi/Library/CloudStorage/OneDrive-Nexus365/Rotation Projects/Rotation_1/Project/DomAdpQSAR/DomAdpQSAR/presentation.py:38: UserWarning: Dataset has 0 variance; skipping density estimate. Pass `warn_singular=False` to disable this warning.\n",
      "  axes = sns.kdeplot(test_predictions, ax=axes, color=sns.color_palette()[2], bw_method=bandwidth,\n",
      "/Users/alexi/Library/CloudStorage/OneDrive-Nexus365/Rotation Projects/Rotation_1/Project/DomAdpQSAR/DomAdpQSAR/presentation.py:40: UserWarning: Dataset has 0 variance; skipping density estimate. Pass `warn_singular=False` to disable this warning.\n",
      "  axes = sns.kdeplot(train_predictions, ax=axes, color=sns.color_palette()[2], linewidth=0.5, bw_method=bandwidth,\n"
     ]
    },
    {
     "name": "stdout",
     "output_type": "stream",
     "text": [
      "Step 1386, 0:00:07.341109...ize([1000, 2048])DNN Test Values:  ComparisonValues(ACC=tensor(0.8442), BAC=tensor(0.7711), MCC=tensor(0.5662), predicted_labels=tensor([0.2543, 0.0133, 0.0120,  ..., 0.0129, 0.0110, 0.0191]))\n",
      "GAN Test Values:  ComparisonValues(ACC=tensor(0.7527), BAC=tensor(0.5000), MCC=0.01, predicted_labels=tensor([0.4908, 0.4908, 0.4908,  ..., 0.4908, 0.4908, 0.4908]))\n"
     ]
    },
    {
     "name": "stderr",
     "output_type": "stream",
     "text": [
      "/Users/alexi/Library/CloudStorage/OneDrive-Nexus365/Rotation Projects/Rotation_1/Project/DomAdpQSAR/DomAdpQSAR/presentation.py:36: UserWarning: Dataset has 0 variance; skipping density estimate. Pass `warn_singular=False` to disable this warning.\n",
      "  axes = sns.kdeplot(unlabeled_predictions, ax=axes, color=sns.color_palette()[1], bw_method=bandwidth,\n",
      "/Users/alexi/Library/CloudStorage/OneDrive-Nexus365/Rotation Projects/Rotation_1/Project/DomAdpQSAR/DomAdpQSAR/presentation.py:38: UserWarning: Dataset has 0 variance; skipping density estimate. Pass `warn_singular=False` to disable this warning.\n",
      "  axes = sns.kdeplot(test_predictions, ax=axes, color=sns.color_palette()[2], bw_method=bandwidth,\n",
      "/Users/alexi/Library/CloudStorage/OneDrive-Nexus365/Rotation Projects/Rotation_1/Project/DomAdpQSAR/DomAdpQSAR/presentation.py:40: UserWarning: Dataset has 0 variance; skipping density estimate. Pass `warn_singular=False` to disable this warning.\n",
      "  axes = sns.kdeplot(train_predictions, ax=axes, color=sns.color_palette()[2], linewidth=0.5, bw_method=bandwidth,\n"
     ]
    },
    {
     "name": "stdout",
     "output_type": "stream",
     "text": [
      "Step 1393, 0:00:08.307112...ize([1000, 2048])DNN Test Values:  ComparisonValues(ACC=tensor(0.8449), BAC=tensor(0.7721), MCC=tensor(0.5682), predicted_labels=tensor([0.0113, 0.0132, 0.0256,  ..., 0.0107, 0.9452, 0.0787]))\n",
      "GAN Test Values:  ComparisonValues(ACC=tensor(0.7527), BAC=tensor(0.5000), MCC=0.01, predicted_labels=tensor([0.4908, 0.4908, 0.4908,  ..., 0.4908, 0.4908, 0.4908]))\n"
     ]
    },
    {
     "name": "stderr",
     "output_type": "stream",
     "text": [
      "/Users/alexi/Library/CloudStorage/OneDrive-Nexus365/Rotation Projects/Rotation_1/Project/DomAdpQSAR/DomAdpQSAR/presentation.py:36: UserWarning: Dataset has 0 variance; skipping density estimate. Pass `warn_singular=False` to disable this warning.\n",
      "  axes = sns.kdeplot(unlabeled_predictions, ax=axes, color=sns.color_palette()[1], bw_method=bandwidth,\n",
      "/Users/alexi/Library/CloudStorage/OneDrive-Nexus365/Rotation Projects/Rotation_1/Project/DomAdpQSAR/DomAdpQSAR/presentation.py:38: UserWarning: Dataset has 0 variance; skipping density estimate. Pass `warn_singular=False` to disable this warning.\n",
      "  axes = sns.kdeplot(test_predictions, ax=axes, color=sns.color_palette()[2], bw_method=bandwidth,\n",
      "/Users/alexi/Library/CloudStorage/OneDrive-Nexus365/Rotation Projects/Rotation_1/Project/DomAdpQSAR/DomAdpQSAR/presentation.py:40: UserWarning: Dataset has 0 variance; skipping density estimate. Pass `warn_singular=False` to disable this warning.\n",
      "  axes = sns.kdeplot(train_predictions, ax=axes, color=sns.color_palette()[2], linewidth=0.5, bw_method=bandwidth,\n"
     ]
    },
    {
     "name": "stdout",
     "output_type": "stream",
     "text": [
      "Step 1399, 0:00:07.091493...ize([218, 2048]))DNN Test Values:  ComparisonValues(ACC=tensor(0.8485), BAC=tensor(0.7715), MCC=tensor(0.5747), predicted_labels=tensor([0.0116, 0.0107, 0.0110,  ..., 0.0108, 0.0110, 0.0132]))\n",
      "GAN Test Values:  ComparisonValues(ACC=tensor(0.7527), BAC=tensor(0.5000), MCC=0.01, predicted_labels=tensor([0.4907, 0.4907, 0.4907,  ..., 0.4907, 0.4907, 0.4907]))\n",
      "Completed logs/SR GAN Ax LLx50 Ang False Norm feat Norm True Ranked TF:Broad Tuning Underfit\n"
     ]
    }
   ],
   "source": [
    "test_Experiment = DomAdpQSARSRGAN(settings)\n",
    "\n",
    "test_Experiment.load_featuriser(featuriser_path)\n",
    "print(test_Experiment.D)\n",
    "test_Experiment.set_rank(\"Tanimoto\")\n",
    "test_Experiment.settings.trial_name = \"SR GAN Ax LLx50 Ang False Norm feat Norm True Ranked TF:\" + featuriser_name\n",
    "test_Experiment.train()"
   ]
  },
  {
   "cell_type": "code",
   "execution_count": null,
   "metadata": {},
   "outputs": [],
   "source": []
  },
  {
   "cell_type": "code",
   "execution_count": null,
   "metadata": {},
   "outputs": [],
   "source": []
  },
  {
   "cell_type": "code",
   "execution_count": null,
   "metadata": {},
   "outputs": [],
   "source": [
    "break"
   ]
  },
  {
   "cell_type": "code",
   "execution_count": null,
   "metadata": {},
   "outputs": [],
   "source": [
    "\n",
    "\n",
    "for bool1 in [True, False]:\n",
    "    for bool2 in [True, False]:\n",
    "        for rank in [None, \"Tanimoto\"]:\n",
    "            settings.use_feature_angle = bool1\n",
    "            settings.normalize_feature_norm = bool2 \n",
    "            \n",
    "\n",
    "            test_Experiment = DomAdpQSARSRGAN(settings)\n",
    "            test_Experiment.settings.trial_name = \"SR GAN Feat Ax LLx50 rank {} Ang {} Norm Feat Norm {}\".format(str(rank), \n",
    "                                                                                                                  str(bool1), \n",
    "                                                                                                                  str(bool2))\n",
    "            print(test_Experiment.settings.trial_name)\n",
    "            test_Experiment.set_rank(rank)\n",
    "            test_Experiment.train()\n",
    "\n",
    "\n"
   ]
  },
  {
   "cell_type": "code",
   "execution_count": null,
   "metadata": {},
   "outputs": [],
   "source": [
    "break"
   ]
  },
  {
   "cell_type": "code",
   "execution_count": null,
   "metadata": {},
   "outputs": [],
   "source": [
    "# test_Experiment.model_setup()\n",
    "\n"
   ]
  },
  {
   "cell_type": "code",
   "execution_count": null,
   "metadata": {},
   "outputs": [],
   "source": [
    "test_Experiment.train()"
   ]
  },
  {
   "cell_type": "code",
   "execution_count": null,
   "metadata": {},
   "outputs": [],
   "source": []
  },
  {
   "cell_type": "code",
   "execution_count": null,
   "metadata": {},
   "outputs": [],
   "source": [
    "settings.normalize_feature_norm = False\n",
    "settings.use_feature_angle = False\n",
    "test_Experiment.settings.trial_name = 'SR-GAN Ax tune 1 feat_norm Flase angle False'\n",
    "test_Experiment.train()"
   ]
  },
  {
   "cell_type": "code",
   "execution_count": null,
   "metadata": {},
   "outputs": [],
   "source": []
  }
 ],
 "metadata": {
  "kernelspec": {
   "display_name": "fluid_test",
   "language": "python",
   "name": "python3"
  },
  "language_info": {
   "codemirror_mode": {
    "name": "ipython",
    "version": 3
   },
   "file_extension": ".py",
   "mimetype": "text/x-python",
   "name": "python",
   "nbconvert_exporter": "python",
   "pygments_lexer": "ipython3",
   "version": "3.8.16"
  },
  "orig_nbformat": 4
 },
 "nbformat": 4,
 "nbformat_minor": 2
}
