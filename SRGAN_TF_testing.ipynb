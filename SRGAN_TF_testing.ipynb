{
 "cells": [
  {
   "attachments": {},
   "cell_type": "markdown",
   "metadata": {},
   "source": []
  },
  {
   "cell_type": "code",
   "execution_count": null,
   "metadata": {},
   "outputs": [],
   "source": []
  },
  {
   "cell_type": "code",
   "execution_count": 1,
   "metadata": {},
   "outputs": [],
   "source": [
    "## QSAR SR GAN testing\n",
    "\n",
    "from DomAdpQSAR.QSARsettings import Settings\n",
    "from DomAdpQSAR.QSARsrgan import DomAdpQSARSRGAN\n",
    "\n",
    "\n",
    "settings = Settings()\n",
    "import os\n",
    "import pandas as pd"
   ]
  },
  {
   "cell_type": "code",
   "execution_count": null,
   "metadata": {},
   "outputs": [],
   "source": []
  },
  {
   "cell_type": "code",
   "execution_count": null,
   "metadata": {},
   "outputs": [],
   "source": []
  },
  {
   "cell_type": "code",
   "execution_count": 2,
   "metadata": {},
   "outputs": [],
   "source": [
    "\n",
    "# settings.learning_rate = \n",
    "settings.epochs_to_run = 200\n",
    "# settings.generator_layer_sizes\n",
    "# settings.use_feature_angle = True\n",
    "\n",
    "settings.labeled_loss_multiplier = 50\n",
    "settings.matching_loss_multiplier = 3\n",
    "settings.contrasting_loss_multiplier = 2\n",
    "settings.srgan_loss_multiplier = 125\n",
    "\n",
    "settings.gradient_penalty_multiplier = 4750\n",
    "# settings.federated_datapath = os.path.join(settings.data_dir, 'transfer_full.pkl')\n"
   ]
  },
  {
   "cell_type": "code",
   "execution_count": 3,
   "metadata": {},
   "outputs": [],
   "source": [
    "featuriser_name = \"Broad Tuning Underfit\"\n",
    "\n",
    "featuriser_path = \"logs/\" + featuriser_name + \"/\""
   ]
  },
  {
   "attachments": {},
   "cell_type": "markdown",
   "metadata": {},
   "source": []
  },
  {
   "cell_type": "code",
   "execution_count": 4,
   "metadata": {},
   "outputs": [
    {
     "name": "stdout",
     "output_type": "stream",
     "text": [
      "Model loaded from `logs/Broad Tuning Underfit/model_250.pth`.\n",
      "logs/base r20\n",
      "dataset rank:  None\n",
      "7\n",
      "Step 0, 0:00:02.971357...ize([1000, 2048])DNN Test Values:  ComparisonValues(ACC=tensor(0.2473), BAC=tensor(0.5000), MCC=0.01, predicted_labels=tensor([0.5289, 0.5283, 0.5283,  ..., 0.5274, 0.5281, 0.5291]))\n",
      "GAN Test Values:  ComparisonValues(ACC=tensor(0.2473), BAC=tensor(0.5000), MCC=0.01, predicted_labels=tensor([0.5360, 0.5341, 0.5352,  ..., 0.5354, 0.5365, 0.5339]))\n",
      "Step 13, 0:00:28.637139...ize([218, 2048]))DNN Test Values:  ComparisonValues(ACC=tensor(0.7527), BAC=tensor(0.5000), MCC=0.01, predicted_labels=tensor([0.4786, 0.4618, 0.4660,  ..., 0.4804, 0.4725, 0.4734]))\n",
      "GAN Test Values:  ComparisonValues(ACC=tensor(0.2473), BAC=tensor(0.5000), MCC=0.01, predicted_labels=tensor([0.5290, 0.5294, 0.5292,  ..., 0.5283, 0.5276, 0.5284]))\n",
      "Completed logs/base r20\n"
     ]
    }
   ],
   "source": [
    "test_Experiment = DomAdpQSARSRGAN(settings)\n",
    "\n",
    "test_Experiment.load_featuriser(featuriser_path)\n",
    "\n",
    "test_Experiment.settings.trial_name = \"SR GAN Ax LLx50 Ang False Norm feat Norm True TF:\" + featuriser_name\n",
    "test_Experiment.train()"
   ]
  },
  {
   "cell_type": "code",
   "execution_count": null,
   "metadata": {},
   "outputs": [],
   "source": []
  },
  {
   "cell_type": "code",
   "execution_count": null,
   "metadata": {},
   "outputs": [],
   "source": []
  },
  {
   "cell_type": "code",
   "execution_count": null,
   "metadata": {},
   "outputs": [],
   "source": [
    "break"
   ]
  },
  {
   "cell_type": "code",
   "execution_count": null,
   "metadata": {},
   "outputs": [],
   "source": [
    "\n",
    "\n",
    "for bool1 in [True, False]:\n",
    "    for bool2 in [True, False]:\n",
    "        for rank in [None, \"Tanimoto\"]:\n",
    "            settings.use_feature_angle = bool1\n",
    "            settings.normalize_feature_norm = bool2 \n",
    "            \n",
    "\n",
    "            test_Experiment = DomAdpQSARSRGAN(settings)\n",
    "            test_Experiment.settings.trial_name = \"SR GAN Feat Ax LLx50 rank {} Ang {} Norm Feat Norm {}\".format(str(rank), \n",
    "                                                                                                                  str(bool1), \n",
    "                                                                                                                  str(bool2))\n",
    "            print(test_Experiment.settings.trial_name)\n",
    "            test_Experiment.set_rank(rank)\n",
    "            test_Experiment.train()\n",
    "\n",
    "\n"
   ]
  },
  {
   "cell_type": "code",
   "execution_count": null,
   "metadata": {},
   "outputs": [],
   "source": [
    "break"
   ]
  },
  {
   "cell_type": "code",
   "execution_count": null,
   "metadata": {},
   "outputs": [],
   "source": [
    "# test_Experiment.model_setup()\n",
    "\n"
   ]
  },
  {
   "cell_type": "code",
   "execution_count": null,
   "metadata": {},
   "outputs": [],
   "source": [
    "test_Experiment.train()"
   ]
  },
  {
   "cell_type": "code",
   "execution_count": null,
   "metadata": {},
   "outputs": [],
   "source": []
  },
  {
   "cell_type": "code",
   "execution_count": null,
   "metadata": {},
   "outputs": [],
   "source": [
    "settings.normalize_feature_norm = False\n",
    "settings.use_feature_angle = False\n",
    "test_Experiment.settings.trial_name = 'SR-GAN Ax tune 1 feat_norm Flase angle False'\n",
    "test_Experiment.train()"
   ]
  },
  {
   "cell_type": "code",
   "execution_count": null,
   "metadata": {},
   "outputs": [],
   "source": []
  }
 ],
 "metadata": {
  "kernelspec": {
   "display_name": "fluid_test",
   "language": "python",
   "name": "python3"
  },
  "language_info": {
   "codemirror_mode": {
    "name": "ipython",
    "version": 3
   },
   "file_extension": ".py",
   "mimetype": "text/x-python",
   "name": "python",
   "nbconvert_exporter": "python",
   "pygments_lexer": "ipython3",
   "version": "3.8.16"
  },
  "orig_nbformat": 4
 },
 "nbformat": 4,
 "nbformat_minor": 2
}
